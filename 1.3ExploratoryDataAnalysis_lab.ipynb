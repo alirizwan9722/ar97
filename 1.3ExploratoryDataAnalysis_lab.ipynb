{
  "cells": [
    {
      "cell_type": "markdown",
      "metadata": {
        "id": "V_Y7gNKJ3x9w"
      },
      "source": [
        "<p style=\"text-align:center\">\n",
        "    <a href=\"https://skills.network/?utm_medium=Exinfluencer&utm_source=Exinfluencer&utm_content=000026UJ&utm_term=10006555&utm_id=NA-SkillsNetwork-Channel-SkillsNetworkCoursesIBMDA0321ENSkillsNetwork928-2023-01-01\">\n",
        "    <img src=\"https://cf-courses-data.s3.us.cloud-object-storage.appdomain.cloud/assets/logos/SN_web_lightmode.png\" width=\"200\" alt=\"Skills Network Logo\"  />\n",
        "    </a>\n",
        "</p>\n"
      ]
    },
    {
      "cell_type": "markdown",
      "metadata": {
        "id": "vcjh7xLx3x9y"
      },
      "source": [
        "# **Exploratory Data Analysis Lab**\n"
      ]
    },
    {
      "cell_type": "markdown",
      "metadata": {
        "id": "h-7MNJnb3x9y"
      },
      "source": [
        "Estimated time needed: **30** minutes\n"
      ]
    },
    {
      "cell_type": "markdown",
      "metadata": {
        "id": "epMfAY973x9z"
      },
      "source": [
        "In this module you get to work with the cleaned dataset from the previous module.\n",
        "\n",
        "In this assignment you will perform the task of exploratory data analysis.\n",
        "You will find out the distribution of data, presence of outliers and also determine the correlation between different columns in the dataset.\n"
      ]
    },
    {
      "cell_type": "markdown",
      "metadata": {
        "id": "P9-7Dqps3x9z"
      },
      "source": [
        "## Objectives\n"
      ]
    },
    {
      "cell_type": "markdown",
      "metadata": {
        "id": "AhmI8w7B3x9z"
      },
      "source": [
        "In this lab you will perform the following:\n"
      ]
    },
    {
      "cell_type": "markdown",
      "metadata": {
        "id": "LIzamhRo3x9z"
      },
      "source": [
        "-   Identify the distribution of data in the dataset.\n",
        "\n",
        "-   Identify outliers in the dataset.\n",
        "\n",
        "-   Remove outliers from the dataset.\n",
        "\n",
        "-   Identify correlation between features in the dataset.\n"
      ]
    },
    {
      "cell_type": "markdown",
      "metadata": {
        "id": "5QAJlQz73x9z"
      },
      "source": [
        "* * *\n"
      ]
    },
    {
      "cell_type": "markdown",
      "metadata": {
        "id": "oTTOQFPs3x9z"
      },
      "source": [
        "## Hands on Lab\n"
      ]
    },
    {
      "cell_type": "markdown",
      "metadata": {
        "id": "nz6IKsB23x9z"
      },
      "source": [
        "Import the pandas module.\n"
      ]
    },
    {
      "cell_type": "code",
      "execution_count": 29,
      "metadata": {
        "id": "HIWEn31q3x90"
      },
      "outputs": [],
      "source": [
        "import pandas as pd\n",
        "import numpy as np\n",
        "import matplotlib.pyplot as plt\n",
        "import seaborn as sns\n",
        "import plotly.express as px"
      ]
    },
    {
      "cell_type": "markdown",
      "metadata": {
        "id": "5NmXZEba3x90"
      },
      "source": [
        "Load the dataset into a dataframe.\n"
      ]
    },
    {
      "cell_type": "code",
      "execution_count": 30,
      "metadata": {
        "colab": {
          "base_uri": "https://localhost:8080/",
          "height": 1000
        },
        "id": "W9Tpiic23x90",
        "outputId": "e9eba73b-343c-4b5f-b078-2f2a9f6b0abb"
      },
      "outputs": [
        {
          "output_type": "execute_result",
          "data": {
            "text/plain": [
              "       Respondent                      MainBranch Hobbyist  \\\n",
              "0               4  I am a developer by profession       No   \n",
              "1               9  I am a developer by profession      Yes   \n",
              "2              13  I am a developer by profession      Yes   \n",
              "3              16  I am a developer by profession      Yes   \n",
              "4              17  I am a developer by profession      Yes   \n",
              "...           ...                             ...      ...   \n",
              "11393       25136  I am a developer by profession      Yes   \n",
              "11394       25137  I am a developer by profession      Yes   \n",
              "11395       25138  I am a developer by profession      Yes   \n",
              "11396       25141  I am a developer by profession      Yes   \n",
              "11397       25142  I am a developer by profession      Yes   \n",
              "\n",
              "                                             OpenSourcer  \\\n",
              "0                                                  Never   \n",
              "1                             Once a month or more often   \n",
              "2      Less than once a month but more than once per ...   \n",
              "3                                                  Never   \n",
              "4      Less than once a month but more than once per ...   \n",
              "...                                                  ...   \n",
              "11393                                              Never   \n",
              "11394                                              Never   \n",
              "11395                            Less than once per year   \n",
              "11396  Less than once a month but more than once per ...   \n",
              "11397  Less than once a month but more than once per ...   \n",
              "\n",
              "                                              OpenSource          Employment  \\\n",
              "0      The quality of OSS and closed source software ...  Employed full-time   \n",
              "1      The quality of OSS and closed source software ...  Employed full-time   \n",
              "2      OSS is, on average, of HIGHER quality than pro...  Employed full-time   \n",
              "3      The quality of OSS and closed source software ...  Employed full-time   \n",
              "4      The quality of OSS and closed source software ...  Employed full-time   \n",
              "...                                                  ...                 ...   \n",
              "11393  OSS is, on average, of HIGHER quality than pro...  Employed full-time   \n",
              "11394  The quality of OSS and closed source software ...  Employed full-time   \n",
              "11395  The quality of OSS and closed source software ...  Employed full-time   \n",
              "11396  OSS is, on average, of LOWER quality than prop...  Employed full-time   \n",
              "11397  OSS is, on average, of HIGHER quality than pro...  Employed full-time   \n",
              "\n",
              "              Country Student  \\\n",
              "0       United States      No   \n",
              "1         New Zealand      No   \n",
              "2       United States      No   \n",
              "3      United Kingdom      No   \n",
              "4           Australia      No   \n",
              "...               ...     ...   \n",
              "11393   United States      No   \n",
              "11394          Poland      No   \n",
              "11395   United States      No   \n",
              "11396     Switzerland      No   \n",
              "11397  United Kingdom      No   \n",
              "\n",
              "                                                 EdLevel  \\\n",
              "0               Bachelor’s degree (BA, BS, B.Eng., etc.)   \n",
              "1      Some college/university study without earning ...   \n",
              "2            Master’s degree (MA, MS, M.Eng., MBA, etc.)   \n",
              "3            Master’s degree (MA, MS, M.Eng., MBA, etc.)   \n",
              "4               Bachelor’s degree (BA, BS, B.Eng., etc.)   \n",
              "...                                                  ...   \n",
              "11393        Master’s degree (MA, MS, M.Eng., MBA, etc.)   \n",
              "11394        Master’s degree (MA, MS, M.Eng., MBA, etc.)   \n",
              "11395        Master’s degree (MA, MS, M.Eng., MBA, etc.)   \n",
              "11396  Secondary school (e.g. American high school, G...   \n",
              "11397          Other doctoral degree (Ph.D, Ed.D., etc.)   \n",
              "\n",
              "                                          UndergradMajor  ...  \\\n",
              "0      Computer science, computer engineering, or sof...  ...   \n",
              "1      Computer science, computer engineering, or sof...  ...   \n",
              "2      Computer science, computer engineering, or sof...  ...   \n",
              "3                                                    NaN  ...   \n",
              "4      Computer science, computer engineering, or sof...  ...   \n",
              "...                                                  ...  ...   \n",
              "11393  Computer science, computer engineering, or sof...  ...   \n",
              "11394  Computer science, computer engineering, or sof...  ...   \n",
              "11395  Computer science, computer engineering, or sof...  ...   \n",
              "11396                                                NaN  ...   \n",
              "11397  A natural science (ex. biology, chemistry, phy...  ...   \n",
              "\n",
              "                                  WelcomeChange  \\\n",
              "0       Just as welcome now as I felt last year   \n",
              "1       Just as welcome now as I felt last year   \n",
              "2      Somewhat more welcome now than last year   \n",
              "3       Just as welcome now as I felt last year   \n",
              "4       Just as welcome now as I felt last year   \n",
              "...                                         ...   \n",
              "11393   Just as welcome now as I felt last year   \n",
              "11394     A lot more welcome now than last year   \n",
              "11395     A lot more welcome now than last year   \n",
              "11396  Somewhat less welcome now than last year   \n",
              "11397   Just as welcome now as I felt last year   \n",
              "\n",
              "                                            SONewContent   Age Gender Trans  \\\n",
              "0      Tech articles written by other developers;Indu...  22.0    Man    No   \n",
              "1                                                    NaN  23.0    Man    No   \n",
              "2      Tech articles written by other developers;Cour...  28.0    Man    No   \n",
              "3      Tech articles written by other developers;Indu...  26.0    Man    No   \n",
              "4      Tech articles written by other developers;Indu...  29.0    Man    No   \n",
              "...                                                  ...   ...    ...   ...   \n",
              "11393  Tech articles written by other developers;Cour...  36.0    Man    No   \n",
              "11394  Tech articles written by other developers;Tech...  25.0    Man    No   \n",
              "11395  Tech articles written by other developers;Indu...  34.0    Man    No   \n",
              "11396                                                NaN  25.0    Man    No   \n",
              "11397  Tech articles written by other developers;Tech...  30.0    Man    No   \n",
              "\n",
              "                     Sexuality                              Ethnicity  \\\n",
              "0      Straight / Heterosexual           White or of European descent   \n",
              "1                     Bisexual           White or of European descent   \n",
              "2      Straight / Heterosexual           White or of European descent   \n",
              "3      Straight / Heterosexual           White or of European descent   \n",
              "4      Straight / Heterosexual  Hispanic or Latino/Latina;Multiracial   \n",
              "...                        ...                                    ...   \n",
              "11393  Straight / Heterosexual           White or of European descent   \n",
              "11394  Straight / Heterosexual           White or of European descent   \n",
              "11395  Straight / Heterosexual           White or of European descent   \n",
              "11396  Straight / Heterosexual           White or of European descent   \n",
              "11397                 Bisexual           White or of European descent   \n",
              "\n",
              "      Dependents           SurveyLength                  SurveyEase  \n",
              "0             No  Appropriate in length                        Easy  \n",
              "1             No  Appropriate in length  Neither easy nor difficult  \n",
              "2            Yes  Appropriate in length                        Easy  \n",
              "3             No  Appropriate in length  Neither easy nor difficult  \n",
              "4             No  Appropriate in length                        Easy  \n",
              "...          ...                    ...                         ...  \n",
              "11393         No  Appropriate in length                   Difficult  \n",
              "11394         No  Appropriate in length  Neither easy nor difficult  \n",
              "11395        Yes               Too long                        Easy  \n",
              "11396         No  Appropriate in length                        Easy  \n",
              "11397         No  Appropriate in length                        Easy  \n",
              "\n",
              "[11398 rows x 85 columns]"
            ],
            "text/html": [
              "\n",
              "  <div id=\"df-c01ce7fc-b9b1-4378-9ff3-a979e401d100\" class=\"colab-df-container\">\n",
              "    <div>\n",
              "<style scoped>\n",
              "    .dataframe tbody tr th:only-of-type {\n",
              "        vertical-align: middle;\n",
              "    }\n",
              "\n",
              "    .dataframe tbody tr th {\n",
              "        vertical-align: top;\n",
              "    }\n",
              "\n",
              "    .dataframe thead th {\n",
              "        text-align: right;\n",
              "    }\n",
              "</style>\n",
              "<table border=\"1\" class=\"dataframe\">\n",
              "  <thead>\n",
              "    <tr style=\"text-align: right;\">\n",
              "      <th></th>\n",
              "      <th>Respondent</th>\n",
              "      <th>MainBranch</th>\n",
              "      <th>Hobbyist</th>\n",
              "      <th>OpenSourcer</th>\n",
              "      <th>OpenSource</th>\n",
              "      <th>Employment</th>\n",
              "      <th>Country</th>\n",
              "      <th>Student</th>\n",
              "      <th>EdLevel</th>\n",
              "      <th>UndergradMajor</th>\n",
              "      <th>...</th>\n",
              "      <th>WelcomeChange</th>\n",
              "      <th>SONewContent</th>\n",
              "      <th>Age</th>\n",
              "      <th>Gender</th>\n",
              "      <th>Trans</th>\n",
              "      <th>Sexuality</th>\n",
              "      <th>Ethnicity</th>\n",
              "      <th>Dependents</th>\n",
              "      <th>SurveyLength</th>\n",
              "      <th>SurveyEase</th>\n",
              "    </tr>\n",
              "  </thead>\n",
              "  <tbody>\n",
              "    <tr>\n",
              "      <th>0</th>\n",
              "      <td>4</td>\n",
              "      <td>I am a developer by profession</td>\n",
              "      <td>No</td>\n",
              "      <td>Never</td>\n",
              "      <td>The quality of OSS and closed source software ...</td>\n",
              "      <td>Employed full-time</td>\n",
              "      <td>United States</td>\n",
              "      <td>No</td>\n",
              "      <td>Bachelor’s degree (BA, BS, B.Eng., etc.)</td>\n",
              "      <td>Computer science, computer engineering, or sof...</td>\n",
              "      <td>...</td>\n",
              "      <td>Just as welcome now as I felt last year</td>\n",
              "      <td>Tech articles written by other developers;Indu...</td>\n",
              "      <td>22.0</td>\n",
              "      <td>Man</td>\n",
              "      <td>No</td>\n",
              "      <td>Straight / Heterosexual</td>\n",
              "      <td>White or of European descent</td>\n",
              "      <td>No</td>\n",
              "      <td>Appropriate in length</td>\n",
              "      <td>Easy</td>\n",
              "    </tr>\n",
              "    <tr>\n",
              "      <th>1</th>\n",
              "      <td>9</td>\n",
              "      <td>I am a developer by profession</td>\n",
              "      <td>Yes</td>\n",
              "      <td>Once a month or more often</td>\n",
              "      <td>The quality of OSS and closed source software ...</td>\n",
              "      <td>Employed full-time</td>\n",
              "      <td>New Zealand</td>\n",
              "      <td>No</td>\n",
              "      <td>Some college/university study without earning ...</td>\n",
              "      <td>Computer science, computer engineering, or sof...</td>\n",
              "      <td>...</td>\n",
              "      <td>Just as welcome now as I felt last year</td>\n",
              "      <td>NaN</td>\n",
              "      <td>23.0</td>\n",
              "      <td>Man</td>\n",
              "      <td>No</td>\n",
              "      <td>Bisexual</td>\n",
              "      <td>White or of European descent</td>\n",
              "      <td>No</td>\n",
              "      <td>Appropriate in length</td>\n",
              "      <td>Neither easy nor difficult</td>\n",
              "    </tr>\n",
              "    <tr>\n",
              "      <th>2</th>\n",
              "      <td>13</td>\n",
              "      <td>I am a developer by profession</td>\n",
              "      <td>Yes</td>\n",
              "      <td>Less than once a month but more than once per ...</td>\n",
              "      <td>OSS is, on average, of HIGHER quality than pro...</td>\n",
              "      <td>Employed full-time</td>\n",
              "      <td>United States</td>\n",
              "      <td>No</td>\n",
              "      <td>Master’s degree (MA, MS, M.Eng., MBA, etc.)</td>\n",
              "      <td>Computer science, computer engineering, or sof...</td>\n",
              "      <td>...</td>\n",
              "      <td>Somewhat more welcome now than last year</td>\n",
              "      <td>Tech articles written by other developers;Cour...</td>\n",
              "      <td>28.0</td>\n",
              "      <td>Man</td>\n",
              "      <td>No</td>\n",
              "      <td>Straight / Heterosexual</td>\n",
              "      <td>White or of European descent</td>\n",
              "      <td>Yes</td>\n",
              "      <td>Appropriate in length</td>\n",
              "      <td>Easy</td>\n",
              "    </tr>\n",
              "    <tr>\n",
              "      <th>3</th>\n",
              "      <td>16</td>\n",
              "      <td>I am a developer by profession</td>\n",
              "      <td>Yes</td>\n",
              "      <td>Never</td>\n",
              "      <td>The quality of OSS and closed source software ...</td>\n",
              "      <td>Employed full-time</td>\n",
              "      <td>United Kingdom</td>\n",
              "      <td>No</td>\n",
              "      <td>Master’s degree (MA, MS, M.Eng., MBA, etc.)</td>\n",
              "      <td>NaN</td>\n",
              "      <td>...</td>\n",
              "      <td>Just as welcome now as I felt last year</td>\n",
              "      <td>Tech articles written by other developers;Indu...</td>\n",
              "      <td>26.0</td>\n",
              "      <td>Man</td>\n",
              "      <td>No</td>\n",
              "      <td>Straight / Heterosexual</td>\n",
              "      <td>White or of European descent</td>\n",
              "      <td>No</td>\n",
              "      <td>Appropriate in length</td>\n",
              "      <td>Neither easy nor difficult</td>\n",
              "    </tr>\n",
              "    <tr>\n",
              "      <th>4</th>\n",
              "      <td>17</td>\n",
              "      <td>I am a developer by profession</td>\n",
              "      <td>Yes</td>\n",
              "      <td>Less than once a month but more than once per ...</td>\n",
              "      <td>The quality of OSS and closed source software ...</td>\n",
              "      <td>Employed full-time</td>\n",
              "      <td>Australia</td>\n",
              "      <td>No</td>\n",
              "      <td>Bachelor’s degree (BA, BS, B.Eng., etc.)</td>\n",
              "      <td>Computer science, computer engineering, or sof...</td>\n",
              "      <td>...</td>\n",
              "      <td>Just as welcome now as I felt last year</td>\n",
              "      <td>Tech articles written by other developers;Indu...</td>\n",
              "      <td>29.0</td>\n",
              "      <td>Man</td>\n",
              "      <td>No</td>\n",
              "      <td>Straight / Heterosexual</td>\n",
              "      <td>Hispanic or Latino/Latina;Multiracial</td>\n",
              "      <td>No</td>\n",
              "      <td>Appropriate in length</td>\n",
              "      <td>Easy</td>\n",
              "    </tr>\n",
              "    <tr>\n",
              "      <th>...</th>\n",
              "      <td>...</td>\n",
              "      <td>...</td>\n",
              "      <td>...</td>\n",
              "      <td>...</td>\n",
              "      <td>...</td>\n",
              "      <td>...</td>\n",
              "      <td>...</td>\n",
              "      <td>...</td>\n",
              "      <td>...</td>\n",
              "      <td>...</td>\n",
              "      <td>...</td>\n",
              "      <td>...</td>\n",
              "      <td>...</td>\n",
              "      <td>...</td>\n",
              "      <td>...</td>\n",
              "      <td>...</td>\n",
              "      <td>...</td>\n",
              "      <td>...</td>\n",
              "      <td>...</td>\n",
              "      <td>...</td>\n",
              "      <td>...</td>\n",
              "    </tr>\n",
              "    <tr>\n",
              "      <th>11393</th>\n",
              "      <td>25136</td>\n",
              "      <td>I am a developer by profession</td>\n",
              "      <td>Yes</td>\n",
              "      <td>Never</td>\n",
              "      <td>OSS is, on average, of HIGHER quality than pro...</td>\n",
              "      <td>Employed full-time</td>\n",
              "      <td>United States</td>\n",
              "      <td>No</td>\n",
              "      <td>Master’s degree (MA, MS, M.Eng., MBA, etc.)</td>\n",
              "      <td>Computer science, computer engineering, or sof...</td>\n",
              "      <td>...</td>\n",
              "      <td>Just as welcome now as I felt last year</td>\n",
              "      <td>Tech articles written by other developers;Cour...</td>\n",
              "      <td>36.0</td>\n",
              "      <td>Man</td>\n",
              "      <td>No</td>\n",
              "      <td>Straight / Heterosexual</td>\n",
              "      <td>White or of European descent</td>\n",
              "      <td>No</td>\n",
              "      <td>Appropriate in length</td>\n",
              "      <td>Difficult</td>\n",
              "    </tr>\n",
              "    <tr>\n",
              "      <th>11394</th>\n",
              "      <td>25137</td>\n",
              "      <td>I am a developer by profession</td>\n",
              "      <td>Yes</td>\n",
              "      <td>Never</td>\n",
              "      <td>The quality of OSS and closed source software ...</td>\n",
              "      <td>Employed full-time</td>\n",
              "      <td>Poland</td>\n",
              "      <td>No</td>\n",
              "      <td>Master’s degree (MA, MS, M.Eng., MBA, etc.)</td>\n",
              "      <td>Computer science, computer engineering, or sof...</td>\n",
              "      <td>...</td>\n",
              "      <td>A lot more welcome now than last year</td>\n",
              "      <td>Tech articles written by other developers;Tech...</td>\n",
              "      <td>25.0</td>\n",
              "      <td>Man</td>\n",
              "      <td>No</td>\n",
              "      <td>Straight / Heterosexual</td>\n",
              "      <td>White or of European descent</td>\n",
              "      <td>No</td>\n",
              "      <td>Appropriate in length</td>\n",
              "      <td>Neither easy nor difficult</td>\n",
              "    </tr>\n",
              "    <tr>\n",
              "      <th>11395</th>\n",
              "      <td>25138</td>\n",
              "      <td>I am a developer by profession</td>\n",
              "      <td>Yes</td>\n",
              "      <td>Less than once per year</td>\n",
              "      <td>The quality of OSS and closed source software ...</td>\n",
              "      <td>Employed full-time</td>\n",
              "      <td>United States</td>\n",
              "      <td>No</td>\n",
              "      <td>Master’s degree (MA, MS, M.Eng., MBA, etc.)</td>\n",
              "      <td>Computer science, computer engineering, or sof...</td>\n",
              "      <td>...</td>\n",
              "      <td>A lot more welcome now than last year</td>\n",
              "      <td>Tech articles written by other developers;Indu...</td>\n",
              "      <td>34.0</td>\n",
              "      <td>Man</td>\n",
              "      <td>No</td>\n",
              "      <td>Straight / Heterosexual</td>\n",
              "      <td>White or of European descent</td>\n",
              "      <td>Yes</td>\n",
              "      <td>Too long</td>\n",
              "      <td>Easy</td>\n",
              "    </tr>\n",
              "    <tr>\n",
              "      <th>11396</th>\n",
              "      <td>25141</td>\n",
              "      <td>I am a developer by profession</td>\n",
              "      <td>Yes</td>\n",
              "      <td>Less than once a month but more than once per ...</td>\n",
              "      <td>OSS is, on average, of LOWER quality than prop...</td>\n",
              "      <td>Employed full-time</td>\n",
              "      <td>Switzerland</td>\n",
              "      <td>No</td>\n",
              "      <td>Secondary school (e.g. American high school, G...</td>\n",
              "      <td>NaN</td>\n",
              "      <td>...</td>\n",
              "      <td>Somewhat less welcome now than last year</td>\n",
              "      <td>NaN</td>\n",
              "      <td>25.0</td>\n",
              "      <td>Man</td>\n",
              "      <td>No</td>\n",
              "      <td>Straight / Heterosexual</td>\n",
              "      <td>White or of European descent</td>\n",
              "      <td>No</td>\n",
              "      <td>Appropriate in length</td>\n",
              "      <td>Easy</td>\n",
              "    </tr>\n",
              "    <tr>\n",
              "      <th>11397</th>\n",
              "      <td>25142</td>\n",
              "      <td>I am a developer by profession</td>\n",
              "      <td>Yes</td>\n",
              "      <td>Less than once a month but more than once per ...</td>\n",
              "      <td>OSS is, on average, of HIGHER quality than pro...</td>\n",
              "      <td>Employed full-time</td>\n",
              "      <td>United Kingdom</td>\n",
              "      <td>No</td>\n",
              "      <td>Other doctoral degree (Ph.D, Ed.D., etc.)</td>\n",
              "      <td>A natural science (ex. biology, chemistry, phy...</td>\n",
              "      <td>...</td>\n",
              "      <td>Just as welcome now as I felt last year</td>\n",
              "      <td>Tech articles written by other developers;Tech...</td>\n",
              "      <td>30.0</td>\n",
              "      <td>Man</td>\n",
              "      <td>No</td>\n",
              "      <td>Bisexual</td>\n",
              "      <td>White or of European descent</td>\n",
              "      <td>No</td>\n",
              "      <td>Appropriate in length</td>\n",
              "      <td>Easy</td>\n",
              "    </tr>\n",
              "  </tbody>\n",
              "</table>\n",
              "<p>11398 rows × 85 columns</p>\n",
              "</div>\n",
              "    <div class=\"colab-df-buttons\">\n",
              "\n",
              "  <div class=\"colab-df-container\">\n",
              "    <button class=\"colab-df-convert\" onclick=\"convertToInteractive('df-c01ce7fc-b9b1-4378-9ff3-a979e401d100')\"\n",
              "            title=\"Convert this dataframe to an interactive table.\"\n",
              "            style=\"display:none;\">\n",
              "\n",
              "  <svg xmlns=\"http://www.w3.org/2000/svg\" height=\"24px\" viewBox=\"0 -960 960 960\">\n",
              "    <path d=\"M120-120v-720h720v720H120Zm60-500h600v-160H180v160Zm220 220h160v-160H400v160Zm0 220h160v-160H400v160ZM180-400h160v-160H180v160Zm440 0h160v-160H620v160ZM180-180h160v-160H180v160Zm440 0h160v-160H620v160Z\"/>\n",
              "  </svg>\n",
              "    </button>\n",
              "\n",
              "  <style>\n",
              "    .colab-df-container {\n",
              "      display:flex;\n",
              "      gap: 12px;\n",
              "    }\n",
              "\n",
              "    .colab-df-convert {\n",
              "      background-color: #E8F0FE;\n",
              "      border: none;\n",
              "      border-radius: 50%;\n",
              "      cursor: pointer;\n",
              "      display: none;\n",
              "      fill: #1967D2;\n",
              "      height: 32px;\n",
              "      padding: 0 0 0 0;\n",
              "      width: 32px;\n",
              "    }\n",
              "\n",
              "    .colab-df-convert:hover {\n",
              "      background-color: #E2EBFA;\n",
              "      box-shadow: 0px 1px 2px rgba(60, 64, 67, 0.3), 0px 1px 3px 1px rgba(60, 64, 67, 0.15);\n",
              "      fill: #174EA6;\n",
              "    }\n",
              "\n",
              "    .colab-df-buttons div {\n",
              "      margin-bottom: 4px;\n",
              "    }\n",
              "\n",
              "    [theme=dark] .colab-df-convert {\n",
              "      background-color: #3B4455;\n",
              "      fill: #D2E3FC;\n",
              "    }\n",
              "\n",
              "    [theme=dark] .colab-df-convert:hover {\n",
              "      background-color: #434B5C;\n",
              "      box-shadow: 0px 1px 3px 1px rgba(0, 0, 0, 0.15);\n",
              "      filter: drop-shadow(0px 1px 2px rgba(0, 0, 0, 0.3));\n",
              "      fill: #FFFFFF;\n",
              "    }\n",
              "  </style>\n",
              "\n",
              "    <script>\n",
              "      const buttonEl =\n",
              "        document.querySelector('#df-c01ce7fc-b9b1-4378-9ff3-a979e401d100 button.colab-df-convert');\n",
              "      buttonEl.style.display =\n",
              "        google.colab.kernel.accessAllowed ? 'block' : 'none';\n",
              "\n",
              "      async function convertToInteractive(key) {\n",
              "        const element = document.querySelector('#df-c01ce7fc-b9b1-4378-9ff3-a979e401d100');\n",
              "        const dataTable =\n",
              "          await google.colab.kernel.invokeFunction('convertToInteractive',\n",
              "                                                    [key], {});\n",
              "        if (!dataTable) return;\n",
              "\n",
              "        const docLinkHtml = 'Like what you see? Visit the ' +\n",
              "          '<a target=\"_blank\" href=https://colab.research.google.com/notebooks/data_table.ipynb>data table notebook</a>'\n",
              "          + ' to learn more about interactive tables.';\n",
              "        element.innerHTML = '';\n",
              "        dataTable['output_type'] = 'display_data';\n",
              "        await google.colab.output.renderOutput(dataTable, element);\n",
              "        const docLink = document.createElement('div');\n",
              "        docLink.innerHTML = docLinkHtml;\n",
              "        element.appendChild(docLink);\n",
              "      }\n",
              "    </script>\n",
              "  </div>\n",
              "\n",
              "\n",
              "<div id=\"df-e3298bf2-feab-4360-ad9c-46657e0eed83\">\n",
              "  <button class=\"colab-df-quickchart\" onclick=\"quickchart('df-e3298bf2-feab-4360-ad9c-46657e0eed83')\"\n",
              "            title=\"Suggest charts\"\n",
              "            style=\"display:none;\">\n",
              "\n",
              "<svg xmlns=\"http://www.w3.org/2000/svg\" height=\"24px\"viewBox=\"0 0 24 24\"\n",
              "     width=\"24px\">\n",
              "    <g>\n",
              "        <path d=\"M19 3H5c-1.1 0-2 .9-2 2v14c0 1.1.9 2 2 2h14c1.1 0 2-.9 2-2V5c0-1.1-.9-2-2-2zM9 17H7v-7h2v7zm4 0h-2V7h2v10zm4 0h-2v-4h2v4z\"/>\n",
              "    </g>\n",
              "</svg>\n",
              "  </button>\n",
              "\n",
              "<style>\n",
              "  .colab-df-quickchart {\n",
              "      --bg-color: #E8F0FE;\n",
              "      --fill-color: #1967D2;\n",
              "      --hover-bg-color: #E2EBFA;\n",
              "      --hover-fill-color: #174EA6;\n",
              "      --disabled-fill-color: #AAA;\n",
              "      --disabled-bg-color: #DDD;\n",
              "  }\n",
              "\n",
              "  [theme=dark] .colab-df-quickchart {\n",
              "      --bg-color: #3B4455;\n",
              "      --fill-color: #D2E3FC;\n",
              "      --hover-bg-color: #434B5C;\n",
              "      --hover-fill-color: #FFFFFF;\n",
              "      --disabled-bg-color: #3B4455;\n",
              "      --disabled-fill-color: #666;\n",
              "  }\n",
              "\n",
              "  .colab-df-quickchart {\n",
              "    background-color: var(--bg-color);\n",
              "    border: none;\n",
              "    border-radius: 50%;\n",
              "    cursor: pointer;\n",
              "    display: none;\n",
              "    fill: var(--fill-color);\n",
              "    height: 32px;\n",
              "    padding: 0;\n",
              "    width: 32px;\n",
              "  }\n",
              "\n",
              "  .colab-df-quickchart:hover {\n",
              "    background-color: var(--hover-bg-color);\n",
              "    box-shadow: 0 1px 2px rgba(60, 64, 67, 0.3), 0 1px 3px 1px rgba(60, 64, 67, 0.15);\n",
              "    fill: var(--button-hover-fill-color);\n",
              "  }\n",
              "\n",
              "  .colab-df-quickchart-complete:disabled,\n",
              "  .colab-df-quickchart-complete:disabled:hover {\n",
              "    background-color: var(--disabled-bg-color);\n",
              "    fill: var(--disabled-fill-color);\n",
              "    box-shadow: none;\n",
              "  }\n",
              "\n",
              "  .colab-df-spinner {\n",
              "    border: 2px solid var(--fill-color);\n",
              "    border-color: transparent;\n",
              "    border-bottom-color: var(--fill-color);\n",
              "    animation:\n",
              "      spin 1s steps(1) infinite;\n",
              "  }\n",
              "\n",
              "  @keyframes spin {\n",
              "    0% {\n",
              "      border-color: transparent;\n",
              "      border-bottom-color: var(--fill-color);\n",
              "      border-left-color: var(--fill-color);\n",
              "    }\n",
              "    20% {\n",
              "      border-color: transparent;\n",
              "      border-left-color: var(--fill-color);\n",
              "      border-top-color: var(--fill-color);\n",
              "    }\n",
              "    30% {\n",
              "      border-color: transparent;\n",
              "      border-left-color: var(--fill-color);\n",
              "      border-top-color: var(--fill-color);\n",
              "      border-right-color: var(--fill-color);\n",
              "    }\n",
              "    40% {\n",
              "      border-color: transparent;\n",
              "      border-right-color: var(--fill-color);\n",
              "      border-top-color: var(--fill-color);\n",
              "    }\n",
              "    60% {\n",
              "      border-color: transparent;\n",
              "      border-right-color: var(--fill-color);\n",
              "    }\n",
              "    80% {\n",
              "      border-color: transparent;\n",
              "      border-right-color: var(--fill-color);\n",
              "      border-bottom-color: var(--fill-color);\n",
              "    }\n",
              "    90% {\n",
              "      border-color: transparent;\n",
              "      border-bottom-color: var(--fill-color);\n",
              "    }\n",
              "  }\n",
              "</style>\n",
              "\n",
              "  <script>\n",
              "    async function quickchart(key) {\n",
              "      const quickchartButtonEl =\n",
              "        document.querySelector('#' + key + ' button');\n",
              "      quickchartButtonEl.disabled = true;  // To prevent multiple clicks.\n",
              "      quickchartButtonEl.classList.add('colab-df-spinner');\n",
              "      try {\n",
              "        const charts = await google.colab.kernel.invokeFunction(\n",
              "            'suggestCharts', [key], {});\n",
              "      } catch (error) {\n",
              "        console.error('Error during call to suggestCharts:', error);\n",
              "      }\n",
              "      quickchartButtonEl.classList.remove('colab-df-spinner');\n",
              "      quickchartButtonEl.classList.add('colab-df-quickchart-complete');\n",
              "    }\n",
              "    (() => {\n",
              "      let quickchartButtonEl =\n",
              "        document.querySelector('#df-e3298bf2-feab-4360-ad9c-46657e0eed83 button');\n",
              "      quickchartButtonEl.style.display =\n",
              "        google.colab.kernel.accessAllowed ? 'block' : 'none';\n",
              "    })();\n",
              "  </script>\n",
              "</div>\n",
              "    </div>\n",
              "  </div>\n"
            ],
            "application/vnd.google.colaboratory.intrinsic+json": {
              "type": "dataframe",
              "variable_name": "df"
            }
          },
          "metadata": {},
          "execution_count": 30
        }
      ],
      "source": [
        "df = pd.read_csv(\"https://cf-courses-data.s3.us.cloud-object-storage.appdomain.cloud/IBM-DA0321EN-SkillsNetwork/LargeData/m2_survey_data.csv\")\n",
        "df"
      ]
    },
    {
      "cell_type": "markdown",
      "metadata": {
        "id": "_zdnlCvu3x91"
      },
      "source": [
        "## Distribution\n"
      ]
    },
    {
      "cell_type": "markdown",
      "metadata": {
        "id": "sEtRnvS53x91"
      },
      "source": [
        "### Determine how the data is distributed\n"
      ]
    },
    {
      "cell_type": "markdown",
      "metadata": {
        "id": "NWYq0C6a3x91"
      },
      "source": [
        "The column `ConvertedComp` contains Salary converted to annual USD salaries using the exchange rate on 2019-02-01.\n",
        "\n",
        "This assumes 12 working months and 50 working weeks.\n"
      ]
    },
    {
      "cell_type": "markdown",
      "metadata": {
        "id": "DwOn-20E3x91"
      },
      "source": [
        "Plot the distribution curve for the column `ConvertedComp`.\n"
      ]
    },
    {
      "cell_type": "code",
      "execution_count": 31,
      "metadata": {
        "colab": {
          "base_uri": "https://localhost:8080/",
          "height": 724
        },
        "id": "R7JsMbn93x91",
        "outputId": "58ed146b-d30d-44f0-cea3-bd0158a81418"
      },
      "outputs": [
        {
          "output_type": "execute_result",
          "data": {
            "text/plain": [
              "<seaborn.axisgrid.FacetGrid at 0x7c6868689360>"
            ]
          },
          "metadata": {},
          "execution_count": 31
        },
        {
          "output_type": "display_data",
          "data": {
            "text/plain": [
              "<Figure size 1050x700 with 1 Axes>"
            ],
            "image/png": "[encoded data removed]"
          },
          "metadata": {}
        }
      ],
      "source": [
        "sns.displot(df['ConvertedComp'], kind=\"kde\", height=7, aspect=1.5)"
      ]
    },
    {
      "cell_type": "markdown",
      "metadata": {
        "id": "-GAj8RLB3x91"
      },
      "source": [
        "Plot the histogram for the column `ConvertedComp`.\n"
      ]
    },
    {
      "cell_type": "code",
      "execution_count": 32,
      "metadata": {
        "colab": {
          "base_uri": "https://localhost:8080/",
          "height": 725
        },
        "id": "ENZqqMdx3x91",
        "outputId": "d3ee4f91-0d37-412f-8c3c-3eec683b3171"
      },
      "outputs": [
        {
          "output_type": "execute_result",
          "data": {
            "text/plain": [
              "<seaborn.axisgrid.FacetGrid at 0x7c68a8c6c970>"
            ]
          },
          "metadata": {},
          "execution_count": 32
        },
        {
          "output_type": "display_data",
          "data": {
            "text/plain": [
              "<Figure size 1050x700 with 1 Axes>"
            ],
            "image/png": "[encoded data removed]"
          },
          "metadata": {}
        }
      ],
      "source": [
        "sns.displot(df['ConvertedComp'], bins=10, height=7, aspect=1.5)"
      ]
    },
    {
      "cell_type": "markdown",
      "metadata": {
        "id": "20c_1GWv3x91"
      },
      "source": [
        "What is the median of the column `ConvertedComp`?\n"
      ]
    },
    {
      "cell_type": "code",
      "execution_count": 33,
      "metadata": {
        "colab": {
          "base_uri": "https://localhost:8080/"
        },
        "id": "HGZZf72Y3x91",
        "outputId": "c15ca125-24dd-4a77-8ba1-493ffb029f07"
      },
      "outputs": [
        {
          "output_type": "execute_result",
          "data": {
            "text/plain": [
              "ConvertedComp    57745.0\n",
              "dtype: float64"
            ]
          },
          "metadata": {},
          "execution_count": 33
        }
      ],
      "source": [
        "df[['ConvertedComp']].median()"
      ]
    },
    {
      "cell_type": "markdown",
      "metadata": {
        "id": "_ETi8nUU3x91"
      },
      "source": [
        "How many responders identified themselves only as a **Man**?\n"
      ]
    },
    {
      "cell_type": "code",
      "execution_count": 34,
      "metadata": {
        "colab": {
          "base_uri": "https://localhost:8080/"
        },
        "id": "cPO5rpba3x91",
        "outputId": "f1b8a32c-bacc-41ed-b2e4-452dc6b92d0a"
      },
      "outputs": [
        {
          "output_type": "execute_result",
          "data": {
            "text/plain": [
              "Gender                                                     \n",
              "Man                                                            10480\n",
              "Woman                                                            731\n",
              "Non-binary, genderqueer, or gender non-conforming                 63\n",
              "Man;Non-binary, genderqueer, or gender non-conforming             26\n",
              "Woman;Non-binary, genderqueer, or gender non-conforming           14\n",
              "Woman;Man                                                          9\n",
              "Woman;Man;Non-binary, genderqueer, or gender non-conforming        2\n",
              "dtype: int64"
            ]
          },
          "metadata": {},
          "execution_count": 34
        }
      ],
      "source": [
        "df[['Gender']].value_counts()"
      ]
    },
    {
      "cell_type": "markdown",
      "metadata": {
        "id": "NwUn4Ni93x91"
      },
      "source": [
        "Find out the  median ConvertedComp of responders identified themselves only as a **Woman**?\n"
      ]
    },
    {
      "cell_type": "code",
      "execution_count": 26,
      "metadata": {
        "colab": {
          "base_uri": "https://localhost:8080/"
        },
        "id": "GQjX79r_3x91",
        "outputId": "92171686-4a68-409a-ce3c-d847c4c9312e"
      },
      "outputs": [
        {
          "output_type": "execute_result",
          "data": {
            "text/plain": [
              "57708.0"
            ]
          },
          "metadata": {},
          "execution_count": 26
        }
      ],
      "source": [
        "df['ConvertedComp'][(df.Gender==\"Woman\")].median()"
      ]
    },
    {
      "cell_type": "markdown",
      "metadata": {
        "id": "KJX02utU3x92"
      },
      "source": [
        "Give the five number summary for the column `Age`?\n"
      ]
    },
    {
      "cell_type": "markdown",
      "metadata": {
        "id": "UPaB5skO3x92"
      },
      "source": [
        "**Double click here for hint**.\n",
        "\n",
        "<!--\n",
        "min,q1,median,q3,max of a column are its five number summary.\n",
        "-->\n"
      ]
    },
    {
      "cell_type": "code",
      "execution_count": 35,
      "metadata": {
        "colab": {
          "base_uri": "https://localhost:8080/"
        },
        "id": "d4gRa75E3x92",
        "outputId": "3f618b56-eef1-4ae2-e881-d21bec11eb24"
      },
      "outputs": [
        {
          "output_type": "execute_result",
          "data": {
            "text/plain": [
              "count    11111.000000\n",
              "mean        30.778895\n",
              "std          7.393686\n",
              "min         16.000000\n",
              "25%         25.000000\n",
              "50%         29.000000\n",
              "75%         35.000000\n",
              "max         99.000000\n",
              "Name: Age, dtype: float64"
            ]
          },
          "metadata": {},
          "execution_count": 35
        }
      ],
      "source": [
        "df['Age'].describe()"
      ]
    },
    {
      "cell_type": "markdown",
      "metadata": {
        "id": "f2AVpjRd3x92"
      },
      "source": [
        "Plot a histogram of the column `Age`.\n"
      ]
    },
    {
      "cell_type": "code",
      "execution_count": 36,
      "metadata": {
        "colab": {
          "base_uri": "https://localhost:8080/",
          "height": 725
        },
        "id": "b2RyRK6R3x92",
        "outputId": "e75d3abe-04ae-4a5d-bb42-7af4305d927f"
      },
      "outputs": [
        {
          "output_type": "execute_result",
          "data": {
            "text/plain": [
              "<seaborn.axisgrid.FacetGrid at 0x7c68682069b0>"
            ]
          },
          "metadata": {},
          "execution_count": 36
        },
        {
          "output_type": "display_data",
          "data": {
            "text/plain": [
              "<Figure size 1050x700 with 1 Axes>"
            ],
            "image/png": "[encoded data removed]"
          },
          "metadata": {}
        }
      ],
      "source": [
        "sns.displot(df['Age'], kde=False, bins=20, height=7, aspect=1.5)"
      ]
    },
    {
      "cell_type": "markdown",
      "metadata": {
        "id": "8rQeCCNz3x92"
      },
      "source": [
        "## Outliers\n"
      ]
    },
    {
      "cell_type": "markdown",
      "metadata": {
        "id": "6GWXh5cn3x92"
      },
      "source": [
        "### Finding outliers\n"
      ]
    },
    {
      "cell_type": "markdown",
      "metadata": {
        "id": "j0p_gbKr3x92"
      },
      "source": [
        "Find out if outliers exist in the column `ConvertedComp` using a box plot?\n"
      ]
    },
    {
      "cell_type": "code",
      "execution_count": 45,
      "metadata": {
        "colab": {
          "base_uri": "https://localhost:8080/",
          "height": 542
        },
        "id": "n2zh-VmE3x92",
        "outputId": "e31c185f-845f-4e96-ec74-5f35e0d182c2"
      },
      "outputs": [
        {
          "output_type": "display_data",
          "data": {
            "text/html": [
              "<html>\n",
              "<head><meta charset=\"utf-8\" /></head>\n",
              "<body>\n",
              "    <div>            <script src=\"https://cdnjs.cloudflare.com/ajax/libs/mathjax/2.7.5/MathJax.js?config=TeX-AMS-MML_SVG\"></script><script type=\"text/javascript\">if (window.MathJax && window.MathJax.Hub && window.MathJax.Hub.Config) {window.MathJax.Hub.Config({SVG: {font: \"STIX-Web\"}});}</script>                <script type=\"text/javascript\">window.PlotlyConfig = {MathJaxConfig: 'local'};</script>\n",
              "        <script charset=\"utf-8\" src=\"https://cdn.plot.ly/plotly-2.24.1.min.js\"></script>                <div id=\"a38c2b49-cb37-47d3-8992-f68a972ef052\" class=\"plotly-graph-div\" style=\"height:525px; width:100%;\"></div>            <script type=\"text/javascript\">                                    window.PLOTLYENV=window.PLOTLYENV || {};                                    if (document.getElementById(\"a38c2b49-cb37-47d3-8992-f68a972ef052\")) {                    Plotly.newPlot(                        \"a38c2b49-cb37-47d3-8992-f68a972ef052\",                        [{\"alignmentgroup\":\"True\",\"hovertemplate\":\"variable=%{x}\\u003cbr\\u003evalue=%{y}\\u003cextra\\u003e\\u003c\\u002fextra\\u003e\",\"legendgroup\":\"\",\"marker\":{\"color\":\"#636efa\"},\"name\":\"\",\"notched\":false,\"offsetgroup\":\"\",\"orientation\":\"v\",\"showlegend\":false,\"x\":[\"ConvertedComp\",\"ConvertedComp\",\"ConvertedComp\",\"ConvertedComp\",\"ConvertedComp\",\"ConvertedComp\",\"ConvertedComp\",\"ConvertedComp\",\"ConvertedComp\",\"ConvertedComp\",\"ConvertedComp\",\"ConvertedComp\",\"ConvertedComp\",\"ConvertedComp\",\"ConvertedComp\",\"ConvertedComp\",\"ConvertedComp\",\"ConvertedComp\",\"ConvertedComp\",\"ConvertedComp\",\"ConvertedComp\",\"ConvertedComp\",\"ConvertedComp\",\"ConvertedComp\",\"ConvertedComp\",\"ConvertedComp\",\"ConvertedComp\",\"ConvertedComp\",\"ConvertedComp\",\"ConvertedComp\",\"ConvertedComp\",\"ConvertedComp\",\"ConvertedComp\",\"ConvertedComp\",\"ConvertedComp\",\"ConvertedComp\",\"ConvertedComp\",\"ConvertedComp\",\"ConvertedComp\",\"ConvertedComp\",\"ConvertedComp\",\"ConvertedComp\",\"ConvertedComp\",\"ConvertedComp\",\"ConvertedComp\",\"ConvertedComp\",\"ConvertedComp\",\"ConvertedComp\",\"ConvertedComp\",\"ConvertedComp\",\"ConvertedComp\",\"ConvertedComp\",\"ConvertedComp\",\"ConvertedComp\",\"ConvertedComp\",\"ConvertedComp\",\"ConvertedComp\",\"ConvertedComp\",\"ConvertedComp\",\"ConvertedComp\",\"ConvertedComp\",\"ConvertedComp\",\"ConvertedComp\",\"ConvertedComp\",\"ConvertedComp\",\"ConvertedComp\",\"ConvertedComp\",\"ConvertedComp\",\"ConvertedComp\",\"ConvertedComp\",\"ConvertedComp\",\"ConvertedComp\",\"ConvertedComp\",\"ConvertedComp\",\"ConvertedComp\",\"ConvertedComp\",\"ConvertedComp\",\"ConvertedComp\",\"ConvertedComp\",\"ConvertedComp\",\"ConvertedComp\",\"ConvertedComp\",\"ConvertedComp\",\"ConvertedComp\",\"ConvertedComp\",\"ConvertedComp\",\"ConvertedComp\",\"ConvertedComp\",\"ConvertedComp\",\"ConvertedComp\",\"ConvertedComp\",\"ConvertedComp\",\"ConvertedComp\",\"ConvertedComp\",\"ConvertedComp\",\"ConvertedComp\",\"ConvertedComp\",\"ConvertedComp\",\"ConvertedComp\",\"ConvertedComp\",\"ConvertedComp\",\"ConvertedComp\",\"ConvertedComp\",\"ConvertedComp\",\"ConvertedComp\",\"ConvertedComp\",\"ConvertedComp\",\"ConvertedComp\",\"ConvertedComp\",\"ConvertedComp\",\"ConvertedComp\",\"ConvertedComp\",\"ConvertedComp\",\"ConvertedComp\",\"ConvertedComp\",\"ConvertedComp\",\"ConvertedComp\",\"ConvertedComp\",\"ConvertedComp\",\"ConvertedComp\",\"ConvertedComp\",\"ConvertedComp\",\"ConvertedComp\",\"ConvertedComp\",\"ConvertedComp\",\"ConvertedComp\",\"ConvertedComp\",\"ConvertedComp\",\"ConvertedComp\",\"ConvertedComp\",\"ConvertedComp\",\"ConvertedComp\",\"ConvertedComp\",\"ConvertedComp\",\"ConvertedComp\",\"ConvertedComp\",\"ConvertedComp\",\"ConvertedComp\",\"ConvertedComp\",\"ConvertedComp\",\"ConvertedComp\",\"ConvertedComp\",\"ConvertedComp\",\"ConvertedComp\",\"ConvertedComp\",\"ConvertedComp\",\"ConvertedComp\",\"ConvertedComp\",\"ConvertedComp\",\"ConvertedComp\",\"ConvertedComp\",\"ConvertedComp\",\"ConvertedComp\",\"ConvertedComp\",\"ConvertedComp\",\"ConvertedComp\",\"ConvertedComp\",\"ConvertedComp\",\"ConvertedComp\",\"ConvertedComp\",\"ConvertedComp\",\"ConvertedComp\",\"ConvertedComp\",\"ConvertedComp\",\"ConvertedComp\",\"ConvertedComp\",\"ConvertedComp\",\"ConvertedComp\",\"ConvertedComp\",\"ConvertedComp\",\"ConvertedComp\",\"ConvertedComp\",\"ConvertedComp\",\"ConvertedComp\",\"ConvertedComp\",\"ConvertedComp\",\"ConvertedComp\",\"ConvertedComp\",\"ConvertedComp\",\"ConvertedComp\",\"ConvertedComp\",\"ConvertedComp\",\"ConvertedComp\",\"ConvertedComp\",\"ConvertedComp\",\"ConvertedComp\",\"ConvertedComp\",\"ConvertedComp\",\"ConvertedComp\",\"ConvertedComp\",\"ConvertedComp\",\"ConvertedComp\",\"ConvertedComp\",\"ConvertedComp\",\"ConvertedComp\",\"ConvertedComp\",\"ConvertedComp\",\"ConvertedComp\",\"ConvertedComp\",\"ConvertedComp\",\"ConvertedComp\",\"ConvertedComp\",\"ConvertedComp\",\"ConvertedComp\",\"ConvertedComp\",\"ConvertedComp\",\"ConvertedComp\",\"ConvertedComp\",\"ConvertedComp\",\"ConvertedComp\",\"ConvertedComp\",\"ConvertedComp\",\"ConvertedComp\",\"ConvertedComp\",\"ConvertedComp\",\"ConvertedComp\",\"ConvertedComp\",\"ConvertedComp\",\"ConvertedComp\",\"ConvertedComp\",\"ConvertedComp\",\"ConvertedComp\",\"ConvertedComp\",\"ConvertedComp\",\"ConvertedComp\",\"ConvertedComp\",\"ConvertedComp\",\"ConvertedComp\",\"ConvertedComp\",\"ConvertedComp\",\"ConvertedComp\",\"ConvertedComp\",\"ConvertedComp\",\"ConvertedComp\",\"ConvertedComp\",\"ConvertedComp\",\"ConvertedComp\",\"ConvertedComp\",\"ConvertedComp\",\"ConvertedComp\",\"ConvertedComp\",\"ConvertedComp\",\"ConvertedComp\",\"ConvertedComp\",\"ConvertedComp\",\"ConvertedComp\",\"ConvertedComp\",\"ConvertedComp\",\"ConvertedComp\",\"ConvertedComp\",\"ConvertedComp\",\"ConvertedComp\",\"ConvertedComp\",\"ConvertedComp\",\"ConvertedComp\",\"ConvertedComp\",\"ConvertedComp\",\"ConvertedComp\",\"ConvertedComp\",\"ConvertedComp\",\"ConvertedComp\",\"ConvertedComp\",\"ConvertedComp\",\"ConvertedComp\",\"ConvertedComp\",\"ConvertedComp\",\"ConvertedComp\",\"ConvertedComp\",\"ConvertedComp\",\"ConvertedComp\",\"ConvertedComp\",\"ConvertedComp\",\"ConvertedComp\",\"ConvertedComp\",\"ConvertedComp\",\"ConvertedComp\",\"ConvertedComp\",\"ConvertedComp\",\"ConvertedComp\",\"ConvertedComp\",\"ConvertedComp\",\"ConvertedComp\",\"ConvertedComp\",\"ConvertedComp\",\"ConvertedComp\",\"ConvertedComp\",\"ConvertedComp\",\"ConvertedComp\",\"ConvertedComp\",\"ConvertedComp\",\"ConvertedComp\",\"ConvertedComp\",\"ConvertedComp\",\"ConvertedComp\",\"ConvertedComp\",\"ConvertedComp\",\"ConvertedComp\",\"ConvertedComp\",\"ConvertedComp\",\"ConvertedComp\",\"ConvertedComp\",\"ConvertedComp\",\"ConvertedComp\",\"ConvertedComp\",\"ConvertedComp\",\"ConvertedComp\",\"ConvertedComp\",\"ConvertedComp\",\"ConvertedComp\",\"ConvertedComp\",\"ConvertedComp\",\"ConvertedComp\",\"ConvertedComp\",\"ConvertedComp\",\"ConvertedComp\",\"ConvertedComp\",\"ConvertedComp\",\"ConvertedComp\",\"ConvertedComp\",\"ConvertedComp\",\"ConvertedComp\",\"ConvertedComp\",\"ConvertedComp\",\"ConvertedComp\",\"ConvertedComp\",\"ConvertedComp\",\"ConvertedComp\",\"ConvertedComp\",\"ConvertedComp\",\"ConvertedComp\",\"ConvertedComp\",\"ConvertedComp\",\"ConvertedComp\",\"ConvertedComp\",\"ConvertedComp\",\"ConvertedComp\",\"ConvertedComp\",\"ConvertedComp\",\"ConvertedComp\",\"ConvertedComp\",\"ConvertedComp\",\"ConvertedComp\",\"ConvertedComp\",\"ConvertedComp\",\"ConvertedComp\",\"ConvertedComp\",\"ConvertedComp\",\"ConvertedComp\",\"ConvertedComp\",\"ConvertedComp\",\"ConvertedComp\",\"ConvertedComp\",\"ConvertedComp\",\"ConvertedComp\",\"ConvertedComp\",\"ConvertedComp\",\"ConvertedComp\",\"ConvertedComp\",\"ConvertedComp\",\"ConvertedComp\",\"ConvertedComp\",\"ConvertedComp\",\"ConvertedComp\",\"ConvertedComp\",\"ConvertedComp\",\"ConvertedComp\",\"ConvertedComp\",\"ConvertedComp\",\"ConvertedComp\",\"ConvertedComp\",\"ConvertedComp\",\"ConvertedComp\",\"ConvertedComp\",\"ConvertedComp\",\"ConvertedComp\",\"ConvertedComp\",\"ConvertedComp\",\"ConvertedComp\",\"ConvertedComp\",\"ConvertedComp\",\"ConvertedComp\",\"ConvertedComp\",\"ConvertedComp\",\"ConvertedComp\",\"ConvertedComp\",\"ConvertedComp\",\"ConvertedComp\",\"ConvertedComp\",\"ConvertedComp\",\"ConvertedComp\",\"ConvertedComp\",\"ConvertedComp\",\"ConvertedComp\",\"ConvertedComp\",\"ConvertedComp\",\"ConvertedComp\",\"ConvertedComp\",\"ConvertedComp\",\"ConvertedComp\",\"ConvertedComp\",\"ConvertedComp\",\"ConvertedComp\",\"ConvertedComp\",\"ConvertedComp\",\"ConvertedComp\",\"ConvertedComp\",\"ConvertedComp\",\"ConvertedComp\",\"ConvertedComp\",\"ConvertedComp\",\"ConvertedComp\",\"ConvertedComp\",\"ConvertedComp\",\"ConvertedComp\",\"ConvertedComp\",\"ConvertedComp\",\"ConvertedComp\",\"ConvertedComp\",\"ConvertedComp\",\"ConvertedComp\",\"ConvertedComp\",\"ConvertedComp\",\"ConvertedComp\",\"ConvertedComp\",\"ConvertedComp\",\"ConvertedComp\",\"ConvertedComp\",\"ConvertedComp\",\"ConvertedComp\",\"ConvertedComp\",\"ConvertedComp\",\"ConvertedComp\",\"ConvertedComp\",\"ConvertedComp\",\"ConvertedComp\",\"ConvertedComp\",\"ConvertedComp\",\"ConvertedComp\",\"ConvertedComp\",\"ConvertedComp\",\"ConvertedComp\",\"ConvertedComp\",\"ConvertedComp\",\"ConvertedComp\",\"ConvertedComp\",\"ConvertedComp\",\"ConvertedComp\",\"ConvertedComp\",\"ConvertedComp\",\"ConvertedComp\",\"ConvertedComp\",\"ConvertedComp\",\"ConvertedComp\",\"ConvertedComp\",\"ConvertedComp\",\"ConvertedComp\",\"ConvertedComp\",\"ConvertedComp\",\"ConvertedComp\",\"ConvertedComp\",\"ConvertedComp\",\"ConvertedComp\",\"ConvertedComp\",\"ConvertedComp\",\"ConvertedComp\",\"ConvertedComp\",\"ConvertedComp\",\"ConvertedComp\",\"ConvertedComp\",\"ConvertedComp\",\"ConvertedComp\",\"ConvertedComp\",\"ConvertedComp\",\"ConvertedComp\",\"ConvertedComp\",\"ConvertedComp\",\"ConvertedComp\",\"ConvertedComp\",\"ConvertedComp\",\"ConvertedComp\",\"ConvertedComp\",\"ConvertedComp\",\"ConvertedComp\",\"ConvertedComp\",\"ConvertedComp\",\"ConvertedComp\",\"ConvertedComp\",\"ConvertedComp\",\"ConvertedComp\",\"ConvertedComp\",\"ConvertedComp\",\"ConvertedComp\",\"ConvertedComp\",\"ConvertedComp\",\"ConvertedComp\",\"ConvertedComp\",\"ConvertedComp\",\"ConvertedComp\",\"ConvertedComp\",\"ConvertedComp\",\"ConvertedComp\",\"ConvertedComp\",\"ConvertedComp\",\"ConvertedComp\",\"ConvertedComp\",\"ConvertedComp\",\"ConvertedComp\",\"ConvertedComp\",\"ConvertedComp\",\"ConvertedComp\",\"ConvertedComp\",\"ConvertedComp\",\"ConvertedComp\",\"ConvertedComp\",\"ConvertedComp\",\"ConvertedComp\",\"ConvertedComp\",\"ConvertedComp\",\"ConvertedComp\",\"ConvertedComp\",\"ConvertedComp\",\"ConvertedComp\",\"ConvertedComp\",\"ConvertedComp\",\"ConvertedComp\",\"ConvertedComp\",\"ConvertedComp\",\"ConvertedComp\",\"ConvertedComp\",\"ConvertedComp\",\"ConvertedComp\",\"ConvertedComp\",\"ConvertedComp\",\"ConvertedComp\",\"ConvertedComp\",\"ConvertedComp\",\"ConvertedComp\",\"ConvertedComp\",\"ConvertedComp\",\"ConvertedComp\",\"ConvertedComp\",\"ConvertedComp\",\"ConvertedComp\",\"ConvertedComp\",\"ConvertedComp\",\"ConvertedComp\",\"ConvertedComp\",\"ConvertedComp\",\"ConvertedComp\",\"ConvertedComp\",\"ConvertedComp\",\"ConvertedComp\",\"ConvertedComp\",\"ConvertedComp\",\"ConvertedComp\",\"ConvertedComp\",\"ConvertedComp\",\"ConvertedComp\",\"ConvertedComp\",\"ConvertedComp\",\"ConvertedComp\",\"ConvertedComp\",\"ConvertedComp\",\"ConvertedComp\",\"ConvertedComp\",\"ConvertedComp\",\"ConvertedComp\",\"ConvertedComp\",\"ConvertedComp\",\"ConvertedComp\",\"ConvertedComp\",\"ConvertedComp\",\"ConvertedComp\",\"ConvertedComp\",\"ConvertedComp\",\"ConvertedComp\",\"ConvertedComp\",\"ConvertedComp\",\"ConvertedComp\",\"ConvertedComp\",\"ConvertedComp\",\"ConvertedComp\",\"ConvertedComp\",\"ConvertedComp\",\"ConvertedComp\",\"ConvertedComp\",\"ConvertedComp\",\"ConvertedComp\",\"ConvertedComp\",\"ConvertedComp\",\"ConvertedComp\",\"ConvertedComp\",\"ConvertedComp\",\"ConvertedComp\",\"ConvertedComp\",\"ConvertedComp\",\"ConvertedComp\",\"ConvertedComp\",\"ConvertedComp\",\"ConvertedComp\",\"ConvertedComp\",\"ConvertedComp\",\"ConvertedComp\",\"ConvertedComp\",\"ConvertedComp\",\"ConvertedComp\",\"ConvertedComp\",\"ConvertedComp\",\"ConvertedComp\",\"ConvertedComp\",\"ConvertedComp\",\"ConvertedComp\",\"ConvertedComp\",\"ConvertedComp\",\"ConvertedComp\",\"ConvertedComp\",\"ConvertedComp\",\"ConvertedComp\",\"ConvertedComp\",\"ConvertedComp\",\"ConvertedComp\",\"ConvertedComp\",\"ConvertedComp\",\"ConvertedComp\",\"ConvertedComp\",\"ConvertedComp\",\"ConvertedComp\",\"ConvertedComp\",\"ConvertedComp\",\"ConvertedComp\",\"ConvertedComp\",\"ConvertedComp\",\"ConvertedComp\",\"ConvertedComp\",\"ConvertedComp\",\"ConvertedComp\",\"ConvertedComp\",\"ConvertedComp\",\"ConvertedComp\",\"ConvertedComp\",\"ConvertedComp\",\"ConvertedComp\",\"ConvertedComp\",\"ConvertedComp\",\"ConvertedComp\",\"ConvertedComp\",\"ConvertedComp\",\"ConvertedComp\",\"ConvertedComp\",\"ConvertedComp\",\"ConvertedComp\",\"ConvertedComp\",\"ConvertedComp\",\"ConvertedComp\",\"ConvertedComp\",\"ConvertedComp\",\"ConvertedComp\",\"ConvertedComp\",\"ConvertedComp\",\"ConvertedComp\",\"ConvertedComp\",\"ConvertedComp\",\"ConvertedComp\",\"ConvertedComp\",\"ConvertedComp\",\"ConvertedComp\",\"ConvertedComp\",\"ConvertedComp\",\"ConvertedComp\",\"ConvertedComp\",\"ConvertedComp\",\"ConvertedComp\",\"ConvertedComp\",\"ConvertedComp\",\"ConvertedComp\",\"ConvertedComp\",\"ConvertedComp\",\"ConvertedComp\",\"ConvertedComp\",\"ConvertedComp\",\"ConvertedComp\",\"ConvertedComp\",\"ConvertedComp\",\"ConvertedComp\",\"ConvertedComp\",\"ConvertedComp\",\"ConvertedComp\",\"ConvertedComp\",\"ConvertedComp\",\"ConvertedComp\",\"ConvertedComp\",\"ConvertedComp\",\"ConvertedComp\",\"ConvertedComp\",\"ConvertedComp\",\"ConvertedComp\",\"ConvertedComp\",\"ConvertedComp\",\"ConvertedComp\",\"ConvertedComp\",\"ConvertedComp\",\"ConvertedComp\",\"ConvertedComp\",\"ConvertedComp\",\"ConvertedComp\",\"ConvertedComp\",\"ConvertedComp\",\"ConvertedComp\",\"ConvertedComp\",\"ConvertedComp\",\"ConvertedComp\",\"ConvertedComp\",\"ConvertedComp\",\"ConvertedComp\",\"ConvertedComp\",\"ConvertedComp\",\"ConvertedComp\",\"ConvertedComp\",\"ConvertedComp\",\"ConvertedComp\",\"ConvertedComp\",\"ConvertedComp\",\"ConvertedComp\",\"ConvertedComp\",\"ConvertedComp\",\"ConvertedComp\",\"ConvertedComp\",\"ConvertedComp\",\"ConvertedComp\",\"ConvertedComp\",\"ConvertedComp\",\"ConvertedComp\",\"ConvertedComp\",\"ConvertedComp\",\"ConvertedComp\",\"ConvertedComp\",\"ConvertedComp\",\"ConvertedComp\",\"ConvertedComp\",\"ConvertedComp\",\"ConvertedComp\",\"ConvertedComp\",\"ConvertedComp\",\"ConvertedComp\",\"ConvertedComp\",\"ConvertedComp\",\"ConvertedComp\",\"ConvertedComp\",\"ConvertedComp\",\"ConvertedComp\",\"ConvertedComp\",\"ConvertedComp\",\"ConvertedComp\",\"ConvertedComp\",\"ConvertedComp\",\"ConvertedComp\",\"ConvertedComp\",\"ConvertedComp\",\"ConvertedComp\",\"ConvertedComp\",\"ConvertedComp\",\"ConvertedComp\",\"ConvertedComp\",\"ConvertedComp\",\"ConvertedComp\",\"ConvertedComp\",\"ConvertedComp\",\"ConvertedComp\",\"ConvertedComp\",\"ConvertedComp\",\"ConvertedComp\",\"ConvertedComp\",\"ConvertedComp\",\"ConvertedComp\",\"ConvertedComp\",\"ConvertedComp\",\"ConvertedComp\",\"ConvertedComp\",\"ConvertedComp\",\"ConvertedComp\",\"ConvertedComp\",\"ConvertedComp\",\"ConvertedComp\",\"ConvertedComp\",\"ConvertedComp\",\"ConvertedComp\",\"ConvertedComp\",\"ConvertedComp\",\"ConvertedComp\",\"ConvertedComp\",\"ConvertedComp\",\"ConvertedComp\",\"ConvertedComp\",\"ConvertedComp\",\"ConvertedComp\",\"ConvertedComp\",\"ConvertedComp\",\"ConvertedComp\",\"ConvertedComp\",\"ConvertedComp\",\"ConvertedComp\",\"ConvertedComp\",\"ConvertedComp\",\"ConvertedComp\",\"ConvertedComp\",\"ConvertedComp\",\"ConvertedComp\",\"ConvertedComp\",\"ConvertedComp\",\"ConvertedComp\",\"ConvertedComp\",\"ConvertedComp\",\"ConvertedComp\",\"ConvertedComp\",\"ConvertedComp\",\"ConvertedComp\",\"ConvertedComp\",\"ConvertedComp\",\"ConvertedComp\",\"ConvertedComp\",\"ConvertedComp\",\"ConvertedComp\",\"ConvertedComp\",\"ConvertedComp\",\"ConvertedComp\",\"ConvertedComp\",\"ConvertedComp\",\"ConvertedComp\",\"ConvertedComp\",\"ConvertedComp\",\"ConvertedComp\",\"ConvertedComp\",\"ConvertedComp\",\"ConvertedComp\",\"ConvertedComp\",\"ConvertedComp\",\"ConvertedComp\",\"ConvertedComp\",\"ConvertedComp\",\"ConvertedComp\",\"ConvertedComp\",\"ConvertedComp\",\"ConvertedComp\",\"ConvertedComp\",\"ConvertedComp\",\"ConvertedComp\",\"ConvertedComp\",\"ConvertedComp\",\"ConvertedComp\",\"ConvertedComp\",\"ConvertedComp\",\"ConvertedComp\",\"ConvertedComp\",\"ConvertedComp\",\"ConvertedComp\",\"ConvertedComp\",\"ConvertedComp\",\"ConvertedComp\",\"ConvertedComp\",\"ConvertedComp\",\"ConvertedComp\",\"ConvertedComp\",\"ConvertedComp\",\"ConvertedComp\",\"ConvertedComp\",\"ConvertedComp\",\"ConvertedComp\",\"ConvertedComp\",\"ConvertedComp\",\"ConvertedComp\",\"ConvertedComp\",\"ConvertedComp\",\"ConvertedComp\",\"ConvertedComp\",\"ConvertedComp\",\"ConvertedComp\",\"ConvertedComp\",\"ConvertedComp\",\"ConvertedComp\",\"ConvertedComp\",\"ConvertedComp\",\"ConvertedComp\",\"ConvertedComp\",\"ConvertedComp\",\"ConvertedComp\",\"ConvertedComp\",\"ConvertedComp\",\"ConvertedComp\",\"ConvertedComp\",\"ConvertedComp\",\"ConvertedComp\",\"ConvertedComp\",\"ConvertedComp\",\"ConvertedComp\",\"ConvertedComp\",\"ConvertedComp\",\"ConvertedComp\",\"ConvertedComp\",\"ConvertedComp\",\"ConvertedComp\",\"ConvertedComp\",\"ConvertedComp\",\"ConvertedComp\",\"ConvertedComp\",\"ConvertedComp\",\"ConvertedComp\",\"ConvertedComp\",\"ConvertedComp\",\"ConvertedComp\",\"ConvertedComp\",\"ConvertedComp\",\"ConvertedComp\",\"ConvertedComp\",\"ConvertedComp\",\"ConvertedComp\",\"ConvertedComp\",\"ConvertedComp\",\"ConvertedComp\",\"ConvertedComp\",\"ConvertedComp\",\"ConvertedComp\",\"ConvertedComp\",\"ConvertedComp\",\"ConvertedComp\",\"ConvertedComp\",\"ConvertedComp\",\"ConvertedComp\",\"ConvertedComp\",\"ConvertedComp\",\"ConvertedComp\",\"ConvertedComp\",\"ConvertedComp\",\"ConvertedComp\",\"ConvertedComp\",\"ConvertedComp\",\"ConvertedComp\",\"ConvertedComp\",\"ConvertedComp\",\"ConvertedComp\",\"ConvertedComp\",\"ConvertedComp\",\"ConvertedComp\",\"ConvertedComp\",\"ConvertedComp\",\"ConvertedComp\",\"ConvertedComp\",\"ConvertedComp\",\"ConvertedComp\",\"ConvertedComp\",\"ConvertedComp\",\"ConvertedComp\",\"ConvertedComp\",\"ConvertedComp\",\"ConvertedComp\",\"ConvertedComp\",\"ConvertedComp\",\"ConvertedComp\",\"ConvertedComp\",\"ConvertedComp\",\"ConvertedComp\",\"ConvertedComp\",\"ConvertedComp\",\"ConvertedComp\",\"ConvertedComp\",\"ConvertedComp\",\"ConvertedComp\",\"ConvertedComp\",\"ConvertedComp\",\"ConvertedComp\",\"ConvertedComp\",\"ConvertedComp\",\"ConvertedComp\",\"ConvertedComp\",\"ConvertedComp\",\"ConvertedComp\",\"ConvertedComp\",\"ConvertedComp\",\"ConvertedComp\",\"ConvertedComp\",\"ConvertedComp\",\"ConvertedComp\",\"ConvertedComp\",\"ConvertedComp\",\"ConvertedComp\",\"ConvertedComp\",\"ConvertedComp\",\"ConvertedComp\",\"ConvertedComp\",\"ConvertedComp\",\"ConvertedComp\",\"ConvertedComp\",\"ConvertedComp\",\"ConvertedComp\",\"ConvertedComp\",\"ConvertedComp\",\"ConvertedComp\",\"ConvertedComp\",\"ConvertedComp\",\"ConvertedComp\",\"ConvertedComp\",\"ConvertedComp\",\"ConvertedComp\",\"ConvertedComp\",\"ConvertedComp\",\"ConvertedComp\",\"ConvertedComp\",\"ConvertedComp\",\"ConvertedComp\",\"ConvertedComp\",\"ConvertedComp\",\"ConvertedComp\",\"ConvertedComp\",\"ConvertedComp\",\"ConvertedComp\",\"ConvertedComp\",\"ConvertedComp\",\"ConvertedComp\",\"ConvertedComp\",\"ConvertedComp\",\"ConvertedComp\",\"ConvertedComp\",\"ConvertedComp\",\"ConvertedComp\",\"ConvertedComp\",\"ConvertedComp\",\"ConvertedComp\",\"ConvertedComp\",\"ConvertedComp\",\"ConvertedComp\",\"ConvertedComp\",\"ConvertedComp\",\"ConvertedComp\",\"ConvertedComp\",\"ConvertedComp\",\"ConvertedComp\",\"ConvertedComp\",\"ConvertedComp\",\"ConvertedComp\",\"ConvertedComp\",\"ConvertedComp\",\"ConvertedComp\",\"ConvertedComp\",\"ConvertedComp\",\"ConvertedComp\",\"ConvertedComp\",\"ConvertedComp\",\"ConvertedComp\",\"ConvertedComp\",\"ConvertedComp\",\"ConvertedComp\",\"ConvertedComp\",\"ConvertedComp\",\"ConvertedComp\",\"ConvertedComp\",\"ConvertedComp\",\"ConvertedComp\",\"ConvertedComp\",\"ConvertedComp\",\"ConvertedComp\",\"ConvertedComp\",\"ConvertedComp\",\"ConvertedComp\",\"ConvertedComp\",\"ConvertedComp\",\"ConvertedComp\",\"ConvertedComp\",\"ConvertedComp\",\"ConvertedComp\",\"ConvertedComp\",\"ConvertedComp\",\"ConvertedComp\",\"ConvertedComp\",\"ConvertedComp\",\"ConvertedComp\",\"ConvertedComp\",\"ConvertedComp\",\"ConvertedComp\",\"ConvertedComp\",\"ConvertedComp\",\"ConvertedComp\",\"ConvertedComp\",\"ConvertedComp\",\"ConvertedComp\",\"ConvertedComp\",\"ConvertedComp\",\"ConvertedComp\",\"ConvertedComp\",\"ConvertedComp\",\"ConvertedComp\",\"ConvertedComp\",\"ConvertedComp\",\"ConvertedComp\",\"ConvertedComp\",\"ConvertedComp\",\"ConvertedComp\",\"ConvertedComp\",\"ConvertedComp\",\"ConvertedComp\",\"ConvertedComp\",\"ConvertedComp\",\"ConvertedComp\",\"ConvertedComp\",\"ConvertedComp\",\"ConvertedComp\",\"ConvertedComp\",\"ConvertedComp\",\"ConvertedComp\",\"ConvertedComp\",\"ConvertedComp\",\"ConvertedComp\",\"ConvertedComp\",\"ConvertedComp\",\"ConvertedComp\",\"ConvertedComp\",\"ConvertedComp\",\"ConvertedComp\",\"ConvertedComp\",\"ConvertedComp\",\"ConvertedComp\",\"ConvertedComp\",\"ConvertedComp\",\"ConvertedComp\",\"ConvertedComp\",\"ConvertedComp\",\"ConvertedComp\",\"ConvertedComp\",\"ConvertedComp\",\"ConvertedComp\",\"ConvertedComp\",\"ConvertedComp\",\"ConvertedComp\",\"ConvertedComp\",\"ConvertedComp\",\"ConvertedComp\",\"ConvertedComp\",\"ConvertedComp\",\"ConvertedComp\",\"ConvertedComp\",\"ConvertedComp\",\"ConvertedComp\",\"ConvertedComp\",\"ConvertedComp\",\"ConvertedComp\",\"ConvertedComp\",\"ConvertedComp\",\"ConvertedComp\",\"ConvertedComp\",\"ConvertedComp\",\"ConvertedComp\",\"ConvertedComp\",\"ConvertedComp\",\"ConvertedComp\",\"ConvertedComp\",\"ConvertedComp\",\"ConvertedComp\",\"ConvertedComp\",\"ConvertedComp\",\"ConvertedComp\",\"ConvertedComp\",\"ConvertedComp\",\"ConvertedComp\",\"ConvertedComp\",\"ConvertedComp\",\"ConvertedComp\",\"ConvertedComp\",\"ConvertedComp\",\"ConvertedComp\",\"ConvertedComp\",\"ConvertedComp\",\"ConvertedComp\",\"ConvertedComp\",\"ConvertedComp\",\"ConvertedComp\",\"ConvertedComp\",\"ConvertedComp\",\"ConvertedComp\",\"ConvertedComp\",\"ConvertedComp\",\"ConvertedComp\",\"ConvertedComp\",\"ConvertedComp\",\"ConvertedComp\",\"ConvertedComp\",\"ConvertedComp\",\"ConvertedComp\",\"ConvertedComp\",\"ConvertedComp\",\"ConvertedComp\",\"ConvertedComp\",\"ConvertedComp\",\"ConvertedComp\",\"ConvertedComp\",\"ConvertedComp\",\"ConvertedComp\",\"ConvertedComp\",\"ConvertedComp\",\"ConvertedComp\",\"ConvertedComp\",\"ConvertedComp\",\"ConvertedComp\",\"ConvertedComp\",\"ConvertedComp\",\"ConvertedComp\",\"ConvertedComp\",\"ConvertedComp\",\"ConvertedComp\",\"ConvertedComp\",\"ConvertedComp\",\"ConvertedComp\",\"ConvertedComp\",\"ConvertedComp\",\"ConvertedComp\",\"ConvertedComp\",\"ConvertedComp\",\"ConvertedComp\",\"ConvertedComp\",\"ConvertedComp\",\"ConvertedComp\",\"ConvertedComp\",\"ConvertedComp\",\"ConvertedComp\",\"ConvertedComp\",\"ConvertedComp\",\"ConvertedComp\",\"ConvertedComp\",\"ConvertedComp\",\"ConvertedComp\",\"ConvertedComp\",\"ConvertedComp\",\"ConvertedComp\",\"ConvertedComp\",\"ConvertedComp\",\"ConvertedComp\",\"ConvertedComp\",\"ConvertedComp\",\"ConvertedComp\",\"ConvertedComp\",\"ConvertedComp\",\"ConvertedComp\",\"ConvertedComp\",\"ConvertedComp\",\"ConvertedComp\",\"ConvertedComp\",\"ConvertedComp\",\"ConvertedComp\",\"ConvertedComp\",\"ConvertedComp\",\"ConvertedComp\",\"ConvertedComp\",\"ConvertedComp\",\"ConvertedComp\",\"ConvertedComp\",\"ConvertedComp\",\"ConvertedComp\",\"ConvertedComp\",\"ConvertedComp\",\"ConvertedComp\",\"ConvertedComp\",\"ConvertedComp\",\"ConvertedComp\",\"ConvertedComp\",\"ConvertedComp\",\"ConvertedComp\",\"ConvertedComp\",\"ConvertedComp\",\"ConvertedComp\",\"ConvertedComp\",\"ConvertedComp\",\"ConvertedComp\",\"ConvertedComp\",\"ConvertedComp\",\"ConvertedComp\",\"ConvertedComp\",\"ConvertedComp\",\"ConvertedComp\",\"ConvertedComp\",\"ConvertedComp\",\"ConvertedComp\",\"ConvertedComp\",\"ConvertedComp\",\"ConvertedComp\",\"ConvertedComp\",\"ConvertedComp\",\"ConvertedComp\",\"ConvertedComp\",\"ConvertedComp\",\"ConvertedComp\",\"ConvertedComp\",\"ConvertedComp\",\"ConvertedComp\",\"ConvertedComp\",\"ConvertedComp\",\"ConvertedComp\",\"ConvertedComp\",\"ConvertedComp\",\"ConvertedComp\",\"ConvertedComp\",\"ConvertedComp\",\"ConvertedComp\",\"ConvertedComp\",\"ConvertedComp\",\"ConvertedComp\",\"ConvertedComp\",\"ConvertedComp\",\"ConvertedComp\",\"ConvertedComp\",\"ConvertedComp\",\"ConvertedComp\",\"ConvertedComp\",\"ConvertedComp\",\"ConvertedComp\",\"ConvertedComp\",\"ConvertedComp\",\"ConvertedComp\",\"ConvertedComp\",\"ConvertedComp\",\"ConvertedComp\",\"ConvertedComp\",\"ConvertedComp\",\"ConvertedComp\",\"ConvertedComp\",\"ConvertedComp\",\"ConvertedComp\",\"ConvertedComp\",\"ConvertedComp\",\"ConvertedComp\",\"ConvertedComp\",\"ConvertedComp\",\"ConvertedComp\",\"ConvertedComp\",\"ConvertedComp\",\"ConvertedComp\",\"ConvertedComp\",\"ConvertedComp\",\"ConvertedComp\",\"ConvertedComp\",\"ConvertedComp\",\"ConvertedComp\",\"ConvertedComp\",\"ConvertedComp\",\"ConvertedComp\",\"ConvertedComp\",\"ConvertedComp\",\"ConvertedComp\",\"ConvertedComp\",\"ConvertedComp\",\"ConvertedComp\",\"ConvertedComp\",\"ConvertedComp\",\"ConvertedComp\",\"ConvertedComp\",\"ConvertedComp\",\"ConvertedComp\",\"ConvertedComp\",\"ConvertedComp\",\"ConvertedComp\",\"ConvertedComp\",\"ConvertedComp\",\"ConvertedComp\",\"ConvertedComp\",\"ConvertedComp\",\"ConvertedComp\",\"ConvertedComp\",\"ConvertedComp\",\"ConvertedComp\",\"ConvertedComp\",\"ConvertedComp\",\"ConvertedComp\",\"ConvertedComp\",\"ConvertedComp\",\"ConvertedComp\",\"ConvertedComp\",\"ConvertedComp\",\"ConvertedComp\",\"ConvertedComp\",\"ConvertedComp\",\"ConvertedComp\",\"ConvertedComp\",\"ConvertedComp\",\"ConvertedComp\",\"ConvertedComp\",\"ConvertedComp\",\"ConvertedComp\",\"ConvertedComp\",\"ConvertedComp\",\"ConvertedComp\",\"ConvertedComp\",\"ConvertedComp\",\"ConvertedComp\",\"ConvertedComp\",\"ConvertedComp\",\"ConvertedComp\",\"ConvertedComp\",\"ConvertedComp\",\"ConvertedComp\",\"ConvertedComp\",\"ConvertedComp\",\"ConvertedComp\",\"ConvertedComp\",\"ConvertedComp\",\"ConvertedComp\",\"ConvertedComp\",\"ConvertedComp\",\"ConvertedComp\",\"ConvertedComp\",\"ConvertedComp\",\"ConvertedComp\",\"ConvertedComp\",\"ConvertedComp\",\"ConvertedComp\",\"ConvertedComp\",\"ConvertedComp\",\"ConvertedComp\",\"ConvertedComp\",\"ConvertedComp\",\"ConvertedComp\",\"ConvertedComp\",\"ConvertedComp\",\"ConvertedComp\",\"ConvertedComp\",\"ConvertedComp\",\"ConvertedComp\",\"ConvertedComp\",\"ConvertedComp\",\"ConvertedComp\",\"ConvertedComp\",\"ConvertedComp\",\"ConvertedComp\",\"ConvertedComp\",\"ConvertedComp\",\"ConvertedComp\",\"ConvertedComp\",\"ConvertedComp\",\"ConvertedComp\",\"ConvertedComp\",\"ConvertedComp\",\"ConvertedComp\",\"ConvertedComp\",\"ConvertedComp\",\"ConvertedComp\",\"ConvertedComp\",\"ConvertedComp\",\"ConvertedComp\",\"ConvertedComp\",\"ConvertedComp\",\"ConvertedComp\",\"ConvertedComp\",\"ConvertedComp\",\"ConvertedComp\",\"ConvertedComp\",\"ConvertedComp\",\"ConvertedComp\",\"ConvertedComp\",\"ConvertedComp\",\"ConvertedComp\",\"ConvertedComp\",\"ConvertedComp\",\"ConvertedComp\",\"ConvertedComp\",\"ConvertedComp\",\"ConvertedComp\",\"ConvertedComp\",\"ConvertedComp\",\"ConvertedComp\",\"ConvertedComp\",\"ConvertedComp\",\"ConvertedComp\",\"ConvertedComp\",\"ConvertedComp\",\"ConvertedComp\",\"ConvertedComp\",\"ConvertedComp\",\"ConvertedComp\",\"ConvertedComp\",\"ConvertedComp\",\"ConvertedComp\",\"ConvertedComp\",\"ConvertedComp\",\"ConvertedComp\",\"ConvertedComp\",\"ConvertedComp\",\"ConvertedComp\",\"ConvertedComp\",\"ConvertedComp\",\"ConvertedComp\",\"ConvertedComp\",\"ConvertedComp\",\"ConvertedComp\",\"ConvertedComp\",\"ConvertedComp\",\"ConvertedComp\",\"ConvertedComp\",\"ConvertedComp\",\"ConvertedComp\",\"ConvertedComp\",\"ConvertedComp\",\"ConvertedComp\",\"ConvertedComp\",\"ConvertedComp\",\"ConvertedComp\",\"ConvertedComp\",\"ConvertedComp\",\"ConvertedComp\",\"ConvertedComp\",\"ConvertedComp\",\"ConvertedComp\",\"ConvertedComp\",\"ConvertedComp\",\"ConvertedComp\",\"ConvertedComp\",\"ConvertedComp\",\"ConvertedComp\",\"ConvertedComp\",\"ConvertedComp\",\"ConvertedComp\",\"ConvertedComp\",\"ConvertedComp\",\"ConvertedComp\",\"ConvertedComp\",\"ConvertedComp\",\"ConvertedComp\",\"ConvertedComp\",\"ConvertedComp\",\"ConvertedComp\",\"ConvertedComp\",\"ConvertedComp\",\"ConvertedComp\",\"ConvertedComp\",\"ConvertedComp\",\"ConvertedComp\",\"ConvertedComp\",\"ConvertedComp\",\"ConvertedComp\",\"ConvertedComp\",\"ConvertedComp\",\"ConvertedComp\",\"ConvertedComp\",\"ConvertedComp\",\"ConvertedComp\",\"ConvertedComp\",\"ConvertedComp\",\"ConvertedComp\",\"ConvertedComp\",\"ConvertedComp\",\"ConvertedComp\",\"ConvertedComp\",\"ConvertedComp\",\"ConvertedComp\",\"ConvertedComp\",\"ConvertedComp\",\"ConvertedComp\",\"ConvertedComp\",\"ConvertedComp\",\"ConvertedComp\",\"ConvertedComp\",\"ConvertedComp\",\"ConvertedComp\",\"ConvertedComp\",\"ConvertedComp\",\"ConvertedComp\",\"ConvertedComp\",\"ConvertedComp\",\"ConvertedComp\",\"ConvertedComp\",\"ConvertedComp\",\"ConvertedComp\",\"ConvertedComp\",\"ConvertedComp\",\"ConvertedComp\",\"ConvertedComp\",\"ConvertedComp\",\"ConvertedComp\",\"ConvertedComp\",\"ConvertedComp\",\"ConvertedComp\",\"ConvertedComp\",\"ConvertedComp\",\"ConvertedComp\",\"ConvertedComp\",\"ConvertedComp\",\"ConvertedComp\",\"ConvertedComp\",\"ConvertedComp\",\"ConvertedComp\",\"ConvertedComp\",\"ConvertedComp\",\"ConvertedComp\",\"ConvertedComp\",\"ConvertedComp\",\"ConvertedComp\",\"ConvertedComp\",\"ConvertedComp\",\"ConvertedComp\",\"ConvertedComp\",\"ConvertedComp\",\"ConvertedComp\",\"ConvertedComp\",\"ConvertedComp\",\"ConvertedComp\",\"ConvertedComp\",\"ConvertedComp\",\"ConvertedComp\",\"ConvertedComp\",\"ConvertedComp\",\"ConvertedComp\",\"ConvertedComp\",\"ConvertedComp\",\"ConvertedComp\",\"ConvertedComp\",\"ConvertedComp\",\"ConvertedComp\",\"ConvertedComp\",\"ConvertedComp\",\"ConvertedComp\",\"ConvertedComp\",\"ConvertedComp\",\"ConvertedComp\",\"ConvertedComp\",\"ConvertedComp\",\"ConvertedComp\",\"ConvertedComp\",\"ConvertedComp\",\"ConvertedComp\",\"ConvertedComp\",\"ConvertedComp\",\"ConvertedComp\",\"ConvertedComp\",\"ConvertedComp\",\"ConvertedComp\",\"ConvertedComp\",\"ConvertedComp\",\"ConvertedComp\",\"ConvertedComp\",\"ConvertedComp\",\"ConvertedComp\",\"ConvertedComp\",\"ConvertedComp\",\"ConvertedComp\",\"ConvertedComp\",\"ConvertedComp\",\"ConvertedComp\",\"ConvertedComp\",\"ConvertedComp\",\"ConvertedComp\",\"ConvertedComp\",\"ConvertedComp\",\"ConvertedComp\",\"ConvertedComp\",\"ConvertedComp\",\"ConvertedComp\",\"ConvertedComp\",\"ConvertedComp\",\"ConvertedComp\",\"ConvertedComp\",\"ConvertedComp\",\"ConvertedComp\",\"ConvertedComp\",\"ConvertedComp\",\"ConvertedComp\",\"ConvertedComp\",\"ConvertedComp\",\"ConvertedComp\",\"ConvertedComp\",\"ConvertedComp\",\"ConvertedComp\",\"ConvertedComp\",\"ConvertedComp\",\"ConvertedComp\",\"ConvertedComp\",\"ConvertedComp\",\"ConvertedComp\",\"ConvertedComp\",\"ConvertedComp\",\"ConvertedComp\",\"ConvertedComp\",\"ConvertedComp\",\"ConvertedComp\",\"ConvertedComp\",\"ConvertedComp\",\"ConvertedComp\",\"ConvertedComp\",\"ConvertedComp\",\"ConvertedComp\",\"ConvertedComp\",\"ConvertedComp\",\"ConvertedComp\",\"ConvertedComp\",\"ConvertedComp\",\"ConvertedComp\",\"ConvertedComp\",\"ConvertedComp\",\"ConvertedComp\",\"ConvertedComp\",\"ConvertedComp\",\"ConvertedComp\",\"ConvertedComp\",\"ConvertedComp\",\"ConvertedComp\",\"ConvertedComp\",\"ConvertedComp\",\"ConvertedComp\",\"ConvertedComp\",\"ConvertedComp\",\"ConvertedComp\",\"ConvertedComp\",\"ConvertedComp\",\"ConvertedComp\",\"ConvertedComp\",\"ConvertedComp\",\"ConvertedComp\",\"ConvertedComp\",\"ConvertedComp\",\"ConvertedComp\",\"ConvertedComp\",\"ConvertedComp\",\"ConvertedComp\",\"ConvertedComp\",\"ConvertedComp\",\"ConvertedComp\",\"ConvertedComp\",\"ConvertedComp\",\"ConvertedComp\",\"ConvertedComp\",\"ConvertedComp\",\"ConvertedComp\",\"ConvertedComp\",\"ConvertedComp\",\"ConvertedComp\",\"ConvertedComp\",\"ConvertedComp\",\"ConvertedComp\",\"ConvertedComp\",\"ConvertedComp\",\"ConvertedComp\",\"ConvertedComp\",\"ConvertedComp\",\"ConvertedComp\",\"ConvertedComp\",\"ConvertedComp\",\"ConvertedComp\",\"ConvertedComp\",\"ConvertedComp\",\"ConvertedComp\",\"ConvertedComp\",\"ConvertedComp\",\"ConvertedComp\",\"ConvertedComp\",\"ConvertedComp\",\"ConvertedComp\",\"ConvertedComp\",\"ConvertedComp\",\"ConvertedComp\",\"ConvertedComp\",\"ConvertedComp\",\"ConvertedComp\",\"ConvertedComp\",\"ConvertedComp\",\"ConvertedComp\",\"ConvertedComp\",\"ConvertedComp\",\"ConvertedComp\",\"ConvertedComp\",\"ConvertedComp\",\"ConvertedComp\",\"ConvertedComp\",\"ConvertedComp\",\"ConvertedComp\",\"ConvertedComp\",\"ConvertedComp\",\"ConvertedComp\",\"ConvertedComp\",\"ConvertedComp\",\"ConvertedComp\",\"ConvertedComp\",\"ConvertedComp\",\"ConvertedComp\",\"ConvertedComp\",\"ConvertedComp\",\"ConvertedComp\",\"ConvertedComp\",\"ConvertedComp\",\"ConvertedComp\",\"ConvertedComp\",\"ConvertedComp\",\"ConvertedComp\",\"ConvertedComp\",\"ConvertedComp\",\"ConvertedComp\",\"ConvertedComp\",\"ConvertedComp\",\"ConvertedComp\",\"ConvertedComp\",\"ConvertedComp\",\"ConvertedComp\",\"ConvertedComp\",\"ConvertedComp\",\"ConvertedComp\",\"ConvertedComp\",\"ConvertedComp\",\"ConvertedComp\",\"ConvertedComp\",\"ConvertedComp\",\"ConvertedComp\",\"ConvertedComp\",\"ConvertedComp\",\"ConvertedComp\",\"ConvertedComp\",\"ConvertedComp\",\"ConvertedComp\",\"ConvertedComp\",\"ConvertedComp\",\"ConvertedComp\",\"ConvertedComp\",\"ConvertedComp\",\"ConvertedComp\",\"ConvertedComp\",\"ConvertedComp\",\"ConvertedComp\",\"ConvertedComp\",\"ConvertedComp\",\"ConvertedComp\",\"ConvertedComp\",\"ConvertedComp\",\"ConvertedComp\",\"ConvertedComp\",\"ConvertedComp\",\"ConvertedComp\",\"ConvertedComp\",\"ConvertedComp\",\"ConvertedComp\",\"ConvertedComp\",\"ConvertedComp\",\"ConvertedComp\",\"ConvertedComp\",\"ConvertedComp\",\"ConvertedComp\",\"ConvertedComp\",\"ConvertedComp\",\"ConvertedComp\",\"ConvertedComp\",\"ConvertedComp\",\"ConvertedComp\",\"ConvertedComp\",\"ConvertedComp\",\"ConvertedComp\",\"ConvertedComp\",\"ConvertedComp\",\"ConvertedComp\",\"ConvertedComp\",\"ConvertedComp\",\"ConvertedComp\",\"ConvertedComp\",\"ConvertedComp\",\"ConvertedComp\",\"ConvertedComp\",\"ConvertedComp\",\"ConvertedComp\",\"ConvertedComp\",\"ConvertedComp\",\"ConvertedComp\",\"ConvertedComp\",\"ConvertedComp\",\"ConvertedComp\",\"ConvertedComp\",\"ConvertedComp\",\"ConvertedComp\",\"ConvertedComp\",\"ConvertedComp\",\"ConvertedComp\",\"ConvertedComp\",\"ConvertedComp\",\"ConvertedComp\",\"ConvertedComp\",\"ConvertedComp\",\"ConvertedComp\",\"ConvertedComp\",\"ConvertedComp\",\"ConvertedComp\",\"ConvertedComp\",\"ConvertedComp\",\"ConvertedComp\",\"ConvertedComp\",\"ConvertedComp\",\"ConvertedComp\",\"ConvertedComp\",\"ConvertedComp\",\"ConvertedComp\",\"ConvertedComp\",\"ConvertedComp\",\"ConvertedComp\",\"ConvertedComp\",\"ConvertedComp\",\"ConvertedComp\",\"ConvertedComp\",\"ConvertedComp\",\"ConvertedComp\",\"ConvertedComp\",\"ConvertedComp\",\"ConvertedComp\",\"ConvertedComp\",\"ConvertedComp\",\"ConvertedComp\",\"ConvertedComp\",\"ConvertedComp\",\"ConvertedComp\",\"ConvertedComp\",\"ConvertedComp\",\"ConvertedComp\",\"ConvertedComp\",\"ConvertedComp\",\"ConvertedComp\",\"ConvertedComp\",\"ConvertedComp\",\"ConvertedComp\",\"ConvertedComp\",\"ConvertedComp\",\"ConvertedComp\",\"ConvertedComp\",\"ConvertedComp\",\"ConvertedComp\",\"ConvertedComp\",\"ConvertedComp\",\"ConvertedComp\",\"ConvertedComp\",\"ConvertedComp\",\"ConvertedComp\",\"ConvertedComp\",\"ConvertedComp\",\"ConvertedComp\",\"ConvertedComp\",\"ConvertedComp\",\"ConvertedComp\",\"ConvertedComp\",\"ConvertedComp\",\"ConvertedComp\",\"ConvertedComp\",\"ConvertedComp\",\"ConvertedComp\",\"ConvertedComp\",\"ConvertedComp\",\"ConvertedComp\",\"ConvertedComp\",\"ConvertedComp\",\"ConvertedComp\",\"ConvertedComp\",\"ConvertedComp\",\"ConvertedComp\",\"ConvertedComp\",\"ConvertedComp\",\"ConvertedComp\",\"ConvertedComp\",\"ConvertedComp\",\"ConvertedComp\",\"ConvertedComp\",\"ConvertedComp\",\"ConvertedComp\",\"ConvertedComp\",\"ConvertedComp\",\"ConvertedComp\",\"ConvertedComp\",\"ConvertedComp\",\"ConvertedComp\",\"ConvertedComp\",\"ConvertedComp\",\"ConvertedComp\",\"ConvertedComp\",\"ConvertedComp\",\"ConvertedComp\",\"ConvertedComp\",\"ConvertedComp\",\"ConvertedComp\",\"ConvertedComp\",\"ConvertedComp\",\"ConvertedComp\",\"ConvertedComp\",\"ConvertedComp\",\"ConvertedComp\",\"ConvertedComp\",\"ConvertedComp\",\"ConvertedComp\",\"ConvertedComp\",\"ConvertedComp\",\"ConvertedComp\",\"ConvertedComp\",\"ConvertedComp\",\"ConvertedComp\",\"ConvertedComp\",\"ConvertedComp\",\"ConvertedComp\",\"ConvertedComp\",\"ConvertedComp\",\"ConvertedComp\",\"ConvertedComp\",\"ConvertedComp\",\"ConvertedComp\",\"ConvertedComp\",\"ConvertedComp\",\"ConvertedComp\",\"ConvertedComp\",\"ConvertedComp\",\"ConvertedComp\",\"ConvertedComp\",\"ConvertedComp\",\"ConvertedComp\",\"ConvertedComp\",\"ConvertedComp\",\"ConvertedComp\",\"ConvertedComp\",\"ConvertedComp\",\"ConvertedComp\",\"ConvertedComp\",\"ConvertedComp\",\"ConvertedComp\",\"ConvertedComp\",\"ConvertedComp\",\"ConvertedComp\",\"ConvertedComp\",\"ConvertedComp\",\"ConvertedComp\",\"ConvertedComp\",\"ConvertedComp\",\"ConvertedComp\",\"ConvertedComp\",\"ConvertedComp\",\"ConvertedComp\",\"ConvertedComp\",\"ConvertedComp\",\"ConvertedComp\",\"ConvertedComp\",\"ConvertedComp\",\"ConvertedComp\",\"ConvertedComp\",\"ConvertedComp\",\"ConvertedComp\",\"ConvertedComp\",\"ConvertedComp\",\"ConvertedComp\",\"ConvertedComp\",\"ConvertedComp\",\"ConvertedComp\",\"ConvertedComp\",\"ConvertedComp\",\"ConvertedComp\",\"ConvertedComp\",\"ConvertedComp\",\"ConvertedComp\",\"ConvertedComp\",\"ConvertedComp\",\"ConvertedComp\",\"ConvertedComp\",\"ConvertedComp\",\"ConvertedComp\",\"ConvertedComp\",\"ConvertedComp\",\"ConvertedComp\",\"ConvertedComp\",\"ConvertedComp\",\"ConvertedComp\",\"ConvertedComp\",\"ConvertedComp\",\"ConvertedComp\",\"ConvertedComp\",\"ConvertedComp\",\"ConvertedComp\",\"ConvertedComp\",\"ConvertedComp\",\"ConvertedComp\",\"ConvertedComp\",\"ConvertedComp\",\"ConvertedComp\",\"ConvertedComp\",\"ConvertedComp\",\"ConvertedComp\",\"ConvertedComp\",\"ConvertedComp\",\"ConvertedComp\",\"ConvertedComp\",\"ConvertedComp\",\"ConvertedComp\",\"ConvertedComp\",\"ConvertedComp\",\"ConvertedComp\",\"ConvertedComp\",\"ConvertedComp\",\"ConvertedComp\",\"ConvertedComp\",\"ConvertedComp\",\"ConvertedComp\",\"ConvertedComp\",\"ConvertedComp\",\"ConvertedComp\",\"ConvertedComp\",\"ConvertedComp\",\"ConvertedComp\",\"ConvertedComp\",\"ConvertedComp\",\"ConvertedComp\",\"ConvertedComp\",\"ConvertedComp\",\"ConvertedComp\",\"ConvertedComp\",\"ConvertedComp\",\"ConvertedComp\",\"ConvertedComp\",\"ConvertedComp\",\"ConvertedComp\",\"ConvertedComp\",\"ConvertedComp\",\"ConvertedComp\",\"ConvertedComp\",\"ConvertedComp\",\"ConvertedComp\",\"ConvertedComp\",\"ConvertedComp\",\"ConvertedComp\",\"ConvertedComp\",\"ConvertedComp\",\"ConvertedComp\",\"ConvertedComp\",\"ConvertedComp\",\"ConvertedComp\",\"ConvertedComp\",\"ConvertedComp\",\"ConvertedComp\",\"ConvertedComp\",\"ConvertedComp\",\"ConvertedComp\",\"ConvertedComp\",\"ConvertedComp\",\"ConvertedComp\",\"ConvertedComp\",\"ConvertedComp\",\"ConvertedComp\",\"ConvertedComp\",\"ConvertedComp\",\"ConvertedComp\",\"ConvertedComp\",\"ConvertedComp\",\"ConvertedComp\",\"ConvertedComp\",\"ConvertedComp\",\"ConvertedComp\",\"ConvertedComp\",\"ConvertedComp\",\"ConvertedComp\",\"ConvertedComp\",\"ConvertedComp\",\"ConvertedComp\",\"ConvertedComp\",\"ConvertedComp\",\"ConvertedComp\",\"ConvertedComp\",\"ConvertedComp\",\"ConvertedComp\",\"ConvertedComp\",\"ConvertedComp\",\"ConvertedComp\",\"ConvertedComp\",\"ConvertedComp\",\"ConvertedComp\",\"ConvertedComp\",\"ConvertedComp\",\"ConvertedComp\",\"ConvertedComp\",\"ConvertedComp\",\"ConvertedComp\",\"ConvertedComp\",\"ConvertedComp\",\"ConvertedComp\",\"ConvertedComp\",\"ConvertedComp\",\"ConvertedComp\",\"ConvertedComp\",\"ConvertedComp\",\"ConvertedComp\",\"ConvertedComp\",\"ConvertedComp\",\"ConvertedComp\",\"ConvertedComp\",\"ConvertedComp\",\"ConvertedComp\",\"ConvertedComp\",\"ConvertedComp\",\"ConvertedComp\",\"ConvertedComp\",\"ConvertedComp\",\"ConvertedComp\",\"ConvertedComp\",\"ConvertedComp\",\"ConvertedComp\",\"ConvertedComp\",\"ConvertedComp\",\"ConvertedComp\",\"ConvertedComp\",\"ConvertedComp\",\"ConvertedComp\",\"ConvertedComp\",\"ConvertedComp\",\"ConvertedComp\",\"ConvertedComp\",\"ConvertedComp\",\"ConvertedComp\",\"ConvertedComp\",\"ConvertedComp\",\"ConvertedComp\",\"ConvertedComp\",\"ConvertedComp\",\"ConvertedComp\",\"ConvertedComp\",\"ConvertedComp\",\"ConvertedComp\",\"ConvertedComp\",\"ConvertedComp\",\"ConvertedComp\",\"ConvertedComp\",\"ConvertedComp\",\"ConvertedComp\",\"ConvertedComp\",\"ConvertedComp\",\"ConvertedComp\",\"ConvertedComp\",\"ConvertedComp\",\"ConvertedComp\",\"ConvertedComp\",\"ConvertedComp\",\"ConvertedComp\",\"ConvertedComp\",\"ConvertedComp\",\"ConvertedComp\",\"ConvertedComp\",\"ConvertedComp\",\"ConvertedComp\",\"ConvertedComp\",\"ConvertedComp\",\"ConvertedComp\",\"ConvertedComp\",\"ConvertedComp\",\"ConvertedComp\",\"ConvertedComp\",\"ConvertedComp\",\"ConvertedComp\",\"ConvertedComp\",\"ConvertedComp\",\"ConvertedComp\",\"ConvertedComp\",\"ConvertedComp\",\"ConvertedComp\",\"ConvertedComp\",\"ConvertedComp\",\"ConvertedComp\",\"ConvertedComp\",\"ConvertedComp\",\"ConvertedComp\",\"ConvertedComp\",\"ConvertedComp\",\"ConvertedComp\",\"ConvertedComp\",\"ConvertedComp\",\"ConvertedComp\",\"ConvertedComp\",\"ConvertedComp\",\"ConvertedComp\",\"ConvertedComp\",\"ConvertedComp\",\"ConvertedComp\",\"ConvertedComp\",\"ConvertedComp\",\"ConvertedComp\",\"ConvertedComp\",\"ConvertedComp\",\"ConvertedComp\",\"ConvertedComp\",\"ConvertedComp\",\"ConvertedComp\",\"ConvertedComp\",\"ConvertedComp\",\"ConvertedComp\",\"ConvertedComp\",\"ConvertedComp\",\"ConvertedComp\",\"ConvertedComp\",\"ConvertedComp\",\"ConvertedComp\",\"ConvertedComp\",\"ConvertedComp\",\"ConvertedComp\",\"ConvertedComp\",\"ConvertedComp\",\"ConvertedComp\",\"ConvertedComp\",\"ConvertedComp\",\"ConvertedComp\",\"ConvertedComp\",\"ConvertedComp\",\"ConvertedComp\",\"ConvertedComp\",\"ConvertedComp\",\"ConvertedComp\",\"ConvertedComp\",\"ConvertedComp\",\"ConvertedComp\",\"ConvertedComp\",\"ConvertedComp\",\"ConvertedComp\",\"ConvertedComp\",\"ConvertedComp\",\"ConvertedComp\",\"ConvertedComp\",\"ConvertedComp\",\"ConvertedComp\",\"ConvertedComp\",\"ConvertedComp\",\"ConvertedComp\",\"ConvertedComp\",\"ConvertedComp\",\"ConvertedComp\",\"ConvertedComp\",\"ConvertedComp\",\"ConvertedComp\",\"ConvertedComp\",\"ConvertedComp\",\"ConvertedComp\",\"ConvertedComp\",\"ConvertedComp\",\"ConvertedComp\",\"ConvertedComp\",\"ConvertedComp\",\"ConvertedComp\",\"ConvertedComp\",\"ConvertedComp\",\"ConvertedComp\",\"ConvertedComp\",\"ConvertedComp\",\"ConvertedComp\",\"ConvertedComp\",\"ConvertedComp\",\"ConvertedComp\",\"ConvertedComp\",\"ConvertedComp\",\"ConvertedComp\",\"ConvertedComp\",\"ConvertedComp\",\"ConvertedComp\",\"ConvertedComp\",\"ConvertedComp\",\"ConvertedComp\",\"ConvertedComp\",\"ConvertedComp\",\"ConvertedComp\",\"ConvertedComp\",\"ConvertedComp\",\"ConvertedComp\",\"ConvertedComp\",\"ConvertedComp\",\"ConvertedComp\",\"ConvertedComp\",\"ConvertedComp\",\"ConvertedComp\",\"ConvertedComp\",\"ConvertedComp\",\"ConvertedComp\",\"ConvertedComp\",\"ConvertedComp\",\"ConvertedComp\",\"ConvertedComp\",\"ConvertedComp\",\"ConvertedComp\",\"ConvertedComp\",\"ConvertedComp\",\"ConvertedComp\",\"ConvertedComp\",\"ConvertedComp\",\"ConvertedComp\",\"ConvertedComp\",\"ConvertedComp\",\"ConvertedComp\",\"ConvertedComp\",\"ConvertedComp\",\"ConvertedComp\",\"ConvertedComp\",\"ConvertedComp\",\"ConvertedComp\",\"ConvertedComp\",\"ConvertedComp\",\"ConvertedComp\",\"ConvertedComp\",\"ConvertedComp\",\"ConvertedComp\",\"ConvertedComp\",\"ConvertedComp\",\"ConvertedComp\",\"ConvertedComp\",\"ConvertedComp\",\"ConvertedComp\",\"ConvertedComp\",\"ConvertedComp\",\"ConvertedComp\",\"ConvertedComp\",\"ConvertedComp\",\"ConvertedComp\",\"ConvertedComp\",\"ConvertedComp\",\"ConvertedComp\",\"ConvertedComp\",\"ConvertedComp\",\"ConvertedComp\",\"ConvertedComp\",\"ConvertedComp\",\"ConvertedComp\",\"ConvertedComp\",\"ConvertedComp\",\"ConvertedComp\",\"ConvertedComp\",\"ConvertedComp\",\"ConvertedComp\",\"ConvertedComp\",\"ConvertedComp\",\"ConvertedComp\",\"ConvertedComp\",\"ConvertedComp\",\"ConvertedComp\",\"ConvertedComp\",\"ConvertedComp\",\"ConvertedComp\",\"ConvertedComp\",\"ConvertedComp\",\"ConvertedComp\",\"ConvertedComp\",\"ConvertedComp\",\"ConvertedComp\",\"ConvertedComp\",\"ConvertedComp\",\"ConvertedComp\",\"ConvertedComp\",\"ConvertedComp\",\"ConvertedComp\",\"ConvertedComp\",\"ConvertedComp\",\"ConvertedComp\",\"ConvertedComp\",\"ConvertedComp\",\"ConvertedComp\",\"ConvertedComp\",\"ConvertedComp\",\"ConvertedComp\",\"ConvertedComp\",\"ConvertedComp\",\"ConvertedComp\",\"ConvertedComp\",\"ConvertedComp\",\"ConvertedComp\",\"ConvertedComp\",\"ConvertedComp\",\"ConvertedComp\",\"ConvertedComp\",\"ConvertedComp\",\"ConvertedComp\",\"ConvertedComp\",\"ConvertedComp\",\"ConvertedComp\",\"ConvertedComp\",\"ConvertedComp\",\"ConvertedComp\",\"ConvertedComp\",\"ConvertedComp\",\"ConvertedComp\",\"ConvertedComp\",\"ConvertedComp\",\"ConvertedComp\",\"ConvertedComp\",\"ConvertedComp\",\"ConvertedComp\",\"ConvertedComp\",\"ConvertedComp\",\"ConvertedComp\",\"ConvertedComp\",\"ConvertedComp\",\"ConvertedComp\",\"ConvertedComp\",\"ConvertedComp\",\"ConvertedComp\",\"ConvertedComp\",\"ConvertedComp\",\"ConvertedComp\",\"ConvertedComp\",\"ConvertedComp\",\"ConvertedComp\",\"ConvertedComp\",\"ConvertedComp\",\"ConvertedComp\",\"ConvertedComp\",\"ConvertedComp\",\"ConvertedComp\",\"ConvertedComp\",\"ConvertedComp\",\"ConvertedComp\",\"ConvertedComp\",\"ConvertedComp\",\"ConvertedComp\",\"ConvertedComp\",\"ConvertedComp\",\"ConvertedComp\",\"ConvertedComp\",\"ConvertedComp\",\"ConvertedComp\",\"ConvertedComp\",\"ConvertedComp\",\"ConvertedComp\",\"ConvertedComp\",\"ConvertedComp\",\"ConvertedComp\",\"ConvertedComp\",\"ConvertedComp\",\"ConvertedComp\",\"ConvertedComp\",\"ConvertedComp\",\"ConvertedComp\",\"ConvertedComp\",\"ConvertedComp\",\"ConvertedComp\",\"ConvertedComp\",\"ConvertedComp\",\"ConvertedComp\",\"ConvertedComp\",\"ConvertedComp\",\"ConvertedComp\",\"ConvertedComp\",\"ConvertedComp\",\"ConvertedComp\",\"ConvertedComp\",\"ConvertedComp\",\"ConvertedComp\",\"ConvertedComp\",\"ConvertedComp\",\"ConvertedComp\",\"ConvertedComp\",\"ConvertedComp\",\"ConvertedComp\",\"ConvertedComp\",\"ConvertedComp\",\"ConvertedComp\",\"ConvertedComp\",\"ConvertedComp\",\"ConvertedComp\",\"ConvertedComp\",\"ConvertedComp\",\"ConvertedComp\",\"ConvertedComp\",\"ConvertedComp\",\"ConvertedComp\",\"ConvertedComp\",\"ConvertedComp\",\"ConvertedComp\",\"ConvertedComp\",\"ConvertedComp\",\"ConvertedComp\",\"ConvertedComp\",\"ConvertedComp\",\"ConvertedComp\",\"ConvertedComp\",\"ConvertedComp\",\"ConvertedComp\",\"ConvertedComp\",\"ConvertedComp\",\"ConvertedComp\",\"ConvertedComp\",\"ConvertedComp\",\"ConvertedComp\",\"ConvertedComp\",\"ConvertedComp\",\"ConvertedComp\",\"ConvertedComp\",\"ConvertedComp\",\"ConvertedComp\",\"ConvertedComp\",\"ConvertedComp\",\"ConvertedComp\",\"ConvertedComp\",\"ConvertedComp\",\"ConvertedComp\",\"ConvertedComp\",\"ConvertedComp\",\"ConvertedComp\",\"ConvertedComp\",\"ConvertedComp\",\"ConvertedComp\",\"ConvertedComp\",\"ConvertedComp\",\"ConvertedComp\",\"ConvertedComp\",\"ConvertedComp\",\"ConvertedComp\",\"ConvertedComp\",\"ConvertedComp\",\"ConvertedComp\",\"ConvertedComp\",\"ConvertedComp\",\"ConvertedComp\",\"ConvertedComp\",\"ConvertedComp\",\"ConvertedComp\",\"ConvertedComp\",\"ConvertedComp\",\"ConvertedComp\",\"ConvertedComp\",\"ConvertedComp\",\"ConvertedComp\",\"ConvertedComp\",\"ConvertedComp\",\"ConvertedComp\",\"ConvertedComp\",\"ConvertedComp\",\"ConvertedComp\",\"ConvertedComp\",\"ConvertedComp\",\"ConvertedComp\",\"ConvertedComp\",\"ConvertedComp\",\"ConvertedComp\",\"ConvertedComp\",\"ConvertedComp\",\"ConvertedComp\",\"ConvertedComp\",\"ConvertedComp\",\"ConvertedComp\",\"ConvertedComp\",\"ConvertedComp\",\"ConvertedComp\",\"ConvertedComp\",\"ConvertedComp\",\"ConvertedComp\",\"ConvertedComp\",\"ConvertedComp\",\"ConvertedComp\",\"ConvertedComp\",\"ConvertedComp\",\"ConvertedComp\",\"ConvertedComp\",\"ConvertedComp\",\"ConvertedComp\",\"ConvertedComp\",\"ConvertedComp\",\"ConvertedComp\",\"ConvertedComp\",\"ConvertedComp\",\"ConvertedComp\",\"ConvertedComp\",\"ConvertedComp\",\"ConvertedComp\",\"ConvertedComp\",\"ConvertedComp\",\"ConvertedComp\",\"ConvertedComp\",\"ConvertedComp\",\"ConvertedComp\",\"ConvertedComp\",\"ConvertedComp\",\"ConvertedComp\",\"ConvertedComp\",\"ConvertedComp\",\"ConvertedComp\",\"ConvertedComp\",\"ConvertedComp\",\"ConvertedComp\",\"ConvertedComp\",\"ConvertedComp\",\"ConvertedComp\",\"ConvertedComp\",\"ConvertedComp\",\"ConvertedComp\",\"ConvertedComp\",\"ConvertedComp\",\"ConvertedComp\",\"ConvertedComp\",\"ConvertedComp\",\"ConvertedComp\",\"ConvertedComp\",\"ConvertedComp\",\"ConvertedComp\",\"ConvertedComp\",\"ConvertedComp\",\"ConvertedComp\",\"ConvertedComp\",\"ConvertedComp\",\"ConvertedComp\",\"ConvertedComp\",\"ConvertedComp\",\"ConvertedComp\",\"ConvertedComp\",\"ConvertedComp\",\"ConvertedComp\",\"ConvertedComp\",\"ConvertedComp\",\"ConvertedComp\",\"ConvertedComp\",\"ConvertedComp\",\"ConvertedComp\",\"ConvertedComp\",\"ConvertedComp\",\"ConvertedComp\",\"ConvertedComp\",\"ConvertedComp\",\"ConvertedComp\",\"ConvertedComp\",\"ConvertedComp\",\"ConvertedComp\",\"ConvertedComp\",\"ConvertedComp\",\"ConvertedComp\",\"ConvertedComp\",\"ConvertedComp\",\"ConvertedComp\",\"ConvertedComp\",\"ConvertedComp\",\"ConvertedComp\",\"ConvertedComp\",\"ConvertedComp\",\"ConvertedComp\",\"ConvertedComp\",\"ConvertedComp\",\"ConvertedComp\",\"ConvertedComp\",\"ConvertedComp\",\"ConvertedComp\",\"ConvertedComp\",\"ConvertedComp\",\"ConvertedComp\",\"ConvertedComp\",\"ConvertedComp\",\"ConvertedComp\",\"ConvertedComp\",\"ConvertedComp\",\"ConvertedComp\",\"ConvertedComp\",\"ConvertedComp\",\"ConvertedComp\",\"ConvertedComp\",\"ConvertedComp\",\"ConvertedComp\",\"ConvertedComp\",\"ConvertedComp\",\"ConvertedComp\",\"ConvertedComp\",\"ConvertedComp\",\"ConvertedComp\",\"ConvertedComp\",\"ConvertedComp\",\"ConvertedComp\",\"ConvertedComp\",\"ConvertedComp\",\"ConvertedComp\",\"ConvertedComp\",\"ConvertedComp\",\"ConvertedComp\",\"ConvertedComp\",\"ConvertedComp\",\"ConvertedComp\",\"ConvertedComp\",\"ConvertedComp\",\"ConvertedComp\",\"ConvertedComp\",\"ConvertedComp\",\"ConvertedComp\",\"ConvertedComp\",\"ConvertedComp\",\"ConvertedComp\",\"ConvertedComp\",\"ConvertedComp\",\"ConvertedComp\",\"ConvertedComp\",\"ConvertedComp\",\"ConvertedComp\",\"ConvertedComp\",\"ConvertedComp\",\"ConvertedComp\",\"ConvertedComp\",\"ConvertedComp\",\"ConvertedComp\",\"ConvertedComp\",\"ConvertedComp\",\"ConvertedComp\",\"ConvertedComp\",\"ConvertedComp\",\"ConvertedComp\",\"ConvertedComp\",\"ConvertedComp\",\"ConvertedComp\",\"ConvertedComp\",\"ConvertedComp\",\"ConvertedComp\",\"ConvertedComp\",\"ConvertedComp\",\"ConvertedComp\",\"ConvertedComp\",\"ConvertedComp\",\"ConvertedComp\",\"ConvertedComp\",\"ConvertedComp\",\"ConvertedComp\",\"ConvertedComp\",\"ConvertedComp\",\"ConvertedComp\",\"ConvertedComp\",\"ConvertedComp\",\"ConvertedComp\",\"ConvertedComp\",\"ConvertedComp\",\"ConvertedComp\",\"ConvertedComp\",\"ConvertedComp\",\"ConvertedComp\",\"ConvertedComp\",\"ConvertedComp\",\"ConvertedComp\",\"ConvertedComp\",\"ConvertedComp\",\"ConvertedComp\",\"ConvertedComp\",\"ConvertedComp\",\"ConvertedComp\",\"ConvertedComp\",\"ConvertedComp\",\"ConvertedComp\",\"ConvertedComp\",\"ConvertedComp\",\"ConvertedComp\",\"ConvertedComp\",\"ConvertedComp\",\"ConvertedComp\",\"ConvertedComp\",\"ConvertedComp\",\"ConvertedComp\",\"ConvertedComp\",\"ConvertedComp\",\"ConvertedComp\",\"ConvertedComp\",\"ConvertedComp\",\"ConvertedComp\",\"ConvertedComp\",\"ConvertedComp\",\"ConvertedComp\",\"ConvertedComp\",\"ConvertedComp\",\"ConvertedComp\",\"ConvertedComp\",\"ConvertedComp\",\"ConvertedComp\",\"ConvertedComp\",\"ConvertedComp\",\"ConvertedComp\",\"ConvertedComp\",\"ConvertedComp\",\"ConvertedComp\",\"ConvertedComp\",\"ConvertedComp\",\"ConvertedComp\",\"ConvertedComp\",\"ConvertedComp\",\"ConvertedComp\",\"ConvertedComp\",\"ConvertedComp\",\"ConvertedComp\",\"ConvertedComp\",\"ConvertedComp\",\"ConvertedComp\",\"ConvertedComp\",\"ConvertedComp\",\"ConvertedComp\",\"ConvertedComp\",\"ConvertedComp\",\"ConvertedComp\",\"ConvertedComp\",\"ConvertedComp\",\"ConvertedComp\",\"ConvertedComp\",\"ConvertedComp\",\"ConvertedComp\",\"ConvertedComp\",\"ConvertedComp\",\"ConvertedComp\",\"ConvertedComp\",\"ConvertedComp\",\"ConvertedComp\",\"ConvertedComp\",\"ConvertedComp\",\"ConvertedComp\",\"ConvertedComp\",\"ConvertedComp\",\"ConvertedComp\",\"ConvertedComp\",\"ConvertedComp\",\"ConvertedComp\",\"ConvertedComp\",\"ConvertedComp\",\"ConvertedComp\",\"ConvertedComp\",\"ConvertedComp\",\"ConvertedComp\",\"ConvertedComp\",\"ConvertedComp\",\"ConvertedComp\",\"ConvertedComp\",\"ConvertedComp\",\"ConvertedComp\",\"ConvertedComp\",\"ConvertedComp\",\"ConvertedComp\",\"ConvertedComp\",\"ConvertedComp\",\"ConvertedComp\",\"ConvertedComp\",\"ConvertedComp\",\"ConvertedComp\",\"ConvertedComp\",\"ConvertedComp\",\"ConvertedComp\",\"ConvertedComp\",\"ConvertedComp\",\"ConvertedComp\",\"ConvertedComp\",\"ConvertedComp\",\"ConvertedComp\",\"ConvertedComp\",\"ConvertedComp\",\"ConvertedComp\",\"ConvertedComp\",\"ConvertedComp\",\"ConvertedComp\",\"ConvertedComp\",\"ConvertedComp\",\"ConvertedComp\",\"ConvertedComp\",\"ConvertedComp\",\"ConvertedComp\",\"ConvertedComp\",\"ConvertedComp\",\"ConvertedComp\",\"ConvertedComp\",\"ConvertedComp\",\"ConvertedComp\",\"ConvertedComp\",\"ConvertedComp\",\"ConvertedComp\",\"ConvertedComp\",\"ConvertedComp\",\"ConvertedComp\",\"ConvertedComp\",\"ConvertedComp\",\"ConvertedComp\",\"ConvertedComp\",\"ConvertedComp\",\"ConvertedComp\",\"ConvertedComp\",\"ConvertedComp\",\"ConvertedComp\",\"ConvertedComp\",\"ConvertedComp\",\"ConvertedComp\",\"ConvertedComp\",\"ConvertedComp\",\"ConvertedComp\",\"ConvertedComp\",\"ConvertedComp\",\"ConvertedComp\",\"ConvertedComp\",\"ConvertedComp\",\"ConvertedComp\",\"ConvertedComp\",\"ConvertedComp\",\"ConvertedComp\",\"ConvertedComp\",\"ConvertedComp\",\"ConvertedComp\",\"ConvertedComp\",\"ConvertedComp\",\"ConvertedComp\",\"ConvertedComp\",\"ConvertedComp\",\"ConvertedComp\",\"ConvertedComp\",\"ConvertedComp\",\"ConvertedComp\",\"ConvertedComp\",\"ConvertedComp\",\"ConvertedComp\",\"ConvertedComp\",\"ConvertedComp\",\"ConvertedComp\",\"ConvertedComp\",\"ConvertedComp\",\"ConvertedComp\",\"ConvertedComp\",\"ConvertedComp\",\"ConvertedComp\",\"ConvertedComp\",\"ConvertedComp\",\"ConvertedComp\",\"ConvertedComp\",\"ConvertedComp\",\"ConvertedComp\",\"ConvertedComp\",\"ConvertedComp\",\"ConvertedComp\",\"ConvertedComp\",\"ConvertedComp\",\"ConvertedComp\",\"ConvertedComp\",\"ConvertedComp\",\"ConvertedComp\",\"ConvertedComp\",\"ConvertedComp\",\"ConvertedComp\",\"ConvertedComp\",\"ConvertedComp\",\"ConvertedComp\",\"ConvertedComp\",\"ConvertedComp\",\"ConvertedComp\",\"ConvertedComp\",\"ConvertedComp\",\"ConvertedComp\",\"ConvertedComp\",\"ConvertedComp\",\"ConvertedComp\",\"ConvertedComp\",\"ConvertedComp\",\"ConvertedComp\",\"ConvertedComp\",\"ConvertedComp\",\"ConvertedComp\",\"ConvertedComp\",\"ConvertedComp\",\"ConvertedComp\",\"ConvertedComp\",\"ConvertedComp\",\"ConvertedComp\",\"ConvertedComp\",\"ConvertedComp\",\"ConvertedComp\",\"ConvertedComp\",\"ConvertedComp\",\"ConvertedComp\",\"ConvertedComp\",\"ConvertedComp\",\"ConvertedComp\",\"ConvertedComp\",\"ConvertedComp\",\"ConvertedComp\",\"ConvertedComp\",\"ConvertedComp\",\"ConvertedComp\",\"ConvertedComp\",\"ConvertedComp\",\"ConvertedComp\",\"ConvertedComp\",\"ConvertedComp\",\"ConvertedComp\",\"ConvertedComp\",\"ConvertedComp\",\"ConvertedComp\",\"ConvertedComp\",\"ConvertedComp\",\"ConvertedComp\",\"ConvertedComp\",\"ConvertedComp\",\"ConvertedComp\",\"ConvertedComp\",\"ConvertedComp\",\"ConvertedComp\",\"ConvertedComp\",\"ConvertedComp\",\"ConvertedComp\",\"ConvertedComp\",\"ConvertedComp\",\"ConvertedComp\",\"ConvertedComp\",\"ConvertedComp\",\"ConvertedComp\",\"ConvertedComp\",\"ConvertedComp\",\"ConvertedComp\",\"ConvertedComp\",\"ConvertedComp\",\"ConvertedComp\",\"ConvertedComp\",\"ConvertedComp\",\"ConvertedComp\",\"ConvertedComp\",\"ConvertedComp\",\"ConvertedComp\",\"ConvertedComp\",\"ConvertedComp\",\"ConvertedComp\",\"ConvertedComp\",\"ConvertedComp\",\"ConvertedComp\",\"ConvertedComp\",\"ConvertedComp\",\"ConvertedComp\",\"ConvertedComp\",\"ConvertedComp\",\"ConvertedComp\",\"ConvertedComp\",\"ConvertedComp\",\"ConvertedComp\",\"ConvertedComp\",\"ConvertedComp\",\"ConvertedComp\",\"ConvertedComp\",\"ConvertedComp\",\"ConvertedComp\",\"ConvertedComp\",\"ConvertedComp\",\"ConvertedComp\",\"ConvertedComp\",\"ConvertedComp\",\"ConvertedComp\",\"ConvertedComp\",\"ConvertedComp\",\"ConvertedComp\",\"ConvertedComp\",\"ConvertedComp\",\"ConvertedComp\",\"ConvertedComp\",\"ConvertedComp\",\"ConvertedComp\",\"ConvertedComp\",\"ConvertedComp\",\"ConvertedComp\",\"ConvertedComp\",\"ConvertedComp\",\"ConvertedComp\",\"ConvertedComp\",\"ConvertedComp\",\"ConvertedComp\",\"ConvertedComp\",\"ConvertedComp\",\"ConvertedComp\",\"ConvertedComp\",\"ConvertedComp\",\"ConvertedComp\",\"ConvertedComp\",\"ConvertedComp\",\"ConvertedComp\",\"ConvertedComp\",\"ConvertedComp\",\"ConvertedComp\",\"ConvertedComp\",\"ConvertedComp\",\"ConvertedComp\",\"ConvertedComp\",\"ConvertedComp\",\"ConvertedComp\",\"ConvertedComp\",\"ConvertedComp\",\"ConvertedComp\",\"ConvertedComp\",\"ConvertedComp\",\"ConvertedComp\",\"ConvertedComp\",\"ConvertedComp\",\"ConvertedComp\",\"ConvertedComp\",\"ConvertedComp\",\"ConvertedComp\",\"ConvertedComp\",\"ConvertedComp\",\"ConvertedComp\",\"ConvertedComp\",\"ConvertedComp\",\"ConvertedComp\",\"ConvertedComp\",\"ConvertedComp\",\"ConvertedComp\",\"ConvertedComp\",\"ConvertedComp\",\"ConvertedComp\",\"ConvertedComp\",\"ConvertedComp\",\"ConvertedComp\",\"ConvertedComp\",\"ConvertedComp\",\"ConvertedComp\",\"ConvertedComp\",\"ConvertedComp\",\"ConvertedComp\",\"ConvertedComp\",\"ConvertedComp\",\"ConvertedComp\",\"ConvertedComp\",\"ConvertedComp\",\"ConvertedComp\",\"ConvertedComp\",\"ConvertedComp\",\"ConvertedComp\",\"ConvertedComp\",\"ConvertedComp\",\"ConvertedComp\",\"ConvertedComp\",\"ConvertedComp\",\"ConvertedComp\",\"ConvertedComp\",\"ConvertedComp\",\"ConvertedComp\",\"ConvertedComp\",\"ConvertedComp\",\"ConvertedComp\",\"ConvertedComp\",\"ConvertedComp\",\"ConvertedComp\",\"ConvertedComp\",\"ConvertedComp\",\"ConvertedComp\",\"ConvertedComp\",\"ConvertedComp\",\"ConvertedComp\",\"ConvertedComp\",\"ConvertedComp\",\"ConvertedComp\",\"ConvertedComp\",\"ConvertedComp\",\"ConvertedComp\",\"ConvertedComp\",\"ConvertedComp\",\"ConvertedComp\",\"ConvertedComp\",\"ConvertedComp\",\"ConvertedComp\",\"ConvertedComp\",\"ConvertedComp\",\"ConvertedComp\",\"ConvertedComp\",\"ConvertedComp\",\"ConvertedComp\",\"ConvertedComp\",\"ConvertedComp\",\"ConvertedComp\",\"ConvertedComp\",\"ConvertedComp\",\"ConvertedComp\",\"ConvertedComp\",\"ConvertedComp\",\"ConvertedComp\",\"ConvertedComp\",\"ConvertedComp\",\"ConvertedComp\",\"ConvertedComp\",\"ConvertedComp\",\"ConvertedComp\",\"ConvertedComp\",\"ConvertedComp\",\"ConvertedComp\",\"ConvertedComp\",\"ConvertedComp\",\"ConvertedComp\",\"ConvertedComp\",\"ConvertedComp\",\"ConvertedComp\",\"ConvertedComp\",\"ConvertedComp\",\"ConvertedComp\",\"ConvertedComp\",\"ConvertedComp\",\"ConvertedComp\",\"ConvertedComp\",\"ConvertedComp\",\"ConvertedComp\",\"ConvertedComp\",\"ConvertedComp\",\"ConvertedComp\",\"ConvertedComp\",\"ConvertedComp\",\"ConvertedComp\",\"ConvertedComp\",\"ConvertedComp\",\"ConvertedComp\",\"ConvertedComp\",\"ConvertedComp\",\"ConvertedComp\",\"ConvertedComp\",\"ConvertedComp\",\"ConvertedComp\",\"ConvertedComp\",\"ConvertedComp\",\"ConvertedComp\",\"ConvertedComp\",\"ConvertedComp\",\"ConvertedComp\",\"ConvertedComp\",\"ConvertedComp\",\"ConvertedComp\",\"ConvertedComp\",\"ConvertedComp\",\"ConvertedComp\",\"ConvertedComp\",\"ConvertedComp\",\"ConvertedComp\",\"ConvertedComp\",\"ConvertedComp\",\"ConvertedComp\",\"ConvertedComp\",\"ConvertedComp\",\"ConvertedComp\",\"ConvertedComp\",\"ConvertedComp\",\"ConvertedComp\",\"ConvertedComp\",\"ConvertedComp\",\"ConvertedComp\",\"ConvertedComp\",\"ConvertedComp\",\"ConvertedComp\",\"ConvertedComp\",\"ConvertedComp\",\"ConvertedComp\",\"ConvertedComp\",\"ConvertedComp\",\"ConvertedComp\",\"ConvertedComp\",\"ConvertedComp\",\"ConvertedComp\",\"ConvertedComp\",\"ConvertedComp\",\"ConvertedComp\",\"ConvertedComp\",\"ConvertedComp\",\"ConvertedComp\",\"ConvertedComp\",\"ConvertedComp\",\"ConvertedComp\",\"ConvertedComp\",\"ConvertedComp\",\"ConvertedComp\",\"ConvertedComp\",\"ConvertedComp\",\"ConvertedComp\",\"ConvertedComp\",\"ConvertedComp\",\"ConvertedComp\",\"ConvertedComp\",\"ConvertedComp\",\"ConvertedComp\",\"ConvertedComp\",\"ConvertedComp\",\"ConvertedComp\",\"ConvertedComp\",\"ConvertedComp\",\"ConvertedComp\",\"ConvertedComp\",\"ConvertedComp\",\"ConvertedComp\",\"ConvertedComp\",\"ConvertedComp\",\"ConvertedComp\",\"ConvertedComp\",\"ConvertedComp\",\"ConvertedComp\",\"ConvertedComp\",\"ConvertedComp\",\"ConvertedComp\",\"ConvertedComp\",\"ConvertedComp\",\"ConvertedComp\",\"ConvertedComp\",\"ConvertedComp\",\"ConvertedComp\",\"ConvertedComp\",\"ConvertedComp\",\"ConvertedComp\",\"ConvertedComp\",\"ConvertedComp\",\"ConvertedComp\",\"ConvertedComp\",\"ConvertedComp\",\"ConvertedComp\",\"ConvertedComp\",\"ConvertedComp\",\"ConvertedComp\",\"ConvertedComp\",\"ConvertedComp\",\"ConvertedComp\",\"ConvertedComp\",\"ConvertedComp\",\"ConvertedComp\",\"ConvertedComp\",\"ConvertedComp\",\"ConvertedComp\",\"ConvertedComp\",\"ConvertedComp\",\"ConvertedComp\",\"ConvertedComp\",\"ConvertedComp\",\"ConvertedComp\",\"ConvertedComp\",\"ConvertedComp\",\"ConvertedComp\",\"ConvertedComp\",\"ConvertedComp\",\"ConvertedComp\",\"ConvertedComp\",\"ConvertedComp\",\"ConvertedComp\",\"ConvertedComp\",\"ConvertedComp\",\"ConvertedComp\",\"ConvertedComp\",\"ConvertedComp\",\"ConvertedComp\",\"ConvertedComp\",\"ConvertedComp\",\"ConvertedComp\",\"ConvertedComp\",\"ConvertedComp\",\"ConvertedComp\",\"ConvertedComp\",\"ConvertedComp\",\"ConvertedComp\",\"ConvertedComp\",\"ConvertedComp\",\"ConvertedComp\",\"ConvertedComp\",\"ConvertedComp\",\"ConvertedComp\",\"ConvertedComp\",\"ConvertedComp\",\"ConvertedComp\",\"ConvertedComp\",\"ConvertedComp\",\"ConvertedComp\",\"ConvertedComp\",\"ConvertedComp\",\"ConvertedComp\",\"ConvertedComp\",\"ConvertedComp\",\"ConvertedComp\",\"ConvertedComp\",\"ConvertedComp\",\"ConvertedComp\",\"ConvertedComp\",\"ConvertedComp\",\"ConvertedComp\",\"ConvertedComp\",\"ConvertedComp\",\"ConvertedComp\",\"ConvertedComp\",\"ConvertedComp\",\"ConvertedComp\",\"ConvertedComp\",\"ConvertedComp\",\"ConvertedComp\",\"ConvertedComp\",\"ConvertedComp\",\"ConvertedComp\",\"ConvertedComp\",\"ConvertedComp\",\"ConvertedComp\",\"ConvertedComp\",\"ConvertedComp\",\"ConvertedComp\",\"ConvertedComp\",\"ConvertedComp\",\"ConvertedComp\",\"ConvertedComp\",\"ConvertedComp\",\"ConvertedComp\",\"ConvertedComp\",\"ConvertedComp\",\"ConvertedComp\",\"ConvertedComp\",\"ConvertedComp\",\"ConvertedComp\",\"ConvertedComp\",\"ConvertedComp\",\"ConvertedComp\",\"ConvertedComp\",\"ConvertedComp\",\"ConvertedComp\",\"ConvertedComp\",\"ConvertedComp\",\"ConvertedComp\",\"ConvertedComp\",\"ConvertedComp\",\"ConvertedComp\",\"ConvertedComp\",\"ConvertedComp\",\"ConvertedComp\",\"ConvertedComp\",\"ConvertedComp\",\"ConvertedComp\",\"ConvertedComp\",\"ConvertedComp\",\"ConvertedComp\",\"ConvertedComp\",\"ConvertedComp\",\"ConvertedComp\",\"ConvertedComp\",\"ConvertedComp\",\"ConvertedComp\",\"ConvertedComp\",\"ConvertedComp\",\"ConvertedComp\",\"ConvertedComp\",\"ConvertedComp\",\"ConvertedComp\",\"ConvertedComp\",\"ConvertedComp\",\"ConvertedComp\",\"ConvertedComp\",\"ConvertedComp\",\"ConvertedComp\",\"ConvertedComp\",\"ConvertedComp\",\"ConvertedComp\",\"ConvertedComp\",\"ConvertedComp\",\"ConvertedComp\",\"ConvertedComp\",\"ConvertedComp\",\"ConvertedComp\",\"ConvertedComp\",\"ConvertedComp\",\"ConvertedComp\",\"ConvertedComp\",\"ConvertedComp\",\"ConvertedComp\",\"ConvertedComp\",\"ConvertedComp\",\"ConvertedComp\",\"ConvertedComp\",\"ConvertedComp\",\"ConvertedComp\",\"ConvertedComp\",\"ConvertedComp\",\"ConvertedComp\",\"ConvertedComp\",\"ConvertedComp\",\"ConvertedComp\",\"ConvertedComp\",\"ConvertedComp\",\"ConvertedComp\",\"ConvertedComp\",\"ConvertedComp\",\"ConvertedComp\",\"ConvertedComp\",\"ConvertedComp\",\"ConvertedComp\",\"ConvertedComp\",\"ConvertedComp\",\"ConvertedComp\",\"ConvertedComp\",\"ConvertedComp\",\"ConvertedComp\",\"ConvertedComp\",\"ConvertedComp\",\"ConvertedComp\",\"ConvertedComp\",\"ConvertedComp\",\"ConvertedComp\",\"ConvertedComp\",\"ConvertedComp\",\"ConvertedComp\",\"ConvertedComp\",\"ConvertedComp\",\"ConvertedComp\",\"ConvertedComp\",\"ConvertedComp\",\"ConvertedComp\",\"ConvertedComp\",\"ConvertedComp\",\"ConvertedComp\",\"ConvertedComp\",\"ConvertedComp\",\"ConvertedComp\",\"ConvertedComp\",\"ConvertedComp\",\"ConvertedComp\",\"ConvertedComp\",\"ConvertedComp\",\"ConvertedComp\",\"ConvertedComp\",\"ConvertedComp\",\"ConvertedComp\",\"ConvertedComp\",\"ConvertedComp\",\"ConvertedComp\",\"ConvertedComp\",\"ConvertedComp\",\"ConvertedComp\",\"ConvertedComp\",\"ConvertedComp\",\"ConvertedComp\",\"ConvertedComp\",\"ConvertedComp\",\"ConvertedComp\",\"ConvertedComp\",\"ConvertedComp\",\"ConvertedComp\",\"ConvertedComp\",\"ConvertedComp\",\"ConvertedComp\",\"ConvertedComp\",\"ConvertedComp\",\"ConvertedComp\",\"ConvertedComp\",\"ConvertedComp\",\"ConvertedComp\",\"ConvertedComp\",\"ConvertedComp\",\"ConvertedComp\",\"ConvertedComp\",\"ConvertedComp\",\"ConvertedComp\",\"ConvertedComp\",\"ConvertedComp\",\"ConvertedComp\",\"ConvertedComp\",\"ConvertedComp\",\"ConvertedComp\",\"ConvertedComp\",\"ConvertedComp\",\"ConvertedComp\",\"ConvertedComp\",\"ConvertedComp\",\"ConvertedComp\",\"ConvertedComp\",\"ConvertedComp\",\"ConvertedComp\",\"ConvertedComp\",\"ConvertedComp\",\"ConvertedComp\",\"ConvertedComp\",\"ConvertedComp\",\"ConvertedComp\",\"ConvertedComp\",\"ConvertedComp\",\"ConvertedComp\",\"ConvertedComp\",\"ConvertedComp\",\"ConvertedComp\",\"ConvertedComp\",\"ConvertedComp\",\"ConvertedComp\",\"ConvertedComp\",\"ConvertedComp\",\"ConvertedComp\",\"ConvertedComp\",\"ConvertedComp\",\"ConvertedComp\",\"ConvertedComp\",\"ConvertedComp\",\"ConvertedComp\",\"ConvertedComp\",\"ConvertedComp\",\"ConvertedComp\",\"ConvertedComp\",\"ConvertedComp\",\"ConvertedComp\",\"ConvertedComp\",\"ConvertedComp\",\"ConvertedComp\",\"ConvertedComp\",\"ConvertedComp\",\"ConvertedComp\",\"ConvertedComp\",\"ConvertedComp\",\"ConvertedComp\",\"ConvertedComp\",\"ConvertedComp\",\"ConvertedComp\",\"ConvertedComp\",\"ConvertedComp\",\"ConvertedComp\",\"ConvertedComp\",\"ConvertedComp\",\"ConvertedComp\",\"ConvertedComp\",\"ConvertedComp\",\"ConvertedComp\",\"ConvertedComp\",\"ConvertedComp\",\"ConvertedComp\",\"ConvertedComp\",\"ConvertedComp\",\"ConvertedComp\",\"ConvertedComp\",\"ConvertedComp\",\"ConvertedComp\",\"ConvertedComp\",\"ConvertedComp\",\"ConvertedComp\",\"ConvertedComp\",\"ConvertedComp\",\"ConvertedComp\",\"ConvertedComp\",\"ConvertedComp\",\"ConvertedComp\",\"ConvertedComp\",\"ConvertedComp\",\"ConvertedComp\",\"ConvertedComp\",\"ConvertedComp\",\"ConvertedComp\",\"ConvertedComp\",\"ConvertedComp\",\"ConvertedComp\",\"ConvertedComp\",\"ConvertedComp\",\"ConvertedComp\",\"ConvertedComp\",\"ConvertedComp\",\"ConvertedComp\",\"ConvertedComp\",\"ConvertedComp\",\"ConvertedComp\",\"ConvertedComp\",\"ConvertedComp\",\"ConvertedComp\",\"ConvertedComp\",\"ConvertedComp\",\"ConvertedComp\",\"ConvertedComp\",\"ConvertedComp\",\"ConvertedComp\",\"ConvertedComp\",\"ConvertedComp\",\"ConvertedComp\",\"ConvertedComp\",\"ConvertedComp\",\"ConvertedComp\",\"ConvertedComp\",\"ConvertedComp\",\"ConvertedComp\",\"ConvertedComp\",\"ConvertedComp\",\"ConvertedComp\",\"ConvertedComp\",\"ConvertedComp\",\"ConvertedComp\",\"ConvertedComp\",\"ConvertedComp\",\"ConvertedComp\",\"ConvertedComp\",\"ConvertedComp\",\"ConvertedComp\",\"ConvertedComp\",\"ConvertedComp\",\"ConvertedComp\",\"ConvertedComp\",\"ConvertedComp\",\"ConvertedComp\",\"ConvertedComp\",\"ConvertedComp\",\"ConvertedComp\",\"ConvertedComp\",\"ConvertedComp\",\"ConvertedComp\",\"ConvertedComp\",\"ConvertedComp\",\"ConvertedComp\",\"ConvertedComp\",\"ConvertedComp\",\"ConvertedComp\",\"ConvertedComp\",\"ConvertedComp\",\"ConvertedComp\",\"ConvertedComp\",\"ConvertedComp\",\"ConvertedComp\",\"ConvertedComp\",\"ConvertedComp\",\"ConvertedComp\",\"ConvertedComp\",\"ConvertedComp\",\"ConvertedComp\",\"ConvertedComp\",\"ConvertedComp\",\"ConvertedComp\",\"ConvertedComp\",\"ConvertedComp\",\"ConvertedComp\",\"ConvertedComp\",\"ConvertedComp\",\"ConvertedComp\",\"ConvertedComp\",\"ConvertedComp\",\"ConvertedComp\",\"ConvertedComp\",\"ConvertedComp\",\"ConvertedComp\",\"ConvertedComp\",\"ConvertedComp\",\"ConvertedComp\",\"ConvertedComp\",\"ConvertedComp\",\"ConvertedComp\",\"ConvertedComp\",\"ConvertedComp\",\"ConvertedComp\",\"ConvertedComp\",\"ConvertedComp\",\"ConvertedComp\",\"ConvertedComp\",\"ConvertedComp\",\"ConvertedComp\",\"ConvertedComp\",\"ConvertedComp\",\"ConvertedComp\",\"ConvertedComp\",\"ConvertedComp\",\"ConvertedComp\",\"ConvertedComp\",\"ConvertedComp\",\"ConvertedComp\",\"ConvertedComp\",\"ConvertedComp\",\"ConvertedComp\",\"ConvertedComp\",\"ConvertedComp\",\"ConvertedComp\",\"ConvertedComp\",\"ConvertedComp\",\"ConvertedComp\",\"ConvertedComp\",\"ConvertedComp\",\"ConvertedComp\",\"ConvertedComp\",\"ConvertedComp\",\"ConvertedComp\",\"ConvertedComp\",\"ConvertedComp\",\"ConvertedComp\",\"ConvertedComp\",\"ConvertedComp\",\"ConvertedComp\",\"ConvertedComp\",\"ConvertedComp\",\"ConvertedComp\",\"ConvertedComp\",\"ConvertedComp\",\"ConvertedComp\",\"ConvertedComp\",\"ConvertedComp\",\"ConvertedComp\",\"ConvertedComp\",\"ConvertedComp\",\"ConvertedComp\",\"ConvertedComp\",\"ConvertedComp\",\"ConvertedComp\",\"ConvertedComp\",\"ConvertedComp\",\"ConvertedComp\",\"ConvertedComp\",\"ConvertedComp\",\"ConvertedComp\",\"ConvertedComp\",\"ConvertedComp\",\"ConvertedComp\",\"ConvertedComp\",\"ConvertedComp\",\"ConvertedComp\",\"ConvertedComp\",\"ConvertedComp\",\"ConvertedComp\",\"ConvertedComp\",\"ConvertedComp\",\"ConvertedComp\",\"ConvertedComp\",\"ConvertedComp\",\"ConvertedComp\",\"ConvertedComp\",\"ConvertedComp\",\"ConvertedComp\",\"ConvertedComp\",\"ConvertedComp\",\"ConvertedComp\",\"ConvertedComp\",\"ConvertedComp\",\"ConvertedComp\",\"ConvertedComp\",\"ConvertedComp\",\"ConvertedComp\",\"ConvertedComp\",\"ConvertedComp\",\"ConvertedComp\",\"ConvertedComp\",\"ConvertedComp\",\"ConvertedComp\",\"ConvertedComp\",\"ConvertedComp\",\"ConvertedComp\",\"ConvertedComp\",\"ConvertedComp\",\"ConvertedComp\",\"ConvertedComp\",\"ConvertedComp\",\"ConvertedComp\",\"ConvertedComp\",\"ConvertedComp\",\"ConvertedComp\",\"ConvertedComp\",\"ConvertedComp\",\"ConvertedComp\",\"ConvertedComp\",\"ConvertedComp\",\"ConvertedComp\",\"ConvertedComp\",\"ConvertedComp\",\"ConvertedComp\",\"ConvertedComp\",\"ConvertedComp\",\"ConvertedComp\",\"ConvertedComp\",\"ConvertedComp\",\"ConvertedComp\",\"ConvertedComp\",\"ConvertedComp\",\"ConvertedComp\",\"ConvertedComp\",\"ConvertedComp\",\"ConvertedComp\",\"ConvertedComp\",\"ConvertedComp\",\"ConvertedComp\",\"ConvertedComp\",\"ConvertedComp\",\"ConvertedComp\",\"ConvertedComp\",\"ConvertedComp\",\"ConvertedComp\",\"ConvertedComp\",\"ConvertedComp\",\"ConvertedComp\",\"ConvertedComp\",\"ConvertedComp\",\"ConvertedComp\",\"ConvertedComp\",\"ConvertedComp\",\"ConvertedComp\",\"ConvertedComp\",\"ConvertedComp\",\"ConvertedComp\",\"ConvertedComp\",\"ConvertedComp\",\"ConvertedComp\",\"ConvertedComp\",\"ConvertedComp\",\"ConvertedComp\",\"ConvertedComp\",\"ConvertedComp\",\"ConvertedComp\",\"ConvertedComp\",\"ConvertedComp\",\"ConvertedComp\",\"ConvertedComp\",\"ConvertedComp\",\"ConvertedComp\",\"ConvertedComp\",\"ConvertedComp\",\"ConvertedComp\",\"ConvertedComp\",\"ConvertedComp\",\"ConvertedComp\",\"ConvertedComp\",\"ConvertedComp\",\"ConvertedComp\",\"ConvertedComp\",\"ConvertedComp\",\"ConvertedComp\",\"ConvertedComp\",\"ConvertedComp\",\"ConvertedComp\",\"ConvertedComp\",\"ConvertedComp\",\"ConvertedComp\",\"ConvertedComp\",\"ConvertedComp\",\"ConvertedComp\",\"ConvertedComp\",\"ConvertedComp\",\"ConvertedComp\",\"ConvertedComp\",\"ConvertedComp\",\"ConvertedComp\",\"ConvertedComp\",\"ConvertedComp\",\"ConvertedComp\",\"ConvertedComp\",\"ConvertedComp\",\"ConvertedComp\",\"ConvertedComp\",\"ConvertedComp\",\"ConvertedComp\",\"ConvertedComp\",\"ConvertedComp\",\"ConvertedComp\",\"ConvertedComp\",\"ConvertedComp\",\"ConvertedComp\",\"ConvertedComp\",\"ConvertedComp\",\"ConvertedComp\",\"ConvertedComp\",\"ConvertedComp\",\"ConvertedComp\",\"ConvertedComp\",\"ConvertedComp\",\"ConvertedComp\",\"ConvertedComp\",\"ConvertedComp\",\"ConvertedComp\",\"ConvertedComp\",\"ConvertedComp\",\"ConvertedComp\",\"ConvertedComp\",\"ConvertedComp\",\"ConvertedComp\",\"ConvertedComp\",\"ConvertedComp\",\"ConvertedComp\",\"ConvertedComp\",\"ConvertedComp\",\"ConvertedComp\",\"ConvertedComp\",\"ConvertedComp\",\"ConvertedComp\",\"ConvertedComp\",\"ConvertedComp\",\"ConvertedComp\",\"ConvertedComp\",\"ConvertedComp\",\"ConvertedComp\",\"ConvertedComp\",\"ConvertedComp\",\"ConvertedComp\",\"ConvertedComp\",\"ConvertedComp\",\"ConvertedComp\",\"ConvertedComp\",\"ConvertedComp\",\"ConvertedComp\",\"ConvertedComp\",\"ConvertedComp\",\"ConvertedComp\",\"ConvertedComp\",\"ConvertedComp\",\"ConvertedComp\",\"ConvertedComp\",\"ConvertedComp\",\"ConvertedComp\",\"ConvertedComp\",\"ConvertedComp\",\"ConvertedComp\",\"ConvertedComp\",\"ConvertedComp\",\"ConvertedComp\",\"ConvertedComp\",\"ConvertedComp\",\"ConvertedComp\",\"ConvertedComp\",\"ConvertedComp\",\"ConvertedComp\",\"ConvertedComp\",\"ConvertedComp\",\"ConvertedComp\",\"ConvertedComp\",\"ConvertedComp\",\"ConvertedComp\",\"ConvertedComp\",\"ConvertedComp\",\"ConvertedComp\",\"ConvertedComp\",\"ConvertedComp\",\"ConvertedComp\",\"ConvertedComp\",\"ConvertedComp\",\"ConvertedComp\",\"ConvertedComp\",\"ConvertedComp\",\"ConvertedComp\",\"ConvertedComp\",\"ConvertedComp\",\"ConvertedComp\",\"ConvertedComp\",\"ConvertedComp\",\"ConvertedComp\",\"ConvertedComp\",\"ConvertedComp\",\"ConvertedComp\",\"ConvertedComp\",\"ConvertedComp\",\"ConvertedComp\",\"ConvertedComp\",\"ConvertedComp\",\"ConvertedComp\",\"ConvertedComp\",\"ConvertedComp\",\"ConvertedComp\",\"ConvertedComp\",\"ConvertedComp\",\"ConvertedComp\",\"ConvertedComp\",\"ConvertedComp\",\"ConvertedComp\",\"ConvertedComp\",\"ConvertedComp\",\"ConvertedComp\",\"ConvertedComp\",\"ConvertedComp\",\"ConvertedComp\",\"ConvertedComp\",\"ConvertedComp\",\"ConvertedComp\",\"ConvertedComp\",\"ConvertedComp\",\"ConvertedComp\",\"ConvertedComp\",\"ConvertedComp\",\"ConvertedComp\",\"ConvertedComp\",\"ConvertedComp\",\"ConvertedComp\",\"ConvertedComp\",\"ConvertedComp\",\"ConvertedComp\",\"ConvertedComp\",\"ConvertedComp\",\"ConvertedComp\",\"ConvertedComp\",\"ConvertedComp\",\"ConvertedComp\",\"ConvertedComp\",\"ConvertedComp\",\"ConvertedComp\",\"ConvertedComp\",\"ConvertedComp\",\"ConvertedComp\",\"ConvertedComp\",\"ConvertedComp\",\"ConvertedComp\",\"ConvertedComp\",\"ConvertedComp\",\"ConvertedComp\",\"ConvertedComp\",\"ConvertedComp\",\"ConvertedComp\",\"ConvertedComp\",\"ConvertedComp\",\"ConvertedComp\",\"ConvertedComp\",\"ConvertedComp\",\"ConvertedComp\",\"ConvertedComp\",\"ConvertedComp\",\"ConvertedComp\",\"ConvertedComp\",\"ConvertedComp\",\"ConvertedComp\",\"ConvertedComp\",\"ConvertedComp\",\"ConvertedComp\",\"ConvertedComp\",\"ConvertedComp\",\"ConvertedComp\",\"ConvertedComp\",\"ConvertedComp\",\"ConvertedComp\",\"ConvertedComp\",\"ConvertedComp\",\"ConvertedComp\",\"ConvertedComp\",\"ConvertedComp\",\"ConvertedComp\",\"ConvertedComp\",\"ConvertedComp\",\"ConvertedComp\",\"ConvertedComp\",\"ConvertedComp\",\"ConvertedComp\",\"ConvertedComp\",\"ConvertedComp\",\"ConvertedComp\",\"ConvertedComp\",\"ConvertedComp\",\"ConvertedComp\",\"ConvertedComp\",\"ConvertedComp\",\"ConvertedComp\",\"ConvertedComp\",\"ConvertedComp\",\"ConvertedComp\",\"ConvertedComp\",\"ConvertedComp\",\"ConvertedComp\",\"ConvertedComp\",\"ConvertedComp\",\"ConvertedComp\",\"ConvertedComp\",\"ConvertedComp\",\"ConvertedComp\",\"ConvertedComp\",\"ConvertedComp\",\"ConvertedComp\",\"ConvertedComp\",\"ConvertedComp\",\"ConvertedComp\",\"ConvertedComp\",\"ConvertedComp\",\"ConvertedComp\",\"ConvertedComp\",\"ConvertedComp\",\"ConvertedComp\",\"ConvertedComp\",\"ConvertedComp\",\"ConvertedComp\",\"ConvertedComp\",\"ConvertedComp\",\"ConvertedComp\",\"ConvertedComp\",\"ConvertedComp\",\"ConvertedComp\",\"ConvertedComp\",\"ConvertedComp\",\"ConvertedComp\",\"ConvertedComp\",\"ConvertedComp\",\"ConvertedComp\",\"ConvertedComp\",\"ConvertedComp\",\"ConvertedComp\",\"ConvertedComp\",\"ConvertedComp\",\"ConvertedComp\",\"ConvertedComp\",\"ConvertedComp\",\"ConvertedComp\",\"ConvertedComp\",\"ConvertedComp\",\"ConvertedComp\",\"ConvertedComp\",\"ConvertedComp\",\"ConvertedComp\",\"ConvertedComp\",\"ConvertedComp\",\"ConvertedComp\",\"ConvertedComp\",\"ConvertedComp\",\"ConvertedComp\",\"ConvertedComp\",\"ConvertedComp\",\"ConvertedComp\",\"ConvertedComp\",\"ConvertedComp\",\"ConvertedComp\",\"ConvertedComp\",\"ConvertedComp\",\"ConvertedComp\",\"ConvertedComp\",\"ConvertedComp\",\"ConvertedComp\",\"ConvertedComp\",\"ConvertedComp\",\"ConvertedComp\",\"ConvertedComp\",\"ConvertedComp\",\"ConvertedComp\",\"ConvertedComp\",\"ConvertedComp\",\"ConvertedComp\",\"ConvertedComp\",\"ConvertedComp\",\"ConvertedComp\",\"ConvertedComp\",\"ConvertedComp\",\"ConvertedComp\",\"ConvertedComp\",\"ConvertedComp\",\"ConvertedComp\",\"ConvertedComp\",\"ConvertedComp\",\"ConvertedComp\",\"ConvertedComp\",\"ConvertedComp\",\"ConvertedComp\",\"ConvertedComp\",\"ConvertedComp\",\"ConvertedComp\",\"ConvertedComp\",\"ConvertedComp\",\"ConvertedComp\",\"ConvertedComp\",\"ConvertedComp\",\"ConvertedComp\",\"ConvertedComp\",\"ConvertedComp\",\"ConvertedComp\",\"ConvertedComp\",\"ConvertedComp\",\"ConvertedComp\",\"ConvertedComp\",\"ConvertedComp\",\"ConvertedComp\",\"ConvertedComp\",\"ConvertedComp\",\"ConvertedComp\",\"ConvertedComp\",\"ConvertedComp\",\"ConvertedComp\",\"ConvertedComp\",\"ConvertedComp\",\"ConvertedComp\",\"ConvertedComp\",\"ConvertedComp\",\"ConvertedComp\",\"ConvertedComp\",\"ConvertedComp\",\"ConvertedComp\",\"ConvertedComp\",\"ConvertedComp\",\"ConvertedComp\",\"ConvertedComp\",\"ConvertedComp\",\"ConvertedComp\",\"ConvertedComp\",\"ConvertedComp\",\"ConvertedComp\",\"ConvertedComp\",\"ConvertedComp\",\"ConvertedComp\",\"ConvertedComp\",\"ConvertedComp\",\"ConvertedComp\",\"ConvertedComp\",\"ConvertedComp\",\"ConvertedComp\",\"ConvertedComp\",\"ConvertedComp\",\"ConvertedComp\",\"ConvertedComp\",\"ConvertedComp\",\"ConvertedComp\",\"ConvertedComp\",\"ConvertedComp\",\"ConvertedComp\",\"ConvertedComp\",\"ConvertedComp\",\"ConvertedComp\",\"ConvertedComp\",\"ConvertedComp\",\"ConvertedComp\",\"ConvertedComp\",\"ConvertedComp\",\"ConvertedComp\",\"ConvertedComp\",\"ConvertedComp\",\"ConvertedComp\",\"ConvertedComp\",\"ConvertedComp\",\"ConvertedComp\",\"ConvertedComp\",\"ConvertedComp\",\"ConvertedComp\",\"ConvertedComp\",\"ConvertedComp\",\"ConvertedComp\",\"ConvertedComp\",\"ConvertedComp\",\"ConvertedComp\",\"ConvertedComp\",\"ConvertedComp\",\"ConvertedComp\",\"ConvertedComp\",\"ConvertedComp\",\"ConvertedComp\",\"ConvertedComp\",\"ConvertedComp\",\"ConvertedComp\",\"ConvertedComp\",\"ConvertedComp\",\"ConvertedComp\",\"ConvertedComp\",\"ConvertedComp\",\"ConvertedComp\",\"ConvertedComp\",\"ConvertedComp\",\"ConvertedComp\",\"ConvertedComp\",\"ConvertedComp\",\"ConvertedComp\",\"ConvertedComp\",\"ConvertedComp\",\"ConvertedComp\",\"ConvertedComp\",\"ConvertedComp\",\"ConvertedComp\",\"ConvertedComp\",\"ConvertedComp\",\"ConvertedComp\",\"ConvertedComp\",\"ConvertedComp\",\"ConvertedComp\",\"ConvertedComp\",\"ConvertedComp\",\"ConvertedComp\",\"ConvertedComp\",\"ConvertedComp\",\"ConvertedComp\",\"ConvertedComp\",\"ConvertedComp\",\"ConvertedComp\",\"ConvertedComp\",\"ConvertedComp\",\"ConvertedComp\",\"ConvertedComp\",\"ConvertedComp\",\"ConvertedComp\",\"ConvertedComp\",\"ConvertedComp\",\"ConvertedComp\",\"ConvertedComp\",\"ConvertedComp\",\"ConvertedComp\",\"ConvertedComp\",\"ConvertedComp\",\"ConvertedComp\",\"ConvertedComp\",\"ConvertedComp\",\"ConvertedComp\",\"ConvertedComp\",\"ConvertedComp\",\"ConvertedComp\",\"ConvertedComp\",\"ConvertedComp\",\"ConvertedComp\",\"ConvertedComp\",\"ConvertedComp\",\"ConvertedComp\",\"ConvertedComp\",\"ConvertedComp\",\"ConvertedComp\",\"ConvertedComp\",\"ConvertedComp\",\"ConvertedComp\",\"ConvertedComp\",\"ConvertedComp\",\"ConvertedComp\",\"ConvertedComp\",\"ConvertedComp\",\"ConvertedComp\",\"ConvertedComp\",\"ConvertedComp\",\"ConvertedComp\",\"ConvertedComp\",\"ConvertedComp\",\"ConvertedComp\",\"ConvertedComp\",\"ConvertedComp\",\"ConvertedComp\",\"ConvertedComp\",\"ConvertedComp\",\"ConvertedComp\",\"ConvertedComp\",\"ConvertedComp\",\"ConvertedComp\",\"ConvertedComp\",\"ConvertedComp\",\"ConvertedComp\",\"ConvertedComp\",\"ConvertedComp\",\"ConvertedComp\",\"ConvertedComp\",\"ConvertedComp\",\"ConvertedComp\",\"ConvertedComp\",\"ConvertedComp\",\"ConvertedComp\",\"ConvertedComp\",\"ConvertedComp\",\"ConvertedComp\",\"ConvertedComp\",\"ConvertedComp\",\"ConvertedComp\",\"ConvertedComp\",\"ConvertedComp\",\"ConvertedComp\",\"ConvertedComp\",\"ConvertedComp\",\"ConvertedComp\",\"ConvertedComp\",\"ConvertedComp\",\"ConvertedComp\",\"ConvertedComp\",\"ConvertedComp\",\"ConvertedComp\",\"ConvertedComp\",\"ConvertedComp\",\"ConvertedComp\",\"ConvertedComp\",\"ConvertedComp\",\"ConvertedComp\",\"ConvertedComp\",\"ConvertedComp\",\"ConvertedComp\",\"ConvertedComp\",\"ConvertedComp\",\"ConvertedComp\",\"ConvertedComp\",\"ConvertedComp\",\"ConvertedComp\",\"ConvertedComp\",\"ConvertedComp\",\"ConvertedComp\",\"ConvertedComp\",\"ConvertedComp\",\"ConvertedComp\",\"ConvertedComp\",\"ConvertedComp\",\"ConvertedComp\",\"ConvertedComp\",\"ConvertedComp\",\"ConvertedComp\",\"ConvertedComp\",\"ConvertedComp\",\"ConvertedComp\",\"ConvertedComp\",\"ConvertedComp\",\"ConvertedComp\",\"ConvertedComp\",\"ConvertedComp\",\"ConvertedComp\",\"ConvertedComp\",\"ConvertedComp\",\"ConvertedComp\",\"ConvertedComp\",\"ConvertedComp\",\"ConvertedComp\",\"ConvertedComp\",\"ConvertedComp\",\"ConvertedComp\",\"ConvertedComp\",\"ConvertedComp\",\"ConvertedComp\",\"ConvertedComp\",\"ConvertedComp\",\"ConvertedComp\",\"ConvertedComp\",\"ConvertedComp\",\"ConvertedComp\",\"ConvertedComp\",\"ConvertedComp\",\"ConvertedComp\",\"ConvertedComp\",\"ConvertedComp\",\"ConvertedComp\",\"ConvertedComp\",\"ConvertedComp\",\"ConvertedComp\",\"ConvertedComp\",\"ConvertedComp\",\"ConvertedComp\",\"ConvertedComp\",\"ConvertedComp\",\"ConvertedComp\",\"ConvertedComp\",\"ConvertedComp\",\"ConvertedComp\",\"ConvertedComp\",\"ConvertedComp\",\"ConvertedComp\",\"ConvertedComp\",\"ConvertedComp\",\"ConvertedComp\",\"ConvertedComp\",\"ConvertedComp\",\"ConvertedComp\",\"ConvertedComp\",\"ConvertedComp\",\"ConvertedComp\",\"ConvertedComp\",\"ConvertedComp\",\"ConvertedComp\",\"ConvertedComp\",\"ConvertedComp\",\"ConvertedComp\",\"ConvertedComp\",\"ConvertedComp\",\"ConvertedComp\",\"ConvertedComp\",\"ConvertedComp\",\"ConvertedComp\",\"ConvertedComp\",\"ConvertedComp\",\"ConvertedComp\",\"ConvertedComp\",\"ConvertedComp\",\"ConvertedComp\",\"ConvertedComp\",\"ConvertedComp\",\"ConvertedComp\",\"ConvertedComp\",\"ConvertedComp\",\"ConvertedComp\",\"ConvertedComp\",\"ConvertedComp\",\"ConvertedComp\",\"ConvertedComp\",\"ConvertedComp\",\"ConvertedComp\",\"ConvertedComp\",\"ConvertedComp\",\"ConvertedComp\",\"ConvertedComp\",\"ConvertedComp\",\"ConvertedComp\",\"ConvertedComp\",\"ConvertedComp\",\"ConvertedComp\",\"ConvertedComp\",\"ConvertedComp\",\"ConvertedComp\",\"ConvertedComp\",\"ConvertedComp\",\"ConvertedComp\",\"ConvertedComp\",\"ConvertedComp\",\"ConvertedComp\",\"ConvertedComp\",\"ConvertedComp\",\"ConvertedComp\",\"ConvertedComp\",\"ConvertedComp\",\"ConvertedComp\",\"ConvertedComp\",\"ConvertedComp\",\"ConvertedComp\",\"ConvertedComp\",\"ConvertedComp\",\"ConvertedComp\",\"ConvertedComp\",\"ConvertedComp\",\"ConvertedComp\",\"ConvertedComp\",\"ConvertedComp\",\"ConvertedComp\",\"ConvertedComp\",\"ConvertedComp\",\"ConvertedComp\",\"ConvertedComp\",\"ConvertedComp\",\"ConvertedComp\",\"ConvertedComp\",\"ConvertedComp\",\"ConvertedComp\",\"ConvertedComp\",\"ConvertedComp\",\"ConvertedComp\",\"ConvertedComp\",\"ConvertedComp\",\"ConvertedComp\",\"ConvertedComp\",\"ConvertedComp\",\"ConvertedComp\",\"ConvertedComp\",\"ConvertedComp\",\"ConvertedComp\",\"ConvertedComp\",\"ConvertedComp\",\"ConvertedComp\",\"ConvertedComp\",\"ConvertedComp\",\"ConvertedComp\",\"ConvertedComp\",\"ConvertedComp\",\"ConvertedComp\",\"ConvertedComp\",\"ConvertedComp\",\"ConvertedComp\",\"ConvertedComp\",\"ConvertedComp\",\"ConvertedComp\",\"ConvertedComp\",\"ConvertedComp\",\"ConvertedComp\",\"ConvertedComp\",\"ConvertedComp\",\"ConvertedComp\",\"ConvertedComp\",\"ConvertedComp\",\"ConvertedComp\",\"ConvertedComp\",\"ConvertedComp\",\"ConvertedComp\",\"ConvertedComp\",\"ConvertedComp\",\"ConvertedComp\",\"ConvertedComp\",\"ConvertedComp\",\"ConvertedComp\",\"ConvertedComp\",\"ConvertedComp\",\"ConvertedComp\",\"ConvertedComp\",\"ConvertedComp\",\"ConvertedComp\",\"ConvertedComp\",\"ConvertedComp\",\"ConvertedComp\",\"ConvertedComp\",\"ConvertedComp\",\"ConvertedComp\",\"ConvertedComp\",\"ConvertedComp\",\"ConvertedComp\",\"ConvertedComp\",\"ConvertedComp\",\"ConvertedComp\",\"ConvertedComp\",\"ConvertedComp\",\"ConvertedComp\",\"ConvertedComp\",\"ConvertedComp\",\"ConvertedComp\",\"ConvertedComp\",\"ConvertedComp\",\"ConvertedComp\",\"ConvertedComp\",\"ConvertedComp\",\"ConvertedComp\",\"ConvertedComp\",\"ConvertedComp\",\"ConvertedComp\",\"ConvertedComp\",\"ConvertedComp\",\"ConvertedComp\",\"ConvertedComp\",\"ConvertedComp\",\"ConvertedComp\",\"ConvertedComp\",\"ConvertedComp\",\"ConvertedComp\",\"ConvertedComp\",\"ConvertedComp\",\"ConvertedComp\",\"ConvertedComp\",\"ConvertedComp\",\"ConvertedComp\",\"ConvertedComp\",\"ConvertedComp\",\"ConvertedComp\",\"ConvertedComp\",\"ConvertedComp\",\"ConvertedComp\",\"ConvertedComp\",\"ConvertedComp\",\"ConvertedComp\",\"ConvertedComp\",\"ConvertedComp\",\"ConvertedComp\",\"ConvertedComp\",\"ConvertedComp\",\"ConvertedComp\",\"ConvertedComp\",\"ConvertedComp\",\"ConvertedComp\",\"ConvertedComp\",\"ConvertedComp\",\"ConvertedComp\",\"ConvertedComp\",\"ConvertedComp\",\"ConvertedComp\",\"ConvertedComp\",\"ConvertedComp\",\"ConvertedComp\",\"ConvertedComp\",\"ConvertedComp\",\"ConvertedComp\",\"ConvertedComp\",\"ConvertedComp\",\"ConvertedComp\",\"ConvertedComp\",\"ConvertedComp\",\"ConvertedComp\",\"ConvertedComp\",\"ConvertedComp\",\"ConvertedComp\",\"ConvertedComp\",\"ConvertedComp\",\"ConvertedComp\",\"ConvertedComp\",\"ConvertedComp\",\"ConvertedComp\",\"ConvertedComp\",\"ConvertedComp\",\"ConvertedComp\",\"ConvertedComp\",\"ConvertedComp\",\"ConvertedComp\",\"ConvertedComp\",\"ConvertedComp\",\"ConvertedComp\",\"ConvertedComp\",\"ConvertedComp\",\"ConvertedComp\",\"ConvertedComp\",\"ConvertedComp\",\"ConvertedComp\",\"ConvertedComp\",\"ConvertedComp\",\"ConvertedComp\",\"ConvertedComp\",\"ConvertedComp\",\"ConvertedComp\",\"ConvertedComp\",\"ConvertedComp\",\"ConvertedComp\",\"ConvertedComp\",\"ConvertedComp\",\"ConvertedComp\",\"ConvertedComp\",\"ConvertedComp\",\"ConvertedComp\",\"ConvertedComp\",\"ConvertedComp\",\"ConvertedComp\",\"ConvertedComp\",\"ConvertedComp\",\"ConvertedComp\",\"ConvertedComp\",\"ConvertedComp\",\"ConvertedComp\",\"ConvertedComp\",\"ConvertedComp\",\"ConvertedComp\",\"ConvertedComp\",\"ConvertedComp\",\"ConvertedComp\",\"ConvertedComp\",\"ConvertedComp\",\"ConvertedComp\",\"ConvertedComp\",\"ConvertedComp\",\"ConvertedComp\",\"ConvertedComp\",\"ConvertedComp\",\"ConvertedComp\",\"ConvertedComp\",\"ConvertedComp\",\"ConvertedComp\",\"ConvertedComp\",\"ConvertedComp\",\"ConvertedComp\",\"ConvertedComp\",\"ConvertedComp\",\"ConvertedComp\",\"ConvertedComp\",\"ConvertedComp\",\"ConvertedComp\",\"ConvertedComp\",\"ConvertedComp\",\"ConvertedComp\",\"ConvertedComp\",\"ConvertedComp\",\"ConvertedComp\",\"ConvertedComp\",\"ConvertedComp\",\"ConvertedComp\",\"ConvertedComp\",\"ConvertedComp\",\"ConvertedComp\",\"ConvertedComp\",\"ConvertedComp\",\"ConvertedComp\",\"ConvertedComp\",\"ConvertedComp\",\"ConvertedComp\",\"ConvertedComp\",\"ConvertedComp\",\"ConvertedComp\",\"ConvertedComp\",\"ConvertedComp\",\"ConvertedComp\",\"ConvertedComp\",\"ConvertedComp\",\"ConvertedComp\",\"ConvertedComp\",\"ConvertedComp\",\"ConvertedComp\",\"ConvertedComp\",\"ConvertedComp\",\"ConvertedComp\",\"ConvertedComp\",\"ConvertedComp\",\"ConvertedComp\",\"ConvertedComp\",\"ConvertedComp\",\"ConvertedComp\",\"ConvertedComp\",\"ConvertedComp\",\"ConvertedComp\",\"ConvertedComp\",\"ConvertedComp\",\"ConvertedComp\",\"ConvertedComp\",\"ConvertedComp\",\"ConvertedComp\",\"ConvertedComp\",\"ConvertedComp\",\"ConvertedComp\",\"ConvertedComp\",\"ConvertedComp\",\"ConvertedComp\",\"ConvertedComp\",\"ConvertedComp\",\"ConvertedComp\",\"ConvertedComp\",\"ConvertedComp\",\"ConvertedComp\",\"ConvertedComp\",\"ConvertedComp\",\"ConvertedComp\",\"ConvertedComp\",\"ConvertedComp\",\"ConvertedComp\",\"ConvertedComp\",\"ConvertedComp\",\"ConvertedComp\",\"ConvertedComp\",\"ConvertedComp\",\"ConvertedComp\",\"ConvertedComp\",\"ConvertedComp\",\"ConvertedComp\",\"ConvertedComp\",\"ConvertedComp\",\"ConvertedComp\",\"ConvertedComp\",\"ConvertedComp\",\"ConvertedComp\",\"ConvertedComp\",\"ConvertedComp\",\"ConvertedComp\",\"ConvertedComp\",\"ConvertedComp\",\"ConvertedComp\",\"ConvertedComp\",\"ConvertedComp\",\"ConvertedComp\",\"ConvertedComp\",\"ConvertedComp\",\"ConvertedComp\",\"ConvertedComp\",\"ConvertedComp\",\"ConvertedComp\",\"ConvertedComp\",\"ConvertedComp\",\"ConvertedComp\",\"ConvertedComp\",\"ConvertedComp\",\"ConvertedComp\",\"ConvertedComp\",\"ConvertedComp\",\"ConvertedComp\",\"ConvertedComp\",\"ConvertedComp\",\"ConvertedComp\",\"ConvertedComp\",\"ConvertedComp\",\"ConvertedComp\",\"ConvertedComp\",\"ConvertedComp\",\"ConvertedComp\",\"ConvertedComp\",\"ConvertedComp\",\"ConvertedComp\",\"ConvertedComp\",\"ConvertedComp\",\"ConvertedComp\",\"ConvertedComp\",\"ConvertedComp\",\"ConvertedComp\",\"ConvertedComp\",\"ConvertedComp\",\"ConvertedComp\",\"ConvertedComp\",\"ConvertedComp\",\"ConvertedComp\",\"ConvertedComp\",\"ConvertedComp\",\"ConvertedComp\",\"ConvertedComp\",\"ConvertedComp\",\"ConvertedComp\",\"ConvertedComp\",\"ConvertedComp\",\"ConvertedComp\",\"ConvertedComp\",\"ConvertedComp\",\"ConvertedComp\",\"ConvertedComp\",\"ConvertedComp\",\"ConvertedComp\",\"ConvertedComp\",\"ConvertedComp\",\"ConvertedComp\",\"ConvertedComp\",\"ConvertedComp\",\"ConvertedComp\",\"ConvertedComp\",\"ConvertedComp\",\"ConvertedComp\",\"ConvertedComp\",\"ConvertedComp\",\"ConvertedComp\",\"ConvertedComp\",\"ConvertedComp\",\"ConvertedComp\",\"ConvertedComp\",\"ConvertedComp\",\"ConvertedComp\",\"ConvertedComp\",\"ConvertedComp\",\"ConvertedComp\",\"ConvertedComp\",\"ConvertedComp\",\"ConvertedComp\",\"ConvertedComp\",\"ConvertedComp\",\"ConvertedComp\",\"ConvertedComp\",\"ConvertedComp\",\"ConvertedComp\",\"ConvertedComp\",\"ConvertedComp\",\"ConvertedComp\",\"ConvertedComp\",\"ConvertedComp\",\"ConvertedComp\",\"ConvertedComp\",\"ConvertedComp\",\"ConvertedComp\",\"ConvertedComp\",\"ConvertedComp\",\"ConvertedComp\",\"ConvertedComp\",\"ConvertedComp\",\"ConvertedComp\",\"ConvertedComp\",\"ConvertedComp\",\"ConvertedComp\",\"ConvertedComp\",\"ConvertedComp\",\"ConvertedComp\",\"ConvertedComp\",\"ConvertedComp\",\"ConvertedComp\",\"ConvertedComp\",\"ConvertedComp\",\"ConvertedComp\",\"ConvertedComp\",\"ConvertedComp\",\"ConvertedComp\",\"ConvertedComp\",\"ConvertedComp\",\"ConvertedComp\",\"ConvertedComp\",\"ConvertedComp\",\"ConvertedComp\",\"ConvertedComp\",\"ConvertedComp\",\"ConvertedComp\",\"ConvertedComp\",\"ConvertedComp\",\"ConvertedComp\",\"ConvertedComp\",\"ConvertedComp\",\"ConvertedComp\",\"ConvertedComp\",\"ConvertedComp\",\"ConvertedComp\",\"ConvertedComp\",\"ConvertedComp\",\"ConvertedComp\",\"ConvertedComp\",\"ConvertedComp\",\"ConvertedComp\",\"ConvertedComp\",\"ConvertedComp\",\"ConvertedComp\",\"ConvertedComp\",\"ConvertedComp\",\"ConvertedComp\",\"ConvertedComp\",\"ConvertedComp\",\"ConvertedComp\",\"ConvertedComp\",\"ConvertedComp\",\"ConvertedComp\",\"ConvertedComp\",\"ConvertedComp\",\"ConvertedComp\",\"ConvertedComp\",\"ConvertedComp\",\"ConvertedComp\",\"ConvertedComp\",\"ConvertedComp\",\"ConvertedComp\",\"ConvertedComp\",\"ConvertedComp\",\"ConvertedComp\",\"ConvertedComp\",\"ConvertedComp\",\"ConvertedComp\",\"ConvertedComp\",\"ConvertedComp\",\"ConvertedComp\",\"ConvertedComp\",\"ConvertedComp\",\"ConvertedComp\",\"ConvertedComp\",\"ConvertedComp\",\"ConvertedComp\",\"ConvertedComp\",\"ConvertedComp\",\"ConvertedComp\",\"ConvertedComp\",\"ConvertedComp\",\"ConvertedComp\",\"ConvertedComp\",\"ConvertedComp\",\"ConvertedComp\",\"ConvertedComp\",\"ConvertedComp\",\"ConvertedComp\",\"ConvertedComp\",\"ConvertedComp\",\"ConvertedComp\",\"ConvertedComp\",\"ConvertedComp\",\"ConvertedComp\",\"ConvertedComp\",\"ConvertedComp\",\"ConvertedComp\",\"ConvertedComp\",\"ConvertedComp\",\"ConvertedComp\",\"ConvertedComp\",\"ConvertedComp\",\"ConvertedComp\",\"ConvertedComp\",\"ConvertedComp\",\"ConvertedComp\",\"ConvertedComp\",\"ConvertedComp\",\"ConvertedComp\",\"ConvertedComp\",\"ConvertedComp\",\"ConvertedComp\",\"ConvertedComp\",\"ConvertedComp\",\"ConvertedComp\",\"ConvertedComp\",\"ConvertedComp\",\"ConvertedComp\",\"ConvertedComp\",\"ConvertedComp\",\"ConvertedComp\",\"ConvertedComp\",\"ConvertedComp\",\"ConvertedComp\",\"ConvertedComp\",\"ConvertedComp\",\"ConvertedComp\",\"ConvertedComp\",\"ConvertedComp\",\"ConvertedComp\",\"ConvertedComp\",\"ConvertedComp\",\"ConvertedComp\",\"ConvertedComp\",\"ConvertedComp\",\"ConvertedComp\",\"ConvertedComp\",\"ConvertedComp\",\"ConvertedComp\",\"ConvertedComp\",\"ConvertedComp\",\"ConvertedComp\",\"ConvertedComp\",\"ConvertedComp\",\"ConvertedComp\",\"ConvertedComp\",\"ConvertedComp\",\"ConvertedComp\",\"ConvertedComp\",\"ConvertedComp\",\"ConvertedComp\",\"ConvertedComp\",\"ConvertedComp\",\"ConvertedComp\",\"ConvertedComp\",\"ConvertedComp\",\"ConvertedComp\",\"ConvertedComp\",\"ConvertedComp\",\"ConvertedComp\",\"ConvertedComp\",\"ConvertedComp\",\"ConvertedComp\",\"ConvertedComp\",\"ConvertedComp\",\"ConvertedComp\",\"ConvertedComp\",\"ConvertedComp\",\"ConvertedComp\",\"ConvertedComp\",\"ConvertedComp\",\"ConvertedComp\",\"ConvertedComp\",\"ConvertedComp\",\"ConvertedComp\",\"ConvertedComp\",\"ConvertedComp\",\"ConvertedComp\",\"ConvertedComp\",\"ConvertedComp\",\"ConvertedComp\",\"ConvertedComp\",\"ConvertedComp\",\"ConvertedComp\",\"ConvertedComp\",\"ConvertedComp\",\"ConvertedComp\",\"ConvertedComp\",\"ConvertedComp\",\"ConvertedComp\",\"ConvertedComp\",\"ConvertedComp\",\"ConvertedComp\",\"ConvertedComp\",\"ConvertedComp\",\"ConvertedComp\",\"ConvertedComp\",\"ConvertedComp\",\"ConvertedComp\",\"ConvertedComp\",\"ConvertedComp\",\"ConvertedComp\",\"ConvertedComp\",\"ConvertedComp\",\"ConvertedComp\",\"ConvertedComp\",\"ConvertedComp\",\"ConvertedComp\",\"ConvertedComp\",\"ConvertedComp\",\"ConvertedComp\",\"ConvertedComp\",\"ConvertedComp\",\"ConvertedComp\",\"ConvertedComp\",\"ConvertedComp\",\"ConvertedComp\",\"ConvertedComp\",\"ConvertedComp\",\"ConvertedComp\",\"ConvertedComp\",\"ConvertedComp\",\"ConvertedComp\",\"ConvertedComp\",\"ConvertedComp\",\"ConvertedComp\",\"ConvertedComp\",\"ConvertedComp\",\"ConvertedComp\",\"ConvertedComp\",\"ConvertedComp\",\"ConvertedComp\",\"ConvertedComp\",\"ConvertedComp\",\"ConvertedComp\",\"ConvertedComp\",\"ConvertedComp\",\"ConvertedComp\",\"ConvertedComp\",\"ConvertedComp\",\"ConvertedComp\",\"ConvertedComp\",\"ConvertedComp\",\"ConvertedComp\",\"ConvertedComp\",\"ConvertedComp\",\"ConvertedComp\",\"ConvertedComp\",\"ConvertedComp\",\"ConvertedComp\",\"ConvertedComp\",\"ConvertedComp\",\"ConvertedComp\",\"ConvertedComp\",\"ConvertedComp\",\"ConvertedComp\",\"ConvertedComp\",\"ConvertedComp\",\"ConvertedComp\",\"ConvertedComp\",\"ConvertedComp\",\"ConvertedComp\",\"ConvertedComp\",\"ConvertedComp\",\"ConvertedComp\",\"ConvertedComp\",\"ConvertedComp\",\"ConvertedComp\",\"ConvertedComp\",\"ConvertedComp\",\"ConvertedComp\",\"ConvertedComp\",\"ConvertedComp\",\"ConvertedComp\",\"ConvertedComp\",\"ConvertedComp\",\"ConvertedComp\",\"ConvertedComp\",\"ConvertedComp\",\"ConvertedComp\",\"ConvertedComp\",\"ConvertedComp\",\"ConvertedComp\",\"ConvertedComp\",\"ConvertedComp\",\"ConvertedComp\",\"ConvertedComp\",\"ConvertedComp\",\"ConvertedComp\",\"ConvertedComp\",\"ConvertedComp\",\"ConvertedComp\",\"ConvertedComp\",\"ConvertedComp\",\"ConvertedComp\",\"ConvertedComp\",\"ConvertedComp\",\"ConvertedComp\",\"ConvertedComp\",\"ConvertedComp\",\"ConvertedComp\",\"ConvertedComp\",\"ConvertedComp\",\"ConvertedComp\",\"ConvertedComp\",\"ConvertedComp\",\"ConvertedComp\",\"ConvertedComp\",\"ConvertedComp\",\"ConvertedComp\",\"ConvertedComp\",\"ConvertedComp\",\"ConvertedComp\",\"ConvertedComp\",\"ConvertedComp\",\"ConvertedComp\",\"ConvertedComp\",\"ConvertedComp\",\"ConvertedComp\",\"ConvertedComp\",\"ConvertedComp\",\"ConvertedComp\",\"ConvertedComp\",\"ConvertedComp\",\"ConvertedComp\",\"ConvertedComp\",\"ConvertedComp\",\"ConvertedComp\",\"ConvertedComp\",\"ConvertedComp\",\"ConvertedComp\",\"ConvertedComp\",\"ConvertedComp\",\"ConvertedComp\",\"ConvertedComp\",\"ConvertedComp\",\"ConvertedComp\",\"ConvertedComp\",\"ConvertedComp\",\"ConvertedComp\",\"ConvertedComp\",\"ConvertedComp\",\"ConvertedComp\",\"ConvertedComp\",\"ConvertedComp\",\"ConvertedComp\",\"ConvertedComp\",\"ConvertedComp\",\"ConvertedComp\",\"ConvertedComp\",\"ConvertedComp\",\"ConvertedComp\",\"ConvertedComp\",\"ConvertedComp\",\"ConvertedComp\",\"ConvertedComp\",\"ConvertedComp\",\"ConvertedComp\",\"ConvertedComp\",\"ConvertedComp\",\"ConvertedComp\",\"ConvertedComp\",\"ConvertedComp\",\"ConvertedComp\",\"ConvertedComp\",\"ConvertedComp\",\"ConvertedComp\",\"ConvertedComp\",\"ConvertedComp\",\"ConvertedComp\",\"ConvertedComp\",\"ConvertedComp\",\"ConvertedComp\",\"ConvertedComp\",\"ConvertedComp\",\"ConvertedComp\",\"ConvertedComp\",\"ConvertedComp\",\"ConvertedComp\",\"ConvertedComp\",\"ConvertedComp\",\"ConvertedComp\",\"ConvertedComp\",\"ConvertedComp\",\"ConvertedComp\",\"ConvertedComp\",\"ConvertedComp\",\"ConvertedComp\",\"ConvertedComp\",\"ConvertedComp\",\"ConvertedComp\",\"ConvertedComp\",\"ConvertedComp\",\"ConvertedComp\",\"ConvertedComp\",\"ConvertedComp\",\"ConvertedComp\",\"ConvertedComp\",\"ConvertedComp\",\"ConvertedComp\",\"ConvertedComp\",\"ConvertedComp\",\"ConvertedComp\",\"ConvertedComp\",\"ConvertedComp\",\"ConvertedComp\",\"ConvertedComp\",\"ConvertedComp\",\"ConvertedComp\",\"ConvertedComp\",\"ConvertedComp\",\"ConvertedComp\",\"ConvertedComp\",\"ConvertedComp\",\"ConvertedComp\",\"ConvertedComp\",\"ConvertedComp\",\"ConvertedComp\",\"ConvertedComp\",\"ConvertedComp\",\"ConvertedComp\",\"ConvertedComp\",\"ConvertedComp\",\"ConvertedComp\",\"ConvertedComp\",\"ConvertedComp\",\"ConvertedComp\",\"ConvertedComp\",\"ConvertedComp\",\"ConvertedComp\",\"ConvertedComp\",\"ConvertedComp\",\"ConvertedComp\",\"ConvertedComp\",\"ConvertedComp\",\"ConvertedComp\",\"ConvertedComp\",\"ConvertedComp\",\"ConvertedComp\",\"ConvertedComp\",\"ConvertedComp\",\"ConvertedComp\",\"ConvertedComp\",\"ConvertedComp\",\"ConvertedComp\",\"ConvertedComp\",\"ConvertedComp\",\"ConvertedComp\",\"ConvertedComp\",\"ConvertedComp\",\"ConvertedComp\",\"ConvertedComp\",\"ConvertedComp\",\"ConvertedComp\",\"ConvertedComp\",\"ConvertedComp\",\"ConvertedComp\",\"ConvertedComp\",\"ConvertedComp\",\"ConvertedComp\",\"ConvertedComp\",\"ConvertedComp\",\"ConvertedComp\",\"ConvertedComp\",\"ConvertedComp\",\"ConvertedComp\",\"ConvertedComp\",\"ConvertedComp\",\"ConvertedComp\",\"ConvertedComp\",\"ConvertedComp\",\"ConvertedComp\",\"ConvertedComp\",\"ConvertedComp\",\"ConvertedComp\",\"ConvertedComp\",\"ConvertedComp\",\"ConvertedComp\",\"ConvertedComp\",\"ConvertedComp\",\"ConvertedComp\",\"ConvertedComp\",\"ConvertedComp\",\"ConvertedComp\",\"ConvertedComp\",\"ConvertedComp\",\"ConvertedComp\",\"ConvertedComp\",\"ConvertedComp\",\"ConvertedComp\",\"ConvertedComp\",\"ConvertedComp\",\"ConvertedComp\",\"ConvertedComp\",\"ConvertedComp\",\"ConvertedComp\",\"ConvertedComp\",\"ConvertedComp\",\"ConvertedComp\",\"ConvertedComp\",\"ConvertedComp\",\"ConvertedComp\",\"ConvertedComp\",\"ConvertedComp\",\"ConvertedComp\",\"ConvertedComp\",\"ConvertedComp\",\"ConvertedComp\",\"ConvertedComp\",\"ConvertedComp\",\"ConvertedComp\",\"ConvertedComp\",\"ConvertedComp\",\"ConvertedComp\",\"ConvertedComp\",\"ConvertedComp\",\"ConvertedComp\",\"ConvertedComp\",\"ConvertedComp\",\"ConvertedComp\",\"ConvertedComp\",\"ConvertedComp\",\"ConvertedComp\",\"ConvertedComp\",\"ConvertedComp\",\"ConvertedComp\",\"ConvertedComp\",\"ConvertedComp\",\"ConvertedComp\",\"ConvertedComp\",\"ConvertedComp\",\"ConvertedComp\",\"ConvertedComp\",\"ConvertedComp\",\"ConvertedComp\",\"ConvertedComp\",\"ConvertedComp\",\"ConvertedComp\",\"ConvertedComp\",\"ConvertedComp\",\"ConvertedComp\",\"ConvertedComp\",\"ConvertedComp\",\"ConvertedComp\",\"ConvertedComp\",\"ConvertedComp\",\"ConvertedComp\",\"ConvertedComp\",\"ConvertedComp\",\"ConvertedComp\",\"ConvertedComp\",\"ConvertedComp\",\"ConvertedComp\",\"ConvertedComp\",\"ConvertedComp\",\"ConvertedComp\",\"ConvertedComp\",\"ConvertedComp\",\"ConvertedComp\",\"ConvertedComp\",\"ConvertedComp\",\"ConvertedComp\",\"ConvertedComp\",\"ConvertedComp\",\"ConvertedComp\",\"ConvertedComp\",\"ConvertedComp\",\"ConvertedComp\",\"ConvertedComp\",\"ConvertedComp\",\"ConvertedComp\",\"ConvertedComp\",\"ConvertedComp\",\"ConvertedComp\",\"ConvertedComp\",\"ConvertedComp\",\"ConvertedComp\",\"ConvertedComp\",\"ConvertedComp\",\"ConvertedComp\",\"ConvertedComp\",\"ConvertedComp\",\"ConvertedComp\",\"ConvertedComp\",\"ConvertedComp\",\"ConvertedComp\",\"ConvertedComp\",\"ConvertedComp\",\"ConvertedComp\",\"ConvertedComp\",\"ConvertedComp\",\"ConvertedComp\",\"ConvertedComp\",\"ConvertedComp\",\"ConvertedComp\",\"ConvertedComp\",\"ConvertedComp\",\"ConvertedComp\",\"ConvertedComp\",\"ConvertedComp\",\"ConvertedComp\",\"ConvertedComp\",\"ConvertedComp\",\"ConvertedComp\",\"ConvertedComp\",\"ConvertedComp\",\"ConvertedComp\",\"ConvertedComp\",\"ConvertedComp\",\"ConvertedComp\",\"ConvertedComp\",\"ConvertedComp\",\"ConvertedComp\",\"ConvertedComp\",\"ConvertedComp\",\"ConvertedComp\",\"ConvertedComp\",\"ConvertedComp\",\"ConvertedComp\",\"ConvertedComp\",\"ConvertedComp\",\"ConvertedComp\",\"ConvertedComp\",\"ConvertedComp\",\"ConvertedComp\",\"ConvertedComp\",\"ConvertedComp\",\"ConvertedComp\",\"ConvertedComp\",\"ConvertedComp\",\"ConvertedComp\",\"ConvertedComp\",\"ConvertedComp\",\"ConvertedComp\",\"ConvertedComp\",\"ConvertedComp\",\"ConvertedComp\",\"ConvertedComp\",\"ConvertedComp\",\"ConvertedComp\",\"ConvertedComp\",\"ConvertedComp\",\"ConvertedComp\",\"ConvertedComp\",\"ConvertedComp\",\"ConvertedComp\",\"ConvertedComp\",\"ConvertedComp\",\"ConvertedComp\",\"ConvertedComp\",\"ConvertedComp\",\"ConvertedComp\",\"ConvertedComp\",\"ConvertedComp\",\"ConvertedComp\",\"ConvertedComp\",\"ConvertedComp\",\"ConvertedComp\",\"ConvertedComp\",\"ConvertedComp\",\"ConvertedComp\",\"ConvertedComp\",\"ConvertedComp\",\"ConvertedComp\",\"ConvertedComp\",\"ConvertedComp\",\"ConvertedComp\",\"ConvertedComp\",\"ConvertedComp\",\"ConvertedComp\",\"ConvertedComp\",\"ConvertedComp\",\"ConvertedComp\",\"ConvertedComp\",\"ConvertedComp\",\"ConvertedComp\",\"ConvertedComp\",\"ConvertedComp\",\"ConvertedComp\",\"ConvertedComp\",\"ConvertedComp\",\"ConvertedComp\",\"ConvertedComp\",\"ConvertedComp\",\"ConvertedComp\",\"ConvertedComp\",\"ConvertedComp\",\"ConvertedComp\",\"ConvertedComp\",\"ConvertedComp\",\"ConvertedComp\",\"ConvertedComp\",\"ConvertedComp\",\"ConvertedComp\",\"ConvertedComp\",\"ConvertedComp\",\"ConvertedComp\",\"ConvertedComp\",\"ConvertedComp\",\"ConvertedComp\",\"ConvertedComp\",\"ConvertedComp\",\"ConvertedComp\",\"ConvertedComp\",\"ConvertedComp\",\"ConvertedComp\",\"ConvertedComp\",\"ConvertedComp\",\"ConvertedComp\",\"ConvertedComp\",\"ConvertedComp\",\"ConvertedComp\",\"ConvertedComp\",\"ConvertedComp\",\"ConvertedComp\",\"ConvertedComp\",\"ConvertedComp\",\"ConvertedComp\",\"ConvertedComp\",\"ConvertedComp\",\"ConvertedComp\",\"ConvertedComp\",\"ConvertedComp\",\"ConvertedComp\",\"ConvertedComp\",\"ConvertedComp\",\"ConvertedComp\",\"ConvertedComp\",\"ConvertedComp\",\"ConvertedComp\",\"ConvertedComp\",\"ConvertedComp\",\"ConvertedComp\",\"ConvertedComp\",\"ConvertedComp\",\"ConvertedComp\",\"ConvertedComp\",\"ConvertedComp\",\"ConvertedComp\",\"ConvertedComp\",\"ConvertedComp\",\"ConvertedComp\",\"ConvertedComp\",\"ConvertedComp\",\"ConvertedComp\",\"ConvertedComp\",\"ConvertedComp\",\"ConvertedComp\",\"ConvertedComp\",\"ConvertedComp\",\"ConvertedComp\",\"ConvertedComp\",\"ConvertedComp\",\"ConvertedComp\",\"ConvertedComp\",\"ConvertedComp\",\"ConvertedComp\",\"ConvertedComp\",\"ConvertedComp\",\"ConvertedComp\",\"ConvertedComp\",\"ConvertedComp\",\"ConvertedComp\",\"ConvertedComp\",\"ConvertedComp\",\"ConvertedComp\",\"ConvertedComp\",\"ConvertedComp\",\"ConvertedComp\",\"ConvertedComp\",\"ConvertedComp\",\"ConvertedComp\",\"ConvertedComp\",\"ConvertedComp\",\"ConvertedComp\",\"ConvertedComp\",\"ConvertedComp\",\"ConvertedComp\",\"ConvertedComp\",\"ConvertedComp\",\"ConvertedComp\",\"ConvertedComp\",\"ConvertedComp\",\"ConvertedComp\",\"ConvertedComp\",\"ConvertedComp\",\"ConvertedComp\",\"ConvertedComp\",\"ConvertedComp\",\"ConvertedComp\",\"ConvertedComp\",\"ConvertedComp\",\"ConvertedComp\",\"ConvertedComp\",\"ConvertedComp\",\"ConvertedComp\",\"ConvertedComp\",\"ConvertedComp\",\"ConvertedComp\",\"ConvertedComp\",\"ConvertedComp\",\"ConvertedComp\",\"ConvertedComp\",\"ConvertedComp\",\"ConvertedComp\",\"ConvertedComp\",\"ConvertedComp\",\"ConvertedComp\",\"ConvertedComp\",\"ConvertedComp\",\"ConvertedComp\",\"ConvertedComp\",\"ConvertedComp\",\"ConvertedComp\",\"ConvertedComp\",\"ConvertedComp\",\"ConvertedComp\",\"ConvertedComp\",\"ConvertedComp\",\"ConvertedComp\",\"ConvertedComp\",\"ConvertedComp\",\"ConvertedComp\",\"ConvertedComp\",\"ConvertedComp\",\"ConvertedComp\",\"ConvertedComp\",\"ConvertedComp\",\"ConvertedComp\",\"ConvertedComp\",\"ConvertedComp\",\"ConvertedComp\",\"ConvertedComp\",\"ConvertedComp\",\"ConvertedComp\",\"ConvertedComp\",\"ConvertedComp\",\"ConvertedComp\",\"ConvertedComp\",\"ConvertedComp\",\"ConvertedComp\",\"ConvertedComp\",\"ConvertedComp\",\"ConvertedComp\",\"ConvertedComp\",\"ConvertedComp\",\"ConvertedComp\",\"ConvertedComp\",\"ConvertedComp\",\"ConvertedComp\",\"ConvertedComp\",\"ConvertedComp\",\"ConvertedComp\",\"ConvertedComp\",\"ConvertedComp\",\"ConvertedComp\",\"ConvertedComp\",\"ConvertedComp\",\"ConvertedComp\",\"ConvertedComp\",\"ConvertedComp\",\"ConvertedComp\",\"ConvertedComp\",\"ConvertedComp\",\"ConvertedComp\",\"ConvertedComp\",\"ConvertedComp\",\"ConvertedComp\",\"ConvertedComp\",\"ConvertedComp\",\"ConvertedComp\",\"ConvertedComp\",\"ConvertedComp\",\"ConvertedComp\",\"ConvertedComp\",\"ConvertedComp\",\"ConvertedComp\",\"ConvertedComp\",\"ConvertedComp\",\"ConvertedComp\",\"ConvertedComp\",\"ConvertedComp\",\"ConvertedComp\",\"ConvertedComp\",\"ConvertedComp\",\"ConvertedComp\",\"ConvertedComp\",\"ConvertedComp\",\"ConvertedComp\",\"ConvertedComp\",\"ConvertedComp\",\"ConvertedComp\",\"ConvertedComp\",\"ConvertedComp\",\"ConvertedComp\",\"ConvertedComp\",\"ConvertedComp\",\"ConvertedComp\",\"ConvertedComp\",\"ConvertedComp\",\"ConvertedComp\",\"ConvertedComp\",\"ConvertedComp\",\"ConvertedComp\",\"ConvertedComp\",\"ConvertedComp\",\"ConvertedComp\",\"ConvertedComp\",\"ConvertedComp\",\"ConvertedComp\",\"ConvertedComp\",\"ConvertedComp\",\"ConvertedComp\",\"ConvertedComp\",\"ConvertedComp\",\"ConvertedComp\",\"ConvertedComp\",\"ConvertedComp\",\"ConvertedComp\",\"ConvertedComp\",\"ConvertedComp\",\"ConvertedComp\",\"ConvertedComp\",\"ConvertedComp\",\"ConvertedComp\",\"ConvertedComp\",\"ConvertedComp\",\"ConvertedComp\",\"ConvertedComp\",\"ConvertedComp\",\"ConvertedComp\",\"ConvertedComp\",\"ConvertedComp\",\"ConvertedComp\",\"ConvertedComp\",\"ConvertedComp\",\"ConvertedComp\",\"ConvertedComp\",\"ConvertedComp\",\"ConvertedComp\",\"ConvertedComp\",\"ConvertedComp\",\"ConvertedComp\",\"ConvertedComp\",\"ConvertedComp\",\"ConvertedComp\",\"ConvertedComp\",\"ConvertedComp\",\"ConvertedComp\",\"ConvertedComp\",\"ConvertedComp\",\"ConvertedComp\",\"ConvertedComp\",\"ConvertedComp\",\"ConvertedComp\",\"ConvertedComp\",\"ConvertedComp\",\"ConvertedComp\",\"ConvertedComp\",\"ConvertedComp\",\"ConvertedComp\",\"ConvertedComp\",\"ConvertedComp\",\"ConvertedComp\",\"ConvertedComp\",\"ConvertedComp\",\"ConvertedComp\",\"ConvertedComp\",\"ConvertedComp\",\"ConvertedComp\",\"ConvertedComp\",\"ConvertedComp\",\"ConvertedComp\",\"ConvertedComp\",\"ConvertedComp\",\"ConvertedComp\",\"ConvertedComp\",\"ConvertedComp\",\"ConvertedComp\",\"ConvertedComp\",\"ConvertedComp\",\"ConvertedComp\",\"ConvertedComp\",\"ConvertedComp\",\"ConvertedComp\",\"ConvertedComp\",\"ConvertedComp\",\"ConvertedComp\",\"ConvertedComp\",\"ConvertedComp\",\"ConvertedComp\",\"ConvertedComp\",\"ConvertedComp\",\"ConvertedComp\",\"ConvertedComp\",\"ConvertedComp\",\"ConvertedComp\",\"ConvertedComp\",\"ConvertedComp\",\"ConvertedComp\",\"ConvertedComp\",\"ConvertedComp\",\"ConvertedComp\",\"ConvertedComp\",\"ConvertedComp\",\"ConvertedComp\",\"ConvertedComp\",\"ConvertedComp\",\"ConvertedComp\",\"ConvertedComp\",\"ConvertedComp\",\"ConvertedComp\",\"ConvertedComp\",\"ConvertedComp\",\"ConvertedComp\",\"ConvertedComp\",\"ConvertedComp\",\"ConvertedComp\",\"ConvertedComp\",\"ConvertedComp\",\"ConvertedComp\",\"ConvertedComp\",\"ConvertedComp\",\"ConvertedComp\",\"ConvertedComp\",\"ConvertedComp\",\"ConvertedComp\",\"ConvertedComp\",\"ConvertedComp\",\"ConvertedComp\",\"ConvertedComp\",\"ConvertedComp\",\"ConvertedComp\",\"ConvertedComp\",\"ConvertedComp\",\"ConvertedComp\",\"ConvertedComp\",\"ConvertedComp\",\"ConvertedComp\",\"ConvertedComp\",\"ConvertedComp\",\"ConvertedComp\",\"ConvertedComp\",\"ConvertedComp\",\"ConvertedComp\",\"ConvertedComp\",\"ConvertedComp\",\"ConvertedComp\",\"ConvertedComp\",\"ConvertedComp\",\"ConvertedComp\",\"ConvertedComp\",\"ConvertedComp\",\"ConvertedComp\",\"ConvertedComp\",\"ConvertedComp\",\"ConvertedComp\",\"ConvertedComp\",\"ConvertedComp\",\"ConvertedComp\",\"ConvertedComp\",\"ConvertedComp\",\"ConvertedComp\",\"ConvertedComp\",\"ConvertedComp\",\"ConvertedComp\",\"ConvertedComp\",\"ConvertedComp\",\"ConvertedComp\",\"ConvertedComp\",\"ConvertedComp\",\"ConvertedComp\",\"ConvertedComp\",\"ConvertedComp\",\"ConvertedComp\",\"ConvertedComp\",\"ConvertedComp\",\"ConvertedComp\",\"ConvertedComp\",\"ConvertedComp\",\"ConvertedComp\",\"ConvertedComp\",\"ConvertedComp\",\"ConvertedComp\",\"ConvertedComp\",\"ConvertedComp\",\"ConvertedComp\",\"ConvertedComp\",\"ConvertedComp\",\"ConvertedComp\",\"ConvertedComp\",\"ConvertedComp\",\"ConvertedComp\",\"ConvertedComp\",\"ConvertedComp\",\"ConvertedComp\",\"ConvertedComp\",\"ConvertedComp\",\"ConvertedComp\",\"ConvertedComp\",\"ConvertedComp\",\"ConvertedComp\",\"ConvertedComp\",\"ConvertedComp\",\"ConvertedComp\",\"ConvertedComp\",\"ConvertedComp\",\"ConvertedComp\",\"ConvertedComp\",\"ConvertedComp\",\"ConvertedComp\",\"ConvertedComp\",\"ConvertedComp\",\"ConvertedComp\",\"ConvertedComp\",\"ConvertedComp\",\"ConvertedComp\",\"ConvertedComp\",\"ConvertedComp\",\"ConvertedComp\",\"ConvertedComp\",\"ConvertedComp\",\"ConvertedComp\",\"ConvertedComp\",\"ConvertedComp\",\"ConvertedComp\",\"ConvertedComp\",\"ConvertedComp\",\"ConvertedComp\",\"ConvertedComp\",\"ConvertedComp\",\"ConvertedComp\",\"ConvertedComp\",\"ConvertedComp\",\"ConvertedComp\",\"ConvertedComp\",\"ConvertedComp\",\"ConvertedComp\",\"ConvertedComp\",\"ConvertedComp\",\"ConvertedComp\",\"ConvertedComp\",\"ConvertedComp\",\"ConvertedComp\",\"ConvertedComp\",\"ConvertedComp\",\"ConvertedComp\",\"ConvertedComp\",\"ConvertedComp\",\"ConvertedComp\",\"ConvertedComp\",\"ConvertedComp\",\"ConvertedComp\",\"ConvertedComp\",\"ConvertedComp\",\"ConvertedComp\",\"ConvertedComp\",\"ConvertedComp\",\"ConvertedComp\",\"ConvertedComp\",\"ConvertedComp\",\"ConvertedComp\",\"ConvertedComp\",\"ConvertedComp\",\"ConvertedComp\",\"ConvertedComp\",\"ConvertedComp\",\"ConvertedComp\",\"ConvertedComp\",\"ConvertedComp\",\"ConvertedComp\",\"ConvertedComp\",\"ConvertedComp\",\"ConvertedComp\",\"ConvertedComp\",\"ConvertedComp\",\"ConvertedComp\",\"ConvertedComp\",\"ConvertedComp\",\"ConvertedComp\",\"ConvertedComp\",\"ConvertedComp\",\"ConvertedComp\",\"ConvertedComp\",\"ConvertedComp\",\"ConvertedComp\",\"ConvertedComp\",\"ConvertedComp\",\"ConvertedComp\",\"ConvertedComp\",\"ConvertedComp\",\"ConvertedComp\",\"ConvertedComp\",\"ConvertedComp\",\"ConvertedComp\",\"ConvertedComp\",\"ConvertedComp\",\"ConvertedComp\",\"ConvertedComp\",\"ConvertedComp\",\"ConvertedComp\",\"ConvertedComp\",\"ConvertedComp\",\"ConvertedComp\",\"ConvertedComp\",\"ConvertedComp\",\"ConvertedComp\",\"ConvertedComp\",\"ConvertedComp\",\"ConvertedComp\",\"ConvertedComp\",\"ConvertedComp\",\"ConvertedComp\",\"ConvertedComp\",\"ConvertedComp\",\"ConvertedComp\",\"ConvertedComp\",\"ConvertedComp\",\"ConvertedComp\",\"ConvertedComp\",\"ConvertedComp\",\"ConvertedComp\",\"ConvertedComp\",\"ConvertedComp\",\"ConvertedComp\",\"ConvertedComp\",\"ConvertedComp\",\"ConvertedComp\",\"ConvertedComp\",\"ConvertedComp\",\"ConvertedComp\",\"ConvertedComp\",\"ConvertedComp\",\"ConvertedComp\",\"ConvertedComp\",\"ConvertedComp\",\"ConvertedComp\",\"ConvertedComp\",\"ConvertedComp\",\"ConvertedComp\",\"ConvertedComp\",\"ConvertedComp\",\"ConvertedComp\",\"ConvertedComp\",\"ConvertedComp\",\"ConvertedComp\",\"ConvertedComp\",\"ConvertedComp\",\"ConvertedComp\",\"ConvertedComp\",\"ConvertedComp\",\"ConvertedComp\",\"ConvertedComp\",\"ConvertedComp\",\"ConvertedComp\",\"ConvertedComp\",\"ConvertedComp\",\"ConvertedComp\",\"ConvertedComp\",\"ConvertedComp\",\"ConvertedComp\",\"ConvertedComp\",\"ConvertedComp\",\"ConvertedComp\",\"ConvertedComp\",\"ConvertedComp\",\"ConvertedComp\",\"ConvertedComp\",\"ConvertedComp\",\"ConvertedComp\",\"ConvertedComp\",\"ConvertedComp\",\"ConvertedComp\",\"ConvertedComp\",\"ConvertedComp\",\"ConvertedComp\",\"ConvertedComp\",\"ConvertedComp\",\"ConvertedComp\",\"ConvertedComp\",\"ConvertedComp\",\"ConvertedComp\",\"ConvertedComp\",\"ConvertedComp\",\"ConvertedComp\",\"ConvertedComp\",\"ConvertedComp\",\"ConvertedComp\",\"ConvertedComp\",\"ConvertedComp\",\"ConvertedComp\",\"ConvertedComp\",\"ConvertedComp\",\"ConvertedComp\",\"ConvertedComp\",\"ConvertedComp\",\"ConvertedComp\",\"ConvertedComp\",\"ConvertedComp\",\"ConvertedComp\",\"ConvertedComp\",\"ConvertedComp\",\"ConvertedComp\",\"ConvertedComp\",\"ConvertedComp\",\"ConvertedComp\",\"ConvertedComp\",\"ConvertedComp\",\"ConvertedComp\",\"ConvertedComp\",\"ConvertedComp\",\"ConvertedComp\",\"ConvertedComp\",\"ConvertedComp\",\"ConvertedComp\",\"ConvertedComp\",\"ConvertedComp\",\"ConvertedComp\",\"ConvertedComp\",\"ConvertedComp\",\"ConvertedComp\",\"ConvertedComp\",\"ConvertedComp\",\"ConvertedComp\",\"ConvertedComp\",\"ConvertedComp\",\"ConvertedComp\",\"ConvertedComp\",\"ConvertedComp\",\"ConvertedComp\",\"ConvertedComp\",\"ConvertedComp\",\"ConvertedComp\",\"ConvertedComp\",\"ConvertedComp\",\"ConvertedComp\",\"ConvertedComp\",\"ConvertedComp\",\"ConvertedComp\",\"ConvertedComp\",\"ConvertedComp\",\"ConvertedComp\",\"ConvertedComp\",\"ConvertedComp\",\"ConvertedComp\",\"ConvertedComp\",\"ConvertedComp\",\"ConvertedComp\",\"ConvertedComp\",\"ConvertedComp\",\"ConvertedComp\",\"ConvertedComp\",\"ConvertedComp\",\"ConvertedComp\",\"ConvertedComp\",\"ConvertedComp\",\"ConvertedComp\",\"ConvertedComp\",\"ConvertedComp\",\"ConvertedComp\",\"ConvertedComp\",\"ConvertedComp\",\"ConvertedComp\",\"ConvertedComp\",\"ConvertedComp\",\"ConvertedComp\",\"ConvertedComp\",\"ConvertedComp\",\"ConvertedComp\",\"ConvertedComp\",\"ConvertedComp\",\"ConvertedComp\",\"ConvertedComp\",\"ConvertedComp\",\"ConvertedComp\",\"ConvertedComp\",\"ConvertedComp\",\"ConvertedComp\",\"ConvertedComp\",\"ConvertedComp\",\"ConvertedComp\",\"ConvertedComp\",\"ConvertedComp\",\"ConvertedComp\",\"ConvertedComp\",\"ConvertedComp\",\"ConvertedComp\",\"ConvertedComp\",\"ConvertedComp\",\"ConvertedComp\",\"ConvertedComp\",\"ConvertedComp\",\"ConvertedComp\",\"ConvertedComp\",\"ConvertedComp\",\"ConvertedComp\",\"ConvertedComp\",\"ConvertedComp\",\"ConvertedComp\",\"ConvertedComp\",\"ConvertedComp\",\"ConvertedComp\",\"ConvertedComp\",\"ConvertedComp\",\"ConvertedComp\",\"ConvertedComp\",\"ConvertedComp\",\"ConvertedComp\",\"ConvertedComp\",\"ConvertedComp\",\"ConvertedComp\",\"ConvertedComp\",\"ConvertedComp\",\"ConvertedComp\",\"ConvertedComp\",\"ConvertedComp\",\"ConvertedComp\",\"ConvertedComp\",\"ConvertedComp\",\"ConvertedComp\",\"ConvertedComp\",\"ConvertedComp\",\"ConvertedComp\",\"ConvertedComp\",\"ConvertedComp\",\"ConvertedComp\",\"ConvertedComp\",\"ConvertedComp\",\"ConvertedComp\",\"ConvertedComp\",\"ConvertedComp\",\"ConvertedComp\",\"ConvertedComp\",\"ConvertedComp\",\"ConvertedComp\",\"ConvertedComp\",\"ConvertedComp\",\"ConvertedComp\",\"ConvertedComp\",\"ConvertedComp\",\"ConvertedComp\",\"ConvertedComp\",\"ConvertedComp\",\"ConvertedComp\",\"ConvertedComp\",\"ConvertedComp\",\"ConvertedComp\",\"ConvertedComp\",\"ConvertedComp\",\"ConvertedComp\",\"ConvertedComp\",\"ConvertedComp\",\"ConvertedComp\",\"ConvertedComp\",\"ConvertedComp\",\"ConvertedComp\",\"ConvertedComp\",\"ConvertedComp\",\"ConvertedComp\",\"ConvertedComp\",\"ConvertedComp\",\"ConvertedComp\",\"ConvertedComp\",\"ConvertedComp\",\"ConvertedComp\",\"ConvertedComp\",\"ConvertedComp\",\"ConvertedComp\",\"ConvertedComp\",\"ConvertedComp\",\"ConvertedComp\",\"ConvertedComp\",\"ConvertedComp\",\"ConvertedComp\",\"ConvertedComp\",\"ConvertedComp\",\"ConvertedComp\",\"ConvertedComp\",\"ConvertedComp\",\"ConvertedComp\",\"ConvertedComp\",\"ConvertedComp\",\"ConvertedComp\",\"ConvertedComp\",\"ConvertedComp\",\"ConvertedComp\",\"ConvertedComp\",\"ConvertedComp\",\"ConvertedComp\",\"ConvertedComp\",\"ConvertedComp\",\"ConvertedComp\",\"ConvertedComp\",\"ConvertedComp\",\"ConvertedComp\",\"ConvertedComp\",\"ConvertedComp\",\"ConvertedComp\",\"ConvertedComp\",\"ConvertedComp\",\"ConvertedComp\",\"ConvertedComp\",\"ConvertedComp\",\"ConvertedComp\",\"ConvertedComp\",\"ConvertedComp\",\"ConvertedComp\",\"ConvertedComp\",\"ConvertedComp\",\"ConvertedComp\",\"ConvertedComp\",\"ConvertedComp\",\"ConvertedComp\",\"ConvertedComp\",\"ConvertedComp\",\"ConvertedComp\",\"ConvertedComp\",\"ConvertedComp\",\"ConvertedComp\",\"ConvertedComp\",\"ConvertedComp\",\"ConvertedComp\",\"ConvertedComp\",\"ConvertedComp\",\"ConvertedComp\",\"ConvertedComp\",\"ConvertedComp\",\"ConvertedComp\",\"ConvertedComp\",\"ConvertedComp\",\"ConvertedComp\",\"ConvertedComp\",\"ConvertedComp\",\"ConvertedComp\",\"ConvertedComp\",\"ConvertedComp\",\"ConvertedComp\",\"ConvertedComp\",\"ConvertedComp\",\"ConvertedComp\",\"ConvertedComp\",\"ConvertedComp\",\"ConvertedComp\",\"ConvertedComp\",\"ConvertedComp\",\"ConvertedComp\",\"ConvertedComp\",\"ConvertedComp\",\"ConvertedComp\",\"ConvertedComp\",\"ConvertedComp\",\"ConvertedComp\",\"ConvertedComp\",\"ConvertedComp\",\"ConvertedComp\",\"ConvertedComp\",\"ConvertedComp\",\"ConvertedComp\",\"ConvertedComp\",\"ConvertedComp\",\"ConvertedComp\",\"ConvertedComp\",\"ConvertedComp\",\"ConvertedComp\",\"ConvertedComp\",\"ConvertedComp\",\"ConvertedComp\",\"ConvertedComp\",\"ConvertedComp\",\"ConvertedComp\",\"ConvertedComp\",\"ConvertedComp\",\"ConvertedComp\",\"ConvertedComp\",\"ConvertedComp\",\"ConvertedComp\",\"ConvertedComp\",\"ConvertedComp\",\"ConvertedComp\",\"ConvertedComp\",\"ConvertedComp\",\"ConvertedComp\",\"ConvertedComp\",\"ConvertedComp\",\"ConvertedComp\",\"ConvertedComp\",\"ConvertedComp\",\"ConvertedComp\",\"ConvertedComp\",\"ConvertedComp\",\"ConvertedComp\",\"ConvertedComp\",\"ConvertedComp\",\"ConvertedComp\",\"ConvertedComp\",\"ConvertedComp\",\"ConvertedComp\",\"ConvertedComp\",\"ConvertedComp\",\"ConvertedComp\",\"ConvertedComp\",\"ConvertedComp\",\"ConvertedComp\",\"ConvertedComp\",\"ConvertedComp\",\"ConvertedComp\",\"ConvertedComp\",\"ConvertedComp\",\"ConvertedComp\",\"ConvertedComp\",\"ConvertedComp\",\"ConvertedComp\",\"ConvertedComp\",\"ConvertedComp\",\"ConvertedComp\",\"ConvertedComp\",\"ConvertedComp\",\"ConvertedComp\",\"ConvertedComp\",\"ConvertedComp\",\"ConvertedComp\",\"ConvertedComp\",\"ConvertedComp\",\"ConvertedComp\",\"ConvertedComp\",\"ConvertedComp\",\"ConvertedComp\",\"ConvertedComp\",\"ConvertedComp\",\"ConvertedComp\",\"ConvertedComp\",\"ConvertedComp\",\"ConvertedComp\",\"ConvertedComp\",\"ConvertedComp\",\"ConvertedComp\",\"ConvertedComp\",\"ConvertedComp\",\"ConvertedComp\",\"ConvertedComp\",\"ConvertedComp\",\"ConvertedComp\",\"ConvertedComp\",\"ConvertedComp\",\"ConvertedComp\",\"ConvertedComp\",\"ConvertedComp\",\"ConvertedComp\",\"ConvertedComp\",\"ConvertedComp\",\"ConvertedComp\",\"ConvertedComp\",\"ConvertedComp\",\"ConvertedComp\",\"ConvertedComp\",\"ConvertedComp\",\"ConvertedComp\",\"ConvertedComp\",\"ConvertedComp\",\"ConvertedComp\",\"ConvertedComp\",\"ConvertedComp\",\"ConvertedComp\",\"ConvertedComp\",\"ConvertedComp\",\"ConvertedComp\",\"ConvertedComp\",\"ConvertedComp\",\"ConvertedComp\",\"ConvertedComp\",\"ConvertedComp\",\"ConvertedComp\",\"ConvertedComp\",\"ConvertedComp\",\"ConvertedComp\",\"ConvertedComp\",\"ConvertedComp\",\"ConvertedComp\",\"ConvertedComp\",\"ConvertedComp\",\"ConvertedComp\",\"ConvertedComp\",\"ConvertedComp\",\"ConvertedComp\",\"ConvertedComp\",\"ConvertedComp\",\"ConvertedComp\",\"ConvertedComp\",\"ConvertedComp\",\"ConvertedComp\",\"ConvertedComp\",\"ConvertedComp\",\"ConvertedComp\",\"ConvertedComp\",\"ConvertedComp\",\"ConvertedComp\",\"ConvertedComp\",\"ConvertedComp\",\"ConvertedComp\",\"ConvertedComp\",\"ConvertedComp\",\"ConvertedComp\",\"ConvertedComp\",\"ConvertedComp\",\"ConvertedComp\",\"ConvertedComp\",\"ConvertedComp\",\"ConvertedComp\",\"ConvertedComp\",\"ConvertedComp\",\"ConvertedComp\",\"ConvertedComp\",\"ConvertedComp\",\"ConvertedComp\",\"ConvertedComp\",\"ConvertedComp\",\"ConvertedComp\",\"ConvertedComp\",\"ConvertedComp\",\"ConvertedComp\",\"ConvertedComp\",\"ConvertedComp\",\"ConvertedComp\",\"ConvertedComp\",\"ConvertedComp\",\"ConvertedComp\",\"ConvertedComp\",\"ConvertedComp\",\"ConvertedComp\",\"ConvertedComp\",\"ConvertedComp\",\"ConvertedComp\",\"ConvertedComp\",\"ConvertedComp\",\"ConvertedComp\",\"ConvertedComp\",\"ConvertedComp\",\"ConvertedComp\",\"ConvertedComp\",\"ConvertedComp\",\"ConvertedComp\",\"ConvertedComp\",\"ConvertedComp\",\"ConvertedComp\",\"ConvertedComp\",\"ConvertedComp\",\"ConvertedComp\",\"ConvertedComp\",\"ConvertedComp\",\"ConvertedComp\",\"ConvertedComp\",\"ConvertedComp\",\"ConvertedComp\",\"ConvertedComp\",\"ConvertedComp\",\"ConvertedComp\",\"ConvertedComp\",\"ConvertedComp\",\"ConvertedComp\",\"ConvertedComp\",\"ConvertedComp\",\"ConvertedComp\",\"ConvertedComp\",\"ConvertedComp\",\"ConvertedComp\",\"ConvertedComp\",\"ConvertedComp\",\"ConvertedComp\",\"ConvertedComp\",\"ConvertedComp\",\"ConvertedComp\",\"ConvertedComp\",\"ConvertedComp\",\"ConvertedComp\",\"ConvertedComp\",\"ConvertedComp\",\"ConvertedComp\",\"ConvertedComp\",\"ConvertedComp\",\"ConvertedComp\",\"ConvertedComp\",\"ConvertedComp\",\"ConvertedComp\",\"ConvertedComp\",\"ConvertedComp\",\"ConvertedComp\",\"ConvertedComp\",\"ConvertedComp\",\"ConvertedComp\",\"ConvertedComp\",\"ConvertedComp\",\"ConvertedComp\",\"ConvertedComp\",\"ConvertedComp\",\"ConvertedComp\",\"ConvertedComp\",\"ConvertedComp\",\"ConvertedComp\",\"ConvertedComp\",\"ConvertedComp\",\"ConvertedComp\",\"ConvertedComp\",\"ConvertedComp\",\"ConvertedComp\",\"ConvertedComp\",\"ConvertedComp\",\"ConvertedComp\",\"ConvertedComp\",\"ConvertedComp\",\"ConvertedComp\",\"ConvertedComp\",\"ConvertedComp\",\"ConvertedComp\",\"ConvertedComp\",\"ConvertedComp\",\"ConvertedComp\",\"ConvertedComp\",\"ConvertedComp\",\"ConvertedComp\",\"ConvertedComp\",\"ConvertedComp\",\"ConvertedComp\",\"ConvertedComp\",\"ConvertedComp\",\"ConvertedComp\",\"ConvertedComp\",\"ConvertedComp\",\"ConvertedComp\",\"ConvertedComp\",\"ConvertedComp\",\"ConvertedComp\",\"ConvertedComp\",\"ConvertedComp\",\"ConvertedComp\",\"ConvertedComp\",\"ConvertedComp\",\"ConvertedComp\",\"ConvertedComp\",\"ConvertedComp\",\"ConvertedComp\",\"ConvertedComp\",\"ConvertedComp\",\"ConvertedComp\",\"ConvertedComp\",\"ConvertedComp\",\"ConvertedComp\",\"ConvertedComp\",\"ConvertedComp\",\"ConvertedComp\",\"ConvertedComp\",\"ConvertedComp\",\"ConvertedComp\",\"ConvertedComp\",\"ConvertedComp\",\"ConvertedComp\",\"ConvertedComp\",\"ConvertedComp\",\"ConvertedComp\",\"ConvertedComp\",\"ConvertedComp\",\"ConvertedComp\",\"ConvertedComp\",\"ConvertedComp\",\"ConvertedComp\",\"ConvertedComp\",\"ConvertedComp\",\"ConvertedComp\",\"ConvertedComp\",\"ConvertedComp\",\"ConvertedComp\",\"ConvertedComp\",\"ConvertedComp\",\"ConvertedComp\",\"ConvertedComp\",\"ConvertedComp\",\"ConvertedComp\",\"ConvertedComp\",\"ConvertedComp\",\"ConvertedComp\",\"ConvertedComp\",\"ConvertedComp\",\"ConvertedComp\",\"ConvertedComp\",\"ConvertedComp\",\"ConvertedComp\",\"ConvertedComp\",\"ConvertedComp\",\"ConvertedComp\",\"ConvertedComp\",\"ConvertedComp\",\"ConvertedComp\",\"ConvertedComp\",\"ConvertedComp\",\"ConvertedComp\",\"ConvertedComp\",\"ConvertedComp\",\"ConvertedComp\",\"ConvertedComp\",\"ConvertedComp\",\"ConvertedComp\",\"ConvertedComp\",\"ConvertedComp\",\"ConvertedComp\",\"ConvertedComp\",\"ConvertedComp\",\"ConvertedComp\",\"ConvertedComp\",\"ConvertedComp\",\"ConvertedComp\",\"ConvertedComp\",\"ConvertedComp\",\"ConvertedComp\",\"ConvertedComp\",\"ConvertedComp\",\"ConvertedComp\",\"ConvertedComp\",\"ConvertedComp\",\"ConvertedComp\",\"ConvertedComp\",\"ConvertedComp\",\"ConvertedComp\",\"ConvertedComp\",\"ConvertedComp\",\"ConvertedComp\",\"ConvertedComp\",\"ConvertedComp\",\"ConvertedComp\",\"ConvertedComp\",\"ConvertedComp\",\"ConvertedComp\",\"ConvertedComp\",\"ConvertedComp\",\"ConvertedComp\",\"ConvertedComp\",\"ConvertedComp\",\"ConvertedComp\",\"ConvertedComp\",\"ConvertedComp\",\"ConvertedComp\",\"ConvertedComp\",\"ConvertedComp\",\"ConvertedComp\",\"ConvertedComp\",\"ConvertedComp\",\"ConvertedComp\",\"ConvertedComp\",\"ConvertedComp\",\"ConvertedComp\",\"ConvertedComp\",\"ConvertedComp\",\"ConvertedComp\",\"ConvertedComp\",\"ConvertedComp\",\"ConvertedComp\",\"ConvertedComp\",\"ConvertedComp\",\"ConvertedComp\",\"ConvertedComp\",\"ConvertedComp\",\"ConvertedComp\",\"ConvertedComp\",\"ConvertedComp\",\"ConvertedComp\",\"ConvertedComp\",\"ConvertedComp\",\"ConvertedComp\",\"ConvertedComp\",\"ConvertedComp\",\"ConvertedComp\",\"ConvertedComp\",\"ConvertedComp\",\"ConvertedComp\",\"ConvertedComp\",\"ConvertedComp\",\"ConvertedComp\",\"ConvertedComp\",\"ConvertedComp\",\"ConvertedComp\",\"ConvertedComp\",\"ConvertedComp\",\"ConvertedComp\",\"ConvertedComp\",\"ConvertedComp\",\"ConvertedComp\",\"ConvertedComp\",\"ConvertedComp\",\"ConvertedComp\",\"ConvertedComp\",\"ConvertedComp\",\"ConvertedComp\",\"ConvertedComp\",\"ConvertedComp\",\"ConvertedComp\",\"ConvertedComp\",\"ConvertedComp\",\"ConvertedComp\",\"ConvertedComp\",\"ConvertedComp\",\"ConvertedComp\",\"ConvertedComp\",\"ConvertedComp\",\"ConvertedComp\",\"ConvertedComp\",\"ConvertedComp\",\"ConvertedComp\",\"ConvertedComp\",\"ConvertedComp\",\"ConvertedComp\",\"ConvertedComp\",\"ConvertedComp\",\"ConvertedComp\",\"ConvertedComp\",\"ConvertedComp\",\"ConvertedComp\",\"ConvertedComp\",\"ConvertedComp\",\"ConvertedComp\",\"ConvertedComp\",\"ConvertedComp\",\"ConvertedComp\",\"ConvertedComp\",\"ConvertedComp\",\"ConvertedComp\",\"ConvertedComp\",\"ConvertedComp\",\"ConvertedComp\",\"ConvertedComp\",\"ConvertedComp\",\"ConvertedComp\",\"ConvertedComp\",\"ConvertedComp\",\"ConvertedComp\",\"ConvertedComp\",\"ConvertedComp\",\"ConvertedComp\",\"ConvertedComp\",\"ConvertedComp\",\"ConvertedComp\",\"ConvertedComp\",\"ConvertedComp\",\"ConvertedComp\",\"ConvertedComp\",\"ConvertedComp\",\"ConvertedComp\",\"ConvertedComp\",\"ConvertedComp\",\"ConvertedComp\",\"ConvertedComp\",\"ConvertedComp\",\"ConvertedComp\",\"ConvertedComp\",\"ConvertedComp\",\"ConvertedComp\",\"ConvertedComp\",\"ConvertedComp\",\"ConvertedComp\",\"ConvertedComp\",\"ConvertedComp\",\"ConvertedComp\",\"ConvertedComp\",\"ConvertedComp\",\"ConvertedComp\",\"ConvertedComp\",\"ConvertedComp\",\"ConvertedComp\",\"ConvertedComp\",\"ConvertedComp\",\"ConvertedComp\",\"ConvertedComp\",\"ConvertedComp\",\"ConvertedComp\",\"ConvertedComp\",\"ConvertedComp\",\"ConvertedComp\",\"ConvertedComp\",\"ConvertedComp\",\"ConvertedComp\",\"ConvertedComp\",\"ConvertedComp\",\"ConvertedComp\",\"ConvertedComp\",\"ConvertedComp\",\"ConvertedComp\",\"ConvertedComp\",\"ConvertedComp\",\"ConvertedComp\",\"ConvertedComp\",\"ConvertedComp\",\"ConvertedComp\",\"ConvertedComp\",\"ConvertedComp\",\"ConvertedComp\",\"ConvertedComp\",\"ConvertedComp\",\"ConvertedComp\",\"ConvertedComp\",\"ConvertedComp\",\"ConvertedComp\",\"ConvertedComp\",\"ConvertedComp\",\"ConvertedComp\",\"ConvertedComp\",\"ConvertedComp\",\"ConvertedComp\",\"ConvertedComp\",\"ConvertedComp\",\"ConvertedComp\",\"ConvertedComp\",\"ConvertedComp\",\"ConvertedComp\",\"ConvertedComp\",\"ConvertedComp\",\"ConvertedComp\",\"ConvertedComp\",\"ConvertedComp\",\"ConvertedComp\",\"ConvertedComp\",\"ConvertedComp\",\"ConvertedComp\",\"ConvertedComp\",\"ConvertedComp\",\"ConvertedComp\",\"ConvertedComp\",\"ConvertedComp\",\"ConvertedComp\",\"ConvertedComp\",\"ConvertedComp\",\"ConvertedComp\",\"ConvertedComp\",\"ConvertedComp\",\"ConvertedComp\",\"ConvertedComp\",\"ConvertedComp\",\"ConvertedComp\",\"ConvertedComp\",\"ConvertedComp\",\"ConvertedComp\",\"ConvertedComp\",\"ConvertedComp\",\"ConvertedComp\",\"ConvertedComp\",\"ConvertedComp\",\"ConvertedComp\",\"ConvertedComp\",\"ConvertedComp\",\"ConvertedComp\",\"ConvertedComp\",\"ConvertedComp\",\"ConvertedComp\",\"ConvertedComp\",\"ConvertedComp\",\"ConvertedComp\",\"ConvertedComp\",\"ConvertedComp\",\"ConvertedComp\",\"ConvertedComp\",\"ConvertedComp\",\"ConvertedComp\",\"ConvertedComp\",\"ConvertedComp\",\"ConvertedComp\",\"ConvertedComp\",\"ConvertedComp\",\"ConvertedComp\",\"ConvertedComp\",\"ConvertedComp\",\"ConvertedComp\",\"ConvertedComp\",\"ConvertedComp\",\"ConvertedComp\",\"ConvertedComp\",\"ConvertedComp\",\"ConvertedComp\",\"ConvertedComp\",\"ConvertedComp\",\"ConvertedComp\",\"ConvertedComp\",\"ConvertedComp\",\"ConvertedComp\",\"ConvertedComp\",\"ConvertedComp\",\"ConvertedComp\",\"ConvertedComp\",\"ConvertedComp\",\"ConvertedComp\",\"ConvertedComp\",\"ConvertedComp\",\"ConvertedComp\",\"ConvertedComp\",\"ConvertedComp\",\"ConvertedComp\",\"ConvertedComp\",\"ConvertedComp\",\"ConvertedComp\",\"ConvertedComp\",\"ConvertedComp\",\"ConvertedComp\",\"ConvertedComp\",\"ConvertedComp\",\"ConvertedComp\",\"ConvertedComp\",\"ConvertedComp\",\"ConvertedComp\",\"ConvertedComp\",\"ConvertedComp\",\"ConvertedComp\",\"ConvertedComp\",\"ConvertedComp\",\"ConvertedComp\",\"ConvertedComp\",\"ConvertedComp\",\"ConvertedComp\",\"ConvertedComp\",\"ConvertedComp\",\"ConvertedComp\",\"ConvertedComp\",\"ConvertedComp\",\"ConvertedComp\",\"ConvertedComp\",\"ConvertedComp\",\"ConvertedComp\",\"ConvertedComp\",\"ConvertedComp\",\"ConvertedComp\",\"ConvertedComp\",\"ConvertedComp\",\"ConvertedComp\",\"ConvertedComp\",\"ConvertedComp\",\"ConvertedComp\",\"ConvertedComp\",\"ConvertedComp\",\"ConvertedComp\",\"ConvertedComp\",\"ConvertedComp\",\"ConvertedComp\",\"ConvertedComp\",\"ConvertedComp\",\"ConvertedComp\",\"ConvertedComp\",\"ConvertedComp\",\"ConvertedComp\",\"ConvertedComp\",\"ConvertedComp\",\"ConvertedComp\",\"ConvertedComp\",\"ConvertedComp\",\"ConvertedComp\",\"ConvertedComp\",\"ConvertedComp\",\"ConvertedComp\",\"ConvertedComp\",\"ConvertedComp\",\"ConvertedComp\",\"ConvertedComp\",\"ConvertedComp\",\"ConvertedComp\",\"ConvertedComp\",\"ConvertedComp\",\"ConvertedComp\",\"ConvertedComp\",\"ConvertedComp\",\"ConvertedComp\",\"ConvertedComp\",\"ConvertedComp\",\"ConvertedComp\",\"ConvertedComp\",\"ConvertedComp\",\"ConvertedComp\",\"ConvertedComp\",\"ConvertedComp\",\"ConvertedComp\",\"ConvertedComp\",\"ConvertedComp\",\"ConvertedComp\",\"ConvertedComp\",\"ConvertedComp\",\"ConvertedComp\",\"ConvertedComp\",\"ConvertedComp\",\"ConvertedComp\",\"ConvertedComp\",\"ConvertedComp\",\"ConvertedComp\",\"ConvertedComp\",\"ConvertedComp\",\"ConvertedComp\",\"ConvertedComp\",\"ConvertedComp\",\"ConvertedComp\",\"ConvertedComp\",\"ConvertedComp\",\"ConvertedComp\",\"ConvertedComp\",\"ConvertedComp\",\"ConvertedComp\",\"ConvertedComp\",\"ConvertedComp\",\"ConvertedComp\",\"ConvertedComp\",\"ConvertedComp\",\"ConvertedComp\",\"ConvertedComp\",\"ConvertedComp\",\"ConvertedComp\",\"ConvertedComp\",\"ConvertedComp\",\"ConvertedComp\",\"ConvertedComp\",\"ConvertedComp\",\"ConvertedComp\",\"ConvertedComp\",\"ConvertedComp\",\"ConvertedComp\",\"ConvertedComp\",\"ConvertedComp\",\"ConvertedComp\",\"ConvertedComp\",\"ConvertedComp\",\"ConvertedComp\",\"ConvertedComp\",\"ConvertedComp\",\"ConvertedComp\",\"ConvertedComp\",\"ConvertedComp\",\"ConvertedComp\",\"ConvertedComp\",\"ConvertedComp\",\"ConvertedComp\",\"ConvertedComp\",\"ConvertedComp\",\"ConvertedComp\",\"ConvertedComp\",\"ConvertedComp\",\"ConvertedComp\",\"ConvertedComp\",\"ConvertedComp\",\"ConvertedComp\",\"ConvertedComp\",\"ConvertedComp\",\"ConvertedComp\",\"ConvertedComp\",\"ConvertedComp\",\"ConvertedComp\",\"ConvertedComp\",\"ConvertedComp\",\"ConvertedComp\",\"ConvertedComp\",\"ConvertedComp\",\"ConvertedComp\",\"ConvertedComp\",\"ConvertedComp\",\"ConvertedComp\",\"ConvertedComp\",\"ConvertedComp\",\"ConvertedComp\",\"ConvertedComp\",\"ConvertedComp\",\"ConvertedComp\",\"ConvertedComp\",\"ConvertedComp\",\"ConvertedComp\",\"ConvertedComp\",\"ConvertedComp\",\"ConvertedComp\",\"ConvertedComp\",\"ConvertedComp\",\"ConvertedComp\",\"ConvertedComp\",\"ConvertedComp\",\"ConvertedComp\",\"ConvertedComp\",\"ConvertedComp\",\"ConvertedComp\",\"ConvertedComp\",\"ConvertedComp\",\"ConvertedComp\",\"ConvertedComp\",\"ConvertedComp\",\"ConvertedComp\",\"ConvertedComp\",\"ConvertedComp\",\"ConvertedComp\",\"ConvertedComp\",\"ConvertedComp\",\"ConvertedComp\",\"ConvertedComp\",\"ConvertedComp\",\"ConvertedComp\",\"ConvertedComp\",\"ConvertedComp\",\"ConvertedComp\",\"ConvertedComp\",\"ConvertedComp\",\"ConvertedComp\",\"ConvertedComp\",\"ConvertedComp\",\"ConvertedComp\",\"ConvertedComp\",\"ConvertedComp\",\"ConvertedComp\",\"ConvertedComp\",\"ConvertedComp\",\"ConvertedComp\",\"ConvertedComp\",\"ConvertedComp\",\"ConvertedComp\",\"ConvertedComp\",\"ConvertedComp\",\"ConvertedComp\",\"ConvertedComp\",\"ConvertedComp\",\"ConvertedComp\",\"ConvertedComp\",\"ConvertedComp\",\"ConvertedComp\",\"ConvertedComp\",\"ConvertedComp\",\"ConvertedComp\",\"ConvertedComp\",\"ConvertedComp\",\"ConvertedComp\",\"ConvertedComp\",\"ConvertedComp\",\"ConvertedComp\",\"ConvertedComp\",\"ConvertedComp\",\"ConvertedComp\",\"ConvertedComp\",\"ConvertedComp\",\"ConvertedComp\",\"ConvertedComp\",\"ConvertedComp\",\"ConvertedComp\",\"ConvertedComp\",\"ConvertedComp\",\"ConvertedComp\",\"ConvertedComp\",\"ConvertedComp\",\"ConvertedComp\",\"ConvertedComp\",\"ConvertedComp\",\"ConvertedComp\",\"ConvertedComp\",\"ConvertedComp\",\"ConvertedComp\",\"ConvertedComp\",\"ConvertedComp\",\"ConvertedComp\",\"ConvertedComp\",\"ConvertedComp\",\"ConvertedComp\",\"ConvertedComp\",\"ConvertedComp\",\"ConvertedComp\",\"ConvertedComp\",\"ConvertedComp\",\"ConvertedComp\",\"ConvertedComp\",\"ConvertedComp\",\"ConvertedComp\",\"ConvertedComp\",\"ConvertedComp\",\"ConvertedComp\",\"ConvertedComp\",\"ConvertedComp\",\"ConvertedComp\",\"ConvertedComp\",\"ConvertedComp\",\"ConvertedComp\",\"ConvertedComp\",\"ConvertedComp\",\"ConvertedComp\",\"ConvertedComp\",\"ConvertedComp\",\"ConvertedComp\",\"ConvertedComp\",\"ConvertedComp\",\"ConvertedComp\",\"ConvertedComp\",\"ConvertedComp\",\"ConvertedComp\",\"ConvertedComp\",\"ConvertedComp\",\"ConvertedComp\",\"ConvertedComp\",\"ConvertedComp\",\"ConvertedComp\",\"ConvertedComp\",\"ConvertedComp\",\"ConvertedComp\",\"ConvertedComp\",\"ConvertedComp\",\"ConvertedComp\",\"ConvertedComp\",\"ConvertedComp\",\"ConvertedComp\",\"ConvertedComp\",\"ConvertedComp\",\"ConvertedComp\",\"ConvertedComp\",\"ConvertedComp\",\"ConvertedComp\",\"ConvertedComp\",\"ConvertedComp\",\"ConvertedComp\",\"ConvertedComp\",\"ConvertedComp\",\"ConvertedComp\",\"ConvertedComp\",\"ConvertedComp\",\"ConvertedComp\",\"ConvertedComp\",\"ConvertedComp\",\"ConvertedComp\",\"ConvertedComp\",\"ConvertedComp\",\"ConvertedComp\",\"ConvertedComp\",\"ConvertedComp\",\"ConvertedComp\",\"ConvertedComp\",\"ConvertedComp\",\"ConvertedComp\",\"ConvertedComp\",\"ConvertedComp\",\"ConvertedComp\",\"ConvertedComp\",\"ConvertedComp\",\"ConvertedComp\",\"ConvertedComp\",\"ConvertedComp\",\"ConvertedComp\",\"ConvertedComp\",\"ConvertedComp\",\"ConvertedComp\",\"ConvertedComp\",\"ConvertedComp\",\"ConvertedComp\",\"ConvertedComp\",\"ConvertedComp\",\"ConvertedComp\",\"ConvertedComp\",\"ConvertedComp\",\"ConvertedComp\",\"ConvertedComp\",\"ConvertedComp\",\"ConvertedComp\",\"ConvertedComp\",\"ConvertedComp\",\"ConvertedComp\",\"ConvertedComp\",\"ConvertedComp\",\"ConvertedComp\",\"ConvertedComp\",\"ConvertedComp\",\"ConvertedComp\",\"ConvertedComp\",\"ConvertedComp\",\"ConvertedComp\",\"ConvertedComp\",\"ConvertedComp\",\"ConvertedComp\",\"ConvertedComp\",\"ConvertedComp\",\"ConvertedComp\",\"ConvertedComp\",\"ConvertedComp\",\"ConvertedComp\",\"ConvertedComp\",\"ConvertedComp\",\"ConvertedComp\",\"ConvertedComp\",\"ConvertedComp\",\"ConvertedComp\",\"ConvertedComp\",\"ConvertedComp\",\"ConvertedComp\",\"ConvertedComp\",\"ConvertedComp\",\"ConvertedComp\",\"ConvertedComp\",\"ConvertedComp\",\"ConvertedComp\",\"ConvertedComp\",\"ConvertedComp\",\"ConvertedComp\",\"ConvertedComp\",\"ConvertedComp\",\"ConvertedComp\",\"ConvertedComp\",\"ConvertedComp\",\"ConvertedComp\",\"ConvertedComp\",\"ConvertedComp\",\"ConvertedComp\",\"ConvertedComp\",\"ConvertedComp\",\"ConvertedComp\",\"ConvertedComp\",\"ConvertedComp\",\"ConvertedComp\",\"ConvertedComp\",\"ConvertedComp\",\"ConvertedComp\",\"ConvertedComp\",\"ConvertedComp\",\"ConvertedComp\",\"ConvertedComp\",\"ConvertedComp\",\"ConvertedComp\",\"ConvertedComp\",\"ConvertedComp\",\"ConvertedComp\",\"ConvertedComp\",\"ConvertedComp\",\"ConvertedComp\",\"ConvertedComp\",\"ConvertedComp\",\"ConvertedComp\",\"ConvertedComp\",\"ConvertedComp\",\"ConvertedComp\",\"ConvertedComp\",\"ConvertedComp\",\"ConvertedComp\",\"ConvertedComp\",\"ConvertedComp\",\"ConvertedComp\",\"ConvertedComp\",\"ConvertedComp\",\"ConvertedComp\",\"ConvertedComp\",\"ConvertedComp\",\"ConvertedComp\",\"ConvertedComp\",\"ConvertedComp\",\"ConvertedComp\",\"ConvertedComp\",\"ConvertedComp\",\"ConvertedComp\",\"ConvertedComp\",\"ConvertedComp\",\"ConvertedComp\",\"ConvertedComp\",\"ConvertedComp\",\"ConvertedComp\",\"ConvertedComp\",\"ConvertedComp\",\"ConvertedComp\",\"ConvertedComp\",\"ConvertedComp\",\"ConvertedComp\",\"ConvertedComp\",\"ConvertedComp\",\"ConvertedComp\",\"ConvertedComp\",\"ConvertedComp\",\"ConvertedComp\",\"ConvertedComp\",\"ConvertedComp\",\"ConvertedComp\",\"ConvertedComp\",\"ConvertedComp\",\"ConvertedComp\",\"ConvertedComp\",\"ConvertedComp\",\"ConvertedComp\",\"ConvertedComp\",\"ConvertedComp\",\"ConvertedComp\",\"ConvertedComp\",\"ConvertedComp\",\"ConvertedComp\",\"ConvertedComp\",\"ConvertedComp\",\"ConvertedComp\",\"ConvertedComp\",\"ConvertedComp\",\"ConvertedComp\",\"ConvertedComp\",\"ConvertedComp\",\"ConvertedComp\",\"ConvertedComp\",\"ConvertedComp\",\"ConvertedComp\",\"ConvertedComp\",\"ConvertedComp\",\"ConvertedComp\",\"ConvertedComp\",\"ConvertedComp\",\"ConvertedComp\",\"ConvertedComp\",\"ConvertedComp\",\"ConvertedComp\",\"ConvertedComp\",\"ConvertedComp\",\"ConvertedComp\",\"ConvertedComp\",\"ConvertedComp\",\"ConvertedComp\",\"ConvertedComp\",\"ConvertedComp\",\"ConvertedComp\",\"ConvertedComp\",\"ConvertedComp\",\"ConvertedComp\",\"ConvertedComp\",\"ConvertedComp\",\"ConvertedComp\",\"ConvertedComp\",\"ConvertedComp\",\"ConvertedComp\",\"ConvertedComp\",\"ConvertedComp\",\"ConvertedComp\",\"ConvertedComp\",\"ConvertedComp\",\"ConvertedComp\",\"ConvertedComp\",\"ConvertedComp\",\"ConvertedComp\",\"ConvertedComp\",\"ConvertedComp\",\"ConvertedComp\",\"ConvertedComp\",\"ConvertedComp\",\"ConvertedComp\",\"ConvertedComp\",\"ConvertedComp\",\"ConvertedComp\",\"ConvertedComp\",\"ConvertedComp\",\"ConvertedComp\",\"ConvertedComp\",\"ConvertedComp\",\"ConvertedComp\",\"ConvertedComp\",\"ConvertedComp\",\"ConvertedComp\",\"ConvertedComp\",\"ConvertedComp\",\"ConvertedComp\",\"ConvertedComp\",\"ConvertedComp\",\"ConvertedComp\",\"ConvertedComp\",\"ConvertedComp\",\"ConvertedComp\",\"ConvertedComp\",\"ConvertedComp\",\"ConvertedComp\",\"ConvertedComp\",\"ConvertedComp\",\"ConvertedComp\",\"ConvertedComp\",\"ConvertedComp\",\"ConvertedComp\",\"ConvertedComp\",\"ConvertedComp\",\"ConvertedComp\",\"ConvertedComp\",\"ConvertedComp\",\"ConvertedComp\",\"ConvertedComp\",\"ConvertedComp\",\"ConvertedComp\",\"ConvertedComp\",\"ConvertedComp\",\"ConvertedComp\",\"ConvertedComp\",\"ConvertedComp\",\"ConvertedComp\",\"ConvertedComp\",\"ConvertedComp\",\"ConvertedComp\",\"ConvertedComp\",\"ConvertedComp\",\"ConvertedComp\",\"ConvertedComp\",\"ConvertedComp\",\"ConvertedComp\",\"ConvertedComp\",\"ConvertedComp\",\"ConvertedComp\",\"ConvertedComp\",\"ConvertedComp\",\"ConvertedComp\",\"ConvertedComp\",\"ConvertedComp\",\"ConvertedComp\",\"ConvertedComp\",\"ConvertedComp\",\"ConvertedComp\",\"ConvertedComp\",\"ConvertedComp\",\"ConvertedComp\",\"ConvertedComp\",\"ConvertedComp\",\"ConvertedComp\",\"ConvertedComp\",\"ConvertedComp\",\"ConvertedComp\",\"ConvertedComp\",\"ConvertedComp\",\"ConvertedComp\",\"ConvertedComp\",\"ConvertedComp\",\"ConvertedComp\",\"ConvertedComp\",\"ConvertedComp\",\"ConvertedComp\",\"ConvertedComp\",\"ConvertedComp\",\"ConvertedComp\",\"ConvertedComp\",\"ConvertedComp\",\"ConvertedComp\",\"ConvertedComp\",\"ConvertedComp\",\"ConvertedComp\",\"ConvertedComp\",\"ConvertedComp\",\"ConvertedComp\",\"ConvertedComp\",\"ConvertedComp\",\"ConvertedComp\",\"ConvertedComp\",\"ConvertedComp\",\"ConvertedComp\",\"ConvertedComp\",\"ConvertedComp\",\"ConvertedComp\",\"ConvertedComp\",\"ConvertedComp\",\"ConvertedComp\",\"ConvertedComp\",\"ConvertedComp\",\"ConvertedComp\",\"ConvertedComp\",\"ConvertedComp\",\"ConvertedComp\",\"ConvertedComp\",\"ConvertedComp\",\"ConvertedComp\",\"ConvertedComp\",\"ConvertedComp\",\"ConvertedComp\",\"ConvertedComp\",\"ConvertedComp\",\"ConvertedComp\",\"ConvertedComp\",\"ConvertedComp\",\"ConvertedComp\",\"ConvertedComp\",\"ConvertedComp\",\"ConvertedComp\",\"ConvertedComp\",\"ConvertedComp\",\"ConvertedComp\",\"ConvertedComp\",\"ConvertedComp\",\"ConvertedComp\",\"ConvertedComp\",\"ConvertedComp\",\"ConvertedComp\",\"ConvertedComp\",\"ConvertedComp\",\"ConvertedComp\",\"ConvertedComp\",\"ConvertedComp\",\"ConvertedComp\",\"ConvertedComp\",\"ConvertedComp\",\"ConvertedComp\",\"ConvertedComp\",\"ConvertedComp\",\"ConvertedComp\",\"ConvertedComp\",\"ConvertedComp\",\"ConvertedComp\",\"ConvertedComp\",\"ConvertedComp\",\"ConvertedComp\",\"ConvertedComp\",\"ConvertedComp\",\"ConvertedComp\",\"ConvertedComp\",\"ConvertedComp\",\"ConvertedComp\",\"ConvertedComp\",\"ConvertedComp\",\"ConvertedComp\",\"ConvertedComp\",\"ConvertedComp\",\"ConvertedComp\",\"ConvertedComp\",\"ConvertedComp\",\"ConvertedComp\",\"ConvertedComp\",\"ConvertedComp\",\"ConvertedComp\",\"ConvertedComp\",\"ConvertedComp\",\"ConvertedComp\",\"ConvertedComp\",\"ConvertedComp\",\"ConvertedComp\",\"ConvertedComp\",\"ConvertedComp\",\"ConvertedComp\",\"ConvertedComp\",\"ConvertedComp\",\"ConvertedComp\",\"ConvertedComp\",\"ConvertedComp\",\"ConvertedComp\",\"ConvertedComp\",\"ConvertedComp\",\"ConvertedComp\",\"ConvertedComp\",\"ConvertedComp\",\"ConvertedComp\",\"ConvertedComp\",\"ConvertedComp\",\"ConvertedComp\",\"ConvertedComp\",\"ConvertedComp\",\"ConvertedComp\",\"ConvertedComp\",\"ConvertedComp\",\"ConvertedComp\",\"ConvertedComp\",\"ConvertedComp\",\"ConvertedComp\",\"ConvertedComp\",\"ConvertedComp\",\"ConvertedComp\",\"ConvertedComp\",\"ConvertedComp\",\"ConvertedComp\",\"ConvertedComp\",\"ConvertedComp\",\"ConvertedComp\",\"ConvertedComp\",\"ConvertedComp\",\"ConvertedComp\",\"ConvertedComp\",\"ConvertedComp\",\"ConvertedComp\",\"ConvertedComp\",\"ConvertedComp\",\"ConvertedComp\",\"ConvertedComp\",\"ConvertedComp\",\"ConvertedComp\",\"ConvertedComp\",\"ConvertedComp\",\"ConvertedComp\",\"ConvertedComp\",\"ConvertedComp\",\"ConvertedComp\",\"ConvertedComp\",\"ConvertedComp\",\"ConvertedComp\",\"ConvertedComp\",\"ConvertedComp\",\"ConvertedComp\",\"ConvertedComp\",\"ConvertedComp\",\"ConvertedComp\",\"ConvertedComp\",\"ConvertedComp\",\"ConvertedComp\",\"ConvertedComp\",\"ConvertedComp\",\"ConvertedComp\",\"ConvertedComp\",\"ConvertedComp\",\"ConvertedComp\",\"ConvertedComp\",\"ConvertedComp\",\"ConvertedComp\",\"ConvertedComp\",\"ConvertedComp\",\"ConvertedComp\",\"ConvertedComp\",\"ConvertedComp\",\"ConvertedComp\",\"ConvertedComp\",\"ConvertedComp\",\"ConvertedComp\",\"ConvertedComp\",\"ConvertedComp\",\"ConvertedComp\",\"ConvertedComp\",\"ConvertedComp\",\"ConvertedComp\",\"ConvertedComp\",\"ConvertedComp\",\"ConvertedComp\",\"ConvertedComp\",\"ConvertedComp\",\"ConvertedComp\",\"ConvertedComp\",\"ConvertedComp\",\"ConvertedComp\",\"ConvertedComp\",\"ConvertedComp\",\"ConvertedComp\",\"ConvertedComp\",\"ConvertedComp\",\"ConvertedComp\",\"ConvertedComp\",\"ConvertedComp\",\"ConvertedComp\",\"ConvertedComp\",\"ConvertedComp\",\"ConvertedComp\",\"ConvertedComp\",\"ConvertedComp\",\"ConvertedComp\",\"ConvertedComp\",\"ConvertedComp\",\"ConvertedComp\",\"ConvertedComp\",\"ConvertedComp\",\"ConvertedComp\",\"ConvertedComp\",\"ConvertedComp\",\"ConvertedComp\",\"ConvertedComp\",\"ConvertedComp\",\"ConvertedComp\",\"ConvertedComp\",\"ConvertedComp\",\"ConvertedComp\",\"ConvertedComp\",\"ConvertedComp\",\"ConvertedComp\",\"ConvertedComp\",\"ConvertedComp\",\"ConvertedComp\",\"ConvertedComp\",\"ConvertedComp\",\"ConvertedComp\",\"ConvertedComp\",\"ConvertedComp\",\"ConvertedComp\",\"ConvertedComp\",\"ConvertedComp\",\"ConvertedComp\",\"ConvertedComp\",\"ConvertedComp\",\"ConvertedComp\",\"ConvertedComp\",\"ConvertedComp\",\"ConvertedComp\",\"ConvertedComp\",\"ConvertedComp\",\"ConvertedComp\",\"ConvertedComp\",\"ConvertedComp\",\"ConvertedComp\",\"ConvertedComp\",\"ConvertedComp\",\"ConvertedComp\",\"ConvertedComp\",\"ConvertedComp\",\"ConvertedComp\",\"ConvertedComp\",\"ConvertedComp\",\"ConvertedComp\",\"ConvertedComp\",\"ConvertedComp\",\"ConvertedComp\",\"ConvertedComp\",\"ConvertedComp\",\"ConvertedComp\",\"ConvertedComp\",\"ConvertedComp\",\"ConvertedComp\",\"ConvertedComp\",\"ConvertedComp\",\"ConvertedComp\",\"ConvertedComp\",\"ConvertedComp\",\"ConvertedComp\",\"ConvertedComp\",\"ConvertedComp\",\"ConvertedComp\",\"ConvertedComp\",\"ConvertedComp\",\"ConvertedComp\",\"ConvertedComp\",\"ConvertedComp\",\"ConvertedComp\",\"ConvertedComp\",\"ConvertedComp\",\"ConvertedComp\",\"ConvertedComp\",\"ConvertedComp\",\"ConvertedComp\",\"ConvertedComp\",\"ConvertedComp\",\"ConvertedComp\",\"ConvertedComp\",\"ConvertedComp\",\"ConvertedComp\",\"ConvertedComp\",\"ConvertedComp\",\"ConvertedComp\",\"ConvertedComp\",\"ConvertedComp\",\"ConvertedComp\",\"ConvertedComp\",\"ConvertedComp\",\"ConvertedComp\",\"ConvertedComp\",\"ConvertedComp\",\"ConvertedComp\",\"ConvertedComp\",\"ConvertedComp\",\"ConvertedComp\",\"ConvertedComp\",\"ConvertedComp\",\"ConvertedComp\",\"ConvertedComp\",\"ConvertedComp\",\"ConvertedComp\",\"ConvertedComp\",\"ConvertedComp\",\"ConvertedComp\",\"ConvertedComp\",\"ConvertedComp\",\"ConvertedComp\",\"ConvertedComp\",\"ConvertedComp\",\"ConvertedComp\",\"ConvertedComp\",\"ConvertedComp\",\"ConvertedComp\",\"ConvertedComp\",\"ConvertedComp\",\"ConvertedComp\",\"ConvertedComp\",\"ConvertedComp\",\"ConvertedComp\",\"ConvertedComp\",\"ConvertedComp\",\"ConvertedComp\",\"ConvertedComp\",\"ConvertedComp\",\"ConvertedComp\",\"ConvertedComp\",\"ConvertedComp\",\"ConvertedComp\",\"ConvertedComp\",\"ConvertedComp\",\"ConvertedComp\",\"ConvertedComp\",\"ConvertedComp\",\"ConvertedComp\",\"ConvertedComp\",\"ConvertedComp\",\"ConvertedComp\",\"ConvertedComp\",\"ConvertedComp\",\"ConvertedComp\",\"ConvertedComp\",\"ConvertedComp\",\"ConvertedComp\",\"ConvertedComp\",\"ConvertedComp\",\"ConvertedComp\",\"ConvertedComp\",\"ConvertedComp\",\"ConvertedComp\",\"ConvertedComp\",\"ConvertedComp\",\"ConvertedComp\",\"ConvertedComp\",\"ConvertedComp\",\"ConvertedComp\",\"ConvertedComp\",\"ConvertedComp\",\"ConvertedComp\",\"ConvertedComp\",\"ConvertedComp\",\"ConvertedComp\",\"ConvertedComp\",\"ConvertedComp\",\"ConvertedComp\",\"ConvertedComp\",\"ConvertedComp\",\"ConvertedComp\",\"ConvertedComp\",\"ConvertedComp\",\"ConvertedComp\",\"ConvertedComp\",\"ConvertedComp\",\"ConvertedComp\",\"ConvertedComp\",\"ConvertedComp\",\"ConvertedComp\",\"ConvertedComp\",\"ConvertedComp\",\"ConvertedComp\",\"ConvertedComp\",\"ConvertedComp\",\"ConvertedComp\",\"ConvertedComp\",\"ConvertedComp\",\"ConvertedComp\",\"ConvertedComp\",\"ConvertedComp\",\"ConvertedComp\",\"ConvertedComp\",\"ConvertedComp\",\"ConvertedComp\",\"ConvertedComp\",\"ConvertedComp\",\"ConvertedComp\",\"ConvertedComp\",\"ConvertedComp\",\"ConvertedComp\",\"ConvertedComp\",\"ConvertedComp\",\"ConvertedComp\",\"ConvertedComp\",\"ConvertedComp\",\"ConvertedComp\",\"ConvertedComp\",\"ConvertedComp\",\"ConvertedComp\",\"ConvertedComp\",\"ConvertedComp\",\"ConvertedComp\",\"ConvertedComp\",\"ConvertedComp\",\"ConvertedComp\",\"ConvertedComp\",\"ConvertedComp\",\"ConvertedComp\",\"ConvertedComp\",\"ConvertedComp\",\"ConvertedComp\",\"ConvertedComp\",\"ConvertedComp\",\"ConvertedComp\",\"ConvertedComp\",\"ConvertedComp\",\"ConvertedComp\",\"ConvertedComp\",\"ConvertedComp\",\"ConvertedComp\",\"ConvertedComp\",\"ConvertedComp\",\"ConvertedComp\",\"ConvertedComp\",\"ConvertedComp\",\"ConvertedComp\",\"ConvertedComp\",\"ConvertedComp\",\"ConvertedComp\",\"ConvertedComp\",\"ConvertedComp\",\"ConvertedComp\",\"ConvertedComp\",\"ConvertedComp\",\"ConvertedComp\",\"ConvertedComp\",\"ConvertedComp\",\"ConvertedComp\",\"ConvertedComp\",\"ConvertedComp\",\"ConvertedComp\",\"ConvertedComp\",\"ConvertedComp\",\"ConvertedComp\",\"ConvertedComp\",\"ConvertedComp\",\"ConvertedComp\",\"ConvertedComp\",\"ConvertedComp\",\"ConvertedComp\",\"ConvertedComp\",\"ConvertedComp\",\"ConvertedComp\",\"ConvertedComp\",\"ConvertedComp\",\"ConvertedComp\",\"ConvertedComp\",\"ConvertedComp\",\"ConvertedComp\",\"ConvertedComp\",\"ConvertedComp\",\"ConvertedComp\",\"ConvertedComp\",\"ConvertedComp\",\"ConvertedComp\",\"ConvertedComp\",\"ConvertedComp\",\"ConvertedComp\",\"ConvertedComp\",\"ConvertedComp\",\"ConvertedComp\",\"ConvertedComp\",\"ConvertedComp\",\"ConvertedComp\",\"ConvertedComp\",\"ConvertedComp\",\"ConvertedComp\",\"ConvertedComp\",\"ConvertedComp\",\"ConvertedComp\",\"ConvertedComp\",\"ConvertedComp\",\"ConvertedComp\",\"ConvertedComp\",\"ConvertedComp\",\"ConvertedComp\",\"ConvertedComp\",\"ConvertedComp\",\"ConvertedComp\",\"ConvertedComp\",\"ConvertedComp\",\"ConvertedComp\",\"ConvertedComp\",\"ConvertedComp\",\"ConvertedComp\",\"ConvertedComp\",\"ConvertedComp\",\"ConvertedComp\",\"ConvertedComp\",\"ConvertedComp\",\"ConvertedComp\",\"ConvertedComp\",\"ConvertedComp\",\"ConvertedComp\",\"ConvertedComp\",\"ConvertedComp\",\"ConvertedComp\",\"ConvertedComp\",\"ConvertedComp\",\"ConvertedComp\",\"ConvertedComp\",\"ConvertedComp\",\"ConvertedComp\",\"ConvertedComp\",\"ConvertedComp\",\"ConvertedComp\",\"ConvertedComp\",\"ConvertedComp\",\"ConvertedComp\",\"ConvertedComp\",\"ConvertedComp\",\"ConvertedComp\",\"ConvertedComp\",\"ConvertedComp\",\"ConvertedComp\",\"ConvertedComp\",\"ConvertedComp\",\"ConvertedComp\",\"ConvertedComp\",\"ConvertedComp\",\"ConvertedComp\",\"ConvertedComp\",\"ConvertedComp\",\"ConvertedComp\",\"ConvertedComp\",\"ConvertedComp\",\"ConvertedComp\",\"ConvertedComp\",\"ConvertedComp\",\"ConvertedComp\",\"ConvertedComp\",\"ConvertedComp\",\"ConvertedComp\",\"ConvertedComp\",\"ConvertedComp\",\"ConvertedComp\",\"ConvertedComp\",\"ConvertedComp\",\"ConvertedComp\",\"ConvertedComp\",\"ConvertedComp\",\"ConvertedComp\",\"ConvertedComp\",\"ConvertedComp\",\"ConvertedComp\",\"ConvertedComp\",\"ConvertedComp\",\"ConvertedComp\",\"ConvertedComp\",\"ConvertedComp\",\"ConvertedComp\",\"ConvertedComp\",\"ConvertedComp\",\"ConvertedComp\",\"ConvertedComp\",\"ConvertedComp\",\"ConvertedComp\",\"ConvertedComp\",\"ConvertedComp\",\"ConvertedComp\",\"ConvertedComp\",\"ConvertedComp\",\"ConvertedComp\",\"ConvertedComp\",\"ConvertedComp\",\"ConvertedComp\",\"ConvertedComp\",\"ConvertedComp\",\"ConvertedComp\",\"ConvertedComp\",\"ConvertedComp\",\"ConvertedComp\",\"ConvertedComp\",\"ConvertedComp\",\"ConvertedComp\",\"ConvertedComp\",\"ConvertedComp\",\"ConvertedComp\",\"ConvertedComp\",\"ConvertedComp\",\"ConvertedComp\",\"ConvertedComp\",\"ConvertedComp\",\"ConvertedComp\",\"ConvertedComp\",\"ConvertedComp\",\"ConvertedComp\",\"ConvertedComp\",\"ConvertedComp\",\"ConvertedComp\",\"ConvertedComp\",\"ConvertedComp\",\"ConvertedComp\",\"ConvertedComp\",\"ConvertedComp\",\"ConvertedComp\",\"ConvertedComp\",\"ConvertedComp\",\"ConvertedComp\",\"ConvertedComp\",\"ConvertedComp\",\"ConvertedComp\",\"ConvertedComp\",\"ConvertedComp\",\"ConvertedComp\",\"ConvertedComp\",\"ConvertedComp\",\"ConvertedComp\",\"ConvertedComp\",\"ConvertedComp\",\"ConvertedComp\",\"ConvertedComp\",\"ConvertedComp\",\"ConvertedComp\",\"ConvertedComp\",\"ConvertedComp\",\"ConvertedComp\",\"ConvertedComp\",\"ConvertedComp\",\"ConvertedComp\",\"ConvertedComp\",\"ConvertedComp\",\"ConvertedComp\",\"ConvertedComp\",\"ConvertedComp\",\"ConvertedComp\",\"ConvertedComp\",\"ConvertedComp\",\"ConvertedComp\",\"ConvertedComp\",\"ConvertedComp\",\"ConvertedComp\",\"ConvertedComp\",\"ConvertedComp\",\"ConvertedComp\",\"ConvertedComp\",\"ConvertedComp\",\"ConvertedComp\",\"ConvertedComp\",\"ConvertedComp\",\"ConvertedComp\",\"ConvertedComp\",\"ConvertedComp\",\"ConvertedComp\",\"ConvertedComp\",\"ConvertedComp\",\"ConvertedComp\",\"ConvertedComp\",\"ConvertedComp\",\"ConvertedComp\",\"ConvertedComp\",\"ConvertedComp\",\"ConvertedComp\",\"ConvertedComp\",\"ConvertedComp\",\"ConvertedComp\",\"ConvertedComp\",\"ConvertedComp\",\"ConvertedComp\",\"ConvertedComp\",\"ConvertedComp\",\"ConvertedComp\",\"ConvertedComp\",\"ConvertedComp\",\"ConvertedComp\",\"ConvertedComp\",\"ConvertedComp\",\"ConvertedComp\",\"ConvertedComp\",\"ConvertedComp\",\"ConvertedComp\",\"ConvertedComp\",\"ConvertedComp\",\"ConvertedComp\",\"ConvertedComp\",\"ConvertedComp\",\"ConvertedComp\",\"ConvertedComp\",\"ConvertedComp\",\"ConvertedComp\",\"ConvertedComp\",\"ConvertedComp\",\"ConvertedComp\",\"ConvertedComp\",\"ConvertedComp\",\"ConvertedComp\",\"ConvertedComp\",\"ConvertedComp\",\"ConvertedComp\",\"ConvertedComp\",\"ConvertedComp\",\"ConvertedComp\",\"ConvertedComp\",\"ConvertedComp\",\"ConvertedComp\",\"ConvertedComp\",\"ConvertedComp\",\"ConvertedComp\",\"ConvertedComp\",\"ConvertedComp\",\"ConvertedComp\",\"ConvertedComp\",\"ConvertedComp\",\"ConvertedComp\",\"ConvertedComp\",\"ConvertedComp\",\"ConvertedComp\",\"ConvertedComp\",\"ConvertedComp\",\"ConvertedComp\",\"ConvertedComp\",\"ConvertedComp\",\"ConvertedComp\",\"ConvertedComp\",\"ConvertedComp\",\"ConvertedComp\",\"ConvertedComp\",\"ConvertedComp\",\"ConvertedComp\",\"ConvertedComp\",\"ConvertedComp\",\"ConvertedComp\",\"ConvertedComp\",\"ConvertedComp\",\"ConvertedComp\",\"ConvertedComp\",\"ConvertedComp\",\"ConvertedComp\",\"ConvertedComp\",\"ConvertedComp\",\"ConvertedComp\",\"ConvertedComp\",\"ConvertedComp\",\"ConvertedComp\",\"ConvertedComp\",\"ConvertedComp\",\"ConvertedComp\",\"ConvertedComp\",\"ConvertedComp\",\"ConvertedComp\",\"ConvertedComp\",\"ConvertedComp\",\"ConvertedComp\",\"ConvertedComp\",\"ConvertedComp\",\"ConvertedComp\",\"ConvertedComp\",\"ConvertedComp\",\"ConvertedComp\",\"ConvertedComp\",\"ConvertedComp\",\"ConvertedComp\",\"ConvertedComp\",\"ConvertedComp\",\"ConvertedComp\",\"ConvertedComp\",\"ConvertedComp\",\"ConvertedComp\",\"ConvertedComp\",\"ConvertedComp\",\"ConvertedComp\",\"ConvertedComp\",\"ConvertedComp\",\"ConvertedComp\",\"ConvertedComp\",\"ConvertedComp\",\"ConvertedComp\",\"ConvertedComp\",\"ConvertedComp\",\"ConvertedComp\",\"ConvertedComp\",\"ConvertedComp\",\"ConvertedComp\",\"ConvertedComp\",\"ConvertedComp\",\"ConvertedComp\",\"ConvertedComp\",\"ConvertedComp\",\"ConvertedComp\",\"ConvertedComp\",\"ConvertedComp\",\"ConvertedComp\",\"ConvertedComp\",\"ConvertedComp\",\"ConvertedComp\",\"ConvertedComp\",\"ConvertedComp\",\"ConvertedComp\",\"ConvertedComp\",\"ConvertedComp\",\"ConvertedComp\",\"ConvertedComp\",\"ConvertedComp\",\"ConvertedComp\",\"ConvertedComp\",\"ConvertedComp\",\"ConvertedComp\",\"ConvertedComp\",\"ConvertedComp\",\"ConvertedComp\",\"ConvertedComp\",\"ConvertedComp\",\"ConvertedComp\",\"ConvertedComp\",\"ConvertedComp\",\"ConvertedComp\",\"ConvertedComp\",\"ConvertedComp\",\"ConvertedComp\",\"ConvertedComp\",\"ConvertedComp\",\"ConvertedComp\",\"ConvertedComp\",\"ConvertedComp\",\"ConvertedComp\",\"ConvertedComp\",\"ConvertedComp\",\"ConvertedComp\",\"ConvertedComp\",\"ConvertedComp\",\"ConvertedComp\",\"ConvertedComp\",\"ConvertedComp\",\"ConvertedComp\",\"ConvertedComp\",\"ConvertedComp\",\"ConvertedComp\",\"ConvertedComp\",\"ConvertedComp\",\"ConvertedComp\",\"ConvertedComp\",\"ConvertedComp\",\"ConvertedComp\",\"ConvertedComp\",\"ConvertedComp\",\"ConvertedComp\",\"ConvertedComp\",\"ConvertedComp\",\"ConvertedComp\",\"ConvertedComp\",\"ConvertedComp\",\"ConvertedComp\",\"ConvertedComp\",\"ConvertedComp\",\"ConvertedComp\",\"ConvertedComp\",\"ConvertedComp\",\"ConvertedComp\",\"ConvertedComp\",\"ConvertedComp\",\"ConvertedComp\",\"ConvertedComp\",\"ConvertedComp\",\"ConvertedComp\",\"ConvertedComp\",\"ConvertedComp\",\"ConvertedComp\",\"ConvertedComp\",\"ConvertedComp\",\"ConvertedComp\",\"ConvertedComp\",\"ConvertedComp\",\"ConvertedComp\",\"ConvertedComp\",\"ConvertedComp\",\"ConvertedComp\",\"ConvertedComp\",\"ConvertedComp\",\"ConvertedComp\",\"ConvertedComp\",\"ConvertedComp\",\"ConvertedComp\",\"ConvertedComp\",\"ConvertedComp\",\"ConvertedComp\",\"ConvertedComp\",\"ConvertedComp\",\"ConvertedComp\",\"ConvertedComp\",\"ConvertedComp\",\"ConvertedComp\",\"ConvertedComp\",\"ConvertedComp\",\"ConvertedComp\",\"ConvertedComp\",\"ConvertedComp\",\"ConvertedComp\",\"ConvertedComp\",\"ConvertedComp\",\"ConvertedComp\",\"ConvertedComp\",\"ConvertedComp\",\"ConvertedComp\",\"ConvertedComp\",\"ConvertedComp\",\"ConvertedComp\",\"ConvertedComp\",\"ConvertedComp\",\"ConvertedComp\",\"ConvertedComp\",\"ConvertedComp\",\"ConvertedComp\",\"ConvertedComp\",\"ConvertedComp\",\"ConvertedComp\",\"ConvertedComp\",\"ConvertedComp\",\"ConvertedComp\",\"ConvertedComp\",\"ConvertedComp\",\"ConvertedComp\",\"ConvertedComp\",\"ConvertedComp\",\"ConvertedComp\",\"ConvertedComp\",\"ConvertedComp\",\"ConvertedComp\",\"ConvertedComp\",\"ConvertedComp\",\"ConvertedComp\",\"ConvertedComp\",\"ConvertedComp\",\"ConvertedComp\",\"ConvertedComp\",\"ConvertedComp\",\"ConvertedComp\",\"ConvertedComp\",\"ConvertedComp\",\"ConvertedComp\",\"ConvertedComp\",\"ConvertedComp\",\"ConvertedComp\",\"ConvertedComp\",\"ConvertedComp\",\"ConvertedComp\",\"ConvertedComp\",\"ConvertedComp\",\"ConvertedComp\",\"ConvertedComp\",\"ConvertedComp\",\"ConvertedComp\",\"ConvertedComp\",\"ConvertedComp\",\"ConvertedComp\",\"ConvertedComp\",\"ConvertedComp\",\"ConvertedComp\",\"ConvertedComp\",\"ConvertedComp\",\"ConvertedComp\",\"ConvertedComp\",\"ConvertedComp\",\"ConvertedComp\",\"ConvertedComp\",\"ConvertedComp\",\"ConvertedComp\",\"ConvertedComp\",\"ConvertedComp\",\"ConvertedComp\",\"ConvertedComp\",\"ConvertedComp\",\"ConvertedComp\",\"ConvertedComp\",\"ConvertedComp\",\"ConvertedComp\",\"ConvertedComp\",\"ConvertedComp\",\"ConvertedComp\",\"ConvertedComp\",\"ConvertedComp\",\"ConvertedComp\",\"ConvertedComp\",\"ConvertedComp\",\"ConvertedComp\",\"ConvertedComp\",\"ConvertedComp\",\"ConvertedComp\",\"ConvertedComp\",\"ConvertedComp\",\"ConvertedComp\",\"ConvertedComp\",\"ConvertedComp\",\"ConvertedComp\",\"ConvertedComp\",\"ConvertedComp\",\"ConvertedComp\",\"ConvertedComp\",\"ConvertedComp\",\"ConvertedComp\",\"ConvertedComp\",\"ConvertedComp\",\"ConvertedComp\",\"ConvertedComp\",\"ConvertedComp\",\"ConvertedComp\",\"ConvertedComp\",\"ConvertedComp\",\"ConvertedComp\",\"ConvertedComp\",\"ConvertedComp\",\"ConvertedComp\",\"ConvertedComp\",\"ConvertedComp\",\"ConvertedComp\",\"ConvertedComp\",\"ConvertedComp\",\"ConvertedComp\",\"ConvertedComp\",\"ConvertedComp\",\"ConvertedComp\",\"ConvertedComp\",\"ConvertedComp\",\"ConvertedComp\",\"ConvertedComp\",\"ConvertedComp\",\"ConvertedComp\",\"ConvertedComp\",\"ConvertedComp\",\"ConvertedComp\",\"ConvertedComp\",\"ConvertedComp\",\"ConvertedComp\",\"ConvertedComp\",\"ConvertedComp\",\"ConvertedComp\",\"ConvertedComp\",\"ConvertedComp\",\"ConvertedComp\",\"ConvertedComp\",\"ConvertedComp\",\"ConvertedComp\",\"ConvertedComp\",\"ConvertedComp\",\"ConvertedComp\",\"ConvertedComp\",\"ConvertedComp\",\"ConvertedComp\",\"ConvertedComp\",\"ConvertedComp\",\"ConvertedComp\",\"ConvertedComp\",\"ConvertedComp\",\"ConvertedComp\",\"ConvertedComp\",\"ConvertedComp\",\"ConvertedComp\",\"ConvertedComp\",\"ConvertedComp\",\"ConvertedComp\",\"ConvertedComp\",\"ConvertedComp\",\"ConvertedComp\",\"ConvertedComp\",\"ConvertedComp\",\"ConvertedComp\",\"ConvertedComp\",\"ConvertedComp\",\"ConvertedComp\",\"ConvertedComp\",\"ConvertedComp\",\"ConvertedComp\",\"ConvertedComp\",\"ConvertedComp\",\"ConvertedComp\",\"ConvertedComp\",\"ConvertedComp\",\"ConvertedComp\",\"ConvertedComp\",\"ConvertedComp\",\"ConvertedComp\",\"ConvertedComp\",\"ConvertedComp\",\"ConvertedComp\",\"ConvertedComp\",\"ConvertedComp\",\"ConvertedComp\",\"ConvertedComp\",\"ConvertedComp\",\"ConvertedComp\",\"ConvertedComp\",\"ConvertedComp\",\"ConvertedComp\",\"ConvertedComp\",\"ConvertedComp\",\"ConvertedComp\",\"ConvertedComp\",\"ConvertedComp\",\"ConvertedComp\",\"ConvertedComp\",\"ConvertedComp\",\"ConvertedComp\",\"ConvertedComp\",\"ConvertedComp\",\"ConvertedComp\",\"ConvertedComp\",\"ConvertedComp\",\"ConvertedComp\",\"ConvertedComp\",\"ConvertedComp\",\"ConvertedComp\",\"ConvertedComp\",\"ConvertedComp\",\"ConvertedComp\",\"ConvertedComp\",\"ConvertedComp\",\"ConvertedComp\",\"ConvertedComp\",\"ConvertedComp\",\"ConvertedComp\",\"ConvertedComp\",\"ConvertedComp\",\"ConvertedComp\",\"ConvertedComp\",\"ConvertedComp\",\"ConvertedComp\",\"ConvertedComp\",\"ConvertedComp\",\"ConvertedComp\",\"ConvertedComp\",\"ConvertedComp\",\"ConvertedComp\",\"ConvertedComp\",\"ConvertedComp\",\"ConvertedComp\",\"ConvertedComp\",\"ConvertedComp\",\"ConvertedComp\",\"ConvertedComp\",\"ConvertedComp\",\"ConvertedComp\",\"ConvertedComp\",\"ConvertedComp\",\"ConvertedComp\",\"ConvertedComp\",\"ConvertedComp\",\"ConvertedComp\",\"ConvertedComp\",\"ConvertedComp\",\"ConvertedComp\",\"ConvertedComp\",\"ConvertedComp\",\"ConvertedComp\",\"ConvertedComp\",\"ConvertedComp\",\"ConvertedComp\",\"ConvertedComp\",\"ConvertedComp\",\"ConvertedComp\",\"ConvertedComp\",\"ConvertedComp\",\"ConvertedComp\",\"ConvertedComp\",\"ConvertedComp\",\"ConvertedComp\",\"ConvertedComp\",\"ConvertedComp\",\"ConvertedComp\",\"ConvertedComp\",\"ConvertedComp\",\"ConvertedComp\",\"ConvertedComp\",\"ConvertedComp\",\"ConvertedComp\",\"ConvertedComp\",\"ConvertedComp\",\"ConvertedComp\",\"ConvertedComp\",\"ConvertedComp\",\"ConvertedComp\",\"ConvertedComp\",\"ConvertedComp\",\"ConvertedComp\",\"ConvertedComp\",\"ConvertedComp\",\"ConvertedComp\",\"ConvertedComp\",\"ConvertedComp\",\"ConvertedComp\",\"ConvertedComp\",\"ConvertedComp\",\"ConvertedComp\",\"ConvertedComp\",\"ConvertedComp\",\"ConvertedComp\",\"ConvertedComp\",\"ConvertedComp\",\"ConvertedComp\",\"ConvertedComp\",\"ConvertedComp\",\"ConvertedComp\",\"ConvertedComp\",\"ConvertedComp\",\"ConvertedComp\",\"ConvertedComp\",\"ConvertedComp\",\"ConvertedComp\",\"ConvertedComp\",\"ConvertedComp\",\"ConvertedComp\",\"ConvertedComp\",\"ConvertedComp\",\"ConvertedComp\",\"ConvertedComp\",\"ConvertedComp\",\"ConvertedComp\",\"ConvertedComp\",\"ConvertedComp\",\"ConvertedComp\",\"ConvertedComp\",\"ConvertedComp\",\"ConvertedComp\",\"ConvertedComp\",\"ConvertedComp\",\"ConvertedComp\",\"ConvertedComp\",\"ConvertedComp\",\"ConvertedComp\",\"ConvertedComp\",\"ConvertedComp\",\"ConvertedComp\",\"ConvertedComp\",\"ConvertedComp\",\"ConvertedComp\",\"ConvertedComp\",\"ConvertedComp\",\"ConvertedComp\",\"ConvertedComp\",\"ConvertedComp\",\"ConvertedComp\",\"ConvertedComp\",\"ConvertedComp\",\"ConvertedComp\",\"ConvertedComp\",\"ConvertedComp\",\"ConvertedComp\",\"ConvertedComp\",\"ConvertedComp\",\"ConvertedComp\",\"ConvertedComp\",\"ConvertedComp\",\"ConvertedComp\",\"ConvertedComp\",\"ConvertedComp\",\"ConvertedComp\",\"ConvertedComp\",\"ConvertedComp\",\"ConvertedComp\",\"ConvertedComp\",\"ConvertedComp\",\"ConvertedComp\",\"ConvertedComp\",\"ConvertedComp\",\"ConvertedComp\",\"ConvertedComp\",\"ConvertedComp\",\"ConvertedComp\",\"ConvertedComp\",\"ConvertedComp\",\"ConvertedComp\",\"ConvertedComp\",\"ConvertedComp\",\"ConvertedComp\",\"ConvertedComp\",\"ConvertedComp\",\"ConvertedComp\",\"ConvertedComp\",\"ConvertedComp\",\"ConvertedComp\",\"ConvertedComp\",\"ConvertedComp\",\"ConvertedComp\",\"ConvertedComp\",\"ConvertedComp\",\"ConvertedComp\",\"ConvertedComp\",\"ConvertedComp\",\"ConvertedComp\",\"ConvertedComp\",\"ConvertedComp\",\"ConvertedComp\",\"ConvertedComp\",\"ConvertedComp\",\"ConvertedComp\",\"ConvertedComp\",\"ConvertedComp\",\"ConvertedComp\",\"ConvertedComp\",\"ConvertedComp\",\"ConvertedComp\",\"ConvertedComp\",\"ConvertedComp\",\"ConvertedComp\",\"ConvertedComp\",\"ConvertedComp\",\"ConvertedComp\",\"ConvertedComp\",\"ConvertedComp\",\"ConvertedComp\",\"ConvertedComp\",\"ConvertedComp\",\"ConvertedComp\",\"ConvertedComp\",\"ConvertedComp\",\"ConvertedComp\",\"ConvertedComp\",\"ConvertedComp\",\"ConvertedComp\",\"ConvertedComp\",\"ConvertedComp\",\"ConvertedComp\",\"ConvertedComp\",\"ConvertedComp\",\"ConvertedComp\",\"ConvertedComp\",\"ConvertedComp\",\"ConvertedComp\",\"ConvertedComp\",\"ConvertedComp\",\"ConvertedComp\",\"ConvertedComp\",\"ConvertedComp\",\"ConvertedComp\",\"ConvertedComp\",\"ConvertedComp\",\"ConvertedComp\",\"ConvertedComp\",\"ConvertedComp\",\"ConvertedComp\",\"ConvertedComp\",\"ConvertedComp\",\"ConvertedComp\",\"ConvertedComp\",\"ConvertedComp\",\"ConvertedComp\",\"ConvertedComp\",\"ConvertedComp\",\"ConvertedComp\",\"ConvertedComp\",\"ConvertedComp\",\"ConvertedComp\",\"ConvertedComp\",\"ConvertedComp\",\"ConvertedComp\",\"ConvertedComp\",\"ConvertedComp\",\"ConvertedComp\",\"ConvertedComp\",\"ConvertedComp\",\"ConvertedComp\",\"ConvertedComp\",\"ConvertedComp\",\"ConvertedComp\",\"ConvertedComp\",\"ConvertedComp\",\"ConvertedComp\",\"ConvertedComp\",\"ConvertedComp\",\"ConvertedComp\",\"ConvertedComp\",\"ConvertedComp\",\"ConvertedComp\",\"ConvertedComp\",\"ConvertedComp\",\"ConvertedComp\",\"ConvertedComp\",\"ConvertedComp\",\"ConvertedComp\",\"ConvertedComp\",\"ConvertedComp\",\"ConvertedComp\",\"ConvertedComp\",\"ConvertedComp\",\"ConvertedComp\",\"ConvertedComp\",\"ConvertedComp\",\"ConvertedComp\",\"ConvertedComp\",\"ConvertedComp\",\"ConvertedComp\",\"ConvertedComp\",\"ConvertedComp\",\"ConvertedComp\",\"ConvertedComp\",\"ConvertedComp\",\"ConvertedComp\",\"ConvertedComp\",\"ConvertedComp\",\"ConvertedComp\",\"ConvertedComp\",\"ConvertedComp\",\"ConvertedComp\",\"ConvertedComp\",\"ConvertedComp\",\"ConvertedComp\",\"ConvertedComp\",\"ConvertedComp\",\"ConvertedComp\",\"ConvertedComp\",\"ConvertedComp\",\"ConvertedComp\",\"ConvertedComp\",\"ConvertedComp\",\"ConvertedComp\",\"ConvertedComp\",\"ConvertedComp\",\"ConvertedComp\",\"ConvertedComp\",\"ConvertedComp\",\"ConvertedComp\",\"ConvertedComp\",\"ConvertedComp\",\"ConvertedComp\",\"ConvertedComp\",\"ConvertedComp\",\"ConvertedComp\",\"ConvertedComp\",\"ConvertedComp\",\"ConvertedComp\",\"ConvertedComp\",\"ConvertedComp\",\"ConvertedComp\",\"ConvertedComp\",\"ConvertedComp\",\"ConvertedComp\",\"ConvertedComp\",\"ConvertedComp\",\"ConvertedComp\",\"ConvertedComp\",\"ConvertedComp\",\"ConvertedComp\",\"ConvertedComp\",\"ConvertedComp\",\"ConvertedComp\",\"ConvertedComp\",\"ConvertedComp\",\"ConvertedComp\",\"ConvertedComp\",\"ConvertedComp\",\"ConvertedComp\",\"ConvertedComp\",\"ConvertedComp\",\"ConvertedComp\",\"ConvertedComp\",\"ConvertedComp\",\"ConvertedComp\",\"ConvertedComp\",\"ConvertedComp\",\"ConvertedComp\",\"ConvertedComp\",\"ConvertedComp\",\"ConvertedComp\",\"ConvertedComp\",\"ConvertedComp\",\"ConvertedComp\",\"ConvertedComp\",\"ConvertedComp\",\"ConvertedComp\",\"ConvertedComp\",\"ConvertedComp\",\"ConvertedComp\",\"ConvertedComp\",\"ConvertedComp\",\"ConvertedComp\",\"ConvertedComp\",\"ConvertedComp\",\"ConvertedComp\",\"ConvertedComp\",\"ConvertedComp\",\"ConvertedComp\",\"ConvertedComp\",\"ConvertedComp\",\"ConvertedComp\",\"ConvertedComp\",\"ConvertedComp\",\"ConvertedComp\",\"ConvertedComp\",\"ConvertedComp\",\"ConvertedComp\",\"ConvertedComp\",\"ConvertedComp\",\"ConvertedComp\",\"ConvertedComp\",\"ConvertedComp\",\"ConvertedComp\",\"ConvertedComp\",\"ConvertedComp\",\"ConvertedComp\",\"ConvertedComp\",\"ConvertedComp\",\"ConvertedComp\",\"ConvertedComp\",\"ConvertedComp\",\"ConvertedComp\",\"ConvertedComp\",\"ConvertedComp\",\"ConvertedComp\",\"ConvertedComp\",\"ConvertedComp\",\"ConvertedComp\",\"ConvertedComp\",\"ConvertedComp\",\"ConvertedComp\",\"ConvertedComp\",\"ConvertedComp\",\"ConvertedComp\",\"ConvertedComp\",\"ConvertedComp\",\"ConvertedComp\",\"ConvertedComp\",\"ConvertedComp\",\"ConvertedComp\",\"ConvertedComp\",\"ConvertedComp\",\"ConvertedComp\",\"ConvertedComp\",\"ConvertedComp\",\"ConvertedComp\",\"ConvertedComp\",\"ConvertedComp\",\"ConvertedComp\",\"ConvertedComp\",\"ConvertedComp\",\"ConvertedComp\",\"ConvertedComp\",\"ConvertedComp\",\"ConvertedComp\",\"ConvertedComp\",\"ConvertedComp\",\"ConvertedComp\",\"ConvertedComp\",\"ConvertedComp\",\"ConvertedComp\",\"ConvertedComp\",\"ConvertedComp\",\"ConvertedComp\",\"ConvertedComp\",\"ConvertedComp\",\"ConvertedComp\",\"ConvertedComp\",\"ConvertedComp\",\"ConvertedComp\",\"ConvertedComp\",\"ConvertedComp\",\"ConvertedComp\",\"ConvertedComp\",\"ConvertedComp\",\"ConvertedComp\",\"ConvertedComp\",\"ConvertedComp\",\"ConvertedComp\",\"ConvertedComp\",\"ConvertedComp\",\"ConvertedComp\",\"ConvertedComp\",\"ConvertedComp\",\"ConvertedComp\",\"ConvertedComp\",\"ConvertedComp\",\"ConvertedComp\",\"ConvertedComp\",\"ConvertedComp\",\"ConvertedComp\",\"ConvertedComp\",\"ConvertedComp\",\"ConvertedComp\",\"ConvertedComp\",\"ConvertedComp\",\"ConvertedComp\",\"ConvertedComp\",\"ConvertedComp\",\"ConvertedComp\",\"ConvertedComp\",\"ConvertedComp\",\"ConvertedComp\",\"ConvertedComp\",\"ConvertedComp\",\"ConvertedComp\",\"ConvertedComp\",\"ConvertedComp\",\"ConvertedComp\",\"ConvertedComp\",\"ConvertedComp\",\"ConvertedComp\",\"ConvertedComp\",\"ConvertedComp\",\"ConvertedComp\",\"ConvertedComp\",\"ConvertedComp\",\"ConvertedComp\",\"ConvertedComp\",\"ConvertedComp\",\"ConvertedComp\",\"ConvertedComp\",\"ConvertedComp\",\"ConvertedComp\",\"ConvertedComp\",\"ConvertedComp\",\"ConvertedComp\",\"ConvertedComp\",\"ConvertedComp\",\"ConvertedComp\",\"ConvertedComp\",\"ConvertedComp\",\"ConvertedComp\",\"ConvertedComp\",\"ConvertedComp\",\"ConvertedComp\",\"ConvertedComp\",\"ConvertedComp\",\"ConvertedComp\",\"ConvertedComp\",\"ConvertedComp\",\"ConvertedComp\",\"ConvertedComp\",\"ConvertedComp\",\"ConvertedComp\",\"ConvertedComp\",\"ConvertedComp\",\"ConvertedComp\",\"ConvertedComp\",\"ConvertedComp\",\"ConvertedComp\",\"ConvertedComp\",\"ConvertedComp\",\"ConvertedComp\",\"ConvertedComp\",\"ConvertedComp\",\"ConvertedComp\",\"ConvertedComp\",\"ConvertedComp\",\"ConvertedComp\",\"ConvertedComp\",\"ConvertedComp\",\"ConvertedComp\",\"ConvertedComp\",\"ConvertedComp\",\"ConvertedComp\",\"ConvertedComp\",\"ConvertedComp\",\"ConvertedComp\",\"ConvertedComp\",\"ConvertedComp\",\"ConvertedComp\",\"ConvertedComp\",\"ConvertedComp\",\"ConvertedComp\",\"ConvertedComp\",\"ConvertedComp\",\"ConvertedComp\",\"ConvertedComp\",\"ConvertedComp\",\"ConvertedComp\",\"ConvertedComp\",\"ConvertedComp\",\"ConvertedComp\",\"ConvertedComp\",\"ConvertedComp\",\"ConvertedComp\",\"ConvertedComp\",\"ConvertedComp\",\"ConvertedComp\",\"ConvertedComp\",\"ConvertedComp\",\"ConvertedComp\",\"ConvertedComp\",\"ConvertedComp\",\"ConvertedComp\",\"ConvertedComp\",\"ConvertedComp\",\"ConvertedComp\",\"ConvertedComp\",\"ConvertedComp\",\"ConvertedComp\",\"ConvertedComp\",\"ConvertedComp\",\"ConvertedComp\",\"ConvertedComp\",\"ConvertedComp\",\"ConvertedComp\",\"ConvertedComp\",\"ConvertedComp\",\"ConvertedComp\",\"ConvertedComp\",\"ConvertedComp\",\"ConvertedComp\",\"ConvertedComp\",\"ConvertedComp\",\"ConvertedComp\",\"ConvertedComp\",\"ConvertedComp\",\"ConvertedComp\",\"ConvertedComp\",\"ConvertedComp\",\"ConvertedComp\",\"ConvertedComp\",\"ConvertedComp\",\"ConvertedComp\",\"ConvertedComp\",\"ConvertedComp\",\"ConvertedComp\",\"ConvertedComp\",\"ConvertedComp\",\"ConvertedComp\",\"ConvertedComp\",\"ConvertedComp\",\"ConvertedComp\",\"ConvertedComp\",\"ConvertedComp\",\"ConvertedComp\",\"ConvertedComp\",\"ConvertedComp\",\"ConvertedComp\",\"ConvertedComp\",\"ConvertedComp\",\"ConvertedComp\",\"ConvertedComp\",\"ConvertedComp\",\"ConvertedComp\",\"ConvertedComp\",\"ConvertedComp\",\"ConvertedComp\",\"ConvertedComp\",\"ConvertedComp\",\"ConvertedComp\",\"ConvertedComp\",\"ConvertedComp\",\"ConvertedComp\",\"ConvertedComp\",\"ConvertedComp\",\"ConvertedComp\",\"ConvertedComp\",\"ConvertedComp\",\"ConvertedComp\",\"ConvertedComp\",\"ConvertedComp\",\"ConvertedComp\",\"ConvertedComp\",\"ConvertedComp\",\"ConvertedComp\",\"ConvertedComp\",\"ConvertedComp\",\"ConvertedComp\",\"ConvertedComp\",\"ConvertedComp\",\"ConvertedComp\",\"ConvertedComp\",\"ConvertedComp\",\"ConvertedComp\",\"ConvertedComp\",\"ConvertedComp\",\"ConvertedComp\",\"ConvertedComp\",\"ConvertedComp\",\"ConvertedComp\",\"ConvertedComp\",\"ConvertedComp\",\"ConvertedComp\",\"ConvertedComp\",\"ConvertedComp\",\"ConvertedComp\",\"ConvertedComp\",\"ConvertedComp\",\"ConvertedComp\",\"ConvertedComp\",\"ConvertedComp\",\"ConvertedComp\",\"ConvertedComp\",\"ConvertedComp\",\"ConvertedComp\",\"ConvertedComp\",\"ConvertedComp\",\"ConvertedComp\",\"ConvertedComp\",\"ConvertedComp\",\"ConvertedComp\",\"ConvertedComp\",\"ConvertedComp\",\"ConvertedComp\",\"ConvertedComp\",\"ConvertedComp\",\"ConvertedComp\",\"ConvertedComp\",\"ConvertedComp\",\"ConvertedComp\",\"ConvertedComp\",\"ConvertedComp\",\"ConvertedComp\",\"ConvertedComp\",\"ConvertedComp\",\"ConvertedComp\",\"ConvertedComp\",\"ConvertedComp\",\"ConvertedComp\",\"ConvertedComp\",\"ConvertedComp\",\"ConvertedComp\",\"ConvertedComp\",\"ConvertedComp\",\"ConvertedComp\",\"ConvertedComp\",\"ConvertedComp\",\"ConvertedComp\",\"ConvertedComp\",\"ConvertedComp\",\"ConvertedComp\",\"ConvertedComp\",\"ConvertedComp\",\"ConvertedComp\",\"ConvertedComp\",\"ConvertedComp\",\"ConvertedComp\",\"ConvertedComp\",\"ConvertedComp\",\"ConvertedComp\",\"ConvertedComp\",\"ConvertedComp\",\"ConvertedComp\",\"ConvertedComp\",\"ConvertedComp\",\"ConvertedComp\",\"ConvertedComp\",\"ConvertedComp\",\"ConvertedComp\",\"ConvertedComp\",\"ConvertedComp\",\"ConvertedComp\",\"ConvertedComp\",\"ConvertedComp\",\"ConvertedComp\",\"ConvertedComp\",\"ConvertedComp\",\"ConvertedComp\",\"ConvertedComp\",\"ConvertedComp\",\"ConvertedComp\",\"ConvertedComp\",\"ConvertedComp\",\"ConvertedComp\",\"ConvertedComp\",\"ConvertedComp\",\"ConvertedComp\",\"ConvertedComp\",\"ConvertedComp\",\"ConvertedComp\",\"ConvertedComp\",\"ConvertedComp\",\"ConvertedComp\",\"ConvertedComp\",\"ConvertedComp\",\"ConvertedComp\",\"ConvertedComp\",\"ConvertedComp\",\"ConvertedComp\",\"ConvertedComp\",\"ConvertedComp\",\"ConvertedComp\",\"ConvertedComp\",\"ConvertedComp\",\"ConvertedComp\",\"ConvertedComp\",\"ConvertedComp\",\"ConvertedComp\",\"ConvertedComp\",\"ConvertedComp\",\"ConvertedComp\",\"ConvertedComp\",\"ConvertedComp\",\"ConvertedComp\",\"ConvertedComp\",\"ConvertedComp\",\"ConvertedComp\",\"ConvertedComp\",\"ConvertedComp\",\"ConvertedComp\",\"ConvertedComp\",\"ConvertedComp\",\"ConvertedComp\",\"ConvertedComp\",\"ConvertedComp\",\"ConvertedComp\",\"ConvertedComp\",\"ConvertedComp\",\"ConvertedComp\",\"ConvertedComp\",\"ConvertedComp\",\"ConvertedComp\",\"ConvertedComp\",\"ConvertedComp\",\"ConvertedComp\",\"ConvertedComp\",\"ConvertedComp\",\"ConvertedComp\",\"ConvertedComp\",\"ConvertedComp\",\"ConvertedComp\",\"ConvertedComp\",\"ConvertedComp\",\"ConvertedComp\",\"ConvertedComp\",\"ConvertedComp\",\"ConvertedComp\",\"ConvertedComp\",\"ConvertedComp\",\"ConvertedComp\",\"ConvertedComp\",\"ConvertedComp\",\"ConvertedComp\",\"ConvertedComp\",\"ConvertedComp\",\"ConvertedComp\",\"ConvertedComp\",\"ConvertedComp\",\"ConvertedComp\",\"ConvertedComp\",\"ConvertedComp\",\"ConvertedComp\",\"ConvertedComp\",\"ConvertedComp\",\"ConvertedComp\",\"ConvertedComp\",\"ConvertedComp\",\"ConvertedComp\",\"ConvertedComp\",\"ConvertedComp\",\"ConvertedComp\",\"ConvertedComp\",\"ConvertedComp\",\"ConvertedComp\",\"ConvertedComp\",\"ConvertedComp\",\"ConvertedComp\",\"ConvertedComp\",\"ConvertedComp\",\"ConvertedComp\",\"ConvertedComp\",\"ConvertedComp\",\"ConvertedComp\",\"ConvertedComp\",\"ConvertedComp\",\"ConvertedComp\",\"ConvertedComp\",\"ConvertedComp\",\"ConvertedComp\",\"ConvertedComp\",\"ConvertedComp\",\"ConvertedComp\",\"ConvertedComp\",\"ConvertedComp\",\"ConvertedComp\",\"ConvertedComp\",\"ConvertedComp\",\"ConvertedComp\",\"ConvertedComp\",\"ConvertedComp\",\"ConvertedComp\",\"ConvertedComp\",\"ConvertedComp\",\"ConvertedComp\",\"ConvertedComp\",\"ConvertedComp\",\"ConvertedComp\",\"ConvertedComp\",\"ConvertedComp\",\"ConvertedComp\",\"ConvertedComp\",\"ConvertedComp\",\"ConvertedComp\",\"ConvertedComp\",\"ConvertedComp\",\"ConvertedComp\",\"ConvertedComp\",\"ConvertedComp\",\"ConvertedComp\",\"ConvertedComp\",\"ConvertedComp\",\"ConvertedComp\",\"ConvertedComp\",\"ConvertedComp\",\"ConvertedComp\",\"ConvertedComp\",\"ConvertedComp\",\"ConvertedComp\",\"ConvertedComp\",\"ConvertedComp\",\"ConvertedComp\",\"ConvertedComp\",\"ConvertedComp\",\"ConvertedComp\",\"ConvertedComp\",\"ConvertedComp\",\"ConvertedComp\",\"ConvertedComp\",\"ConvertedComp\",\"ConvertedComp\",\"ConvertedComp\",\"ConvertedComp\",\"ConvertedComp\",\"ConvertedComp\",\"ConvertedComp\",\"ConvertedComp\",\"ConvertedComp\",\"ConvertedComp\",\"ConvertedComp\",\"ConvertedComp\",\"ConvertedComp\",\"ConvertedComp\",\"ConvertedComp\",\"ConvertedComp\",\"ConvertedComp\",\"ConvertedComp\",\"ConvertedComp\",\"ConvertedComp\",\"ConvertedComp\",\"ConvertedComp\",\"ConvertedComp\",\"ConvertedComp\",\"ConvertedComp\",\"ConvertedComp\",\"ConvertedComp\",\"ConvertedComp\",\"ConvertedComp\",\"ConvertedComp\",\"ConvertedComp\",\"ConvertedComp\",\"ConvertedComp\",\"ConvertedComp\",\"ConvertedComp\",\"ConvertedComp\",\"ConvertedComp\",\"ConvertedComp\",\"ConvertedComp\",\"ConvertedComp\",\"ConvertedComp\",\"ConvertedComp\",\"ConvertedComp\",\"ConvertedComp\",\"ConvertedComp\",\"ConvertedComp\",\"ConvertedComp\",\"ConvertedComp\",\"ConvertedComp\",\"ConvertedComp\",\"ConvertedComp\",\"ConvertedComp\",\"ConvertedComp\",\"ConvertedComp\",\"ConvertedComp\",\"ConvertedComp\",\"ConvertedComp\",\"ConvertedComp\",\"ConvertedComp\",\"ConvertedComp\",\"ConvertedComp\",\"ConvertedComp\",\"ConvertedComp\",\"ConvertedComp\",\"ConvertedComp\",\"ConvertedComp\",\"ConvertedComp\",\"ConvertedComp\",\"ConvertedComp\",\"ConvertedComp\",\"ConvertedComp\",\"ConvertedComp\",\"ConvertedComp\",\"ConvertedComp\",\"ConvertedComp\",\"ConvertedComp\",\"ConvertedComp\",\"ConvertedComp\",\"ConvertedComp\",\"ConvertedComp\",\"ConvertedComp\",\"ConvertedComp\",\"ConvertedComp\",\"ConvertedComp\",\"ConvertedComp\",\"ConvertedComp\",\"ConvertedComp\",\"ConvertedComp\",\"ConvertedComp\",\"ConvertedComp\",\"ConvertedComp\",\"ConvertedComp\",\"ConvertedComp\",\"ConvertedComp\",\"ConvertedComp\",\"ConvertedComp\",\"ConvertedComp\",\"ConvertedComp\",\"ConvertedComp\",\"ConvertedComp\",\"ConvertedComp\",\"ConvertedComp\",\"ConvertedComp\",\"ConvertedComp\",\"ConvertedComp\",\"ConvertedComp\",\"ConvertedComp\",\"ConvertedComp\",\"ConvertedComp\",\"ConvertedComp\",\"ConvertedComp\",\"ConvertedComp\",\"ConvertedComp\",\"ConvertedComp\",\"ConvertedComp\",\"ConvertedComp\",\"ConvertedComp\",\"ConvertedComp\",\"ConvertedComp\",\"ConvertedComp\",\"ConvertedComp\",\"ConvertedComp\",\"ConvertedComp\",\"ConvertedComp\",\"ConvertedComp\",\"ConvertedComp\",\"ConvertedComp\",\"ConvertedComp\",\"ConvertedComp\",\"ConvertedComp\",\"ConvertedComp\",\"ConvertedComp\",\"ConvertedComp\",\"ConvertedComp\",\"ConvertedComp\",\"ConvertedComp\",\"ConvertedComp\",\"ConvertedComp\",\"ConvertedComp\",\"ConvertedComp\",\"ConvertedComp\",\"ConvertedComp\",\"ConvertedComp\",\"ConvertedComp\",\"ConvertedComp\",\"ConvertedComp\",\"ConvertedComp\",\"ConvertedComp\",\"ConvertedComp\",\"ConvertedComp\",\"ConvertedComp\",\"ConvertedComp\",\"ConvertedComp\",\"ConvertedComp\",\"ConvertedComp\",\"ConvertedComp\",\"ConvertedComp\",\"ConvertedComp\",\"ConvertedComp\",\"ConvertedComp\",\"ConvertedComp\",\"ConvertedComp\",\"ConvertedComp\",\"ConvertedComp\",\"ConvertedComp\",\"ConvertedComp\",\"ConvertedComp\",\"ConvertedComp\",\"ConvertedComp\",\"ConvertedComp\",\"ConvertedComp\",\"ConvertedComp\",\"ConvertedComp\",\"ConvertedComp\",\"ConvertedComp\",\"ConvertedComp\",\"ConvertedComp\",\"ConvertedComp\",\"ConvertedComp\",\"ConvertedComp\",\"ConvertedComp\",\"ConvertedComp\",\"ConvertedComp\",\"ConvertedComp\",\"ConvertedComp\",\"ConvertedComp\",\"ConvertedComp\",\"ConvertedComp\",\"ConvertedComp\",\"ConvertedComp\",\"ConvertedComp\",\"ConvertedComp\",\"ConvertedComp\",\"ConvertedComp\",\"ConvertedComp\",\"ConvertedComp\",\"ConvertedComp\",\"ConvertedComp\",\"ConvertedComp\",\"ConvertedComp\",\"ConvertedComp\",\"ConvertedComp\",\"ConvertedComp\",\"ConvertedComp\",\"ConvertedComp\",\"ConvertedComp\",\"ConvertedComp\",\"ConvertedComp\",\"ConvertedComp\",\"ConvertedComp\",\"ConvertedComp\",\"ConvertedComp\",\"ConvertedComp\",\"ConvertedComp\",\"ConvertedComp\",\"ConvertedComp\",\"ConvertedComp\",\"ConvertedComp\",\"ConvertedComp\",\"ConvertedComp\",\"ConvertedComp\",\"ConvertedComp\",\"ConvertedComp\",\"ConvertedComp\",\"ConvertedComp\",\"ConvertedComp\",\"ConvertedComp\",\"ConvertedComp\",\"ConvertedComp\",\"ConvertedComp\",\"ConvertedComp\",\"ConvertedComp\",\"ConvertedComp\",\"ConvertedComp\",\"ConvertedComp\",\"ConvertedComp\",\"ConvertedComp\",\"ConvertedComp\",\"ConvertedComp\",\"ConvertedComp\",\"ConvertedComp\",\"ConvertedComp\",\"ConvertedComp\",\"ConvertedComp\",\"ConvertedComp\",\"ConvertedComp\",\"ConvertedComp\",\"ConvertedComp\",\"ConvertedComp\",\"ConvertedComp\",\"ConvertedComp\",\"ConvertedComp\",\"ConvertedComp\",\"ConvertedComp\",\"ConvertedComp\",\"ConvertedComp\",\"ConvertedComp\",\"ConvertedComp\",\"ConvertedComp\",\"ConvertedComp\",\"ConvertedComp\",\"ConvertedComp\",\"ConvertedComp\",\"ConvertedComp\",\"ConvertedComp\",\"ConvertedComp\",\"ConvertedComp\",\"ConvertedComp\",\"ConvertedComp\",\"ConvertedComp\",\"ConvertedComp\",\"ConvertedComp\",\"ConvertedComp\",\"ConvertedComp\",\"ConvertedComp\",\"ConvertedComp\",\"ConvertedComp\",\"ConvertedComp\",\"ConvertedComp\",\"ConvertedComp\",\"ConvertedComp\",\"ConvertedComp\",\"ConvertedComp\",\"ConvertedComp\",\"ConvertedComp\",\"ConvertedComp\",\"ConvertedComp\",\"ConvertedComp\",\"ConvertedComp\",\"ConvertedComp\",\"ConvertedComp\",\"ConvertedComp\",\"ConvertedComp\",\"ConvertedComp\",\"ConvertedComp\",\"ConvertedComp\",\"ConvertedComp\",\"ConvertedComp\",\"ConvertedComp\",\"ConvertedComp\",\"ConvertedComp\",\"ConvertedComp\",\"ConvertedComp\",\"ConvertedComp\",\"ConvertedComp\",\"ConvertedComp\",\"ConvertedComp\",\"ConvertedComp\",\"ConvertedComp\",\"ConvertedComp\",\"ConvertedComp\",\"ConvertedComp\",\"ConvertedComp\",\"ConvertedComp\",\"ConvertedComp\",\"ConvertedComp\",\"ConvertedComp\",\"ConvertedComp\",\"ConvertedComp\",\"ConvertedComp\",\"ConvertedComp\",\"ConvertedComp\",\"ConvertedComp\",\"ConvertedComp\",\"ConvertedComp\",\"ConvertedComp\",\"ConvertedComp\",\"ConvertedComp\",\"ConvertedComp\",\"ConvertedComp\",\"ConvertedComp\",\"ConvertedComp\",\"ConvertedComp\",\"ConvertedComp\",\"ConvertedComp\",\"ConvertedComp\",\"ConvertedComp\",\"ConvertedComp\",\"ConvertedComp\",\"ConvertedComp\",\"ConvertedComp\",\"ConvertedComp\",\"ConvertedComp\",\"ConvertedComp\",\"ConvertedComp\",\"ConvertedComp\",\"ConvertedComp\",\"ConvertedComp\",\"ConvertedComp\",\"ConvertedComp\",\"ConvertedComp\",\"ConvertedComp\",\"ConvertedComp\",\"ConvertedComp\",\"ConvertedComp\",\"ConvertedComp\",\"ConvertedComp\",\"ConvertedComp\",\"ConvertedComp\",\"ConvertedComp\",\"ConvertedComp\",\"ConvertedComp\",\"ConvertedComp\",\"ConvertedComp\",\"ConvertedComp\",\"ConvertedComp\",\"ConvertedComp\",\"ConvertedComp\",\"ConvertedComp\",\"ConvertedComp\",\"ConvertedComp\",\"ConvertedComp\",\"ConvertedComp\",\"ConvertedComp\",\"ConvertedComp\",\"ConvertedComp\",\"ConvertedComp\",\"ConvertedComp\",\"ConvertedComp\",\"ConvertedComp\",\"ConvertedComp\",\"ConvertedComp\",\"ConvertedComp\",\"ConvertedComp\",\"ConvertedComp\",\"ConvertedComp\",\"ConvertedComp\",\"ConvertedComp\",\"ConvertedComp\",\"ConvertedComp\",\"ConvertedComp\",\"ConvertedComp\",\"ConvertedComp\",\"ConvertedComp\",\"ConvertedComp\",\"ConvertedComp\",\"ConvertedComp\",\"ConvertedComp\",\"ConvertedComp\",\"ConvertedComp\",\"ConvertedComp\",\"ConvertedComp\",\"ConvertedComp\",\"ConvertedComp\",\"ConvertedComp\",\"ConvertedComp\",\"ConvertedComp\",\"ConvertedComp\",\"ConvertedComp\",\"ConvertedComp\",\"ConvertedComp\",\"ConvertedComp\",\"ConvertedComp\",\"ConvertedComp\",\"ConvertedComp\",\"ConvertedComp\",\"ConvertedComp\",\"ConvertedComp\",\"ConvertedComp\",\"ConvertedComp\",\"ConvertedComp\",\"ConvertedComp\",\"ConvertedComp\",\"ConvertedComp\",\"ConvertedComp\",\"ConvertedComp\",\"ConvertedComp\",\"ConvertedComp\",\"ConvertedComp\",\"ConvertedComp\",\"ConvertedComp\",\"ConvertedComp\",\"ConvertedComp\",\"ConvertedComp\",\"ConvertedComp\",\"ConvertedComp\",\"ConvertedComp\",\"ConvertedComp\",\"ConvertedComp\",\"ConvertedComp\",\"ConvertedComp\",\"ConvertedComp\",\"ConvertedComp\",\"ConvertedComp\",\"ConvertedComp\",\"ConvertedComp\",\"ConvertedComp\",\"ConvertedComp\",\"ConvertedComp\",\"ConvertedComp\",\"ConvertedComp\",\"ConvertedComp\",\"ConvertedComp\",\"ConvertedComp\",\"ConvertedComp\",\"ConvertedComp\",\"ConvertedComp\",\"ConvertedComp\",\"ConvertedComp\",\"ConvertedComp\",\"ConvertedComp\",\"ConvertedComp\",\"ConvertedComp\",\"ConvertedComp\",\"ConvertedComp\",\"ConvertedComp\",\"ConvertedComp\",\"ConvertedComp\",\"ConvertedComp\",\"ConvertedComp\",\"ConvertedComp\",\"ConvertedComp\",\"ConvertedComp\",\"ConvertedComp\",\"ConvertedComp\",\"ConvertedComp\",\"ConvertedComp\",\"ConvertedComp\",\"ConvertedComp\",\"ConvertedComp\",\"ConvertedComp\",\"ConvertedComp\",\"ConvertedComp\",\"ConvertedComp\",\"ConvertedComp\",\"ConvertedComp\",\"ConvertedComp\",\"ConvertedComp\",\"ConvertedComp\",\"ConvertedComp\",\"ConvertedComp\",\"ConvertedComp\",\"ConvertedComp\",\"ConvertedComp\",\"ConvertedComp\",\"ConvertedComp\",\"ConvertedComp\",\"ConvertedComp\",\"ConvertedComp\",\"ConvertedComp\",\"ConvertedComp\",\"ConvertedComp\",\"ConvertedComp\",\"ConvertedComp\",\"ConvertedComp\",\"ConvertedComp\",\"ConvertedComp\",\"ConvertedComp\",\"ConvertedComp\",\"ConvertedComp\",\"ConvertedComp\",\"ConvertedComp\",\"ConvertedComp\",\"ConvertedComp\",\"ConvertedComp\",\"ConvertedComp\",\"ConvertedComp\",\"ConvertedComp\",\"ConvertedComp\",\"ConvertedComp\",\"ConvertedComp\",\"ConvertedComp\",\"ConvertedComp\",\"ConvertedComp\",\"ConvertedComp\",\"ConvertedComp\",\"ConvertedComp\",\"ConvertedComp\",\"ConvertedComp\",\"ConvertedComp\",\"ConvertedComp\",\"ConvertedComp\",\"ConvertedComp\",\"ConvertedComp\",\"ConvertedComp\",\"ConvertedComp\",\"ConvertedComp\",\"ConvertedComp\",\"ConvertedComp\",\"ConvertedComp\",\"ConvertedComp\",\"ConvertedComp\",\"ConvertedComp\",\"ConvertedComp\",\"ConvertedComp\",\"ConvertedComp\",\"ConvertedComp\",\"ConvertedComp\",\"ConvertedComp\",\"ConvertedComp\",\"ConvertedComp\",\"ConvertedComp\",\"ConvertedComp\",\"ConvertedComp\",\"ConvertedComp\",\"ConvertedComp\",\"ConvertedComp\",\"ConvertedComp\",\"ConvertedComp\",\"ConvertedComp\",\"ConvertedComp\",\"ConvertedComp\",\"ConvertedComp\",\"ConvertedComp\",\"ConvertedComp\",\"ConvertedComp\",\"ConvertedComp\",\"ConvertedComp\",\"ConvertedComp\",\"ConvertedComp\",\"ConvertedComp\",\"ConvertedComp\",\"ConvertedComp\",\"ConvertedComp\",\"ConvertedComp\",\"ConvertedComp\",\"ConvertedComp\",\"ConvertedComp\",\"ConvertedComp\",\"ConvertedComp\",\"ConvertedComp\",\"ConvertedComp\",\"ConvertedComp\",\"ConvertedComp\",\"ConvertedComp\",\"ConvertedComp\",\"ConvertedComp\",\"ConvertedComp\",\"ConvertedComp\",\"ConvertedComp\",\"ConvertedComp\",\"ConvertedComp\",\"ConvertedComp\",\"ConvertedComp\",\"ConvertedComp\",\"ConvertedComp\",\"ConvertedComp\",\"ConvertedComp\",\"ConvertedComp\",\"ConvertedComp\",\"ConvertedComp\",\"ConvertedComp\",\"ConvertedComp\",\"ConvertedComp\",\"ConvertedComp\",\"ConvertedComp\",\"ConvertedComp\",\"ConvertedComp\",\"ConvertedComp\",\"ConvertedComp\",\"ConvertedComp\",\"ConvertedComp\",\"ConvertedComp\",\"ConvertedComp\",\"ConvertedComp\",\"ConvertedComp\",\"ConvertedComp\",\"ConvertedComp\",\"ConvertedComp\",\"ConvertedComp\",\"ConvertedComp\",\"ConvertedComp\",\"ConvertedComp\",\"ConvertedComp\",\"ConvertedComp\",\"ConvertedComp\",\"ConvertedComp\",\"ConvertedComp\",\"ConvertedComp\",\"ConvertedComp\",\"ConvertedComp\",\"ConvertedComp\",\"ConvertedComp\",\"ConvertedComp\",\"ConvertedComp\",\"ConvertedComp\",\"ConvertedComp\",\"ConvertedComp\",\"ConvertedComp\",\"ConvertedComp\",\"ConvertedComp\",\"ConvertedComp\",\"ConvertedComp\",\"ConvertedComp\",\"ConvertedComp\",\"ConvertedComp\",\"ConvertedComp\",\"ConvertedComp\",\"ConvertedComp\",\"ConvertedComp\",\"ConvertedComp\",\"ConvertedComp\",\"ConvertedComp\",\"ConvertedComp\",\"ConvertedComp\",\"ConvertedComp\",\"ConvertedComp\",\"ConvertedComp\",\"ConvertedComp\",\"ConvertedComp\",\"ConvertedComp\",\"ConvertedComp\",\"ConvertedComp\",\"ConvertedComp\",\"ConvertedComp\",\"ConvertedComp\",\"ConvertedComp\",\"ConvertedComp\",\"ConvertedComp\",\"ConvertedComp\",\"ConvertedComp\",\"ConvertedComp\",\"ConvertedComp\",\"ConvertedComp\",\"ConvertedComp\",\"ConvertedComp\",\"ConvertedComp\",\"ConvertedComp\",\"ConvertedComp\",\"ConvertedComp\",\"ConvertedComp\",\"ConvertedComp\",\"ConvertedComp\",\"ConvertedComp\",\"ConvertedComp\",\"ConvertedComp\",\"ConvertedComp\",\"ConvertedComp\",\"ConvertedComp\",\"ConvertedComp\",\"ConvertedComp\",\"ConvertedComp\",\"ConvertedComp\",\"ConvertedComp\",\"ConvertedComp\",\"ConvertedComp\",\"ConvertedComp\",\"ConvertedComp\",\"ConvertedComp\",\"ConvertedComp\",\"ConvertedComp\",\"ConvertedComp\",\"ConvertedComp\",\"ConvertedComp\",\"ConvertedComp\",\"ConvertedComp\",\"ConvertedComp\",\"ConvertedComp\",\"ConvertedComp\",\"ConvertedComp\",\"ConvertedComp\",\"ConvertedComp\",\"ConvertedComp\",\"ConvertedComp\",\"ConvertedComp\",\"ConvertedComp\",\"ConvertedComp\",\"ConvertedComp\",\"ConvertedComp\",\"ConvertedComp\",\"ConvertedComp\",\"ConvertedComp\",\"ConvertedComp\",\"ConvertedComp\",\"ConvertedComp\",\"ConvertedComp\",\"ConvertedComp\",\"ConvertedComp\",\"ConvertedComp\",\"ConvertedComp\",\"ConvertedComp\",\"ConvertedComp\",\"ConvertedComp\",\"ConvertedComp\",\"ConvertedComp\",\"ConvertedComp\",\"ConvertedComp\",\"ConvertedComp\",\"ConvertedComp\",\"ConvertedComp\",\"ConvertedComp\",\"ConvertedComp\",\"ConvertedComp\",\"ConvertedComp\",\"ConvertedComp\",\"ConvertedComp\",\"ConvertedComp\",\"ConvertedComp\",\"ConvertedComp\",\"ConvertedComp\",\"ConvertedComp\",\"ConvertedComp\",\"ConvertedComp\",\"ConvertedComp\",\"ConvertedComp\",\"ConvertedComp\",\"ConvertedComp\",\"ConvertedComp\",\"ConvertedComp\",\"ConvertedComp\",\"ConvertedComp\",\"ConvertedComp\",\"ConvertedComp\",\"ConvertedComp\",\"ConvertedComp\",\"ConvertedComp\",\"ConvertedComp\",\"ConvertedComp\",\"ConvertedComp\",\"ConvertedComp\",\"ConvertedComp\",\"ConvertedComp\",\"ConvertedComp\",\"ConvertedComp\",\"ConvertedComp\",\"ConvertedComp\",\"ConvertedComp\",\"ConvertedComp\",\"ConvertedComp\",\"ConvertedComp\",\"ConvertedComp\",\"ConvertedComp\",\"ConvertedComp\",\"ConvertedComp\",\"ConvertedComp\",\"ConvertedComp\",\"ConvertedComp\",\"ConvertedComp\",\"ConvertedComp\",\"ConvertedComp\",\"ConvertedComp\",\"ConvertedComp\",\"ConvertedComp\",\"ConvertedComp\",\"ConvertedComp\",\"ConvertedComp\",\"ConvertedComp\",\"ConvertedComp\",\"ConvertedComp\",\"ConvertedComp\",\"ConvertedComp\",\"ConvertedComp\",\"ConvertedComp\",\"ConvertedComp\",\"ConvertedComp\",\"ConvertedComp\",\"ConvertedComp\",\"ConvertedComp\",\"ConvertedComp\",\"ConvertedComp\",\"ConvertedComp\",\"ConvertedComp\",\"ConvertedComp\",\"ConvertedComp\",\"ConvertedComp\",\"ConvertedComp\",\"ConvertedComp\",\"ConvertedComp\",\"ConvertedComp\",\"ConvertedComp\",\"ConvertedComp\",\"ConvertedComp\",\"ConvertedComp\",\"ConvertedComp\",\"ConvertedComp\",\"ConvertedComp\",\"ConvertedComp\",\"ConvertedComp\",\"ConvertedComp\",\"ConvertedComp\",\"ConvertedComp\",\"ConvertedComp\",\"ConvertedComp\",\"ConvertedComp\",\"ConvertedComp\",\"ConvertedComp\",\"ConvertedComp\",\"ConvertedComp\",\"ConvertedComp\",\"ConvertedComp\",\"ConvertedComp\",\"ConvertedComp\",\"ConvertedComp\",\"ConvertedComp\",\"ConvertedComp\",\"ConvertedComp\",\"ConvertedComp\",\"ConvertedComp\",\"ConvertedComp\",\"ConvertedComp\",\"ConvertedComp\",\"ConvertedComp\",\"ConvertedComp\",\"ConvertedComp\",\"ConvertedComp\",\"ConvertedComp\",\"ConvertedComp\",\"ConvertedComp\",\"ConvertedComp\",\"ConvertedComp\",\"ConvertedComp\",\"ConvertedComp\",\"ConvertedComp\",\"ConvertedComp\",\"ConvertedComp\",\"ConvertedComp\",\"ConvertedComp\",\"ConvertedComp\",\"ConvertedComp\",\"ConvertedComp\",\"ConvertedComp\",\"ConvertedComp\",\"ConvertedComp\",\"ConvertedComp\",\"ConvertedComp\",\"ConvertedComp\",\"ConvertedComp\",\"ConvertedComp\",\"ConvertedComp\",\"ConvertedComp\",\"ConvertedComp\",\"ConvertedComp\",\"ConvertedComp\",\"ConvertedComp\",\"ConvertedComp\",\"ConvertedComp\",\"ConvertedComp\",\"ConvertedComp\",\"ConvertedComp\",\"ConvertedComp\",\"ConvertedComp\",\"ConvertedComp\",\"ConvertedComp\",\"ConvertedComp\",\"ConvertedComp\",\"ConvertedComp\",\"ConvertedComp\",\"ConvertedComp\",\"ConvertedComp\",\"ConvertedComp\",\"ConvertedComp\",\"ConvertedComp\",\"ConvertedComp\",\"ConvertedComp\",\"ConvertedComp\",\"ConvertedComp\",\"ConvertedComp\",\"ConvertedComp\",\"ConvertedComp\",\"ConvertedComp\",\"ConvertedComp\",\"ConvertedComp\",\"ConvertedComp\",\"ConvertedComp\",\"ConvertedComp\",\"ConvertedComp\",\"ConvertedComp\",\"ConvertedComp\",\"ConvertedComp\",\"ConvertedComp\",\"ConvertedComp\",\"ConvertedComp\",\"ConvertedComp\",\"ConvertedComp\",\"ConvertedComp\",\"ConvertedComp\",\"ConvertedComp\",\"ConvertedComp\",\"ConvertedComp\",\"ConvertedComp\",\"ConvertedComp\",\"ConvertedComp\",\"ConvertedComp\",\"ConvertedComp\",\"ConvertedComp\",\"ConvertedComp\",\"ConvertedComp\",\"ConvertedComp\",\"ConvertedComp\",\"ConvertedComp\",\"ConvertedComp\",\"ConvertedComp\",\"ConvertedComp\",\"ConvertedComp\",\"ConvertedComp\",\"ConvertedComp\",\"ConvertedComp\",\"ConvertedComp\",\"ConvertedComp\",\"ConvertedComp\",\"ConvertedComp\",\"ConvertedComp\",\"ConvertedComp\",\"ConvertedComp\",\"ConvertedComp\",\"ConvertedComp\",\"ConvertedComp\",\"ConvertedComp\",\"ConvertedComp\",\"ConvertedComp\",\"ConvertedComp\",\"ConvertedComp\",\"ConvertedComp\",\"ConvertedComp\",\"ConvertedComp\",\"ConvertedComp\",\"ConvertedComp\",\"ConvertedComp\",\"ConvertedComp\",\"ConvertedComp\",\"ConvertedComp\",\"ConvertedComp\",\"ConvertedComp\",\"ConvertedComp\",\"ConvertedComp\",\"ConvertedComp\",\"ConvertedComp\",\"ConvertedComp\",\"ConvertedComp\",\"ConvertedComp\",\"ConvertedComp\",\"ConvertedComp\",\"ConvertedComp\",\"ConvertedComp\",\"ConvertedComp\",\"ConvertedComp\",\"ConvertedComp\",\"ConvertedComp\",\"ConvertedComp\",\"ConvertedComp\",\"ConvertedComp\",\"ConvertedComp\",\"ConvertedComp\",\"ConvertedComp\",\"ConvertedComp\",\"ConvertedComp\",\"ConvertedComp\",\"ConvertedComp\",\"ConvertedComp\",\"ConvertedComp\",\"ConvertedComp\",\"ConvertedComp\",\"ConvertedComp\",\"ConvertedComp\",\"ConvertedComp\",\"ConvertedComp\",\"ConvertedComp\",\"ConvertedComp\",\"ConvertedComp\",\"ConvertedComp\",\"ConvertedComp\",\"ConvertedComp\",\"ConvertedComp\",\"ConvertedComp\",\"ConvertedComp\",\"ConvertedComp\",\"ConvertedComp\",\"ConvertedComp\",\"ConvertedComp\",\"ConvertedComp\",\"ConvertedComp\",\"ConvertedComp\",\"ConvertedComp\",\"ConvertedComp\",\"ConvertedComp\",\"ConvertedComp\",\"ConvertedComp\",\"ConvertedComp\",\"ConvertedComp\",\"ConvertedComp\",\"ConvertedComp\",\"ConvertedComp\",\"ConvertedComp\",\"ConvertedComp\",\"ConvertedComp\",\"ConvertedComp\",\"ConvertedComp\",\"ConvertedComp\",\"ConvertedComp\",\"ConvertedComp\",\"ConvertedComp\",\"ConvertedComp\",\"ConvertedComp\",\"ConvertedComp\",\"ConvertedComp\",\"ConvertedComp\",\"ConvertedComp\",\"ConvertedComp\",\"ConvertedComp\",\"ConvertedComp\",\"ConvertedComp\",\"ConvertedComp\",\"ConvertedComp\",\"ConvertedComp\",\"ConvertedComp\",\"ConvertedComp\",\"ConvertedComp\",\"ConvertedComp\",\"ConvertedComp\",\"ConvertedComp\",\"ConvertedComp\",\"ConvertedComp\",\"ConvertedComp\",\"ConvertedComp\",\"ConvertedComp\",\"ConvertedComp\",\"ConvertedComp\",\"ConvertedComp\",\"ConvertedComp\",\"ConvertedComp\",\"ConvertedComp\",\"ConvertedComp\",\"ConvertedComp\",\"ConvertedComp\",\"ConvertedComp\",\"ConvertedComp\",\"ConvertedComp\",\"ConvertedComp\",\"ConvertedComp\",\"ConvertedComp\",\"ConvertedComp\",\"ConvertedComp\",\"ConvertedComp\",\"ConvertedComp\",\"ConvertedComp\",\"ConvertedComp\",\"ConvertedComp\",\"ConvertedComp\",\"ConvertedComp\",\"ConvertedComp\",\"ConvertedComp\",\"ConvertedComp\",\"ConvertedComp\",\"ConvertedComp\",\"ConvertedComp\",\"ConvertedComp\",\"ConvertedComp\",\"ConvertedComp\",\"ConvertedComp\",\"ConvertedComp\",\"ConvertedComp\",\"ConvertedComp\",\"ConvertedComp\",\"ConvertedComp\",\"ConvertedComp\",\"ConvertedComp\",\"ConvertedComp\",\"ConvertedComp\",\"ConvertedComp\",\"ConvertedComp\",\"ConvertedComp\",\"ConvertedComp\",\"ConvertedComp\",\"ConvertedComp\",\"ConvertedComp\",\"ConvertedComp\",\"ConvertedComp\",\"ConvertedComp\",\"ConvertedComp\",\"ConvertedComp\",\"ConvertedComp\",\"ConvertedComp\",\"ConvertedComp\",\"ConvertedComp\",\"ConvertedComp\",\"ConvertedComp\",\"ConvertedComp\",\"ConvertedComp\",\"ConvertedComp\",\"ConvertedComp\",\"ConvertedComp\",\"ConvertedComp\",\"ConvertedComp\",\"ConvertedComp\",\"ConvertedComp\",\"ConvertedComp\",\"ConvertedComp\",\"ConvertedComp\",\"ConvertedComp\",\"ConvertedComp\",\"ConvertedComp\",\"ConvertedComp\",\"ConvertedComp\",\"ConvertedComp\",\"ConvertedComp\",\"ConvertedComp\",\"ConvertedComp\",\"ConvertedComp\",\"ConvertedComp\",\"ConvertedComp\",\"ConvertedComp\",\"ConvertedComp\",\"ConvertedComp\",\"ConvertedComp\",\"ConvertedComp\",\"ConvertedComp\",\"ConvertedComp\",\"ConvertedComp\",\"ConvertedComp\",\"ConvertedComp\",\"ConvertedComp\",\"ConvertedComp\",\"ConvertedComp\",\"ConvertedComp\",\"ConvertedComp\",\"ConvertedComp\",\"ConvertedComp\",\"ConvertedComp\",\"ConvertedComp\",\"ConvertedComp\",\"ConvertedComp\",\"ConvertedComp\",\"ConvertedComp\",\"ConvertedComp\",\"ConvertedComp\",\"ConvertedComp\",\"ConvertedComp\",\"ConvertedComp\",\"ConvertedComp\",\"ConvertedComp\",\"ConvertedComp\",\"ConvertedComp\",\"ConvertedComp\",\"ConvertedComp\",\"ConvertedComp\",\"ConvertedComp\",\"ConvertedComp\",\"ConvertedComp\",\"ConvertedComp\",\"ConvertedComp\",\"ConvertedComp\",\"ConvertedComp\",\"ConvertedComp\",\"ConvertedComp\",\"ConvertedComp\",\"ConvertedComp\",\"ConvertedComp\",\"ConvertedComp\",\"ConvertedComp\",\"ConvertedComp\",\"ConvertedComp\",\"ConvertedComp\",\"ConvertedComp\",\"ConvertedComp\",\"ConvertedComp\",\"ConvertedComp\",\"ConvertedComp\",\"ConvertedComp\",\"ConvertedComp\",\"ConvertedComp\",\"ConvertedComp\",\"ConvertedComp\",\"ConvertedComp\",\"ConvertedComp\",\"ConvertedComp\",\"ConvertedComp\",\"ConvertedComp\",\"ConvertedComp\",\"ConvertedComp\",\"ConvertedComp\",\"ConvertedComp\",\"ConvertedComp\",\"ConvertedComp\",\"ConvertedComp\",\"ConvertedComp\",\"ConvertedComp\",\"ConvertedComp\",\"ConvertedComp\",\"ConvertedComp\",\"ConvertedComp\",\"ConvertedComp\",\"ConvertedComp\",\"ConvertedComp\",\"ConvertedComp\",\"ConvertedComp\",\"ConvertedComp\",\"ConvertedComp\",\"ConvertedComp\",\"ConvertedComp\",\"ConvertedComp\",\"ConvertedComp\",\"ConvertedComp\",\"ConvertedComp\",\"ConvertedComp\",\"ConvertedComp\",\"ConvertedComp\",\"ConvertedComp\",\"ConvertedComp\",\"ConvertedComp\",\"ConvertedComp\",\"ConvertedComp\",\"ConvertedComp\",\"ConvertedComp\",\"ConvertedComp\",\"ConvertedComp\",\"ConvertedComp\",\"ConvertedComp\",\"ConvertedComp\",\"ConvertedComp\",\"ConvertedComp\",\"ConvertedComp\",\"ConvertedComp\",\"ConvertedComp\",\"ConvertedComp\",\"ConvertedComp\",\"ConvertedComp\",\"ConvertedComp\",\"ConvertedComp\",\"ConvertedComp\",\"ConvertedComp\",\"ConvertedComp\",\"ConvertedComp\",\"ConvertedComp\",\"ConvertedComp\",\"ConvertedComp\",\"ConvertedComp\",\"ConvertedComp\",\"ConvertedComp\",\"ConvertedComp\",\"ConvertedComp\",\"ConvertedComp\",\"ConvertedComp\",\"ConvertedComp\",\"ConvertedComp\",\"ConvertedComp\",\"ConvertedComp\",\"ConvertedComp\",\"ConvertedComp\",\"ConvertedComp\",\"ConvertedComp\",\"ConvertedComp\",\"ConvertedComp\",\"ConvertedComp\",\"ConvertedComp\",\"ConvertedComp\",\"ConvertedComp\",\"ConvertedComp\",\"ConvertedComp\",\"ConvertedComp\",\"ConvertedComp\",\"ConvertedComp\",\"ConvertedComp\",\"ConvertedComp\",\"ConvertedComp\",\"ConvertedComp\",\"ConvertedComp\",\"ConvertedComp\",\"ConvertedComp\",\"ConvertedComp\",\"ConvertedComp\",\"ConvertedComp\",\"ConvertedComp\",\"ConvertedComp\",\"ConvertedComp\",\"ConvertedComp\",\"ConvertedComp\",\"ConvertedComp\",\"ConvertedComp\",\"ConvertedComp\",\"ConvertedComp\",\"ConvertedComp\",\"ConvertedComp\",\"ConvertedComp\",\"ConvertedComp\",\"ConvertedComp\",\"ConvertedComp\",\"ConvertedComp\",\"ConvertedComp\",\"ConvertedComp\",\"ConvertedComp\",\"ConvertedComp\",\"ConvertedComp\",\"ConvertedComp\",\"ConvertedComp\",\"ConvertedComp\",\"ConvertedComp\",\"ConvertedComp\",\"ConvertedComp\",\"ConvertedComp\",\"ConvertedComp\",\"ConvertedComp\",\"ConvertedComp\",\"ConvertedComp\",\"ConvertedComp\",\"ConvertedComp\",\"ConvertedComp\",\"ConvertedComp\",\"ConvertedComp\",\"ConvertedComp\",\"ConvertedComp\",\"ConvertedComp\",\"ConvertedComp\",\"ConvertedComp\",\"ConvertedComp\",\"ConvertedComp\",\"ConvertedComp\",\"ConvertedComp\",\"ConvertedComp\",\"ConvertedComp\",\"ConvertedComp\",\"ConvertedComp\",\"ConvertedComp\",\"ConvertedComp\",\"ConvertedComp\",\"ConvertedComp\",\"ConvertedComp\",\"ConvertedComp\",\"ConvertedComp\",\"ConvertedComp\",\"ConvertedComp\",\"ConvertedComp\",\"ConvertedComp\",\"ConvertedComp\",\"ConvertedComp\",\"ConvertedComp\",\"ConvertedComp\",\"ConvertedComp\",\"ConvertedComp\",\"ConvertedComp\",\"ConvertedComp\",\"ConvertedComp\",\"ConvertedComp\",\"ConvertedComp\",\"ConvertedComp\",\"ConvertedComp\",\"ConvertedComp\",\"ConvertedComp\",\"ConvertedComp\",\"ConvertedComp\",\"ConvertedComp\",\"ConvertedComp\",\"ConvertedComp\",\"ConvertedComp\",\"ConvertedComp\",\"ConvertedComp\",\"ConvertedComp\",\"ConvertedComp\",\"ConvertedComp\",\"ConvertedComp\",\"ConvertedComp\",\"ConvertedComp\",\"ConvertedComp\",\"ConvertedComp\",\"ConvertedComp\",\"ConvertedComp\",\"ConvertedComp\",\"ConvertedComp\",\"ConvertedComp\",\"ConvertedComp\",\"ConvertedComp\",\"ConvertedComp\",\"ConvertedComp\",\"ConvertedComp\",\"ConvertedComp\",\"ConvertedComp\",\"ConvertedComp\",\"ConvertedComp\",\"ConvertedComp\",\"ConvertedComp\",\"ConvertedComp\",\"ConvertedComp\",\"ConvertedComp\",\"ConvertedComp\",\"ConvertedComp\",\"ConvertedComp\",\"ConvertedComp\",\"ConvertedComp\",\"ConvertedComp\",\"ConvertedComp\",\"ConvertedComp\",\"ConvertedComp\",\"ConvertedComp\",\"ConvertedComp\",\"ConvertedComp\",\"ConvertedComp\",\"ConvertedComp\",\"ConvertedComp\",\"ConvertedComp\",\"ConvertedComp\",\"ConvertedComp\",\"ConvertedComp\",\"ConvertedComp\",\"ConvertedComp\",\"ConvertedComp\",\"ConvertedComp\",\"ConvertedComp\",\"ConvertedComp\",\"ConvertedComp\",\"ConvertedComp\",\"ConvertedComp\",\"ConvertedComp\",\"ConvertedComp\",\"ConvertedComp\",\"ConvertedComp\",\"ConvertedComp\",\"ConvertedComp\",\"ConvertedComp\",\"ConvertedComp\",\"ConvertedComp\",\"ConvertedComp\",\"ConvertedComp\",\"ConvertedComp\",\"ConvertedComp\",\"ConvertedComp\",\"ConvertedComp\",\"ConvertedComp\",\"ConvertedComp\",\"ConvertedComp\",\"ConvertedComp\",\"ConvertedComp\",\"ConvertedComp\",\"ConvertedComp\",\"ConvertedComp\",\"ConvertedComp\",\"ConvertedComp\",\"ConvertedComp\",\"ConvertedComp\",\"ConvertedComp\",\"ConvertedComp\",\"ConvertedComp\",\"ConvertedComp\",\"ConvertedComp\",\"ConvertedComp\",\"ConvertedComp\",\"ConvertedComp\",\"ConvertedComp\",\"ConvertedComp\",\"ConvertedComp\",\"ConvertedComp\",\"ConvertedComp\",\"ConvertedComp\",\"ConvertedComp\",\"ConvertedComp\",\"ConvertedComp\",\"ConvertedComp\",\"ConvertedComp\",\"ConvertedComp\",\"ConvertedComp\",\"ConvertedComp\",\"ConvertedComp\",\"ConvertedComp\",\"ConvertedComp\",\"ConvertedComp\",\"ConvertedComp\",\"ConvertedComp\",\"ConvertedComp\",\"ConvertedComp\",\"ConvertedComp\",\"ConvertedComp\",\"ConvertedComp\",\"ConvertedComp\",\"ConvertedComp\",\"ConvertedComp\",\"ConvertedComp\",\"ConvertedComp\"],\"x0\":\" \",\"xaxis\":\"x\",\"y\":[61000.0,95179.0,90000.0,455352.0,65277.0,31140.0,41244.0,103000.0,69000.0,26388.0,6300.0,114000.0,100000.0,1100000.0,51312.0,156000.0,20623.0,87996.0,60000.0,5597.0,47300.0,68268.0,51150.0,97389.0,107000.0,66000.0,87994.0,36265.0,11194.0,75000.0,4128.0,114575.0,17491.0,39254.0,7696.0,null,117540.0,3468.0,16008.0,36060.0,16788.0,57287.0,43180.0,110000.0,66750.0,229016.0,2000000.0,2169.0,46368.0,100000.0,null,53437.0,39768.0,103117.0,26000.0,35518.0,null,21612.0,9095.0,60000.0,1000000.0,62000.0,13116.0,32196.0,70000.0,7556.0,54996.0,17280.0,135000.0,54996.0,962424.0,960000.0,47244.0,65424.0,9120.0,62807.0,2000000.0,77911.0,2016.0,null,36265.0,70000.0,84000.0,46913.0,40101.0,65424.0,61172.0,24504.0,90000.0,28860.0,12828.0,44684.0,50868.0,72522.0,57349.0,112800.0,117800.0,19932.0,49006.0,58501.0,54996.0,110000.0,null,6420.0,233000.0,null,80000.0,120000.0,54876.0,27986.0,65651.0,649536.0,88000.0,57744.0,30588.0,58881.0,59579.0,130554.0,92073.0,235525.0,864000.0,29225.0,null,1000000.0,130000.0,79176.0,23832.0,63016.0,0.0,null,471048.0,618708.0,130000.0,115000.0,0.0,null,72182.0,75624.0,null,89212.0,140000.0,49500.0,2600.0,160000.0,84000.0,29184.0,null,140000.0,105000.0,30000.0,21769.0,98964.0,48000.0,50700.0,65308.0,45828.0,85776.0,51696.0,55000.0,38952.0,46992.0,46442.0,54996.0,125000.0,40404.0,13608.0,63016.0,100000.0,null,9840.0,94451.0,75431.0,27269.0,34368.0,140000.0,113000.0,16788.0,165000.0,135000.0,67992.0,60924.0,30000.0,25980.0,118000.0,110509.0,10495.0,53392.0,10800.0,154000.0,92000.0,28572.0,86212.0,84840.0,40000.0,54397.0,96445.0,null,48279.0,44488.0,125000.0,39756.0,125000.0,80000.0,2000000.0,52704.0,7344.0,37128.0,12828.0,59124.0,58024.0,2000000.0,85776.0,57287.0,85000.0,9655.0,29328.0,33348.0,36637.0,4200.0,5880.0,42393.0,118000.0,37512.0,80150.0,33348.0,68745.0,97000.0,7080.0,29858.0,121000.0,58000.0,11894.0,20532.0,52500.0,37531.0,31344.0,110000.0,2000000.0,7276.0,83972.0,48259.0,53500.0,68705.0,79536.0,48120.0,9132.0,120304.0,null,46566.0,235525.0,38169.0,20580.0,104000.0,74474.0,null,56000.0,30240.0,100000.0,17868.0,null,16152.0,68745.0,190000.0,80202.0,1750000.0,60000.0,null,48804.0,22388.0,64452.0,20628.0,135625.0,72500.0,11400.0,22915.0,36000.0,91660.0,14256.0,71097.0,20628.0,125000.0,15120.0,null,110000.0,41871.0,null,null,82000.0,147000.0,27492.0,15042.0,45830.0,70000.0,10075.0,200000.0,16284.0,32712.0,65000.0,34675.0,10356.0,90000.0,null,90000.0,null,45372.0,97000.0,412464.0,125000.0,412464.0,128000.0,9840.0,56291.0,1668.0,42000.0,42888.0,87000.0,55000.0,53850.0,77000.0,89368.0,23040.0,275000.0,103000.0,122473.0,38496.0,68000.0,13116.0,24061.0,71364.0,30720.0,206250.0,79536.0,125000.0,121000.0,230000.0,10000.0,80000.0,null,56264.0,44000.0,8244.0,50413.0,24061.0,68705.0,12226.0,42624.0,120000.0,230000.0,232000.0,null,104000.0,706572.0,null,185000.0,21708.0,155000.0,51559.0,16548.0,2000000.0,123500.0,16500.0,null,36642.0,165000.0,45000.0,29724.0,null,730128.0,16116.0,1000000.0,2000000.0,82000.0,null,81125.0,360000.0,35940.0,36672.0,91660.0,null,72333.0,41244.0,null,94000.0,95000.0,43308.0,15392.0,2520.0,1656.0,79973.0,86000.0,494964.0,90072.0,90000.0,58024.0,81000.0,16791.0,140000.0,45797.0,66000.0,55000.0,95000.0,null,35748.0,20628.0,null,1620000.0,84000.0,130000.0,942096.0,125000.0,5808.0,56142.0,714948.0,2770.0,10080.0,null,68705.0,8520.0,11472.0,53437.0,23220.0,40563.0,27504.0,57744.0,70000.0,1332.0,25128.0,209931.0,129000.0,19236.0,27492.0,238000.0,467460.0,19627.0,32064.0,13085.0,8424.0,21504.0,80000.0,29136.0,11148.0,155000.0,643764.0,43546.0,5182.0,103000.0,60000.0,null,54996.0,null,29484.0,94600.0,98000.0,62073.0,68903.0,52704.0,4478.0,1000000.0,105000.0,null,180000.0,130000.0,34620.0,49267.0,57287.0,45830.0,54996.0,1152000.0,318864.0,49722.0,null,37692.0,81810.0,null,5760.0,40101.0,53184.0,728700.0,165000.0,17184.0,72984.0,230000.0,114000.0,null,115000.0,110000.0,34982.0,149500.0,54797.0,40000.0,null,130000.0,80202.0,11472.0,null,82488.0,18528.0,23304.0,107000.0,34372.0,68745.0,18852.0,66000.0,64128.0,31800.0,1000000.0,18528.0,67256.0,118325.0,960.0,21060.0,14484.0,13993.0,260000.0,12900.0,27492.0,57287.0,45797.0,53672.0,99240.0,5436.0,55000.0,21996.0,78508.0,180000.0,3144.0,10080.0,29316.0,40614.0,34836.0,49722.0,64788.0,95000.0,14376.0,24060.0,57287.0,34524.0,53316.0,null,120000.0,4272.0,210973.0,190000.0,125000.0,27956.0,120556.0,22800.0,39876.0,38220.0,130000.0,null,94572.0,115000.0,45803.0,128000.0,71758.0,22388.0,120000.0,null,13749.0,72182.0,59247.0,14748.0,132156.0,127741.0,66276.0,30051.0,43538.0,16308.0,98000.0,45072.0,null,108000.0,null,null,179000.0,93109.0,123000.0,177000.0,56142.0,34372.0,25436.0,2000000.0,54956.0,24277.0,17868.0,31250.0,68745.0,90000.0,100000.0,67000.0,105000.0,null,74000.0,105000.0,37810.0,71966.0,75000.0,null,75000.0,21996.0,106645.0,59652.0,156000.0,80155.0,52339.0,35329.0,null,150000.0,91660.0,200000.0,36664.0,51300.0,117763.0,155000.0,1368000.0,68745.0,1000000.0,4404.0,60000.0,41244.0,200000.0,67548.0,159968.0,35748.0,64162.0,95000.0,85931.0,3936.0,5950.0,76994.0,646200.0,52339.0,26124.0,null,101000.0,28412.0,null,65000.0,3168.0,null,70000.0,7836.0,24048.0,null,80155.0,99444.0,673704.0,15120.0,112000.0,183320.0,51559.0,81780.0,114508.0,54000.0,2000000.0,2000000.0,null,1000000.0,5976.0,864000.0,35580.0,934380.0,null,32784.0,10104.0,83640.0,63016.0,6192.0,17100.0,110000.0,57287.0,95000.0,36024.0,3360.0,33000.0,18000.0,432.0,97389.0,92000.0,23788.0,200000.0,2000000.0,55971.0,62807.0,11004.0,960000.0,null,12828.0,120556.0,68903.0,119158.0,39254.0,54996.0,9132.0,44460.0,120000.0,null,120000.0,16040.0,23868.0,null,41688.0,92000.0,null,9235.0,0.0,20628.0,null,4920.0,null,95000.0,43260.0,19956.0,145000.0,30784.0,72182.0,33000.0,45797.0,84840.0,85931.0,106000.0,45803.0,61463.0,30684.0,41871.0,52339.0,82494.0,930612.0,28248.0,66276.0,9144.0,41871.0,481212.0,48413.0,13440.0,53647.0,522456.0,null,35329.0,2000000.0,146000.0,140000.0,4198.0,225000.0,36664.0,92000.0,400000.0,null,16613.0,19590.0,1000000.0,77911.0,35006.0,71100.0,89364.0,63016.0,220000.0,150000.0,66000.0,100000.0,120000.0,null,90000.0,32081.0,null,null,null,41688.0,3588.0,137490.0,17868.0,41808.0,64000.0,10032.0,107500.0,3276.0,48120.0,47160.0,83183.0,51147.0,150000.0,92000.0,37325.0,43284.0,37776.0,140.0,90000.0,66276.0,19249.0,82000.0,72182.0,11472.0,34368.0,19608.0,115000.0,88910.0,130554.0,33552.0,59180.0,32081.0,720000.0,47870.0,null,125000.0,125000.0,41988.0,54996.0,12244.0,20989.0,89000.0,183186.0,29488.0,45803.0,18036.0,21996.0,61106.0,2000000.0,12500.0,26400.0,6096.0,16487.0,37357.0,41705.0,28920.0,54194.0,150000.0,80184.0,8316.0,31403.0,45830.0,3014.0,1692.0,11520.0,61650.0,68745.0,19200.0,17100.0,45033.0,null,25684.0,26328.0,52248.0,27492.0,33348.0,null,111866.0,82000.0,2640.0,53323.0,384744.0,10956.0,89368.0,39768.0,31536.0,3636.0,16392.0,85000.0,71966.0,852072.0,null,89076.0,155000.0,100000.0,null,63240.0,69000.0,1000000.0,59508.0,112164.0,85051.0,83000.0,140000.0,90953.0,960000.0,15708.0,12120.0,26328.0,88000.0,61000.0,180000.0,25187.0,113744.0,162929.0,18000.0,100000.0,25188.0,105000.0,36027.0,4740.0,38496.0,65277.0,57287.0,155000.0,52044.0,115000.0,25206.0,57287.0,49500.0,3823.0,100000.0,200000.0,58860.0,105986.0,19248.0,85000.0,153950.0,200000.0,1000000.0,35798.0,91593.0,68748.0,160000.0,null,11040.0,202500.0,98135.0,98964.0,35244.0,103057.0,33000.0,135000.0,54996.0,33000.0,75000.0,78000.0,85000.0,11136.0,17760.0,130000.0,63000.0,1344.0,null,46000.0,79536.0,11544.0,165000.0,160000.0,112164.0,75000.0,106000.0,76339.0,105000.0,5976.0,76339.0,33780.0,25953.0,24744.0,85051.0,23376.0,135000.0,122142.0,72000.0,26760.0,89000.0,57287.0,125000.0,82488.0,21060.0,63108.0,64888.0,105000.0,155000.0,14364.0,null,60000.0,27492.0,60000.0,28644.0,9180.0,3862.0,60000.0,43180.0,11004.0,63016.0,10654.0,91660.0,36672.0,100000.0,58881.0,71000.0,72912.0,0.0,34092.0,70995.0,13752.0,null,106555.0,2000000.0,2000000.0,43195.0,51468.0,91593.0,6924.0,120000.0,107000.0,23772.0,96000.0,102000.0,12144.0,56292.0,17280.0,18191.0,null,35116.0,30528.0,45715.0,13812.0,105000.0,37128.0,61071.0,2000000.0,39876.0,16032.0,52339.0,85000.0,120000.0,4786.0,20484.0,270000.0,150000.0,12300.0,51559.0,27492.0,126000.0,5040.0,57312.0,73285.0,57636.0,16500.0,91606.0,101542.0,57720.0,90417.0,87036.0,null,87789.0,2000000.0,61870.0,120000.0,9600.0,108795.0,36664.0,38496.0,25116.0,34368.0,209892.0,70000.0,15120.0,160000.0,72600.0,48121.0,16032.0,63016.0,11200.0,null,81348.0,22517.0,1000000.0,98135.0,97500.0,73658.0,110509.0,49722.0,36265.0,130602.0,103000.0,2520.0,530400.0,58000.0,23832.0,110000.0,14436.0,16380.0,11004.0,121000.0,130000.0,null,43284.0,103116.0,23788.0,9276.0,957804.0,91593.0,866436.0,11520.0,47100.0,5904.0,55340.0,null,70000.0,88408.0,13752.0,13993.0,49920.0,824940.0,null,16392.0,74474.0,9683.0,54516.0,21996.0,58000.0,71000.0,22080.0,91660.0,null,100000.0,58881.0,49620.0,2000000.0,45797.0,75000.0,5597.0,696000.0,null,83972.0,53437.0,104834.0,55248.0,71376.0,10872.0,16872.0,21636.0,134000.0,73274.0,70650.0,4152.0,80000.0,18744.0,97190.0,26400.0,36000.0,4584.0,31403.0,851820.0,481212.0,7332.0,72228.0,11304.0,72182.0,150000.0,81000.0,220000.0,null,23040.0,22669.0,45797.0,51559.0,54168.0,123708.0,9600.0,50839.0,19590.0,100000.0,41000.0,80202.0,95000.0,12594.0,16791.0,63000.0,48120.0,95000.0,24060.0,48636.0,200000.0,15816.0,53437.0,180000.0,41244.0,1000000.0,40140.0,null,28786.0,100000.0,null,130000.0,20604.0,5208.0,78508.0,40836.0,60276.0,1680.0,23868.0,15672.0,125000.0,45636.0,68970.0,58024.0,36000.0,39696.0,22296.0,12996.0,15183.0,35743.0,44352.0,13716.0,12780.0,19248.0,30535.0,10164.0,46752.0,6720.0,14136.0,82000.0,82476.0,150000.0,4656.0,null,42456.0,54302.0,104678.0,33000.0,15564.0,118000.0,33583.0,4200.0,65300.0,577452.0,100500.0,40824.0,51564.0,2000000.0,24744.0,185000.0,1000000.0,46976.0,58413.0,11496.0,99240.0,41871.0,27504.0,29385.0,504.0,83000.0,68421.0,962424.0,100000.0,3588.0,84000.0,78826.0,75000.0,19170.0,39166.0,80000.0,70000.0,48924.0,77670.0,71609.0,46976.0,63721.0,63624.0,28891.0,111000.0,115000.0,2000000.0,null,65568.0,2000000.0,0.0,32292.0,41388.0,40284.0,11544.0,null,17724.0,null,31656.0,88871.0,null,28786.0,30936.0,18013.0,10404.0,8856.0,120000.0,null,null,109000.0,53028.0,604956.0,null,3528.0,2000000.0,180000.0,54996.0,105000.0,16392.0,3360.0,38340.0,4074.0,33583.0,28644.0,36664.0,74474.0,54040.0,11184.0,8550.0,16656.0,35376.0,175000.0,57744.0,16500.0,30252.0,85000.0,87000.0,1560000.0,null,1000000.0,104678.0,11688.0,13993.0,54000.0,null,63101.0,124000.0,26868.0,10080.0,43080.0,41247.0,74474.0,9540.0,41244.0,690000.0,8520.0,19044.0,74474.0,68745.0,27498.0,18888.0,38496.0,115000.0,39180.0,66306.0,659928.0,38400.0,39254.0,103117.0,114575.0,5037.0,68745.0,58017.0,45797.0,28644.0,12594.0,66276.0,150000.0,2376.0,173000.0,75000.0,130000.0,80000.0,213963.0,36060.0,2000000.0,100000.0,13368.0,34372.0,59579.0,76339.0,95518.0,600000.0,369408.0,38026.0,65000.0,null,200000.0,189000.0,12174.0,120000.0,43180.0,1000000.0,64888.0,88000.0,16332.0,135000.0,23832.0,27456.0,21636.0,18000.0,95000.0,27492.0,27478.0,33000.0,135000.0,109927.0,null,63000.0,5037.0,25206.0,null,8496.0,35329.0,54888.0,55348.0,56032.0,58024.0,2000000.0,11194.0,null,83000.0,75891.0,45830.0,140000.0,110000.0,79984.0,null,8500.0,96000.0,18336.0,8184.0,43180.0,24240.0,35580.0,61872.0,85000.0,7128.0,343728.0,8244.0,50000.0,37128.0,null,90000.0,114597.0,45803.0,108423.0,4198.0,125000.0,49488.0,54444.0,165000.0,19248.0,60000.0,124000.0,30000.0,98964.0,1680000.0,110000.0,870264.0,130000.0,20136.0,null,85051.0,15588.0,59652.0,null,200000.0,null,43518.0,194000.0,1200.0,618708.0,57287.0,180000.0,9795.0,16791.0,100000.0,11004.0,125000.0,16152.0,27504.0,63500.0,2000000.0,28860.0,180000.0,3672.0,3588.0,27864.0,2000000.0,100000.0,105000.0,57287.0,null,47105.0,15516.0,12134.0,36060.0,27492.0,165000.0,39876.0,71580.0,54964.0,53318.0,140000.0,130000.0,140000.0,91660.0,31620.0,462084.0,null,114575.0,74583.0,37000.0,null,13752.0,37128.0,130000.0,192500.0,16128.0,18912.0,60000.0,230000.0,180000.0,null,95000.0,43180.0,27498.0,90000.0,6072.0,4620.0,null,110000.0,100000.0,26352.0,95000.0,2000000.0,25980.0,8556.0,110000.0,22800.0,2000000.0,null,140000.0,71803.0,90.0,1000000.0,4728.0,78508.0,150000.0,66732.0,135000.0,116048.0,99240.0,32460.0,28786.0,994392.0,61870.0,288.0,45000.0,125000.0,77496.0,31620.0,3022.0,65424.0,null,769380.0,57744.0,36091.0,229016.0,92000.0,73274.0,75000.0,24744.0,72530.0,103117.0,53460.0,41472.0,63016.0,4728.0,17796.0,30784.0,200000.0,22388.0,66728.0,5016.0,108000.0,null,43500.0,67017.0,105486.0,31164.0,16000.0,130000.0,128249.0,120000.0,88000.0,573108.0,34368.0,28873.0,20623.0,31524.0,45830.0,38623.0,null,100300.0,175000.0,76956.0,148000.0,42960.0,45830.0,12500.0,58881.0,48093.0,36000.0,12828.0,112000.0,27498.0,null,15530.0,83640.0,802812.0,120000.0,35748.0,110000.0,41871.0,42624.0,59579.0,100098.0,65424.0,29012.0,4548.0,28644.0,108000.0,null,44004.0,64128.0,30252.0,6996.0,2099.0,130000.0,82188.0,35000.0,70000.0,2000000.0,19590.0,251868.0,30095.0,104678.0,34368.0,46953.0,2000000.0,null,17796.0,30000.0,110000.0,24588.0,105000.0,67386.0,null,54996.0,104678.0,117763.0,62376.0,16791.0,90000.0,122247.0,32183.0,42331.0,11894.0,13650.0,7800.0,20988.0,10188.0,148947.0,52248.0,7556.0,19380.0,66000.0,122000.0,20989.0,40101.0,150000.0,57287.0,23945.0,175000.0,37810.0,40101.0,null,27986.0,118000.0,5448.0,72182.0,15120.0,106908.0,2000000.0,53437.0,119700.0,27792.0,106000.0,20628.0,1000000.0,55000.0,30784.0,54996.0,73536.0,2000000.0,188000.0,72182.0,37081.0,12768.0,150000.0,34092.0,59579.0,50000.0,24744.0,95700.0,65424.0,88400.0,80000.0,6672.0,76992.0,102000.0,null,1140000.0,40211.0,25206.0,80000.0,41244.0,57287.0,128000.0,11472.0,5880.0,53028.0,14077.0,15379.0,110000.0,54996.0,30540.0,180000.0,1000000.0,51559.0,17556.0,291264.0,66732.0,31812.0,70000.0,48000.0,165000.0,110000.0,125000.0,117000.0,57287.0,47105.0,null,110000.0,null,173400.0,null,12672.0,1104000.0,80000.0,106092.0,104000.0,81024.0,40306.0,65424.0,40101.0,85000.0,184000.0,126126.0,38496.0,58624.0,92076.0,80202.0,126000.0,27498.0,63987.0,360000.0,157017.0,21444.0,15552.0,25187.0,150000.0,1000000.0,39254.0,70658.0,10035.0,68000.0,17868.0,45830.0,26688.0,108000.0,28786.0,95000.0,13428.0,null,28872.0,879936.0,2000000.0,120000.0,70248.0,151000.0,48000.0,125000.0,37128.0,4068.0,604956.0,20489.0,8196.0,null,941808.0,2000000.0,61641.0,9540.0,19200.0,96000.0,63016.0,130000.0,94435.0,104678.0,85000.0,61870.0,68745.0,61870.0,51910.0,5904.0,155000.0,5040.0,11916.0,13980.0,85931.0,74244.0,125000.0,16884.0,7766.0,59579.0,null,74000.0,510300.0,2000000.0,21689.0,36091.0,58000.0,135000.0,889560.0,39254.0,31164.0,103000.0,1140.0,22524.0,27492.0,54996.0,54996.0,27492.0,38400.0,56160.0,64848.0,16500.0,3024.0,45797.0,5280.0,23376.0,85931.0,687444.0,83000.0,90514.0,72530.0,1000000.0,42636.0,61568.0,58433.0,1000000.0,23904.0,18332.0,20628.0,200000.0,48000.0,77000.0,24744.0,89076.0,77160.0,68424.0,9684.0,null,34620.0,30784.0,91660.0,57512.0,57287.0,36265.0,49620.0,41871.0,73284.0,105000.0,40101.0,68748.0,54996.0,65000.0,16392.0,107000.0,42393.0,628068.0,124000.0,18332.0,16092.0,1878.0,38496.0,11304.0,0.0,39696.0,840000.0,114597.0,632448.0,33000.0,2000000.0,4198.0,56264.0,58892.0,21612.0,2484.0,65424.0,309984.0,140000.0,30144.0,78508.0,7560.0,76000.0,51948.0,93000.0,34368.0,23832.0,190000.0,65000.0,61872.0,48660.0,null,4044.0,null,125000.0,8556.0,60000.0,57000.0,21372.0,659952.0,18050.0,60000.0,8172.0,136000.0,51559.0,null,154043.0,73328.0,1680.0,90000.0,null,27492.0,28955.0,40563.0,87000.0,48000.0,32064.0,82400.0,83384.0,87789.0,120000.0,null,33024.0,144000.0,3528.0,50232.0,35748.0,133500.0,85000.0,null,66453.0,30095.0,10596.0,62604.0,125000.0,12000.0,9795.0,91593.0,91660.0,45000.0,34372.0,23788.0,42612.0,15948.0,5496.0,9000.0,71036.0,87537.0,19200.0,76339.0,135000.0,31596.0,55176.0,150000.0,77326.0,120000.0,16500.0,35568.0,53647.0,17892.0,29784.0,75000.0,220000.0,61071.0,42120.0,96000.0,122905.0,78508.0,18036.0,57828.0,10824.0,null,120556.0,null,26508.0,null,58881.0,230000.0,57457.0,76339.0,25206.0,68748.0,65651.0,52000.0,25187.0,130.0,15144.0,15696.0,164000.0,51559.0,58881.0,5208.0,32081.0,44077.0,58881.0,106000.0,null,47105.0,160000.0,3444.0,null,37128.0,63016.0,120000.0,null,19616.0,28644.0,5376.0,144360.0,27492.0,60432.0,20290.0,19668.0,58881.0,78000.0,120000.0,11856.0,18432.0,5040.0,811188.0,64620.0,565728.0,40080.0,41244.0,15408.0,780432.0,26124.0,52000.0,null,68041.0,140000.0,45830.0,52132.0,3936.0,58968.0,9895.0,48121.0,140000.0,0.0,17352.0,75619.0,62000.0,124611.0,15336.0,57287.0,92000.0,14484.0,null,41244.0,1785.0,130000.0,25836.0,41244.0,92000.0,32400.0,56371.0,2520.0,85051.0,45828.0,144000.0,1800000.0,10788.0,54582.0,16162.0,41247.0,52536.0,18890.0,1000000.0,54996.0,72500.0,41871.0,57287.0,45002.0,3744.0,58881.0,null,2000000.0,30252.0,19920.0,70000.0,18000.0,85776.0,50400.0,494964.0,79490.0,null,25656.0,null,11894.0,17280.0,71966.0,53437.0,75177.0,54956.0,57573.0,128400.0,32712.0,10080.0,null,100000.0,85394.0,22092.0,41244.0,147681.0,60000.0,20628.0,12984.0,6792.0,13116.0,null,30935.0,120000.0,110000.0,11004.0,80000.0,200000.0,13260.0,66453.0,100000.0,12180.0,81000.0,58428.0,70658.0,300000.0,10914.0,95664.0,43992.0,13573.0,120000.0,122142.0,58749.0,190000.0,26866.0,4512.0,10495.0,52704.0,651624.0,687444.0,150000.0,null,1000000.0,42966.0,1320000.0,46752.0,114575.0,51559.0,137000.0,31416.0,49722.0,null,46451.0,15120.0,125000.0,85051.0,78000.0,618708.0,1560000.0,68705.0,77000.0,98000.0,32256.0,108000.0,9852.0,65308.0,71500.0,70116.0,46747.0,null,null,17250.0,23004.0,14760.0,41160.0,33672.0,102472.0,89937.0,null,63016.0,53400.0,80202.0,180000.0,549564.0,48528.0,79163.0,82946.0,8020.0,63101.0,37812.0,41247.0,10635.0,10411.0,52704.0,75000.0,130000.0,8244.0,16791.0,72182.0,110484.0,105.0,270000.0,1000000.0,74474.0,null,65424.0,54996.0,10056.0,24744.0,5700.0,77000.0,54996.0,35748.0,105000.0,80371.0,53850.0,54996.0,2000000.0,13296.0,110000.0,30660.0,116048.0,43932.0,52000.0,65424.0,12900.0,60000.0,53647.0,7276.0,628068.0,41551.0,70324.0,2000000.0,34368.0,16788.0,null,125000.0,27348.0,106645.0,1200000.0,1260000.0,8787.0,108648.0,47105.0,36381.0,840000.0,175000.0,63016.0,24744.0,52339.0,null,7464.0,20352.0,81682.0,null,34372.0,50592.0,24060.0,22388.0,12132.0,68705.0,83972.0,80000.0,45372.0,null,78508.0,18456.0,83409.0,83640.0,48413.0,60500.0,14400.0,null,156000.0,88871.0,9624.0,24000.0,null,76339.0,37368.0,59000.0,22944.0,98135.0,3264.0,866184.0,8652.0,108000.0,105486.0,60000.0,100826.0,210000.0,8396.0,108864.0,80000.0,24084.0,40488.0,125000.0,8784.0,null,863592.0,null,240612.0,8436.0,63016.0,40101.0,67453.0,172000.0,5628.0,104000.0,58881.0,33583.0,108795.0,54797.0,61872.0,64200.0,11916.0,57287.0,120000.0,49500.0,66300.0,105.0,984000.0,90000.0,null,8664.0,61000.0,35039.0,100000.0,16152.0,22440.0,27180.0,80000.0,34372.0,92000.0,45830.0,10680.0,60000.0,37065.0,19870.0,34372.0,null,null,425000.0,7764.0,30300.0,110000.0,2412.0,null,1440000.0,null,45803.0,43992.0,25000.0,28704.0,null,54996.0,85632.0,107000.0,54964.0,1224000.0,106000.0,110509.0,40092.0,58881.0,48857.0,16356.0,41244.0,9792.0,8256.0,80202.0,13764.0,105000.0,80155.0,36050.0,38496.0,52704.0,44488.0,20988.0,150000.0,35064.0,55845.0,3943.0,null,182657.0,11796.0,12372.0,90066.0,9072.0,140648.0,50000.0,42624.0,9708.0,106000.0,65424.0,48120.0,65976.0,250000.0,5772.0,16500.0,22452.0,48096.0,21970.0,75000.0,null,72550.0,91328.0,41244.0,118417.0,100752.0,43907.0,86000.0,36337.0,41244.0,104276.0,51600.0,6720.0,55680.0,67000.0,70000.0,69790.0,32974.0,103455.0,18912.0,116000.0,30624.0,145000.0,133000.0,19740.0,102600.0,210000.0,125000.0,18973.0,57287.0,74812.0,19572.0,70000.0,57828.0,65424.0,58227.0,114000.0,49709.0,486756.0,54080.0,155000.0,256000.0,94289.0,125000.0,225000.0,103782.0,42622.0,6717.0,85000.0,120900.0,75564.0,26880.0,60000.0,44432.0,7892.0,61650.0,53328.0,85000.0,70000.0,35664.0,51564.0,6552.0,94289.0,58530.0,90000.0,16500.0,75891.0,56250.0,36672.0,86000.0,2000000.0,63016.0,12228.0,null,33108.0,148947.0,63048.0,null,215000.0,6689.0,80000.0,43538.0,24848.0,67000.0,4200.0,28644.0,45000.0,45830.0,77000.0,29328.0,309348.0,140000.0,103117.0,100000.0,853164.0,30500.0,37810.0,48108.0,74474.0,40101.0,33000.0,100000.0,70000.0,59475.0,120304.0,32183.0,119000.0,null,22944.0,5496.0,6996.0,160000.0,28620.0,null,17484.0,1000000.0,132000.0,54996.0,25500.0,95440.0,23124.0,27504.0,89.0,43451.0,27000.0,42624.0,127485.0,null,170000.0,125000.0,145000.0,48120.0,22920.0,1464000.0,42750.0,0.0,144000.0,114597.0,37000.0,100000.0,90000.0,null,14436.0,18191.0,1000000.0,14244.0,130033.0,125000.0,104678.0,45797.0,44684.0,110509.0,95423.0,90420.0,null,null,17796.0,7644.0,9696.0,44604.0,61071.0,78000.0,18288.0,130000.0,null,35100.0,65424.0,16116.0,300000.0,100000.0,101280.0,103057.0,null,115464.0,61140.0,150000.0,30935.0,12924.0,21504.0,46752.0,145000.0,60000.0,16500.0,120000.0,123800.0,52000.0,131988.0,54996.0,65000.0,102000.0,49536.0,98964.0,110484.0,59006.0,19884.0,49840.0,51559.0,53688.0,78000.0,10656.0,360.0,49176.0,118286.0,8196.0,10215.0,45830.0,13752.0,85000.0,66453.0,90417.0,48737.0,24744.0,6456.0,null,17412.0,132000.0,27504.0,70000.0,102264.0,64919.0,33000.0,28786.0,13993.0,170000.0,39108.0,108000.0,2520.0,42468.0,43538.0,110000.0,null,68705.0,160000.0,63016.0,18852.0,108782.0,null,175000.0,15408.0,320000.0,70000.0,13752.0,95000.0,76812.0,13788.0,100000.0,null,708.0,57287.0,31081.0,68745.0,51300.0,35721.0,32081.0,102112.0,16032.0,26232.0,73500.0,135000.0,39891.0,182600.0,null,5436.0,91660.0,8400.0,59579.0,45372.0,14040.0,43908.0,5196.0,94289.0,13560.0,23376.0,65000.0,42393.0,29832.0,null,250000.0,27180.0,51564.0,61872.0,1560000.0,71880.0,5597.0,290484.0,52339.0,null,null,52000.0,52248.0,95423.0,82000.0,115000.0,38000.0,96000.0,108795.0,942096.0,160000.0,750166.0,null,null,30935.0,120000.0,150000.0,1224.0,57287.0,17868.0,97389.0,null,167000.0,21996.0,85931.0,46392.0,18624.0,7368.0,57756.0,50000.0,91606.0,72336.0,91606.0,85000.0,32081.0,50771.0,100000.0,1000000.0,1080000.0,110000.0,3696.0,10980.0,47144.0,64000.0,205000.0,135000.0,80000.0,596664.0,115000.0,100000.0,54996.0,65000.0,43000.0,51559.0,67165.0,180000.0,145000.0,39252.0,35518.0,17556.0,5901.0,38496.0,7884.0,5136.0,114508.0,60278.0,16500.0,null,60725.0,31403.0,21828.0,49267.0,9576.0,591204.0,5376.0,45830.0,8400.0,62968.0,52704.0,93109.0,41244.0,32424.0,125000.0,65000.0,14160.0,30480.0,35268.0,18012.0,85000.0,1000000.0,160000.0,92370.0,62400.0,1000000.0,62692.0,null,11520.0,46976.0,64392.0,null,145060.0,67512.0,19590.0,11796.0,51300.0,76339.0,190000.0,18336.0,33791.0,29385.0,27986.0,105000.0,98964.0,1260000.0,65000.0,7056.0,85931.0,67255.0,83500.0,583488.0,42120.0,85000.0,25000.0,null,76000.0,7368.0,null,12132.0,103176.0,39336.0,19236.0,63984.0,null,170000.0,12060.0,87789.0,38496.0,16128.0,11748.0,null,94875.0,214000.0,150000.0,75237.0,534552.0,86212.0,29503.0,73000.0,51559.0,101542.0,43920.0,null,125000.0,91606.0,95423.0,59676.0,57600.0,58433.0,4128.0,18012.0,36531.0,41244.0,135000.0,5877.0,100000.0,88871.0,20989.0,120000.0,10452.0,61872.0,89000.0,54956.0,198000.0,9216.0,218000.0,628068.0,null,577452.0,150000.0,64044.0,17004.0,91600.0,27504.0,24912.0,68745.0,null,50868.0,3360.0,74474.0,45000.0,36288.0,27478.0,46056.0,59000.0,55000.0,106874.0,10884.0,34368.0,57744.0,29952.0,3420.0,68745.0,27492.0,36000.0,102.0,80155.0,100000.0,47664.0,85000.0,23788.0,71097.0,77911.0,5736.0,11856.0,8520.0,49267.0,null,null,null,23304.0,96900.0,51773.0,2799.0,5880.0,32064.0,28595.0,21996.0,null,95000.0,85596.0,18336.0,82946.0,45797.0,16500.0,null,251232.0,21888.0,8940.0,60000.0,null,43378.0,84736.0,118764.0,140000.0,5700.0,null,6000.0,62979.0,75000.0,13749.0,25500.0,77911.0,88000.0,36664.0,300000.0,34372.0,28860.0,12594.0,65424.0,51559.0,3876.0,null,110000.0,6876.0,28872.0,25668.0,90000.0,59579.0,59579.0,56142.0,2628.0,10495.0,43538.0,80202.0,28064.0,74474.0,null,24000.0,61834.0,68745.0,85000.0,94000.0,1176000.0,null,null,45072.0,1716.0,100000.0,null,25206.0,52934.0,190000.0,62073.0,28500.0,85000.0,95000.0,68745.0,52339.0,1176000.0,160000.0,26388.0,18564.0,null,16791.0,125000.0,61498.0,68903.0,40320.0,20623.0,8316.0,94660.0,68000.0,51559.0,33583.0,9420.0,18000.0,120000.0,66453.0,31403.0,71609.0,1320000.0,5820.0,175000.0,135625.0,39029.0,90000.0,121000.0,66453.0,48850.0,41247.0,32081.0,null,60492.0,934932.0,2000000.0,95000.0,160000.0,65000.0,68745.0,88976.0,36648.0,65412.0,41247.0,56000.0,67605.0,48121.0,110000.0,77911.0,50000.0,130000.0,31240.0,64735.0,996000.0,67000.0,45830.0,100826.0,63016.0,140000.0,11544.0,51559.0,99500.0,838692.0,140000.0,80202.0,690000.0,32712.0,null,3288.0,120304.0,17186.0,49722.0,56490.0,57573.0,5940.0,116537.0,26586.0,71966.0,68745.0,17004.0,16872.0,33000.0,61071.0,null,115000.0,null,11000.0,1000.0,43538.0,18432.0,90285.0,140648.0,35000.0,130000.0,29400.0,43180.0,57287.0,21996.0,63016.0,51564.0,45830.0,26232.0,993036.0,null,26169.0,302244.0,125040.0,82488.0,142000.0,11894.0,4897.0,42393.0,2000000.0,49722.0,null,9545.0,80155.0,null,82860.0,47724.0,null,194000.0,3276.0,51564.0,97000.0,13608.0,6996.0,43997.0,null,70000.0,72000.0,32784.0,9636.0,52704.0,83957.0,60000.0,null,51836.0,64162.0,9840.0,99459.0,107765.0,76560.0,null,2000000.0,63016.0,68970.0,540000.0,57254.0,2616.0,2000000.0,110000.0,1000000.0,17184.0,2000000.0,23650.0,1320000.0,51700.0,160311.0,32700.0,190000.0,3768.0,1000000.0,3444.0,115000.0,6648.0,33000.0,45830.0,42420.0,6492.0,88800.0,42168.0,2000000.0,10908.0,48000.0,343728.0,29328.0,217590.0,53437.0,104000.0,58000.0,72000.0,18693.0,150000.0,104030.0,21060.0,21348.0,70000.0,51559.0,8244.0,137082.0,120000.0,270000.0,68745.0,45372.0,117000.0,38496.0,17868.0,2640.0,12852.0,2184.0,12852.0,140000.0,95440.0,65000.0,20000.0,32316.0,17100.0,3960.0,63826.0,null,16212.0,30252.0,null,74245.0,16260.0,170000.0,90000.0,90939.0,35740.0,null,3358.0,67165.0,43992.0,110000.0,85931.0,110000.0,50977.0,null,235000.0,151000.0,90000.0,210000.0,56142.0,21384.0,20100.0,11268.0,30224.0,8892.0,23788.0,115000.0,null,71036.0,48120.0,75000.0,52704.0,null,101556.0,7560.0,190000.0,87564.0,46976.0,659952.0,6912.0,14724.0,52248.0,56028.0,32083.0,49224.0,960000.0,37032.0,null,53028.0,150000.0,63987.0,2856.0,85000.0,13116.0,60000.0,5597.0,null,91593.0,42624.0,null,72912.0,71976.0,8815.0,null,5037.0,115000.0,36265.0,null,null,76000.0,780000.0,145000.0,79817.0,11916.0,67512.0,2604.0,57000.0,16500.0,52356.0,85000.0,68745.0,97950.0,31668.0,165000.0,10032.0,79000.0,80000.0,565260.0,21884.0,706572.0,57287.0,16620.0,95000.0,22944.0,35329.0,35400.0,170000.0,null,195000.0,340000.0,5037.0,14976.0,90000.0,138000.0,5496.0,123000.0,39254.0,15144.0,87036.0,12228.0,8712.0,48093.0,192000.0,48120.0,130000.0,1680.0,1320000.0,80000.0,63016.0,68970.0,null,23620.0,8940.0,139000.0,16032.0,75000.0,82684.0,34000.0,70548.0,50868.0,14532.0,34560.0,41986.0,103057.0,200000.0,130000.0,502452.0,6720.0,13428.0,160000.0,null,1200000.0,1164000.0,76000.0,74583.0,108576.0,1000000.0,522456.0,107000.0,40101.0,91606.0,96000.0,16372.0,68745.0,150000.0,28668.0,25188.0,68748.0,42900.0,11194.0,120000.0,36000.0,85000.0,41871.0,53520.0,45830.0,500000.0,null,72292.0,null,137000.0,58548.0,45803.0,109912.0,145060.0,null,864.0,65000.0,52704.0,13824.0,130000.0,93951.0,41986.0,115000.0,null,6192.0,3060.0,134000.0,95000.0,61872.0,12348.0,null,19776.0,60492.0,27492.0,40563.0,83000.0,54996.0,180000.0,35748.0,74474.0,null,57708.0,40332.0,27648.0,67178.0,60725.0,9795.0,549564.0,618708.0,722.0,59579.0,43992.0,75000.0,68041.0,43000.0,38247.0,82000.0,86429.0,132000.0,75000.0,10800.0,17640.0,66002.0,26124.0,220000.0,25206.0,9372.0,110000.0,42624.0,74000.0,114575.0,99600.0,30935.0,20628.0,266000.0,90000.0,null,68745.0,103000.0,45830.0,11194.0,26124.0,41382.0,71966.0,7696.0,20628.0,95000.0,null,57287.0,65000.0,26586.0,4704.0,100000.0,39840.0,962424.0,5460.0,107344.0,58881.0,140000.0,72912.0,82494.0,null,85051.0,659952.0,19068.0,115000.0,120000.0,32880.0,20904.0,83972.0,68280.0,15564.0,72912.0,58024.0,12828.0,9216.0,null,6017.0,53437.0,69318.0,10.0,10320.0,20904.0,80000.0,62076.0,10548.0,13428.0,17100.0,46761.0,21000.0,59004.0,85931.0,7548.0,88223.0,82494.0,16392.0,6324.0,130000.0,37128.0,300000.0,76765.0,74500.0,578.0,122142.0,400000.0,null,115000.0,2520.0,101542.0,26676.0,77000.0,null,85051.0,78000.0,1000000.0,147312.0,24049.0,150000.0,3864.0,48093.0,59579.0,38497.0,28200.0,33636.0,150000.0,18191.0,110000.0,4608.0,47724.0,59651.0,null,null,45372.0,853080.0,1000000.0,48121.0,2000000.0,65277.0,21855.0,78508.0,85000.0,122000.0,2000000.0,82476.0,5232.0,6876.0,67178.0,50771.0,155000.0,54996.0,75564.0,34372.0,22080.0,56376.0,59124.0,11748.0,134328.0,28169.0,19332.0,80000.0,17400.0,null,70000.0,77820.0,90072.0,3024.0,3696.0,12228.0,72273.0,null,106000.0,85000.0,90000.0,26028.0,121000.0,103117.0,54996.0,39696.0,17472.0,53821.0,13116.0,64200.0,114508.0,65424.0,11004.0,57287.0,146000.0,77034.0,130000.0,5880.0,null,90000.0,12454.0,37128.0,27500.0,8844.0,45830.0,130000.0,41247.0,16512.0,null,65000.0,91660.0,null,91593.0,2568.0,110000.0,150000.0,5880.0,115533.0,150000.0,95000.0,8400.0,57348.0,66453.0,27492.0,88633.0,51240.0,41688.0,18432.0,852.0,10080.0,140000.0,53850.0,43992.0,null,null,null,null,98016.0,31620.0,38496.0,9167.0,23832.0,68000.0,80202.0,null,46566.0,2000000.0,60720.0,17604.0,60000.0,170000.0,null,350000.0,22512.0,60517.0,28080.0,26124.0,150000.0,57287.0,250000.0,49500.0,115000.0,150000.0,150000.0,160000.0,101000.0,79176.0,135000.0,74474.0,68928.0,160000.0,60000.0,371220.0,null,57180.0,75619.0,null,null,509.0,57573.0,2000000.0,10548.0,12312.0,137500.0,125613.0,141226.0,200000.0,246000.0,59579.0,null,95000.0,36756.0,20100.0,27252.0,82494.0,15708.0,2000000.0,50000.0,150000.0,32724.0,8436.0,51030.0,80000.0,46752.0,null,97000.0,33866.0,20628.0,80000.0,64620.0,130000.0,43538.0,49267.0,372048.0,50376.0,57744.0,40488.0,39876.0,92000.0,25980.0,4332.0,458031.0,15708.0,32304.0,37810.0,45830.0,11748.0,40101.0,17184.0,4198.0,17796.0,36637.0,null,1000000.0,78508.0,91000.0,4392.0,216372.0,184704.0,59400.0,48121.0,56264.0,70354.0,19884.0,83972.0,14832.0,59535.0,null,33227.0,185000.0,19200.0,98000.0,70260.0,null,71496.0,67800.0,36852.0,29508.0,15600.0,68745.0,91834.0,98964.0,4338.0,56715.0,19044.0,null,60000.0,2988.0,4380.0,110000.0,99999.0,54400.0,1560000.0,80000.0,9012.0,73000.0,null,2000000.0,12594.0,11748.0,63240.0,66276.0,24061.0,42393.0,23553.0,95000.0,null,68745.0,61870.0,54996.0,70000.0,85000.0,103117.0,59652.0,106000.0,91000.0,26701.0,995352.0,72500.0,110000.0,74232.0,39180.0,26532.0,45000.0,230500.0,57744.0,71966.0,1400000.0,76765.0,155000.0,19104.0,51408.0,30936.0,36000.0,23220.0,null,82750.0,90000.0,34372.0,72336.0,104708.0,3228.0,4536.0,16788.0,34372.0,13248.0,5016.0,4992.0,127000.0,92500.0,32028.0,18192.0,108000.0,45000.0,35747.0,51336.0,68000.0,null,13932.0,5880.0,77000.0,12000.0,null,34704.0,null,79536.0,42168.0,64000.0,68745.0,80000.0,null,16212.0,34368.0,37128.0,11004.0,8396.0,20124.0,378096.0,9972.0,105000.0,32028.0,46752.0,45036.0,53437.0,27816.0,1080000.0,8244.0,64888.0,962424.0,61071.0,26808.0,1000000.0,89000.0,85000.0,null,15480.0,33562.0,68745.0,73312.0,100000.0,104724.0,75000.0,110000.0,62000.0,140000.0,null,58433.0,12432.0,103117.0,54000.0,391848.0,60000.0,11220.0,1000000.0,31140.0,70000.0,null,45830.0,null,32304.0,17184.0,100000.0,11004.0,42600.0,null,null,11400.0,5760.0,45830.0,70000.0,12594.0,78508.0,13752.0,60250.0,79000.0,96000.0,9840.0,3948.0,62964.0,null,null,53437.0,133000.0,160000.0,79188.0,67512.0,797436.0,80155.0,83640.0,85000.0,85553.0,28188.0,3360.0,15984.0,80000.0,13116.0,786648.0,30362.0,23436.0,21124.0,86000.0,53437.0,39696.0,34368.0,40488.0,65308.0,41244.0,65424.0,108814.0,9072.0,268656.0,null,91606.0,24061.0,419724.0,79183.0,20475.0,null,null,74474.0,3180.0,90000.0,null,18036.0,155000.0,85000.0,null,175000.0,null,288732.0,984000.0,22056.0,72912.0,14400.0,10176.0,10260.0,18432.0,null,60152.0,39891.0,null,120000.0,31344.0,17676.0,null,43538.0,71036.0,659568.0,87300.0,28128.0,19668.0,180000.0,90000.0,52339.0,101000.0,140000.0,300000.0,78400.0,77367.0,130000.0,12612.0,55056.0,83972.0,18332.0,93000.0,1980000.0,65000.0,533856.0,165000.0,110000.0,114168.0,22800.0,null,64164.0,100000.0,40100.0,19920.0,150000.0,130000.0,120000.0,null,41244.0,null,141994.0,27986.0,9795.0,960000.0,5256.0,39254.0,32124.0,21636.0,null,68748.0,57828.0,43518.0,107000.0,105000.0,null,134000.0,7560.0,null,38340.0,154000.0,170000.0,10320.0,7476.0,71000.0,18036.0,64162.0,10968.0,48121.0,49722.0,152000.0,60.0,123000.0,12576.0,19668.0,null,106000.0,null,20904.0,9624.0,48120.0,null,38472.0,36381.0,783696.0,10885.0,170000.0,13188.0,55000.0,3696.0,32712.0,21924.0,100000.0,83409.0,7136.0,13428.0,51559.0,54302.0,17004.0,null,64983.0,20100.0,212000.0,33012.0,21984.0,23962.0,19416.0,29952.0,2000000.0,31200.0,30051.0,15461.0,533856.0,86000.0,423948.0,83800.0,853164.0,105347.0,8976.0,68820.0,30252.0,45601.0,110000.0,137000.0,145000.0,110000.0,4332.0,412464.0,45797.0,46392.0,17868.0,214000.0,39762.0,23868.0,105000.0,125000.0,231000.0,48465.0,4080.0,31620.0,43968.0,96573.0,13993.0,58024.0,250000.0,84000.0,5040.0,72000.0,123000.0,7224.0,34812.0,113429.0,120000.0,628068.0,57287.0,11256.0,92000.0,42793.0,13752.0,3360.0,16392.0,33583.0,925320.0,350.0,1824.0,2000000.0,196250.0,6936.0,10392.0,99240.0,62807.0,4776.0,95000.0,24061.0,106555.0,null,8676.0,13116.0,480000.0,2799.0,40080.0,63016.0,50355.0,18890.0,125000.0,13116.0,94000.0,13200.0,17760.0,1428.0,60000.0,34020.0,87789.0,190000.0,68745.0,58881.0,33000.0,68745.0,23688.0,12314.0,37128.0,87036.0,15036.0,68748.0,null,13116.0,57600.0,12873.0,null,73328.0,96989.0,98088.0,21600.0,53712.0,7800.0,1620000.0,91593.0,32291.0,29789.0,453720.0,70000.0,38556.0,659472.0,210000.0,98910.0,72000.0,54996.0,42393.0,2000000.0,94000.0,69891.0,16020.0,60000.0,40101.0,50376.0,47500.0,74474.0,14484.0,29245.0,93000.0,48120.0,12372.0,17491.0,71966.0,88000.0,329893.0,null,24000.0,200000.0,7188.0,2000000.0,408864.0,38616.0,74474.0,56000.0,1440000.0,125000.0,13476.0,39876.0,28071.0,95664.0,38169.0,null,145000.0,32316.0,89000.0,80202.0,null,6936.0,3144.0,43464.0,82000.0,177742.0,50376.0,8064.0,null,13752.0,70000.0,42393.0,175579.0,18720.0,220000.0,24061.0,167000.0,6552.0,39299.0,135000.0,46976.0,140000.0,27986.0,21312.0,null,50413.0,13368.0,48121.0,45830.0,54996.0,57470.0,56878.0,53173.0,32712.0,13993.0,54956.0,114744.0,274980.0,34372.0,38169.0,190000.0,null,8396.0,19308.0,125000.0,13320.0,866184.0,42624.0,47105.0,65000.0,36060.0,742440.0,52932.0,80202.0,17268.0,21360.0,68000.0,47868.0,20736.0,77340.0,83972.0,null,54956.0,37128.0,115000.0,40039.0,36024.0,null,100000.0,26124.0,85000.0,59653.0,24000.0,756192.0,64769.0,12372.0,5820.0,null,105000.0,129775.0,32784.0,110000.0,115000.0,139120.0,45000.0,20000.0,57254.0,117542.0,101906.0,12372.0,138000.0,null,37810.0,98050.0,5040.0,150000.0,85931.0,9095.0,40563.0,17916.0,null,9795.0,90000.0,null,118000.0,30156.0,125220.0,155000.0,73467.0,65000.0,8396.0,44830.0,23679.0,27492.0,60000.0,9168.0,117763.0,58881.0,2000000.0,3324.0,80000.0,107000.0,92000.0,25296.0,11748.0,140000.0,129775.0,114575.0,4656.0,null,19740.0,23376.0,1092.0,17964.0,167000.0,64128.0,104588.0,44412.0,42000.0,6720.0,706572.0,42393.0,16464.0,842772.0,23556.0,3528.0,null,48120.0,135000.0,114575.0,null,22440.0,18324.0,72530.0,32826.0,1726308.0,9096.0,36000.0,12594.0,54996.0,47832.0,37416.0,87036.0,27492.0,31620.0,3432.0,70500.0,26736.0,null,72000.0,170000.0,73274.0,null,27986.0,49086.0,null,null,68745.0,38496.0,34464.0,49722.0,76339.0,37416.0,23304.0,62000.0,38955.0,43992.0,1050000.0,1000000.0,51036.0,10872.0,54996.0,52000.0,31620.0,240000.0,80000.0,64162.0,65340.0,null,5877.0,6972.0,null,72912.0,105000.0,49500.0,2604.0,72522.0,12552.0,35748.0,27504.0,10656.0,null,2000000.0,687444.0,175000.0,48120.0,95000.0,30252.0,43300.0,91660.0,38992.0,54797.0,25668.0,17816.0,60000.0,34368.0,68745.0,375300.0,90000.0,36531.0,103000.0,554112.0,105000.0,34704.0,127500.0,34368.0,null,40951.0,150000.0,43992.0,96000.0,68745.0,24744.0,null,40101.0,34372.0,7344.0,70000.0,22440.0,6996.0,31620.0,47112.0,307980.0,371220.0,65000.0,120000.0,15108.0,5040.0,69891.0,20988.0,29652.0,96000.0,68041.0,150000.0,205000.0,91660.0,123301.0,55.0,42000.0,14436.0,1000000.0,4200.0,67548.0,48120.0,null,27696.0,75000.0,117000.0,9767.0,54996.0,null,26352.0,155000.0,130000.0,37128.0,1260000.0,52132.0,27478.0,31620.0,13088.0,1100.0,115000.0,50000.0,null,72182.0,596664.0,59652.0,196271.0,80000.0,null,136000.0,12828.0,300000.0,null,15120.0,28080.0,303000.0,45803.0,75624.0,null,120000.0,110000.0,41986.0,24061.0,2520.0,26424.0,1000000.0,null,9095.0,5400.0,3672.0,115533.0,57287.0,13428.0,70000.0,32232.0,36642.0,3180.0,54000.0,130847.0,138000.0,null,83972.0,109000.0,121449.0,null,3638.0,55000.0,1320000.0,1000000.0,90000.0,44881.0,11004.0,74583.0,85931.0,null,22915.0,175000.0,61870.0,1000000.0,34368.0,52908.0,280000.0,26880.0,392544.0,53664.0,120000.0,null,76339.0,70000.0,1000000.0,0.0,null,null,36432.0,65301.0,87036.0,null,36664.0,18612.0,63728.0,132000.0,56376.0,97915.0,103355.0,13116.0,35748.0,165000.0,135000.0,170000.0,108846.0,80202.0,60312.0,72530.0,100000.0,8940.0,18360.0,null,null,33996.0,19248.0,90000.0,64888.0,69776.0,74000.0,115000.0,150000.0,43538.0,72174.0,41244.0,17100.0,9828.0,14300.0,352620.0,54000.0,7200.0,28080.0,null,41247.0,31403.0,12372.0,25168.0,149000.0,6563.0,1260000.0,63016.0,49500.0,51030.0,16968.0,61382.0,63797.0,62304.0,1596.0,4920.0,null,null,36144.0,54096.0,15042.0,130847.0,179874.0,26232.0,30535.0,76958.0,61992.0,40000.0,163500.0,150000.0,58781.0,35402.0,70000.0,0.0,57746.0,82476.0,57287.0,34372.0,26508.0,130000.0,62558.0,785088.0,42820.0,null,180000.0,15624.0,43992.0,28044.0,141000.0,32081.0,21312.0,160000.0,30588.0,78000.0,null,98534.0,1000000.0,140000.0,61071.0,105000.0,120000.0,null,27986.0,8244.0,120000.0,60844.0,50868.0,23832.0,10392.0,27252.0,32712.0,94524.0,18195.0,56142.0,11172.0,23832.0,22900.0,95664.0,34286.0,33550.0,4272.0,null,1656000.0,61872.0,8820.0,18144.0,36000.0,20628.0,64000.0,85000.0,10495.0,192000.0,8412.0,27478.0,87000.0,51559.0,340000.0,56142.0,118000.0,25206.0,null,140000.0,45000.0,120000.0,50376.0,51816.0,577452.0,65277.0,205000.0,155000.0,27648.0,89076.0,73000.0,6269.0,10495.0,37128.0,null,34620.0,343728.0,43284.0,50771.0,706572.0,40000.0,67000.0,51559.0,80000.0,24048.0,26364.0,119674.0,12594.0,13428.0,8700.0,70000.0,92076.0,68745.0,27805.0,null,104905.0,122500.0,67599.0,65308.0,3200.0,34500.0,71600.0,104000.0,6996.0,null,1392000.0,88000.0,71376.0,15048.0,28644.0,29424.0,45797.0,100000.0,8556.0,1620000.0,27204.0,78115.0,31403.0,65424.0,53028.0,2520.0,70000.0,51971.0,14748.0,16392.0,7356.0,49200.0,41244.0,100000.0,77000.0,104678.0,18000.0,null,152313.0,79057.0,27024.0,120000.0,87500.0,95000.0,11450.0,48975.0,14244.0,68745.0,null,null,21036.0,39254.0,87000.0,2000000.0,65000.0,785088.0,21660.0,98000.0,13993.0,null,100000.0,6717.0,7224.0,61872.0,100000.0,36664.0,10215.0,85051.0,27986.0,null,42000.0,72000.0,41727.0,300000.0,41688.0,126000.0,75000.0,600000.0,2100.0,48120.0,5904.0,756192.0,34692.0,125000.0,223000.0,3996.0,60152.0,206415.0,60492.0,9744.0,11556.0,39552.0,115000.0,130000.0,68748.0,37128.0,75000.0,102600.0,65424.0,28272.0,null,10.0,15360.0,22388.0,89000.0,39336.0,549564.0,91593.0,1080000.0,65000.0,55971.0,17580.0,92400.0,22440.0,8400.0,104678.0,91593.0,69468.0,130000.0,null,38472.0,39254.0,7080.0,3888.0,1000000.0,52339.0,57096.0,51559.0,16500.0,6750.0,78629.0,75000.0,3864.0,11472.0,17280.0,46752.0,60925.0,32081.0,49722.0,1000000.0,null,null,225000.0,36166.0,40356.0,8232.0,80000.0,null,21168.0,21996.0,20628.0,54200.0,80000.0,28080.0,5400.0,68745.0,82946.0,18000.0,123301.0,89093.0,52704.0,7128.0,null,null,null,16020.0,null,1200000.0,91606.0,68745.0,null,15948.0,null,60725.0,10032.0,21084.0,7696.0,85000.0,19380.0,72522.0,92724.0,8529.0,28920.0,43588.0,126000.0,4080.0,85000.0,91593.0,32064.0,null,7128.0,51727.0,40800.0,95000.0,46976.0,1164000.0,30935.0,135000.0,72620.0,32784.0,36792.0,332616.0,20364.0,24768.0,72000.0,641244.0,2000000.0,3024.0,77000.0,60156.0,80202.0,50374.0,4932.0,43284.0,8593.0,150000.0,65000.0,38472.0,78000.0,361140.0,19950.0,12828.0,37626.0,40101.0,110000.0,125000.0,65000.0,107496.0,80202.0,null,110000.0,130000.0,64506.0,24588.0,95000.0,41247.0,2196.0,95000.0,103308.0,27492.0,70000.0,160000.0,150000.0,68745.0,90000.0,null,37584.0,140000.0,58881.0,5904.0,628068.0,65000.0,38400.0,null,110691.0,56142.0,502452.0,30000.0,0.0,109000.0,30051.0,2580.0,55233.0,86000.0,90000.0,11004.0,154000.0,105000.0,80202.0,17820.0,145000.0,14400.0,27492.0,45830.0,85000.0,3216.0,18036.0,71097.0,130000.0,29789.0,null,120000.0,16128.0,2000000.0,48120.0,96750.0,687444.0,40000.0,75000.0,51000.0,114575.0,62004.0,6996.0,3540.0,6276.0,37128.0,8844.0,68705.0,90000.0,9835.0,167000.0,144000.0,0.0,36000.0,35100.0,72000.0,44196.0,null,700000.0,32076.0,90000.0,66599.0,null,56264.0,46976.0,125000.0,14748.0,100000.0,null,753684.0,632448.0,130000.0,20989.0,77000.0,15444.0,151000.0,49008.0,59475.0,15000.0,61071.0,8784.0,184700.0,57648.0,71478.0,72182.0,140000.0,16620.0,66211.0,29688.0,1000000.0,19476.0,130000.0,56112.0,null,96000.0,11004.0,11256.0,706572.0,60000.0,894996.0,5429.0,79783.0,127000.0,83209.0,71000.0,23892.0,73274.0,49488.0,9252.0,null,72530.0,92000.0,60347.0,61071.0,53850.0,350000.0,91660.0,140000.0,32617.0,98964.0,2473.0,71966.0,25752.0,135000.0,156200.0,13404.0,90720.0,120000.0,70000.0,68800.0,117539.0,41244.0,34372.0,13344.0,51147.0,45444.0,375000.0,null,796284.0,null,74500.0,41088.0,91660.0,55000.0,11688.0,120000.0,22500.0,22457.0,null,64888.0,1200000.0,115000.0,3384.0,1000000.0,6912.0,36000.0,155000.0,79908.0,76339.0,null,66132.0,131952.0,2000000.0,77664.0,13993.0,57828.0,79000.0,17868.0,13152.0,197000.0,70000.0,94289.0,110000.0,1000000.0,95000.0,null,54516.0,20736.0,80000.0,98454.0,11220.0,33492.0,25572.0,76000.0,100000.0,43538.0,null,84000.0,11448.0,22440.0,85000.0,3360.0,135000.0,41352.0,20989.0,59579.0,null,null,157000.0,85000.0,12204.0,11194.0,17868.0,2000000.0,11688.0,9840.0,80000.0,6624.0,0.0,1548.0,13752.0,52339.0,84000.0,45830.0,327118.0,76992.0,555000.0,6192.0,16056.0,329976.0,null,91593.0,20989.0,79536.0,105000.0,8899.0,80202.0,78508.0,null,14185.0,74048.0,63016.0,58024.0,100000.0,64000.0,31299.0,12594.0,2000000.0,70000.0,66453.0,75619.0,5052.0,null,null,null,27492.0,34372.0,null,49620.0,863592.0,60278.0,7136.0,36876.0,11124.0,79584.0,130000.0,864.0,82434.0,45797.0,25656.0,57000.0,42777.0,130000.0,66300.0,67000.0,2000000.0,85776.0,20796.0,4296.0,2000000.0,58881.0,77911.0,100000.0,643452.0,32081.0,108603.0,null,962424.0,1344.0,9624.0,24996.0,49176.0,280000.0,53437.0,91660.0,58433.0,150552.0,26123.0,11976.0,105000.0,131761.0,106000.0,20904.0,12924.0,8064.0,140000.0,120000.0,46056.0,45830.0,127064.0,39254.0,5196.0,27756.0,67000.0,19380.0,5597.0,310000.0,31140.0,85702.0,20628.0,20508.0,36168.0,82488.0,497412.0,87000.0,105317.0,57744.0,75891.0,46176.0,9972.0,2000000.0,8520.0,41784.0,24744.0,1000000.0,49722.0,68000.0,28644.0,82000.0,41986.0,8604.0,121688.0,null,8064.0,45000.0,54996.0,135000.0,null,67178.0,null,90000.0,714948.0,14446.0,33984.0,2520.0,130000.0,55596.0,107000.0,157000.0,12756.0,75000.0,71966.0,75000.0,453720.0,46419.0,7696.0,13116.0,40101.0,130000.0,161000.0,83067.0,250000.0,29571.0,3468.0,412464.0,517.0,0.0,6996.0,34282.0,161196.0,117000.0,21996.0,36864.0,14076.0,46332.0,49500.0,37128.0,22608.0,48121.0,null,27168.0,52339.0,25812.0,84000.0,65000.0,14748.0,65000.0,81648.0,105000.0,155952.0,64888.0,28152.0,16500.0,47105.0,115000.0,50000.0,54996.0,166819.0,471048.0,190000.0,71036.0,44892.0,77431.0,705372.0,27498.0,91758.0,48120.0,3444.0,6720.0,31620.0,15392.0,58716.0,null,942096.0,126927.0,71097.0,null,300000.0,21108.0,188000.0,47000.0,87789.0,43180.0,58000.0,1000000.0,null,16791.0,98412.0,58932.0,40000.0,549960.0,78508.0,50868.0,19416.0,3588.0,41820.0,100000.0,30252.0,6456.0,75000.0,51036.0,87500.0,19248.0,null,100000.0,72522.0,null,79783.0,85931.0,91000.0,90590.0,99000.0,23040.0,42420.0,80000.0,104708.0,1176000.0,65424.0,14400.0,45797.0,35329.0,1000000.0,80577.0,null,15588.0,22512.0,82565.0,840.0,1848000.0,30048.0,45797.0,10243.0,39254.0,115000.0,65308.0,null,54996.0,18319.0,49000.0,8244.0,65424.0,18332.0,null,110000.0,24061.0,33300.0,65424.0,2000000.0,162480.0,33583.0,72000.0,69349.0,137409.0,9600.0,85000.0,8124.0,25000.0,87036.0,null,51300.0,85931.0,19020.0,106044.0,72000.0,180000.0,78508.0,180000.0,65000.0,85248.0,65424.0,11194.0,175000.0,63016.0,29385.0,58024.0,17748.0,23472.0,59652.0,96445.0,null,45797.0,70658.0,null,127400.0,120000.0,null,44484.0,null,75000.0,112078.0,125000.0,42624.0,15672.0,null,18768.0,null,81959.0,13140.0,36637.0,null,16500.0,106555.0,51000.0,113000.0,41244.0,73000.0,10716.0,8396.0,null,24660.0,20628.0,20628.0,240000.0,42168.0,135000.0,843888.0,1000000.0,44436.0,42000.0,26208.0,null,37068.0,16500.0,56142.0,110000.0,36406.0,78000.0,null,1000000.0,61872.0,76339.0,37237.0,21984.0,30252.0,720000.0,20784.0,90000.0,87000.0,137409.0,9972.0,63324.0,80000.0,60278.0,65424.0,null,81125.0,61248.0,51559.0,7212.0,69.0,10320.0,null,22388.0,19236.0,25656.0,126000.0,57287.0,439968.0,21453.0,66453.0,700.0,74500.0,51299.0,120000.0,659952.0,54996.0,66000.0,37810.0,32081.0,158000.0,77000.0,43513.0,50000.0,null,98000.0,24487.0,72000.0,35076.0,88000.0,72182.0,117000.0,120000.0,9000.0,54912.0,23700.0,null,73752.0,118325.0,35748.0,30935.0,144250.0,57720.0,44000.0,15708.0,41871.0,71097.0,112000.0,85051.0,33000.0,824340.0,115000.0,101500.0,110000.0,null,68745.0,118224.0,16068.0,1068000.0,150000.0,97389.0,19524.0,45830.0,null,56000.0,5037.0,54252.0,769944.0,null,null,51936.0,618708.0,null,null,135000.0,80000.0,117763.0,1680000.0,48121.0,104678.0,97449.0,98000.0,175000.0,65000.0,30535.0,12048.0,6456.0,110000.0,116000.0,392544.0,12330.0,15120.0,1668.0,6192.0,108000.0,32424.0,110000.0,35316.0,79817.0,52339.0,317352.0,28644.0,25980.0,75000.0,2000000.0,85931.0,2172.0,57287.0,15732.0,55693.0,90000.0,86359.0,45830.0,72000.0,87000.0,68745.0,66000.0,35820.0,1000000.0,962424.0,20628.0,null,95000.0,19235.0,null,80000.0,null,104000.0,150000.0,412464.0,0.0,110000.0,80000.0,95000.0,26664.0,79392.0,64000.0,471048.0,36000.0,48120.0,59247.0,104678.0,60708.0,32880.0,89000.0,41244.0,18132.0,12564.0,33912.0,108000.0,91660.0,57287.0,13260.0,58000.0,24744.0,54397.0,42468.0,73658.0,48000.0,85931.0,117763.0,180000.0,68745.0,108000.0,250000.0,27986.0,39865.0,40101.0,160000.0,143932.0,null,25200.0,50868.0,79392.0,84708.0,137490.0,45797.0,135000.0,null,75867.0,null,185000.0,90000.0,123000.0,74200.0,null,null,140000.0,79817.0,51559.0,185.0,100000.0,20784.0,756192.0,319032.0,43836.0,75000.0,92000.0,65304.0,53647.0,150000.0,53616.0,63624.0,80202.0,149000.0,113000.0,1000000.0,38184.0,null,18432.0,60000.0,32169.0,65100.0,null,53376.0,38496.0,13248.0,86544.0,125000.0,272556.0,57245.0,15516.0,160000.0,100000.0,12100.0,41244.0,71478.0,85931.0,135000.0,3588.0,120000.0,25188.0,37810.0,11352.0,549960.0,39600.0,229500.0,57254.0,23833.0,2000000.0,21996.0,72522.0,10080.0,24000.0,15444.0,1050000.0,139000.0,59000.0,75300.0,15600.0,50550.0,40101.0,26824.0,39336.0,840000.0,51696.0,76765.0,10080.0,204000.0,93109.0,95000.0,27492.0,26232.0,96000.0,6996.0,111220.0,57287.0,83000.0,45000.0,48413.0,45828.0,24744.0,72530.0,28500.0,null,30095.0,11268.0,150000.0,122000.0,8160.0,12468.0,5244.0,155000.0,18036.0,100000.0,375912.0,141000.0,95000.0,1000000.0,66000.0,77000.0,8304.0,7560.0,12564.0,65424.0,2000000.0,64115.0,19836.0,null,null,20628.0,10584.0,54996.0,34372.0,10080.0,16788.0,1600000.0,145000.0,82500.0,57254.0,105000.0,67368.0,105486.0,null,null,null,12060.0,79315.0,140000.0,35748.0,80202.0,89000.0,30535.0,null,453720.0,37128.0,35748.0,60190.0,34372.0,1000000.0,70000.0,64500.0,72000.0,288.0,57573.0,105000.0,66972.0,34020.0,80202.0,null,2016.0,26467.0,60000.0,65301.0,130554.0,49068.0,60504.0,125000.0,14436.0,38000.0,56376.0,15000.0,4260.0,4764.0,54397.0,85931.0,12132.0,60000.0,2112.0,80000.0,7236.0,46976.0,168200.0,27576.0,48000.0,14628.0,46032.0,87036.0,5464.0,63016.0,100000.0,60492.0,80000.0,54996.0,20000.0,110000.0,64888.0,71496.0,32000.0,75000.0,250000.0,45830.0,null,54964.0,8667.0,536208.0,8100.0,19236.0,942096.0,39588.0,27864.0,48279.0,77911.0,65000.0,21504.0,26400.0,135000.0,11004.0,2016.0,97000.0,6660.0,56490.0,null,180000.0,17784.0,13764.0,19668.0,55116.0,19380.0,24061.0,45830.0,41244.0,28786.0,336324.0,9067.0,21359.0,24048.0,58881.0,135625.0,62000.0,59579.0,57000.0,21996.0,88871.0,null,170000.0,962424.0,55348.0,70658.0,250000.0,15120.0,1000000.0,35748.0,6000.0,104000.0,34372.0,54397.0,68745.0,32976.0,22915.0,95000.0,43992.0,15120.0,17208.0,1000000.0,165000.0,42240.0,54996.0,null,63240.0,32712.0,8520.0,135000.0,49500.0,38955.0,22548.0,71966.0,66132.0,60000.0,81948.0,23750.0,81682.0,null,140000.0,94000.0,134500.0,120552.0,75000.0,9348.0,null,10596.0,110000.0,null,3900.0,14532.0,16788.0,3848.0,85000.0,82494.0,null,21984.0,51000.0,10075.0,1836000.0,31620.0,18036.0,77250.0,11004.0,37800.0,140000.0,2000000.0,68705.0,17232.0,43538.0,45072.0,38302.0,123301.0,40092.0,58800.0,90079.0,59652.0,5784.0,5028.0,1680000.0,32064.0,null,6297.0,44892.0,36664.0,50376.0,3396.0,7596.0,200000.0,180000.0,66357.0,31608.0,294.0,100000.0,66276.0,107128.0,2000000.0,87500.0,49536.0,39254.0,15120.0,22680.0,78508.0,159000.0,130000.0,36672.0,60000.0,26232.0,29844.0,80672.0,47664.0,50868.0,59579.0,36504.0,52000.0,45000.0,103000.0,6297.0,70000.0,44658.0,21636.0,6780.0,85000.0,72180.0,16032.0,66453.0,185000.0,48121.0,41304.0,22848.0,62000.0,26364.0,66000.0,24048.0,47388.0,70000.0,57287.0,22452.0,79058.0,160000.0,88000.0,24061.0,79992.0,91593.0,993168.0,1500000.0,82494.0,28452.0,14436.0,62292.0,52704.0,1020000.0,134000.0,9180.0,112000.0,59579.0,75624.0,18852.0,null,102061.0,419232.0,110000.0,11472.0,93000.0,33000.0,8396.0,35268.0,27732.0,31812.0,164988.0,115000.0,80000.0,67332.0,42393.0,12924.0,70000.0,null,85000.0,15000.0,6720.0,null,null,80000.0,140000.0,4.0,15120.0,48000.0,71495.0,45804.0,40000.0,289000.0,null,87000.0,null,73000.0,65000.0,88976.0,90662.0,126000.0,34372.0,2000000.0,35160.0,4200.0,13428.0,82000.0,80000.0,62688.0,2000000.0,5712.0,87036.0,67368.0,124500.0,82000.0,973500.0,78000.0,19668.0,83868.0,90000.0,153000.0,863592.0,28500.0,4428.0,18144.0,155000.0,2000000.0,8396.0,145000.0,74474.0,11748.0,153000.0,99000.0,60000.0,7056.0,6048.0,19590.0,51559.0,41688.0,138552.0,27492.0,63016.0,111514.0,53437.0,6936.0,58320.0,63016.0,110000.0,78508.0,140000.0,44048.0,75000.0,68745.0,3804.0,68745.0,100614.0,68745.0,34368.0,105000.0,57504.0,13993.0,66453.0,45900.0,3850.0,25187.0,45797.0,58800.0,70000.0,828000.0,25206.0,792.0,91606.0,105000.0,9795.0,230000.0,13596.0,34372.0,41244.0,null,74000.0,85000.0,163559.0,8234.0,145000.0,23088.0,null,5016.0,25656.0,20628.0,131200.0,60000.0,8020.0,105000.0,96558.0,27184.0,150000.0,68903.0,18564.0,58024.0,24060.0,42624.0,7761.0,null,0.0,486756.0,9936.0,44004.0,17556.0,6228.0,5244.0,863592.0,40101.0,40101.0,14100.0,385999.0,null,91593.0,139000.0,16704.0,6648.0,130000.0,50413.0,45830.0,46308.0,null,30000.0,28140.0,null,10404.0,110100.0,65308.0,177742.0,129000.0,64128.0,22284.0,101542.0,30252.0,103369.0,2172.0,20628.0,125940.0,329976.0,60000.0,126000.0,156000.0,88223.0,70000.0,79783.0,96558.0,87789.0,10488.0,97000.0,37812.0,90000.0,null,15120.0,48413.0,150000.0,30156.0,80000.0,null,7356.0,40563.0,150000.0,65172.0,117763.0,41871.0,70000.0,83000.0,83972.0,175000.0,92000.0,7380.0,59376.0,11472.0,3900.0,10187.0,19200.0,60492.0,16500.0,80202.0,11328.0,39849.0,48120.0,53000.0,69349.0,42393.0,87000.0,119695.0,12594.0,5244.0,23124.0,54372.0,null,48120.0,114000.0,549960.0,25656.0,2000000.0,93912.0,6504.0,4198.0,45803.0,null,109000.0,60180.0,47436.0,72053.0,76339.0,21996.0,54996.0,111220.0,109000.0,85000.0,10860.0,135000.0,43512.0,247476.0,8784.0,103000.0,13116.0,20904.0,48121.0,17256.0,71097.0,2000000.0,48694.0,10056.0,55680.0,140000.0,51559.0,100000.0,79536.0,11616.0,36664.0,17316.0,null,27498.0,24744.0,7752.0,91464.0,91606.0,null,71000.0,39000.0,68705.0,11652.0,null,68705.0,38400.0,48121.0,13752.0,5513.0,90000.0,6624.0,134424.0,54996.0,114508.0,12372.0,15156.0,44684.0,100000.0,68500.0,38933.0,57254.0,null,54996.0,14748.0,756192.0,54996.0,null,25188.0,165000.0,65000.0,34020.0,null,120000.0,84002.0,64115.0,4840.0,61870.0,456936.0,57287.0,39891.0,1356000.0,160000.0,2000000.0,null,45797.0,72000.0,48694.0,16392.0,57299.0,10248.0,996.0,1200000.0,155000.0,68566.0,36168.0,81348.0,180000.0,126032.0,14748.0,85931.0,6408.0,143500.0,17640.0,80202.0,91593.0,26124.0,9840.0,52248.0,29789.0,200000.0,37500.0,85000.0,12996.0,80202.0,null,27504.0,65308.0,89661.0,72800.0,62000.0,null,140000.0,155000.0,28500.0,null,25187.0,49267.0,200000.0,null,190000.0,8676.0,60000.0,13200.0,27252.0,78504.0,null,155000.0,53028.0,2000000.0,59808.0,1512.0,45500.0,72864.0,96000.0,45664.0,83500.0,79984.0,962424.0,27498.0,15708.0,8148.0,59579.0,625584.0,175000.0,55728.0,81000.0,53647.0,112800.0,22620.0,83000.0,23376.0,209892.0,80202.0,80000.0,15742.0,34372.0,140000.0,170000.0,12060.0,87000.0,102000.0,29820.0,17592.0,120000.0,41244.0,53437.0,45142.0,1000000.0,45803.0,5412.0,155000.0,65000.0,9814.0,62208.0,71312.0,350000.0,140000.0,16500.0,null,71966.0,115533.0,1000000.0,37450.0,91593.0,120000.0,92000.0,1000000.0,165000.0,12828.0,21984.0,59579.0,57287.0,125000.0,2000000.0,60000.0,39180.0,100000.0,2000000.0,14748.0,2000000.0,7056.0,4908.0,16668.0,115000.0,32081.0,5844.0,5040.0,213500.0,52339.0,73656.0,118000.0,31332.0,50000.0,48120.0,8400.0,21996.0,95000.0,50000.0,58624.0,82000.0,20184.0,10836.0,11082.0,63000.0,69621.0,165000.0,7200.0,71966.0,92426.0,41640.0,120556.0,26184.0,112000.0,null,44196.0,68745.0,463284.0,63016.0,39891.0,26232.0,null,3848.0,16500.0,90000.0,40848.0,41000.0,34372.0,10548.0,142000.0,62073.0,40101.0,45072.0,23376.0,70000.0,73274.0,70000.0,null,35748.0,135000.0,66276.0,109912.0,18000.0,24587.0,2000000.0,null,56376.0,1000000.0,67599.0,46260.0,66211.0,10752.0,6792.0,100000.0,41978.0,11892.0,9120.0,null,16791.0,2604.0,18468.0,73500.0,9421.0,140000.0,11004.0,26124.0,68745.0,68705.0,34372.0,18103.0,8148.0,1750000.0,116866.0,9240.0,37122.0,38955.0,85000.0,47144.0,null,85931.0,380000.0,76339.0,158000.0,24150.0,1122000.0,32460.0,71097.0,230000.0,65000.0,39254.0,100000.0,5040.0,200000.0,75100.0,null,70000.0,618708.0,371220.0,145000.0,20652.0,111084.0,22404.0,80202.0,82196.0,57287.0,95000.0,null,43518.0,36804.0,57287.0,10260.0,90000.0,63016.0,34416.0,130602.0,90000.0,8196.0,91606.0,74474.0,87036.0,18564.0,13548.0,55248.0,null,172000.0,471048.0,17760.0,null,17184.0,105000.0,9648.0,1764.0,14436.0,86500.0,219984.0,32676.0,19248.0,105000.0,33036.0,85000.0,46386.0,75000.0,80000.0,27539.0,73000.0,32712.0,30465.0,95664.0,32784.0,0.0,90000.0,51559.0,31476.0,130000.0,97760.0,9840.0,18348.0,609252.0,null,100000.0,21821.0,53850.0,16848.0,98135.0,17952.0,110000.0,null,276000.0,15624.0,14748.0,133250.0,20628.0,76765.0,10692.0,17376.0,4608.0,14772.0,66453.0,36672.0,32172.0,90000.0,69891.0,72000.0,120000.0,41676.0,42168.0,37946.0,50604.0,130000.0,46976.0,39254.0,135000.0,25668.0,65000.0,15156.0,15392.0,44570.0,150000.0,57287.0,57000.0,48975.0,null,8396.0,40101.0,9795.0,17940.0,96240.0,63441.0,45830.0,140000.0,10844.0,39876.0,13356.0,25464.0,14748.0,100000.0,56490.0,69047.0,1100.0,60608.0,35289.0,23172.0,37908.0,10080.0,1200000.0,41247.0,140000.0,13596.0,120000.0,37128.0,59124.0,60492.0,53437.0,100000.0,30456.0,26628.0,85931.0,70000.0,90000.0,76765.0,30552.0,null,30935.0,58992.0,90000.0,857628.0,48096.0,3876.0,113000.0,null,22915.0,96950.0,48121.0,9576.0,82000.0,null,4656.0,48121.0,115000.0,22944.0,79000.0,12828.0,64130.0,11748.0,175000.0,577452.0,50000.0,22872.0,651624.0,68000.0,6888.0,30132.0,38383.0,85000.0,39000.0,5496.0,6468.0,97389.0,null,120000.0,120556.0,24744.0,100000.0,75891.0,105000.0,82500.0,null,74474.0,45830.0,11424.0,4260.0,null,4200.0,160000.0,145000.0,137000.0,65277.0,302472.0,50000.0,127178.0,109000.0,null,156000.0,null,19416.0,62598.0,64152.0,200000.0,120000.0,68745.0,1200000.0,100826.0,120000.0,null,75000.0,816.0,14748.0,138550.0,170000.0,null,61650.0,18000.0,984000.0,72000.0,112421.0,41244.0,21046.0,824460.0,null,18600.0,7728.0,35748.0,121000.0,200000.0,10565.0,31508.0,66357.0,75000.0,93600.0,7116.0,30861.0,19668.0,66453.0,130000.0,5628.0,108864.0,98000.0,36000.0,12564.0,52339.0,64162.0,2000000.0,null,81348.0,45828.0,33000.0,7536.0,116100.0,52000.0,1000000.0,79163.0,130000.0,8064.0,89000.0,30252.0,47436.0,150000.0,40101.0,52248.0,8196.0,60037.0,null,null,30552.0,5952.0,71966.0,48276.0,456972.0,30463.0,64115.0,942096.0,157017.0,70000.0,98534.0,45372.0,75000.0,93951.0,2000000.0,null,412464.0,113837.0,null,112283.0,8652.0,8604.0,8400.0,135000.0,2000000.0,780000.0,37128.0,15204.0,82494.0,21828.0,10404.0,14040.0,45830.0,15576.0,49500.0,5472.0,240000.0,35518.0,65424.0,null,6297.0,60725.0,8244.0,45000.0,33000.0,6648.0,7764.0,63101.0,37128.0,64620.0,85000.0,5040.0,100000.0,81125.0,20628.0,25248.0,155052.0,null,181000.0,92000.0,28644.0,65424.0,115000.0,314028.0,85051.0,null,2520.0,43380.0,69276.0,8796.0,104669.0,500000.0,893688.0,98964.0,65000.0,64162.0,62944.0,22296.0,5880.0,39240.0,null,null,80000.0,18191.0,32385.0,18750.0,29385.0,9864.0,37116.0,27504.0,71966.0,40000.0,4164.0,36421.0,195511.0,null,59124.0,null,27504.0,6000.0,70000.0,null,180000.0,2000000.0,null,68705.0,140000.0,60000.0,18332.0,50413.0,549960.0,68745.0,54964.0,72182.0,45372.0,17592.0,45803.0,43308.0,null,165000.0,51727.0,115000.0,91660.0,70116.0,8952.0,95000.0,34284.0,11748.0,61872.0,25200.0,110000.0,120000.0,9792.0,162000.0,35064.0,21996.0,null,null,50000.0,62352.0,26169.0,71966.0,46976.0,28428.0,60000.0,2000000.0,60000.0,80000.0,34372.0,null,85000.0,816000.0,145000.0,29789.0,58227.0,13752.0,100000.0,41244.0,150000.0,29064.0,39254.0,76339.0,2000000.0,98135.0,57287.0,67284.0,null,9804.0,3666.0,200000.0,9432.0,145000.0,71966.0,55000.0,8396.0,60000.0,18000.0,30362.0,80202.0,24744.0,null,22915.0,75000.0,200000.0,3696.0,23376.0,59579.0,30156.0,152000.0,16500.0,33000.0,55971.0,38952.0,44688.0,null,756192.0,10080.0,125364.0,17208.0,73000.0,57287.0,18336.0,1440000.0,30000.0,88976.0,54996.0,68745.0,78508.0,1140000.0,127500.0,45803.0,1248000.0,130000.0,122000.0,785088.0,32460.0,165000.0,48000.0,130000.0,30684.0,11628.0,47000.0,28816.0,960000.0,58881.0,45830.0,6996.0,8832.0,11894.0,115236.0,7704.0,88903.0,101000.0,75400.0,316224.0,41244.0,63016.0,22944.0,80155.0,1440000.0,49704.0,6420.0,null,63240.0,52296.0,85051.0,70000.0,22944.0,27492.0,47880.0,110000.0,103000.0,40000.0,30936.0,2016.0,63000.0,130000.0,105000.0,40563.0,70000.0,141000.0,85000.0,54000.0,64888.0,13428.0,131761.0,23604.0,null,5436.0,25656.0,65424.0,103117.0,53148.0,32892.0,null,44436.0,53797.0,1140000.0,45540.0,85051.0,78508.0,824940.0,200000.0,22342.0,32081.0,58932.0,20844.0,25128.0,null,54996.0,157500.0,90000.0,11640.0,13200.0,824940.0,150000.0,1752000.0,183515.0,85000.0,52992.0,72000.0,null,80000.0,125000.0,27498.0,445000.0,34368.0,27504.0,13368.0,48120.0,0.0,33227.0,66504.0,46752.0,38955.0,150000.0,80000.0,17580.0,81600.0,59400.0,35748.0,45830.0,73656.0,83742.0,null,11000.0,481212.0,67370.0,null,52339.0,105560.0,68748.0,13896.0,9216.0,80000.0,79058.0,7080.0,19164.0,135000.0,216540.0,42000.0,73901.0,50376.0,null,null,3696.0,148104.0,230000.0,null,150000.0,125000.0,3432.0,1000000.0,155000.0,1668.0,5040.0,70000.0,null,45372.0,8712.0,200000.0,65424.0,4272.0,130000.0,38496.0,65000.0,40000.0,145000.0,150000.0,105986.0,40101.0,null,70231.0,154443.0,150000.0,91107.0,12120.0,21972.0,22244.0,150000.0,94289.0,68745.0,68745.0,59579.0,1440000.0,72530.0,7332.0,68745.0,85051.0,23376.0,26496.0,106645.0,600000.0,61644.0,53028.0,28872.0,72500.0,80079.0,2000000.0,34800.0,47000.0,536208.0,200000.0,60000.0,432.0,165000.0,132000.0,160000.0,4704.0,61872.0,null,61872.0,19590.0,0.0,115000.0,43992.0,41700.0,89960.0,20628.0,270000.0,49044.0,58781.0,32148.0,19668.0,50000.0,31620.0,26232.0,75000.0,26604.0,70000.0,250000.0,60000.0,20628.0,101000.0,32183.0,76339.0,39254.0,35977.0,24348.0,1440000.0,68705.0,75619.0,42966.0,19236.0,40620.0,633084.0,66453.0,57573.0,1584.0,null,100000.0,38428.0,126000.0,94000.0,95000.0,105000.0,41986.0,9972.0,22824.0,920724.0,68298.0,135000.0,2520.0,30804.0,20989.0,null,80184.0,120000.0,76339.0,41244.0,1000000.0,41244.0,962424.0,107000.0,null,160000.0,32028.0,28800.0,110000.0,104678.0,89000.0,52339.0,58881.0,54956.0,3324.0,150000.0,90000.0,549960.0,68745.0,591204.0,74000.0,40101.0,25008.0,47724.0,23172.0,43152.0,7276.0,72864.0,90000.0,200000.0,13572.0,129000.0,115000.0,110000.0,8496.0,75000.0,7164.0,157460.0,110000.0,81682.0,143000.0,3492.0,38496.0,27528.0,91000.0,56316.0,1188.0,24000.0,30000.0,45830.0,114508.0,17556.0,49620.0,150000.0,79817.0,140400.0,18564.0,165000.0,150000.0,61071.0,150000.0,8352.0,190000.0,7212.0,68748.0,4296.0,98135.0,155000.0,4728.0,null,83972.0,30276.0,11940.0,180000.0,67250.0,15528.0,120000.0,120000.0,46976.0,148500.0,110000.0,63361.0,54996.0,20244.0,null,67164.0,1680000.0,90000.0,72000.0,52246.0,81762.0,16500.0,65000.0,1000000.0,165764.0,11748.0,37356.0,45830.0,90953.0,12000.0,10200.0,65308.0,66276.0,150000.0,44488.0,72576.0,52339.0,54572.0,88000.0,110000.0,604956.0,68250.0,22512.0,61071.0,57287.0,41604.0,24228.0,144000.0,63016.0,15408.0,61071.0,59006.0,136630.0,21600.0,29508.0,0.0,17868.0,1860000.0,120000.0,38383.0,120000.0,null,null,77460.0,28920.0,49267.0,null,null,55540.0,58433.0,null,72522.0,93000.0,95740.0,1080000.0,null,14436.0,8046.0,6072.0,null,26160.0,41244.0,35196.0,48120.0,225000.0,436572.0,23737.0,95000.0,110509.0,160000.0,35983.0,524520.0,64400.0,19884.0,98135.0,79783.0,null,58881.0,13344.0,103117.0,6250.0,61872.0,55000.0,140000.0,34372.0,142000.0,184146.0,27468.0,13752.0,32712.0,96500.0,32974.0,13116.0,31730.0,17556.0,68745.0,33348.0,190000.0,596664.0,5820.0,133000.0,114508.0,152000.0,150000.0,null,3024.0,38952.0,27504.0,41688.0,105000.0,150000.0,37596.0,32604.0,27986.0,91660.0,42900.0,170000.0,48857.0,71966.0,2000000.0,96243.0,549564.0,580956.0,100000.0,null,28872.0,61498.0,7486.0,62304.0,64000.0,91000.0,26124.0,110250.0,12603.0,12588.0,76765.0,43308.0,29964.0,54132.0,92000.0,71300.0,32628.0,68903.0,167916.0,2000000.0,16032.0,11748.0,135000.0,38652.0,150000.0,70000.0,100000.0,5765.0,42750.0,55536.0,58428.0,84000.0,6297.0,128000.0,4198.0,31620.0,69964.0,61872.0,104000.0,687444.0,38364.0,101280.0,27986.0,38496.0,137390.0,1000000.0,90417.0,null,20000.0,131952.0,16152.0,84000.0,null,59124.0,51559.0,62073.0,84000.0,26664.0,62840.0,45036.0,76727.0,92376.0,24084.0,24748.0,8796.0,132000.0,27540.0,13993.0,85000.0,55000.0,28860.0,63016.0,128000.0,1000000.0,null,null,120000.0,7044.0,115000.0,52339.0,3708.0,86940.0,54060.0,11004.0,95981.0,137390.0,105168.0,687444.0,63016.0,63016.0,90000.0,1000000.0,74474.0,50000.0,28188.0,49840.0,39254.0,11940.0,150000.0,37837.0,35329.0,110000.0,36642.0,54792.0,21648.0,4188.0,36779.0,8832.0,8436.0,32556.0,null,92808.0,82000.0,58433.0,59300.0,46344.0,null,111220.0,21996.0,160000.0,57287.0,115000.0,840000.0,2000000.0,96000.0,79764.0,15240.0,11457.0,42312.0,21384.0,658236.0,44276.0,33583.0,48121.0,null,90000.0,17141.0,92000.0,41244.0,9504.0,18540.0,27492.0,6660.0,76000.0,18324.0,26400.0,50000.0,33000.0,39444.0,21996.0,124305.0,100000.0,4897.0,6732.0,14136.0,46976.0,19123.0,45072.0,76765.0,57254.0,6420.0,145000.0,3360.0,51541.0,61870.0,110000.0,6312.0,95000.0,98520.0,106500.0,879288.0,85000.0,46392.0,55152.0,402996.0,null,6936.0,69891.0,6288.0,70000.0,18149.0,143000.0,168000.0,100000.0,22080.0,1800000.0,89368.0,110000.0,12804.0,57287.0,78000.0,null,9840.0,20652.0,87000.0,29544.0,14748.0,79783.0,95000.0,100000.0,70658.0,48108.0,4536.0,16032.0,15708.0,73063.0,76156.0,66453.0,115200.0,5247.0,null,15912.0,2000000.0,65000.0,2520.0,105000.0,101542.0,12828.0,20904.0,235080.0,null,10080.0,816492.0,108000.0,60372.0,null,150000.0,100000.0,55680.0,392.0,506.0,1000000.0,20989.0,1517.0,10928.0,60004.0,71124.0,15600.0,2869.0,null,11400.0,103000.0,54996.0,160000.0,21769.0,28344.0,16788.0,17184.0,18540.0,926400.0,7560.0,2938.0,121600.0,43284.0,9168.0,87000.0,376836.0,57254.0,50000.0,576.0,34982.0,112164.0,5597.0,14100.0,null,21689.0,175000.0,null,10080.0,18191.0,null,33444.0,32064.0,10584.0,68745.0,11472.0,96000.0,56142.0,57254.0,61800.0,18336.0,10056.0,1362000.0,68178.0,31416.0,379168.0,57287.0,26400.0,48096.0,68745.0,5040.0,19992.0,74474.0,140000.0,26232.0,3120.0,80000.0,83640.0,80202.0,46000.0,175000.0,9972.0,40563.0,48120.0,45797.0,68745.0,40101.0,169000.0,52704.0,null,3358.0,27504.0,110000.0,20989.0,21168.0,70000.0,252065.0,85776.0,90000.0,123570.0,52039.0,null,135000.0,60000.0,27986.0,125000.0,45477.0,120000.0,29268.0,42393.0,34368.0,11520.0,23124.0,24000.0,96445.0,57573.0,87077.0,52248.0,2000000.0,44488.0,123651.0,13380.0,null,2000000.0,52704.0,72000.0,32448.0,2000000.0,65521.0,200000.0,36664.0,10248.0,49500.0,68745.0,46752.0,35702.0,82488.0,30935.0,12000.0,32256.0,48694.0,72000.0,75891.0,52000.0,2000000.0,54996.0,32081.0,2000000.0,15156.0,3588.0,1000000.0,49147.0,2400.0,57287.0,1000000.0,62807.0,74474.0,115000.0,31403.0,50868.0,3204.0,79163.0,100000.0,135000.0,34368.0,54996.0,15268.0,78508.0,36209.0,386196.0,1010496.0,200950.0,30252.0,58116.0,4292.0,12372.0,13993.0,48096.0,null,10229.0,64620.0,976176.0,26586.0,48121.0,20628.0,60000.0,23832.0,1680.0,70000.0,65881.0,79188.0,565260.0,100000.0,26304.0,105000.0,481212.0,130000.0,20050.0,75000.0,17052.0,43740.0,65424.0,170000.0,150000.0,300000.0,241112.0,98000.0,68970.0,45797.0,28872.0,22915.0,49152.0,72000.0,100000.0,28152.0,33583.0,7056.0,118495.0,null,78000.0,742440.0,80000.0,24744.0,1560000.0,null,55000.0,122000.0,52339.0,0.0,15120.0,135000.0,160000.0,22142.0,392544.0,9795.0,21648.0,45797.0,22440.0,376836.0,628068.0,15444.0,37128.0,61872.0,20000.0,791364.0,150000.0,112040.0,99240.0,37933.0,12828.0,80202.0,130000.0,24000.0,78508.0,41244.0,null,5835.0,103000.0,29441.0,60492.0,21060.0,1843044.0,68178.0,72395.0,null,40000.0,990732.0,1000000.0,null,66000.0,57828.0,94210.0,3516.0,null,49536.0,67250.0,75000.0,9168.0,72182.0,null,13993.0,10164.0,145000.0,50000.0,763536.0,53850.0,18696.0,35518.0,11892.0,92076.0,144960.0,41978.0,150000.0,824940.0,771552.0,null,1284.0,11796.0,58000.0,52339.0,95423.0,42000.0,23814.0,113000.0,32654.0,68745.0,57828.0,57372.0,null,104678.0,144000.0,11784.0,88000.0,2520.0,68041.0,85931.0,41223.0,62400.0,43836.0,null,null,70000.0,11688.0,13512.0,26676.0,null,22872.0,48000.0,54956.0,14400.0,6780.0,1440000.0,160000.0,91593.0,40299.0,90000.0,13800.0,13752.0,112000.0,64888.0,2000000.0,30000.0,6684.0,19248.0,11457.0,25128.0,31620.0,50000.0,10312.0,42696.0,38952.0,53374.0,8708.0,83500.0,134053.0,null,72000.0,33000.0,60480.0,28644.0,57573.0,340000.0,25092.0,60844.0,6072.0,120000.0,1000000.0,30252.0,95000.0,32500.0,33324.0,null,41871.0,79315.0,19248.0,2000000.0,15624.0,29012.0,42000.0,165000.0,27480.0,446928.0,7523.0,942096.0,43180.0,79783.0,95000.0,68748.0,74000.0,null,824460.0,104000.0,8796.0,51559.0,4198.0,1500.0,22464.0,174000.0,null,43224.0,55123.0,25665.0,1000000.0,31620.0,39254.0,73467.0,18036.0,212000.0,120000.0,32183.0,130000.0,6552.0,108000.0,1176.0,60190.0,39648.0,109000.0,75561.0,39254.0,38496.0,168000.0,50496.0,64162.0,66276.0,null,106000.0,52339.0,64124.0,85000.0,48121.0,null,58024.0,108795.0,84736.0,14100.0,61870.0,8664.0,6288.0,160000.0,88223.0,115000.0,107000.0,10308.0,17640.0,20628.0,9324.0,77911.0,17868.0,30252.0,68748.0,25248.0,70000.0,161000.0,78000.0,85931.0,107418.0,54996.0,65277.0,130000.0,null,64000.0,54516.0,2016.0,41741.0,4584.0,36664.0,1080000.0,723336.0,77340.0,481212.0,116000.0,38496.0,null,125000.0,29688.0,832800.0,9012.0,45797.0,10113.0,105000.0,11568.0,60662.0,62414.0,87036.0,86820.0,68058.0,41244.0,77000.0,9972.0,20290.0,15392.0,49500.0,155000.0,68496.0,24048.0,11194.0,73328.0,22680.0,12943.0,162000.0,96827.0,85000.0,50376.0,8732.0,9795.0,21828.0,18912.0,11712.0,41244.0,888000.0,null,null,73285.0,33000.0,80000.0,10495.0,93000.0,7836.0,7560.0,120000.0,77000.0,61071.0,76960.0,25980.0,5040.0,50413.0,42624.0,57744.0,34368.0,15048.0,65000.0,55680.0,60725.0,687048.0,200000.0,57287.0,null,74910.0,46752.0,145000.0,54516.0,12050.0,null,1850000.0,1728.0,5088.0,329736.0,6000.0,35175.0,40488.0,62598.0,null,148104.0,57287.0,null,85000.0,5988.0,82488.0,12314.0,3492.0,280000.0,53437.0,150692.0,18024.0,24588.0,8520.0,65000.0,16500.0,1000000.0,85051.0,22944.0,19452.0,null,38472.0,566460.0,125000.0,null,65000.0,80000.0,150000.0,null,85248.0,86216.0,66000.0,13993.0,28152.0,42816.0,null,45900.0,706572.0,210000.0,68705.0,54996.0,300000.0,148452.0,125000.0,120000.0,26232.0,1000000.0,32081.0,105000.0,160000.0,2000000.0,20736.0,48279.0,159550.0,5364.0,70000.0,null,11688.0,52106.0,40563.0,null,11652.0,52932.0,null,60000.0,63048.0,18540.0,null,51300.0,108800.0,81500.0,null,150000.0,17491.0,2000000.0,12372.0,100000.0,2000000.0,34368.0,86000.0,17100.0,6577.0,31812.0,95440.0,68041.0,45830.0,null,63240.0,100000.0,21655.0,67178.0,5.0,103057.0,220000.0,68745.0,97000.0,5196.0,null,null,68745.0,45033.0,31200.0,52200.0,null,25668.0,70000.0,12636.0,44111.0,null,27286.0,100463.0,54936.0,43834.0,27216.0,2000000.0,18708.0,27504.0,455196.0,30468.0,34752.0,494604.0,10080.0,9504.0,21984.0,42393.0,394536.0,160000.0,10032.0,13908.0,2355.0,111000.0,12828.0,120000.0,69964.0,1164000.0,75000.0,97166.0,125000.0,146000.0,65424.0,97000.0,71097.0,41244.0,62011.0,1716.0,38976.0,50000.0,380000.0,null,116600.0,76339.0,38169.0,2000000.0,null,84000.0,85000.0,32183.0,94289.0,57287.0,60000.0,250000.0,33000.0,null,null,null,13116.0,30535.0,210000.0,140000.0,105000.0,14040.0,58248.0,220000.0,33000.0,13600.0,43538.0,23376.0,110000.0,11194.0,90000.0,25848.0,53850.0,37810.0,130000.0,95097.0,54767.0,5400.0,13056.0,25000.0,12000.0,19176.0,10812.0,6297.0,119105.0,94000.0,98964.0,32424.0,11280.0,62807.0,80000.0,155000.0,95000.0,458300.0,9180.0,36708.0,9072.0,1200000.0,80202.0,34368.0,5160.0,11400.0,38955.0,126000.0,157000.0,68748.0,68041.0,16032.0,110509.0,12996.0,156000.0,45830.0,21600.0,1224000.0,45797.0,170000.0,null,24744.0,110000.0,83742.0,84785.0,42000.0,86544.0,51144.0,110000.0,110000.0,34368.0,96500.0,37128.0,80000.0,32500.0,31164.0,22620.0,null,43538.0,95000.0,13116.0,70000.0,118000.0,46272.0,39528.0,null,45142.0,95000.0,94289.0,264000.0,30000.0,51559.0,2000000.0,null,28872.0,4704.0,72530.0,52339.0,68516.0,16092.0,117000.0,54996.0,88000.0,85931.0,11304.0,125000.0,31104.0,13223.0,19380.0,83500.0,66453.0,72000.0,77200.0,824940.0,2000000.0,46752.0,124000.0,95000.0,68000.0,160000.0,183000.0,65000.0,48108.0,133000.0,24000.0,49980.0,272313.0,5040.0,60102.0,83972.0,5028.0,21672.0,13993.0,804000.0,20989.0,52339.0,59808.0,105000.0,5877.0,80000.0,17352.0,261833.0,4188.0,87719.0,100000.0,32784.0,null,635916.0,95000.0,10608.0,11472.0,18132.0,80000.0,126000.0,60000.0,20628.0,null,47285.0,40000.0,80202.0,48096.0,59652.0,87312.0,135000.0,76000.0,68136.0,70000.0,19920.0,89076.0,40081.0,21996.0,16032.0,135000.0,14868.0,148860.0,111220.0,85931.0,785088.0,19236.0,80202.0,60648.0,32232.0,45830.0,80000.0,49500.0,131200.0,53616.0,7692.0,18000.0,6960.0,175000.0,11220.0,41871.0,35329.0,19590.0,783696.0,103369.0,46392.0,0.0,240000.0,100010.0,59112.0,73328.0,110000.0,32169.0,21348.0,90228.0,16791.0,5040.0,120000.0,4896.0,120000.0,135041.0,12996.0,108846.0,null,102300.0,150000.0,88000.0,24000.0,114000.0,48121.0,17184.0,null,null,5664.0,27816.0,35100.0,70000.0,70003.0,95000.0,121000.0,46976.0,40000.0,65424.0,2000000.0,54000.0,47105.0,50413.0,28958.0,null,11400.0,8520.0,5040.0,412224.0,8664.0,49704.0,42624.0,38955.0,57000.0,27504.0,6996.0,17592.0,17001.0,68705.0,48413.0,18048.0,50772.0,43538.0,11004.0,6996.0,83972.0,54000.0,13596.0,91660.0,56623.0,null,27012.0,100000.0,78000.0,8556.0,79632.0,64600.0,26282.0,150000.0,120556.0,48093.0,91328.0,2000000.0,45072.0,65000.0,11004.0,53500.0,94236.0,45803.0,null,105168.0,95304.0,73338.0,null,110000.0,200000.0,45372.0,139000.0,68745.0,83868.0,71036.0,150000.0,19236.0,2292.0,61872.0,300000.0,150000.0,140000.0,140000.0,48120.0,45830.0,21348.0,49500.0,null,39444.0,90000.0,5700.0,7560.0,12594.0,125000.0,null,null,129000.0,59579.0,111138.0,78508.0,72418.0,97190.0,47724.0,79973.0,8856.0,null,34372.0,41244.0,42000.0,110000.0,150000.0,21492.0,65277.0,5376.0,54248.0,70000.0,35748.0,null,121000.0,28786.0,696000.0,4704.0,3156.0,31403.0,130858.0,23088.0,86904.0,54397.0,23376.0,105000.0,99120.0,125000.0,89124.0,42120.0,140000.0,32183.0,103.0,126300.0,35748.0,54423.0,66453.0,577452.0,35329.0,79992.0,125000.0,85636.0,10800.0,182000.0,300000.0,38496.0,8364.0,51559.0,16791.0,105409.0,57287.0,30300.0,61650.0,125000.0,48121.0,70000.0,140000.0,77220.0,14340.0,6000.0,1320000.0,42420.0,3528.0,103000.0,26232.0,827640.0,null,78000.0,57287.0,76339.0,26124.0,134000.0,20989.0,65424.0,27986.0,41244.0,47105.0,3216.0,3552.0,73000.0,34543.0,97274.0,33112.0,null,131043.0,22452.0,7164.0,97000.0,8940.0,55971.0,108795.0,135000.0,73328.0,157500.0,85000.0,1704.0,14664.0,114026.0,null,42768.0,57287.0,57864.0,2000000.0,68745.0,45803.0,null,54996.0,80202.0,21996.0,50000.0,32081.0,110000.0,87492.0,110000.0,20676.0,64888.0,107000.0,null,840.0,1000000.0,null,null,85931.0,32784.0,25656.0,null,82000.0,41247.0,9360.0,null,74652.0,70000.0,235080.0,27252.0,6876.0,51727.0,165000.0,121000.0,89600.0,1000000.0,40979.0,35280.0,7392.0,350000.0,40092.0,null,2000000.0,36000.0,2868.0,79188.0,25665.0,94000.0,23520.0,31080.0,41978.0,103369.0,83742.0,84000.0,180000.0,480000.0,2000000.0,10495.0,87500.0,57744.0,15600.0,null,25206.0,54996.0,38772.0,600000.0,96000.0,125000.0,57287.0,77911.0,null,35580.0,28324.0,57287.0,45830.0,32088.0,57300.0,54200.0,29242.0,82476.0,162000.0,168000.0,9515.0,78508.0,795672.0,54397.0,24744.0,58881.0,33583.0,13433.0,3360.0,130000.0,57287.0,null,100000.0,43992.0,45000.0,92000.0,21996.0,null,78360.0,604956.0,20000.0,48420.0,125000.0,118000.0,46976.0,57744.0,35005.0,null,31562.0,23376.0,720000.0,110000.0,52339.0,165000.0,60000.0,400000.0,105000.0,105000.0,70000.0,82897.0,58881.0,null,65424.0,38169.0,13824.0,100752.0,86000.0,68748.0,33583.0,13752.0,null,11194.0,103832.0,20936.0,16116.0,18348.0,null,null,109000.0,20520.0,48000.0,164947.0,125000.0,27986.0,null,95423.0,37004.0,null,114575.0,null,83742.0,105000.0,49267.0,94500.0,66453.0,180000.0,52651.0,84135.0,86000.0,50000.0,140000.0,130000.0,31620.0,19308.0,79536.0,2000000.0,105000.0,150000.0,null,756192.0,11194.0,19550.0,80155.0,27780.0,74474.0,24000.0,78508.0,null,64956.0,111756.0,160000.0,null,null,67548.0,49600.0,86000.0,115533.0,34368.0,150000.0,40332.0,null,22512.0,31164.0,38988.0,0.0,53136.0,7536.0,5040.0,145900.0,68745.0,null,null,57287.0,115.0,18036.0,1320000.0,54797.0,43992.0,74048.0,30000.0,null,117763.0,737976.0,130000.0,176868.0,56436.0,110000.0,51696.0,65568.0,83409.0,18036.0,85051.0,49212.0,80000.0,20010.0,17280.0,53136.0,28872.0,1800000.0,6720.0,22388.0,962424.0,55000.0,426216.0,20989.0,47144.0,5877.0,null,54956.0,33912.0,53616.0,125000.0,140000.0,68000.0,40563.0,125000.0,29544.0,80000.0,6324.0,5400.0,64888.0,60000.0,6876.0,80000.0,45797.0,165000.0,24060.0,90000.0,63700.0,37810.0,68000.0,72800.0,54956.0,54996.0,130000.0,53172.0,31380.0,77911.0,4368.0,1320000.0,2000000.0,91668.0,161724.0,30362.0,93000.0,37680.0,130000.0,71036.0,68745.0,45830.0,51559.0,86212.0,94500.0,12943.0,35100.0,1000000.0,91593.0,39964.0,66728.0,43180.0,98534.0,39254.0,5076.0,42168.0,100000.0,143000.0,20628.0,4008.0,157000.0,36024.0,135000.0,11194.0,93302.0,29556.0,57860.0,71400.0,7164.0,28872.0,120000.0,99275.0,3324.0,null,10824.0,71020.0,1000000.0,91593.0,27504.0,95000.0,100463.0,83000.0,254883.0,11400.0,79392.0,69972.0,107220.0,90000.0,45830.0,659952.0,137490.0,47491.0,170000.0,115464.0,54516.0,10032.0,102000.0,25000.0,97000.0,74474.0,62820.0,160000.0,76956.0,null,41976.0,48120.0,11304.0,140000.0,35268.0,135000.0,808440.0,65424.0,48121.0,16791.0,50000.0,0.0,85000.0,13824.0,130000.0,65250.0,120000.0,null,null,null,91660.0,42067.0,13860.0,83972.0,150000.0,863592.0,20989.0,91660.0,174027.0,34368.0,70152.0,2016.0,8064.0,55040.0,20989.0,91750.0,44488.0,17364.0,51559.0,102000.0,null,170000.0,125000.0,56264.0,5028.0,69349.0,81125.0,70658.0,117763.0,null,2496.0,28668.0,71966.0,62000.0,56715.0,16500.0,132500.0,88976.0,4618.0,null,null,80000.0,9095.0,88871.0,57287.0,145000.0,824940.0,16392.0,100463.0,85900.0,423948.0,966924.0,64162.0,165000.0,66078.0,86400.0,66000.0,null,165000.0,17186.0,58000.0,4000.0,59544.0,70000.0,54996.0,85000.0,5544.0,100000.0,134328.0,85935.0,1000000.0,17868.0,52248.0,12828.0,100463.0,50413.0,12594.0,53437.0,63245.0,150000.0,null,4812.0,63016.0,85000.0,102000.0,32400.0,122565.0,45830.0,1000000.0,null,4752.0,100752.0,66414.0,623028.0,5457.0,35748.0,112583.0,103116.0,17988.0,68745.0,10584.0,60000.0,71363.0,94289.0,80202.0,145000.0,83409.0,26496.0,null,76000.0,87077.0,35508.0,3708.0,120000.0,106000.0,27492.0,628068.0,50000.0,44777.0,32784.0,29508.0,140000.0,null,93600.0,115000.0,4080.0,1824000.0,9096.0,402996.0,98800.0,91593.0,55000.0,89315.0,91660.0,3672.0,68000.0,52339.0,null,90000.0,22915.0,32400.0,23376.0,102612.0,12564.0,25224.0,34982.0,115000.0,118000.0,14748.0,118495.0,61870.0,30935.0,98454.0,130000.0,125364.0,104678.0,152677.0,251850.0,117000.0,80000.0,19500.0,12828.0,null,90000.0,119674.0,null,4128.0,387588.0,105000.0,72182.0,73968.0,38955.0,54956.0,187000.0,11916.0,852432.0,1320000.0,12594.0,147000.0,78360.0,79057.0,1680.0,null,34372.0,58644.0,14748.0,26412.0,57000.0,92796.0,null,47640.0,439968.0,53850.0,64500.0,13752.0,57864.0,1800000.0,31241.0,13000.0,2000000.0,17388.0,null,107344.0,109594.0,29789.0,135000.0,63016.0,79176.0,114508.0,49800.0,12372.0,47576.0,null,47784.0,50000.0,20520.0,21996.0,78000.0,14664.0,102264.0,71036.0,150000.0,135852.0,130000.0,74474.0,25116.0,7556.0,1000000.0,134000.0,63016.0,3276.0,48121.0,145000.0,null,7276.0,130847.0,46392.0,34368.0,32388.0,44830.0,120000.0,753684.0,83972.0,56376.0,126032.0,null,68136.0,80000.0,170000.0,85000.0,60000.0,25356.0,1000000.0,16040.0,14256.0,28080.0,null,36672.0,2000000.0,26124.0,78828.0,28800.0,52248.0,19908.0,72530.0,63048.0,15576.0,54956.0,100000.0,48121.0,41244.0,53028.0,48413.0,200000.0,220000.0,60000.0,90000.0,100721.0,14628.0,32400.0,68745.0,39643.0,116000.0,80000.0,53850.0,23400.0,660000.0,115000.0,77022.0,41244.0,10497.0,9795.0,32183.0,85931.0,130000.0,97500.0,66000.0,5412.0,160000.0,14256.0,144000.0,11472.0,100000.0,74474.0,11004.0,60725.0,143932.0,420616.0,12594.0,null,4236.0,75000.0,71097.0,39696.0,61000.0,4200.0,95000.0,36664.0,22915.0,41244.0,null,39229.0,34368.0,6000.0,36000.0,98000.0,401012.0,13752.0,701196.0,33144.0,null,12596.0,48120.0,79000.0,110509.0,71609.0,13752.0,70500.0,27492.0,24468.0,23400.0,48121.0,100000.0,167916.0,160000.0,481212.0,19248.0,7740.0,744876.0,null,105000.0,110000.0,157017.0,33000.0,19380.0,43997.0,45830.0,21600.0,4080.0,31896.0,160000.0,44064.0,75347.0,957396.0,6996.0,190000.0,36432.0,150000.0,40000.0,58881.0,49176.0,44436.0,74845.0,73560.0,45797.0,114575.0,84816.0,79000.0,3250.0,750540.0,90417.0,32064.0,175000.0,85776.0,70000.0,80202.0,41978.0,180000.0,41244.0,65424.0,70000.0,1000000.0,11194.0,185000.0,160000.0,120000.0,null,120000.0,6297.0,18012.0,65424.0,44508.0,30252.0,30095.0,34143.0,100000.0,9180.0,106874.0,97000.0,null,79165.0,235525.0,65277.0,618708.0,45156.0,18036.0,25187.0,null,111942.0,139000.0,55000.0,59004.0,61499.0,2000000.0,115000.0,11040.0,26724.0,17631.0,12372.0,480000.0,56339.0,22388.0,115000.0,15732.0,100.0,48120.0,1800000.0,16788.0,209000.0,32081.0,135000.0,90000.0,13293.0,80202.0,36637.0,787812.0,64888.0,128904.0,7206.0,18540.0,140000.0,75876.0,57287.0,13293.0,75000.0,1000000.0,2000000.0,10116.0,123570.0,6600.0,45880.0,19236.0,null,55584.0,20172.0,null,4200.0,45830.0,942096.0,25668.0,10680.0,20628.0,144000.0,100000.0,30816.0,46.0,5196.0,9912.0,72530.0,4044.0,51684.0,180000.0,37596.0,53000.0,52704.0,7752.0,2544.0,null,17208.0,74000.0,247476.0,190000.0,54000.0,52704.0,24061.0,687444.0,46272.0,17352.0,null,13428.0,2000000.0,75619.0,140000.0,60190.0,145500.0,80000.0,135000.0,34372.0,85931.0,97389.0,82494.0,1000000.0,37946.0,60492.0,172500.0,115464.0,31512.0,30720.0,2000000.0,120000.0,25200.0,50868.0,2856.0,null,125000.0,77911.0,84000.0,150000.0,91593.0,38472.0,18191.0,18852.0,36664.0,39876.0,35580.0,88000.0,9684.0,24744.0,41018.0,155000.0,143000.0,270204.0,132000.0,40101.0,null,11400.0,10368.0,54996.0,120900.0,51960.0,74474.0,115000.0,null,32604.0,75624.0,26028.0,108795.0,626664.0,65424.0,220000.0,70000.0,111000.0,53028.0,92376.0,11304.0,12594.0,2940.0,116000.0,36664.0,420000.0,2748.0,84144.0,null,65277.0,20628.0,7500.0,109000.0,53460.0,null,92113.0,95423.0,59396.0,65424.0,81125.0,100000.0,12708.0,77911.0,60000.0,19848.0,28595.0,200000.0,null,115463.0,95423.0,2724.0,65000.0,70000.0,28416.0,13573.0,15392.0,35820.0,48120.0,76000.0,19428.0,48120.0,87000.0,16392.0,72372.0,21648.0,null,65766.0,35518.0,2000000.0,42852.0,15392.0,83000.0,87036.0,8244.0,90000.0,57287.0,null,913872.0,90417.0,52908.0,14772.0,28500.0,100300.0,91000.0,null,1104000.0,10104.0,21998.0,null,43284.0,8364.0,137950.0,80202.0,42164.0,117763.0,720000.0,105000.0,26808.0,null,36672.0,651624.0,160000.0,400000.0,19590.0,29508.0,39600.0,934932.0,46210.0,80000.0,170000.0,70260.0,13752.0,90000.0,25980.0,180000.0,null,55569.0,57287.0,49267.0,90000.0,101000.0,37128.0,9278.0,15444.0,85000.0,70000.0,120304.0,91000.0,40563.0,45372.0,1000000.0,20000.0,92500.0,20628.0,49267.0,57287.0,125000.0,23553.0,954250.0,135000.0,180000.0,85000.0,41244.0,null,120000.0,51948.0,110000.0,9456.0,null,63016.0,41244.0,null,57287.0,75000.0,6360.0,22680.0,24228.0,47144.0,null,32988.0,51300.0,67026.0,68000.0,100000.0,52836.0,74244.0,759504.0,35592.0,7812.0,32784.0,8244.0,22392.0,79783.0,9095.0,13752.0,36024.0,30133.0,37128.0,null,55000.0,58881.0,57264.0,61872.0,90000.0,60.0,83972.0,63000.0,18000.0,115000.0,5628.0,384000.0,1000000.0,148500.0,143000.0,17100.0,95000.0,32400.0,7276.0,34416.0,10836.0,43992.0,20318.0,111000.0,7980.0,99240.0,426216.0,null,28872.0,16500.0,130000.0,53700.0,14580.0,108795.0,null,96000.0,5712.0,17364.0,39725.0,65172.0,80000.0,122000.0,49152.0,145000.0,91752.0,21312.0,14664.0,null,1000000.0,96701.0,93492.0,101542.0,9972.0,67142.0,25200.0,18012.0,13332.0,75000.0,76500.0,54996.0,9095.0,29820.0,45797.0,66000.0,115000.0,105000.0,115464.0,150000.0,864.0,92076.0,4920.0,596664.0,68748.0,147000.0,130000.0,null,58284.0,20989.0,30935.0,null,21126.0,25887.0,83972.0,1000000.0,39254.0,130000.0,12456.0,100000.0,41247.0,31992.0,123000.0,113000.0,120000.0,37416.0,1320000.0,71966.0,8532.0,85000.0,115000.0,17052.0,31102.0,null,50376.0,81000.0,340.0,120000.0,12000.0,44484.0,105000.0,51559.0,1320000.0,36637.0,51444.0,24156.0,209356.0,69000.0,75000.0,null,33000.0,44684.0,10495.0,2520.0,167916.0,91593.0,null,66414.0,20808.0,140000.0,140000.0,4848.0,65995.0,40249.0,38496.0,71079.0,29508.0,71036.0,22944.0,11796.0,34372.0,35592.0,null,628068.0,33000.0,160000.0,95000.0,60190.0,1000000.0,53437.0,55000.0,27498.0,69300.0,6720.0,175000.0,9897.0,41244.0,72000.0,45372.0,11194.0,41280.0,65995.0,27504.0,164952.0,58764.0,38976.0,45803.0,47217.0,1716.0,128000.0,null,95423.0,100000.0,110000.0,250000.0,null,29028.0,50688.0,59579.0,57287.0,21000.0,130000.0,34416.0,103057.0,null,57000.0,718044.0,26400.0,40101.0,140000.0,52339.0,68748.0,2460.0,18336.0,46392.0,30936.0,4128.0,5196.0,75624.0,4620.0,572184.0,11928.0,150000.0,41112.0,125000.0,63624.0,19800.0,49500.0,33366.0,110000.0,null,60000.0,58881.0,40000.0,0.0,33144.0,47628.0,9624.0,143932.0,68745.0,31416.0,126500.0,130000.0,null,62280.0,null,32064.0,36672.0,113616.0,14664.0,85051.0,108795.0,81125.0,30300.0,51264.0,72000.0,45372.0,68500.0,105000.0,2000000.0,null,90640.0,17412.0,91660.0,40081.0,46392.0,120000.0,107295.0,36637.0,390000.0,50100.0,12096.0,10200.0,100000.0,68705.0,null,27986.0,9624.0,8520.0,165000.0,10308.0,5904.0,null,250000.0,1000000.0,null,6000.0,120000.0,90000.0,16651.0,15120.0,439968.0,70000.0,12947.0,13752.0,1800.0,24588.0,90000.0,60000.0,69204.0,590724.0,113300.0,79536.0,52248.0,40560.0,87362.0,72500.0,75624.0,30156.0,20304.0,48121.0,42624.0,115000.0,65000.0,110000.0,89368.0,88390.0,75624.0,42393.0,247476.0,87000.0,30248.0,null,40101.0,22944.0,591204.0,null,null,94289.0,147700.0,7740.0,41244.0,null,104000.0,412464.0,210000.0,34675.0,50232.0,57370.0,7056.0,4692.0,57287.0,106000.0,79783.0,41244.0,53608.0,6888.0,80202.0,135000.0,86359.0,12372.0,58800.0,101542.0,74474.0,5652.0,95000.0,null,50000.0,34372.0,125579.0,250000.0,35748.0,3936.0,150000.0,21084.0,11520.0,68903.0,null,2000000.0,71000.0,100000.0,1000000.0,49722.0,27504.0,20989.0,41244.0,5436.0,null,35544.0,6552.0,43992.0,62676.0,250000.0,32784.0,58881.0,18432.0,11004.0,127000.0,21996.0,111000.0,1848000.0,28872.0,3024.0,9840.0,155000.0,16476.0,25668.0,85051.0,180000.0,2000000.0,19404.0,10495.0,4704.0,91000.0,57828.0,87144.0,69216.0,51559.0,75619.0,78508.0,60000.0,250000.0,104678.0,77000.0,null,1704.0,172000.0,20936.0,57000.0,30963.0,23688.0,70000.0,46380.0,13008.0,110000.0,null,79783.0,140000.0,17868.0,26693.0,90000.0,133000.0,30936.0,60000.0,2000000.0,null,68750.0,49722.0,135000.0,53850.0,78629.0,104000.0,97389.0,16788.0,9516.0,106874.0,46272.0,20942.0,75000.0,37440.0,69000.0,100000.0,196000.0,36664.0,24576.0,116866.0,null,2000000.0,51559.0,110509.0,140000.0,27504.0,12000.0,6384.0,null,22944.0,52138.0,63016.0,null,null,150000.0,114508.0,96240.0,1000000.0,20300.0,147750.0,105564.0,41986.0,70658.0,41244.0,42420.0,7692.0,41244.0,20628.0,12828.0,78508.0,45372.0,45830.0,4608.0,84708.0,66000.0,null,44684.0,100000.0,61650.0,51030.0,6876.0,101280.0,61498.0,17916.0,34752.0,100000.0,1000000.0,44947.0,98135.0,1000000.0,84400.0,15432.0,5736.0,45830.0,2688.0,61071.0,646200.0,33036.0,110000.0,13752.0,6192.0,106000.0,52000.0,30456.0,110000.0,131952.0,65424.0,40692.0,70000.0,49722.0,155000.0,122000.0,11004.0,21648.0,18432.0,45830.0,7500.0,4198.0,61071.0,90192.0,120000.0,35748.0,135000.0,155000.0,8904.0,21984.0,127453.0,76960.0,8784.0,11520.0,29508.0,8652.0,94000.0,122142.0,null,60190.0,70000.0,31965.0,60000.0,100000.0,52908.0,70658.0,12828.0,65424.0,153000.0,24204.0,11004.0,31356.0,16392.0,42000.0,90662.0,657132.0,130000.0,105000.0,122000.0,16500.0,26868.0,37865.0,15444.0,88223.0,22920.0,6876.0,10488.0,52339.0,null,75000.0,503736.0,87686.0,2016.0,150000.0,115533.0,54996.0,93000.0,null,2000000.0,24744.0,37810.0,120000.0,38700.0,100000.0,42624.0,86240.0,1080000.0,20989.0,15392.0,140000.0,1200000.0,1000000.0,null,45830.0,36000.0,100253.0,110000.0,null,48121.0,91593.0,null,167945.0,104263.0,71966.0,41688.0,39768.0,45486.0,112283.0,3498.0,97000.0,48120.0,16212.0,48000.0,95000.0,144023.0,78508.0,140000.0,38700.0,71966.0,4416.0,120000.0,1320000.0,null,30729.0,80000.0,26556.0,17232.0,87789.0,47640.0,25848.0,105000.0,659472.0,38272.0,1980.0,20400.0,68000.0,61000.0,316224.0,1740000.0,null,13752.0,55248.0,125000.0,64620.0,80890.0,780000.0,28116.0,4338.0,60725.0,19668.0,95000.0,125000.0,52000.0,6936.0,36672.0,90000.0,55056.0,41978.0,400000.0,94000.0,42168.0,107000.0,94210.0,46440.0,7800.0,57000.0,100461.0,16392.0,12828.0,null,17640.0,10488.0,66873.0,13764.0,68041.0,58320.0,26808.0,24744.0,72912.0,49488.0,33583.0,45830.0,34836.0,41247.0,12024.0,17491.0,80000.0,250000.0,63016.0,65424.0,80000.0,63000.0,140000.0,43538.0,29789.0,83000.0,null,91660.0,65424.0,null,157017.0,70000.0,6717.0,19020.0,45830.0,52704.0,88500.0,120000.0,60000.0,180000.0,30888.0,41688.0,60190.0,22512.0,100000.0,27255.0,109000.0,687444.0,61071.0,922836.0,111220.0,155000.0,34368.0,81000.0,68903.0,129470.0,140000.0,59162.0,103117.0,11400.0,null,23652.0,55000.0,150000.0,5736.0,null,null,2000000.0,98135.0,1320000.0,220000.0,5040.0,200000.0,37810.0,null,145000.0,54996.0,null,44892.0,177742.0,null,50376.0,160560.0,57287.0,13728.0,30000.0,69300.0,194640.0,1320000.0,24744.0,4488.0,168948.0,95000.0,39876.0,135000.0,158600.0,6456.0,150000.0,28800.0,14900.0,11400.0,76339.0,75000.0,57287.0,62500.0,90000.0,63240.0,150000.0,null,21648.0,68745.0,45036.0,82500.0,80800.0,47712.0,87789.0,41244.0,48121.0,18841.0,47724.0,185000.0,49500.0,28644.0,73000.0,37116.0,null,124000.0,70000.0,65424.0,75891.0,7800.0,618708.0,16968.0,41247.0,56376.0,null,70658.0,85000.0,16836.0,39254.0,51559.0,54024.0,91660.0,21769.0,20989.0,65000.0,140500.0,29904.0,160000.0,148452.0,65484.0,15120.0,67500.0,12000.0,65277.0,25968.0,108795.0,39312.0,68903.0,85000.0,72635.0,38496.0,58881.0,8604.0,18319.0,4044.0,96000.0,33024.0,150000.0,97389.0,27492.0,45000.0,130000.0,68400.0,141852.0,90000.0,74000.0,3358.0,53450.0,41871.0,114744.0,5640.0,19627.0,581700.0,34372.0,70658.0,48121.0,7332.0,769380.0,34372.0,135000.0,30000.0,76000.0,null,362650.0,2352.0,47330.0,52000.0,48121.0,27492.0,null,6875.0,98000.0,79000.0,57287.0,17700.0,60768.0,4272.0,143219.0,63000.0,84000.0,25644.0,63016.0,73102.0,0.0,40459.0,68745.0,132000.0,33293.0,17556.0,8496.0,null,48121.0,9624.0,673704.0,5160.0,62598.0,45830.0,37810.0,50604.0,150000.0,102000.0,17868.0,28872.0,41244.0,63312.0,22944.0,58624.0,null,41244.0,6437.0,481212.0,42120.0,1164000.0,5568.0,58433.0,1000000.0,5233.0,1764.0,100000.0,72182.0,43944.0,34982.0,91660.0,8196.0,16500.0,null,549960.0,68745.0,89076.0,74474.0,133440.0,104000.0,12372.0,null,15264.0,98135.0,150000.0,58881.0,66796.0,21384.0,2000000.0,null,13954.0,39336.0,75000.0,null,58881.0,47100.0,68748.0,82494.0,68745.0,35616.0,30570.0,19488.0,90000.0,1000000.0,34368.0,137412.0,48000.0,22915.0,2000000.0,45312.0,3672.0,29328.0,55345.0,50000.0,19044.0,28920.0,68745.0,90000.0,70000.0,2520.0,40440.0,87000.0,200000.0,45830.0,null,90000.0,77000.0,74000.0,53616.0,85000.0,130000.0,2000000.0,46368.0,960000.0,1920.0,141000.0,17796.0,48121.0,96000.0,101000.0,83067.0,2000000.0,235524.0,125000.0,69972.0,36637.0,42600.0,38496.0,98964.0,40284.0,93000.0,42393.0,24000.0,null,8400.0,41820.0,9840.0,null,24708.0,null,130847.0,2000000.0,148000.0,105000.0,28464.0,53437.0,696000.0,368520.0,1000000.0,null,7164.0,12564.0,31524.0,65340.0,95000.0,72530.0,80202.0,32508.0,66728.0,22915.0,36664.0,210000.0,19236.0,null,190000.0,115000.0,2000000.0,82188.0,1680000.0,64164.0,130000.0,95142.0,112500.0,180000.0,38952.0,1680.0,36637.0,24368.0,73063.0,27492.0,9795.0,61498.0,2000000.0,342252.0,7319.0,8287.0,18890.0,5877.0,41217.0,19248.0,11688.0,39696.0,null,250000.0,75000.0,2000000.0,16392.0,75000.0,53616.0,78508.0,77500.0,453720.0,null,5040.0,null,35329.0,130000.0,162000.0,144000.0,105168.0,37812.0,131952.0,77500.0,10080.0,115464.0,840000.0,75000.0,96000.0,32081.0,122000.0,33648.0,60000.0,1000000.0,41591.0,95518.0,13848.0,52800.0,140000.0,126500.0,null,70932.0,55416.0,53520.0,59652.0,3276.0,70000.0,5964.0,83868.0,76765.0,71085.0,35518.0,58764.0,30648.0,11004.0,87000.0,114000.0,63628.0,85000.0,84000.0,47628.0,12180.0,null,71036.0,58433.0,null,null,6717.0,15120.0,46976.0,25572.0,null,76339.0,175000.0,57287.0,68705.0,87996.0,null,null,36664.0,300000.0,140000.0,null,260000.0,14256.0,20172.0,43092.0,9840.0,24061.0,30488.0,39254.0,null,6381.0,7464.0,77022.0,null,68745.0,85931.0,9972.0,701196.0,null,110000.0,87668.0,59652.0,54996.0,74474.0,9936.0,null,3360.0,17412.0,null,72888.0,17491.0,79000.0,58024.0,38760.0,47724.0,39180.0,7724.0,35518.0,26586.0,68748.0,9600.0,130000.0,19880.0,105000.0,80371.0,null],\"y0\":\" \",\"yaxis\":\"y\",\"type\":\"box\"}],                        {\"template\":{\"data\":{\"histogram2dcontour\":[{\"type\":\"histogram2dcontour\",\"colorbar\":{\"outlinewidth\":0,\"ticks\":\"\"},\"colorscale\":[[0.0,\"#0d0887\"],[0.1111111111111111,\"#46039f\"],[0.2222222222222222,\"#7201a8\"],[0.3333333333333333,\"#9c179e\"],[0.4444444444444444,\"#bd3786\"],[0.5555555555555556,\"#d8576b\"],[0.6666666666666666,\"#ed7953\"],[0.7777777777777778,\"#fb9f3a\"],[0.8888888888888888,\"#fdca26\"],[1.0,\"#f0f921\"]]}],\"choropleth\":[{\"type\":\"choropleth\",\"colorbar\":{\"outlinewidth\":0,\"ticks\":\"\"}}],\"histogram2d\":[{\"type\":\"histogram2d\",\"colorbar\":{\"outlinewidth\":0,\"ticks\":\"\"},\"colorscale\":[[0.0,\"#0d0887\"],[0.1111111111111111,\"#46039f\"],[0.2222222222222222,\"#7201a8\"],[0.3333333333333333,\"#9c179e\"],[0.4444444444444444,\"#bd3786\"],[0.5555555555555556,\"#d8576b\"],[0.6666666666666666,\"#ed7953\"],[0.7777777777777778,\"#fb9f3a\"],[0.8888888888888888,\"#fdca26\"],[1.0,\"#f0f921\"]]}],\"heatmap\":[{\"type\":\"heatmap\",\"colorbar\":{\"outlinewidth\":0,\"ticks\":\"\"},\"colorscale\":[[0.0,\"#0d0887\"],[0.1111111111111111,\"#46039f\"],[0.2222222222222222,\"#7201a8\"],[0.3333333333333333,\"#9c179e\"],[0.4444444444444444,\"#bd3786\"],[0.5555555555555556,\"#d8576b\"],[0.6666666666666666,\"#ed7953\"],[0.7777777777777778,\"#fb9f3a\"],[0.8888888888888888,\"#fdca26\"],[1.0,\"#f0f921\"]]}],\"heatmapgl\":[{\"type\":\"heatmapgl\",\"colorbar\":{\"outlinewidth\":0,\"ticks\":\"\"},\"colorscale\":[[0.0,\"#0d0887\"],[0.1111111111111111,\"#46039f\"],[0.2222222222222222,\"#7201a8\"],[0.3333333333333333,\"#9c179e\"],[0.4444444444444444,\"#bd3786\"],[0.5555555555555556,\"#d8576b\"],[0.6666666666666666,\"#ed7953\"],[0.7777777777777778,\"#fb9f3a\"],[0.8888888888888888,\"#fdca26\"],[1.0,\"#f0f921\"]]}],\"contourcarpet\":[{\"type\":\"contourcarpet\",\"colorbar\":{\"outlinewidth\":0,\"ticks\":\"\"}}],\"contour\":[{\"type\":\"contour\",\"colorbar\":{\"outlinewidth\":0,\"ticks\":\"\"},\"colorscale\":[[0.0,\"#0d0887\"],[0.1111111111111111,\"#46039f\"],[0.2222222222222222,\"#7201a8\"],[0.3333333333333333,\"#9c179e\"],[0.4444444444444444,\"#bd3786\"],[0.5555555555555556,\"#d8576b\"],[0.6666666666666666,\"#ed7953\"],[0.7777777777777778,\"#fb9f3a\"],[0.8888888888888888,\"#fdca26\"],[1.0,\"#f0f921\"]]}],\"surface\":[{\"type\":\"surface\",\"colorbar\":{\"outlinewidth\":0,\"ticks\":\"\"},\"colorscale\":[[0.0,\"#0d0887\"],[0.1111111111111111,\"#46039f\"],[0.2222222222222222,\"#7201a8\"],[0.3333333333333333,\"#9c179e\"],[0.4444444444444444,\"#bd3786\"],[0.5555555555555556,\"#d8576b\"],[0.6666666666666666,\"#ed7953\"],[0.7777777777777778,\"#fb9f3a\"],[0.8888888888888888,\"#fdca26\"],[1.0,\"#f0f921\"]]}],\"mesh3d\":[{\"type\":\"mesh3d\",\"colorbar\":{\"outlinewidth\":0,\"ticks\":\"\"}}],\"scatter\":[{\"fillpattern\":{\"fillmode\":\"overlay\",\"size\":10,\"solidity\":0.2},\"type\":\"scatter\"}],\"parcoords\":[{\"type\":\"parcoords\",\"line\":{\"colorbar\":{\"outlinewidth\":0,\"ticks\":\"\"}}}],\"scatterpolargl\":[{\"type\":\"scatterpolargl\",\"marker\":{\"colorbar\":{\"outlinewidth\":0,\"ticks\":\"\"}}}],\"bar\":[{\"error_x\":{\"color\":\"#2a3f5f\"},\"error_y\":{\"color\":\"#2a3f5f\"},\"marker\":{\"line\":{\"color\":\"#E5ECF6\",\"width\":0.5},\"pattern\":{\"fillmode\":\"overlay\",\"size\":10,\"solidity\":0.2}},\"type\":\"bar\"}],\"scattergeo\":[{\"type\":\"scattergeo\",\"marker\":{\"colorbar\":{\"outlinewidth\":0,\"ticks\":\"\"}}}],\"scatterpolar\":[{\"type\":\"scatterpolar\",\"marker\":{\"colorbar\":{\"outlinewidth\":0,\"ticks\":\"\"}}}],\"histogram\":[{\"marker\":{\"pattern\":{\"fillmode\":\"overlay\",\"size\":10,\"solidity\":0.2}},\"type\":\"histogram\"}],\"scattergl\":[{\"type\":\"scattergl\",\"marker\":{\"colorbar\":{\"outlinewidth\":0,\"ticks\":\"\"}}}],\"scatter3d\":[{\"type\":\"scatter3d\",\"line\":{\"colorbar\":{\"outlinewidth\":0,\"ticks\":\"\"}},\"marker\":{\"colorbar\":{\"outlinewidth\":0,\"ticks\":\"\"}}}],\"scattermapbox\":[{\"type\":\"scattermapbox\",\"marker\":{\"colorbar\":{\"outlinewidth\":0,\"ticks\":\"\"}}}],\"scatterternary\":[{\"type\":\"scatterternary\",\"marker\":{\"colorbar\":{\"outlinewidth\":0,\"ticks\":\"\"}}}],\"scattercarpet\":[{\"type\":\"scattercarpet\",\"marker\":{\"colorbar\":{\"outlinewidth\":0,\"ticks\":\"\"}}}],\"carpet\":[{\"aaxis\":{\"endlinecolor\":\"#2a3f5f\",\"gridcolor\":\"white\",\"linecolor\":\"white\",\"minorgridcolor\":\"white\",\"startlinecolor\":\"#2a3f5f\"},\"baxis\":{\"endlinecolor\":\"#2a3f5f\",\"gridcolor\":\"white\",\"linecolor\":\"white\",\"minorgridcolor\":\"white\",\"startlinecolor\":\"#2a3f5f\"},\"type\":\"carpet\"}],\"table\":[{\"cells\":{\"fill\":{\"color\":\"#EBF0F8\"},\"line\":{\"color\":\"white\"}},\"header\":{\"fill\":{\"color\":\"#C8D4E3\"},\"line\":{\"color\":\"white\"}},\"type\":\"table\"}],\"barpolar\":[{\"marker\":{\"line\":{\"color\":\"#E5ECF6\",\"width\":0.5},\"pattern\":{\"fillmode\":\"overlay\",\"size\":10,\"solidity\":0.2}},\"type\":\"barpolar\"}],\"pie\":[{\"automargin\":true,\"type\":\"pie\"}]},\"layout\":{\"autotypenumbers\":\"strict\",\"colorway\":[\"#636efa\",\"#EF553B\",\"#00cc96\",\"#ab63fa\",\"#FFA15A\",\"#19d3f3\",\"#FF6692\",\"#B6E880\",\"#FF97FF\",\"#FECB52\"],\"font\":{\"color\":\"#2a3f5f\"},\"hovermode\":\"closest\",\"hoverlabel\":{\"align\":\"left\"},\"paper_bgcolor\":\"white\",\"plot_bgcolor\":\"#E5ECF6\",\"polar\":{\"bgcolor\":\"#E5ECF6\",\"angularaxis\":{\"gridcolor\":\"white\",\"linecolor\":\"white\",\"ticks\":\"\"},\"radialaxis\":{\"gridcolor\":\"white\",\"linecolor\":\"white\",\"ticks\":\"\"}},\"ternary\":{\"bgcolor\":\"#E5ECF6\",\"aaxis\":{\"gridcolor\":\"white\",\"linecolor\":\"white\",\"ticks\":\"\"},\"baxis\":{\"gridcolor\":\"white\",\"linecolor\":\"white\",\"ticks\":\"\"},\"caxis\":{\"gridcolor\":\"white\",\"linecolor\":\"white\",\"ticks\":\"\"}},\"coloraxis\":{\"colorbar\":{\"outlinewidth\":0,\"ticks\":\"\"}},\"colorscale\":{\"sequential\":[[0.0,\"#0d0887\"],[0.1111111111111111,\"#46039f\"],[0.2222222222222222,\"#7201a8\"],[0.3333333333333333,\"#9c179e\"],[0.4444444444444444,\"#bd3786\"],[0.5555555555555556,\"#d8576b\"],[0.6666666666666666,\"#ed7953\"],[0.7777777777777778,\"#fb9f3a\"],[0.8888888888888888,\"#fdca26\"],[1.0,\"#f0f921\"]],\"sequentialminus\":[[0.0,\"#0d0887\"],[0.1111111111111111,\"#46039f\"],[0.2222222222222222,\"#7201a8\"],[0.3333333333333333,\"#9c179e\"],[0.4444444444444444,\"#bd3786\"],[0.5555555555555556,\"#d8576b\"],[0.6666666666666666,\"#ed7953\"],[0.7777777777777778,\"#fb9f3a\"],[0.8888888888888888,\"#fdca26\"],[1.0,\"#f0f921\"]],\"diverging\":[[0,\"#8e0152\"],[0.1,\"#c51b7d\"],[0.2,\"#de77ae\"],[0.3,\"#f1b6da\"],[0.4,\"#fde0ef\"],[0.5,\"#f7f7f7\"],[0.6,\"#e6f5d0\"],[0.7,\"#b8e186\"],[0.8,\"#7fbc41\"],[0.9,\"#4d9221\"],[1,\"#276419\"]]},\"xaxis\":{\"gridcolor\":\"white\",\"linecolor\":\"white\",\"ticks\":\"\",\"title\":{\"standoff\":15},\"zerolinecolor\":\"white\",\"automargin\":true,\"zerolinewidth\":2},\"yaxis\":{\"gridcolor\":\"white\",\"linecolor\":\"white\",\"ticks\":\"\",\"title\":{\"standoff\":15},\"zerolinecolor\":\"white\",\"automargin\":true,\"zerolinewidth\":2},\"scene\":{\"xaxis\":{\"backgroundcolor\":\"#E5ECF6\",\"gridcolor\":\"white\",\"linecolor\":\"white\",\"showbackground\":true,\"ticks\":\"\",\"zerolinecolor\":\"white\",\"gridwidth\":2},\"yaxis\":{\"backgroundcolor\":\"#E5ECF6\",\"gridcolor\":\"white\",\"linecolor\":\"white\",\"showbackground\":true,\"ticks\":\"\",\"zerolinecolor\":\"white\",\"gridwidth\":2},\"zaxis\":{\"backgroundcolor\":\"#E5ECF6\",\"gridcolor\":\"white\",\"linecolor\":\"white\",\"showbackground\":true,\"ticks\":\"\",\"zerolinecolor\":\"white\",\"gridwidth\":2}},\"shapedefaults\":{\"line\":{\"color\":\"#2a3f5f\"}},\"annotationdefaults\":{\"arrowcolor\":\"#2a3f5f\",\"arrowhead\":0,\"arrowwidth\":1},\"geo\":{\"bgcolor\":\"white\",\"landcolor\":\"#E5ECF6\",\"subunitcolor\":\"white\",\"showland\":true,\"showlakes\":true,\"lakecolor\":\"white\"},\"title\":{\"x\":0.05},\"mapbox\":{\"style\":\"light\"}}},\"xaxis\":{\"anchor\":\"y\",\"domain\":[0.0,1.0],\"title\":{\"text\":\"variable\"}},\"yaxis\":{\"anchor\":\"x\",\"domain\":[0.0,1.0],\"title\":{\"text\":\"value\"}},\"legend\":{\"tracegroupgap\":0},\"margin\":{\"t\":60},\"boxmode\":\"group\"},                        {\"responsive\": true}                    ).then(function(){\n",
              "                            \n",
              "var gd = document.getElementById('a38c2b49-cb37-47d3-8992-f68a972ef052');\n",
              "var x = new MutationObserver(function (mutations, observer) {{\n",
              "        var display = window.getComputedStyle(gd).display;\n",
              "        if (!display || display === 'none') {{\n",
              "            console.log([gd, 'removed!']);\n",
              "            Plotly.purge(gd);\n",
              "            observer.disconnect();\n",
              "        }}\n",
              "}});\n",
              "\n",
              "// Listen for the removal of the full notebook cells\n",
              "var notebookContainer = gd.closest('#notebook-container');\n",
              "if (notebookContainer) {{\n",
              "    x.observe(notebookContainer, {childList: true});\n",
              "}}\n",
              "\n",
              "// Listen for the clearing of the current output cell\n",
              "var outputEl = gd.closest('.output');\n",
              "if (outputEl) {{\n",
              "    x.observe(outputEl, {childList: true});\n",
              "}}\n",
              "\n",
              "                        })                };                            </script>        </div>\n",
              "</body>\n",
              "</html>"
            ]
          },
          "metadata": {}
        }
      ],
      "source": [
        "fig=px.box(df['ConvertedComp'])\n",
        "fig.show()"
      ]
    },
    {
      "cell_type": "markdown",
      "metadata": {
        "id": "D6xxns-j3x92"
      },
      "source": [
        "Find out the Inter Quartile Range for the column `ConvertedComp`.\n"
      ]
    },
    {
      "cell_type": "code",
      "execution_count": 52,
      "metadata": {
        "colab": {
          "base_uri": "https://localhost:8080/"
        },
        "id": "KOHGiz-a3x92",
        "outputId": "93b648d7-7ee6-49b3-f7e3-e899b96fcdb4"
      },
      "outputs": [
        {
          "output_type": "stream",
          "name": "stdout",
          "text": [
            "26868.0\n",
            "100000.0\n",
            "73132.0\n"
          ]
        }
      ],
      "source": [
        "q1=df['ConvertedComp'].quantile(0.25)\n",
        "q3= df['ConvertedComp'].quantile(0.75)\n",
        "IQR= q3-q1\n",
        "print (q1)\n",
        "print (q3)\n",
        "print (IQR)"
      ]
    },
    {
      "cell_type": "markdown",
      "metadata": {
        "id": "oWLex7XE3x92"
      },
      "source": [
        "Find out the upper and lower bounds.\n"
      ]
    },
    {
      "cell_type": "code",
      "execution_count": 53,
      "metadata": {
        "colab": {
          "base_uri": "https://localhost:8080/"
        },
        "id": "FGwiVTqR3x93",
        "outputId": "81b20bc6-6d7d-4016-96be-8b210f4240e2"
      },
      "outputs": [
        {
          "output_type": "stream",
          "name": "stdout",
          "text": [
            "Upper bound: 209698.0\n",
            "Lower bound: -82830.0\n"
          ]
        }
      ],
      "source": [
        "up_bound = q3 + IQR*1.5\n",
        "print('Upper bound:', up_bound)\n",
        "\n",
        "lw_bound = q1 - IQR*1.5\n",
        "print('Lower bound:', lw_bound)"
      ]
    },
    {
      "cell_type": "markdown",
      "metadata": {
        "id": "vgxv5ybj3x-E"
      },
      "source": [
        "Identify how many outliers are there in the `ConvertedComp` column.\n"
      ]
    },
    {
      "cell_type": "code",
      "execution_count": 54,
      "metadata": {
        "colab": {
          "base_uri": "https://localhost:8080/"
        },
        "id": "HUoeSPXZ3x-E",
        "outputId": "823b2812-52e0-44b3-c49b-7c2c120d327e"
      },
      "outputs": [
        {
          "output_type": "execute_result",
          "data": {
            "text/plain": [
              "879"
            ]
          },
          "metadata": {},
          "execution_count": 54
        }
      ],
      "source": [
        "num_outliers = 0\n",
        "\n",
        "for conv_comp in df['ConvertedComp']:\n",
        "    if (conv_comp < lw_bound) or (conv_comp > up_bound):\n",
        "        num_outliers = num_outliers + 1\n",
        "\n",
        "num_outliers"
      ]
    },
    {
      "cell_type": "code",
      "source": [
        "df['ConvertedComp'].quantile(0.5)"
      ],
      "metadata": {
        "colab": {
          "base_uri": "https://localhost:8080/"
        },
        "id": "yBnGmTUIXIln",
        "outputId": "f111bf90-8695-4a78-c75a-08647839e828"
      },
      "execution_count": 55,
      "outputs": [
        {
          "output_type": "execute_result",
          "data": {
            "text/plain": [
              "57745.0"
            ]
          },
          "metadata": {},
          "execution_count": 55
        }
      ]
    },
    {
      "cell_type": "code",
      "source": [
        "outl_index = df[(df.ConvertedComp < lw_bound) | (df.ConvertedComp > up_bound)].index\n",
        "\n",
        "df_outl = df.drop(outl_index)\n",
        "df_outl.shape\n",
        "(10519, 85)"
      ],
      "metadata": {
        "colab": {
          "base_uri": "https://localhost:8080/"
        },
        "id": "_qUfCwH3XPte",
        "outputId": "ef7b82b6-a729-444e-9506-ad05245899f5"
      },
      "execution_count": 56,
      "outputs": [
        {
          "output_type": "execute_result",
          "data": {
            "text/plain": [
              "(10519, 85)"
            ]
          },
          "metadata": {},
          "execution_count": 56
        }
      ]
    },
    {
      "cell_type": "markdown",
      "metadata": {
        "id": "sNzb4fs13x-E"
      },
      "source": [
        "Create a new dataframe by removing the outliers from the `ConvertedComp` column.\n"
      ]
    },
    {
      "cell_type": "code",
      "execution_count": 58,
      "metadata": {
        "colab": {
          "base_uri": "https://localhost:8080/",
          "height": 1000
        },
        "id": "10qWrAry3x-E",
        "outputId": "18982947-809b-4b56-a47c-433b875fe556"
      },
      "outputs": [
        {
          "output_type": "execute_result",
          "data": {
            "text/plain": [
              "       Respondent                      MainBranch Hobbyist  \\\n",
              "0               4  I am a developer by profession       No   \n",
              "1               9  I am a developer by profession      Yes   \n",
              "2              13  I am a developer by profession      Yes   \n",
              "4              17  I am a developer by profession      Yes   \n",
              "5              19  I am a developer by profession      Yes   \n",
              "...           ...                             ...      ...   \n",
              "11393       25136  I am a developer by profession      Yes   \n",
              "11394       25137  I am a developer by profession      Yes   \n",
              "11395       25138  I am a developer by profession      Yes   \n",
              "11396       25141  I am a developer by profession      Yes   \n",
              "11397       25142  I am a developer by profession      Yes   \n",
              "\n",
              "                                             OpenSourcer  \\\n",
              "0                                                  Never   \n",
              "1                             Once a month or more often   \n",
              "2      Less than once a month but more than once per ...   \n",
              "4      Less than once a month but more than once per ...   \n",
              "5                                                  Never   \n",
              "...                                                  ...   \n",
              "11393                                              Never   \n",
              "11394                                              Never   \n",
              "11395                            Less than once per year   \n",
              "11396  Less than once a month but more than once per ...   \n",
              "11397  Less than once a month but more than once per ...   \n",
              "\n",
              "                                              OpenSource          Employment  \\\n",
              "0      The quality of OSS and closed source software ...  Employed full-time   \n",
              "1      The quality of OSS and closed source software ...  Employed full-time   \n",
              "2      OSS is, on average, of HIGHER quality than pro...  Employed full-time   \n",
              "4      The quality of OSS and closed source software ...  Employed full-time   \n",
              "5      The quality of OSS and closed source software ...  Employed full-time   \n",
              "...                                                  ...                 ...   \n",
              "11393  OSS is, on average, of HIGHER quality than pro...  Employed full-time   \n",
              "11394  The quality of OSS and closed source software ...  Employed full-time   \n",
              "11395  The quality of OSS and closed source software ...  Employed full-time   \n",
              "11396  OSS is, on average, of LOWER quality than prop...  Employed full-time   \n",
              "11397  OSS is, on average, of HIGHER quality than pro...  Employed full-time   \n",
              "\n",
              "              Country Student  \\\n",
              "0       United States      No   \n",
              "1         New Zealand      No   \n",
              "2       United States      No   \n",
              "4           Australia      No   \n",
              "5              Brazil      No   \n",
              "...               ...     ...   \n",
              "11393   United States      No   \n",
              "11394          Poland      No   \n",
              "11395   United States      No   \n",
              "11396     Switzerland      No   \n",
              "11397  United Kingdom      No   \n",
              "\n",
              "                                                 EdLevel  \\\n",
              "0               Bachelor’s degree (BA, BS, B.Eng., etc.)   \n",
              "1      Some college/university study without earning ...   \n",
              "2            Master’s degree (MA, MS, M.Eng., MBA, etc.)   \n",
              "4               Bachelor’s degree (BA, BS, B.Eng., etc.)   \n",
              "5      Some college/university study without earning ...   \n",
              "...                                                  ...   \n",
              "11393        Master’s degree (MA, MS, M.Eng., MBA, etc.)   \n",
              "11394        Master’s degree (MA, MS, M.Eng., MBA, etc.)   \n",
              "11395        Master’s degree (MA, MS, M.Eng., MBA, etc.)   \n",
              "11396  Secondary school (e.g. American high school, G...   \n",
              "11397          Other doctoral degree (Ph.D, Ed.D., etc.)   \n",
              "\n",
              "                                          UndergradMajor  ...  \\\n",
              "0      Computer science, computer engineering, or sof...  ...   \n",
              "1      Computer science, computer engineering, or sof...  ...   \n",
              "2      Computer science, computer engineering, or sof...  ...   \n",
              "4      Computer science, computer engineering, or sof...  ...   \n",
              "5      Computer science, computer engineering, or sof...  ...   \n",
              "...                                                  ...  ...   \n",
              "11393  Computer science, computer engineering, or sof...  ...   \n",
              "11394  Computer science, computer engineering, or sof...  ...   \n",
              "11395  Computer science, computer engineering, or sof...  ...   \n",
              "11396                                                NaN  ...   \n",
              "11397  A natural science (ex. biology, chemistry, phy...  ...   \n",
              "\n",
              "                                  WelcomeChange  \\\n",
              "0       Just as welcome now as I felt last year   \n",
              "1       Just as welcome now as I felt last year   \n",
              "2      Somewhat more welcome now than last year   \n",
              "4       Just as welcome now as I felt last year   \n",
              "5       Just as welcome now as I felt last year   \n",
              "...                                         ...   \n",
              "11393   Just as welcome now as I felt last year   \n",
              "11394     A lot more welcome now than last year   \n",
              "11395     A lot more welcome now than last year   \n",
              "11396  Somewhat less welcome now than last year   \n",
              "11397   Just as welcome now as I felt last year   \n",
              "\n",
              "                                            SONewContent   Age Gender Trans  \\\n",
              "0      Tech articles written by other developers;Indu...  22.0    Man    No   \n",
              "1                                                    NaN  23.0    Man    No   \n",
              "2      Tech articles written by other developers;Cour...  28.0    Man    No   \n",
              "4      Tech articles written by other developers;Indu...  29.0    Man    No   \n",
              "5      Tech articles written by other developers;Indu...  31.0    Man    No   \n",
              "...                                                  ...   ...    ...   ...   \n",
              "11393  Tech articles written by other developers;Cour...  36.0    Man    No   \n",
              "11394  Tech articles written by other developers;Tech...  25.0    Man    No   \n",
              "11395  Tech articles written by other developers;Indu...  34.0    Man    No   \n",
              "11396                                                NaN  25.0    Man    No   \n",
              "11397  Tech articles written by other developers;Tech...  30.0    Man    No   \n",
              "\n",
              "                     Sexuality                              Ethnicity  \\\n",
              "0      Straight / Heterosexual           White or of European descent   \n",
              "1                     Bisexual           White or of European descent   \n",
              "2      Straight / Heterosexual           White or of European descent   \n",
              "4      Straight / Heterosexual  Hispanic or Latino/Latina;Multiracial   \n",
              "5      Straight / Heterosexual              Hispanic or Latino/Latina   \n",
              "...                        ...                                    ...   \n",
              "11393  Straight / Heterosexual           White or of European descent   \n",
              "11394  Straight / Heterosexual           White or of European descent   \n",
              "11395  Straight / Heterosexual           White or of European descent   \n",
              "11396  Straight / Heterosexual           White or of European descent   \n",
              "11397                 Bisexual           White or of European descent   \n",
              "\n",
              "      Dependents           SurveyLength                  SurveyEase  \n",
              "0             No  Appropriate in length                        Easy  \n",
              "1             No  Appropriate in length  Neither easy nor difficult  \n",
              "2            Yes  Appropriate in length                        Easy  \n",
              "4             No  Appropriate in length                        Easy  \n",
              "5            Yes               Too long                        Easy  \n",
              "...          ...                    ...                         ...  \n",
              "11393         No  Appropriate in length                   Difficult  \n",
              "11394         No  Appropriate in length  Neither easy nor difficult  \n",
              "11395        Yes               Too long                        Easy  \n",
              "11396         No  Appropriate in length                        Easy  \n",
              "11397         No  Appropriate in length                        Easy  \n",
              "\n",
              "[10519 rows x 85 columns]"
            ],
            "text/html": [
              "\n",
              "  <div id=\"df-989ebe51-bb04-4811-bebc-29f45a4bbdde\" class=\"colab-df-container\">\n",
              "    <div>\n",
              "<style scoped>\n",
              "    .dataframe tbody tr th:only-of-type {\n",
              "        vertical-align: middle;\n",
              "    }\n",
              "\n",
              "    .dataframe tbody tr th {\n",
              "        vertical-align: top;\n",
              "    }\n",
              "\n",
              "    .dataframe thead th {\n",
              "        text-align: right;\n",
              "    }\n",
              "</style>\n",
              "<table border=\"1\" class=\"dataframe\">\n",
              "  <thead>\n",
              "    <tr style=\"text-align: right;\">\n",
              "      <th></th>\n",
              "      <th>Respondent</th>\n",
              "      <th>MainBranch</th>\n",
              "      <th>Hobbyist</th>\n",
              "      <th>OpenSourcer</th>\n",
              "      <th>OpenSource</th>\n",
              "      <th>Employment</th>\n",
              "      <th>Country</th>\n",
              "      <th>Student</th>\n",
              "      <th>EdLevel</th>\n",
              "      <th>UndergradMajor</th>\n",
              "      <th>...</th>\n",
              "      <th>WelcomeChange</th>\n",
              "      <th>SONewContent</th>\n",
              "      <th>Age</th>\n",
              "      <th>Gender</th>\n",
              "      <th>Trans</th>\n",
              "      <th>Sexuality</th>\n",
              "      <th>Ethnicity</th>\n",
              "      <th>Dependents</th>\n",
              "      <th>SurveyLength</th>\n",
              "      <th>SurveyEase</th>\n",
              "    </tr>\n",
              "  </thead>\n",
              "  <tbody>\n",
              "    <tr>\n",
              "      <th>0</th>\n",
              "      <td>4</td>\n",
              "      <td>I am a developer by profession</td>\n",
              "      <td>No</td>\n",
              "      <td>Never</td>\n",
              "      <td>The quality of OSS and closed source software ...</td>\n",
              "      <td>Employed full-time</td>\n",
              "      <td>United States</td>\n",
              "      <td>No</td>\n",
              "      <td>Bachelor’s degree (BA, BS, B.Eng., etc.)</td>\n",
              "      <td>Computer science, computer engineering, or sof...</td>\n",
              "      <td>...</td>\n",
              "      <td>Just as welcome now as I felt last year</td>\n",
              "      <td>Tech articles written by other developers;Indu...</td>\n",
              "      <td>22.0</td>\n",
              "      <td>Man</td>\n",
              "      <td>No</td>\n",
              "      <td>Straight / Heterosexual</td>\n",
              "      <td>White or of European descent</td>\n",
              "      <td>No</td>\n",
              "      <td>Appropriate in length</td>\n",
              "      <td>Easy</td>\n",
              "    </tr>\n",
              "    <tr>\n",
              "      <th>1</th>\n",
              "      <td>9</td>\n",
              "      <td>I am a developer by profession</td>\n",
              "      <td>Yes</td>\n",
              "      <td>Once a month or more often</td>\n",
              "      <td>The quality of OSS and closed source software ...</td>\n",
              "      <td>Employed full-time</td>\n",
              "      <td>New Zealand</td>\n",
              "      <td>No</td>\n",
              "      <td>Some college/university study without earning ...</td>\n",
              "      <td>Computer science, computer engineering, or sof...</td>\n",
              "      <td>...</td>\n",
              "      <td>Just as welcome now as I felt last year</td>\n",
              "      <td>NaN</td>\n",
              "      <td>23.0</td>\n",
              "      <td>Man</td>\n",
              "      <td>No</td>\n",
              "      <td>Bisexual</td>\n",
              "      <td>White or of European descent</td>\n",
              "      <td>No</td>\n",
              "      <td>Appropriate in length</td>\n",
              "      <td>Neither easy nor difficult</td>\n",
              "    </tr>\n",
              "    <tr>\n",
              "      <th>2</th>\n",
              "      <td>13</td>\n",
              "      <td>I am a developer by profession</td>\n",
              "      <td>Yes</td>\n",
              "      <td>Less than once a month but more than once per ...</td>\n",
              "      <td>OSS is, on average, of HIGHER quality than pro...</td>\n",
              "      <td>Employed full-time</td>\n",
              "      <td>United States</td>\n",
              "      <td>No</td>\n",
              "      <td>Master’s degree (MA, MS, M.Eng., MBA, etc.)</td>\n",
              "      <td>Computer science, computer engineering, or sof...</td>\n",
              "      <td>...</td>\n",
              "      <td>Somewhat more welcome now than last year</td>\n",
              "      <td>Tech articles written by other developers;Cour...</td>\n",
              "      <td>28.0</td>\n",
              "      <td>Man</td>\n",
              "      <td>No</td>\n",
              "      <td>Straight / Heterosexual</td>\n",
              "      <td>White or of European descent</td>\n",
              "      <td>Yes</td>\n",
              "      <td>Appropriate in length</td>\n",
              "      <td>Easy</td>\n",
              "    </tr>\n",
              "    <tr>\n",
              "      <th>4</th>\n",
              "      <td>17</td>\n",
              "      <td>I am a developer by profession</td>\n",
              "      <td>Yes</td>\n",
              "      <td>Less than once a month but more than once per ...</td>\n",
              "      <td>The quality of OSS and closed source software ...</td>\n",
              "      <td>Employed full-time</td>\n",
              "      <td>Australia</td>\n",
              "      <td>No</td>\n",
              "      <td>Bachelor’s degree (BA, BS, B.Eng., etc.)</td>\n",
              "      <td>Computer science, computer engineering, or sof...</td>\n",
              "      <td>...</td>\n",
              "      <td>Just as welcome now as I felt last year</td>\n",
              "      <td>Tech articles written by other developers;Indu...</td>\n",
              "      <td>29.0</td>\n",
              "      <td>Man</td>\n",
              "      <td>No</td>\n",
              "      <td>Straight / Heterosexual</td>\n",
              "      <td>Hispanic or Latino/Latina;Multiracial</td>\n",
              "      <td>No</td>\n",
              "      <td>Appropriate in length</td>\n",
              "      <td>Easy</td>\n",
              "    </tr>\n",
              "    <tr>\n",
              "      <th>5</th>\n",
              "      <td>19</td>\n",
              "      <td>I am a developer by profession</td>\n",
              "      <td>Yes</td>\n",
              "      <td>Never</td>\n",
              "      <td>The quality of OSS and closed source software ...</td>\n",
              "      <td>Employed full-time</td>\n",
              "      <td>Brazil</td>\n",
              "      <td>No</td>\n",
              "      <td>Some college/university study without earning ...</td>\n",
              "      <td>Computer science, computer engineering, or sof...</td>\n",
              "      <td>...</td>\n",
              "      <td>Just as welcome now as I felt last year</td>\n",
              "      <td>Tech articles written by other developers;Indu...</td>\n",
              "      <td>31.0</td>\n",
              "      <td>Man</td>\n",
              "      <td>No</td>\n",
              "      <td>Straight / Heterosexual</td>\n",
              "      <td>Hispanic or Latino/Latina</td>\n",
              "      <td>Yes</td>\n",
              "      <td>Too long</td>\n",
              "      <td>Easy</td>\n",
              "    </tr>\n",
              "    <tr>\n",
              "      <th>...</th>\n",
              "      <td>...</td>\n",
              "      <td>...</td>\n",
              "      <td>...</td>\n",
              "      <td>...</td>\n",
              "      <td>...</td>\n",
              "      <td>...</td>\n",
              "      <td>...</td>\n",
              "      <td>...</td>\n",
              "      <td>...</td>\n",
              "      <td>...</td>\n",
              "      <td>...</td>\n",
              "      <td>...</td>\n",
              "      <td>...</td>\n",
              "      <td>...</td>\n",
              "      <td>...</td>\n",
              "      <td>...</td>\n",
              "      <td>...</td>\n",
              "      <td>...</td>\n",
              "      <td>...</td>\n",
              "      <td>...</td>\n",
              "      <td>...</td>\n",
              "    </tr>\n",
              "    <tr>\n",
              "      <th>11393</th>\n",
              "      <td>25136</td>\n",
              "      <td>I am a developer by profession</td>\n",
              "      <td>Yes</td>\n",
              "      <td>Never</td>\n",
              "      <td>OSS is, on average, of HIGHER quality than pro...</td>\n",
              "      <td>Employed full-time</td>\n",
              "      <td>United States</td>\n",
              "      <td>No</td>\n",
              "      <td>Master’s degree (MA, MS, M.Eng., MBA, etc.)</td>\n",
              "      <td>Computer science, computer engineering, or sof...</td>\n",
              "      <td>...</td>\n",
              "      <td>Just as welcome now as I felt last year</td>\n",
              "      <td>Tech articles written by other developers;Cour...</td>\n",
              "      <td>36.0</td>\n",
              "      <td>Man</td>\n",
              "      <td>No</td>\n",
              "      <td>Straight / Heterosexual</td>\n",
              "      <td>White or of European descent</td>\n",
              "      <td>No</td>\n",
              "      <td>Appropriate in length</td>\n",
              "      <td>Difficult</td>\n",
              "    </tr>\n",
              "    <tr>\n",
              "      <th>11394</th>\n",
              "      <td>25137</td>\n",
              "      <td>I am a developer by profession</td>\n",
              "      <td>Yes</td>\n",
              "      <td>Never</td>\n",
              "      <td>The quality of OSS and closed source software ...</td>\n",
              "      <td>Employed full-time</td>\n",
              "      <td>Poland</td>\n",
              "      <td>No</td>\n",
              "      <td>Master’s degree (MA, MS, M.Eng., MBA, etc.)</td>\n",
              "      <td>Computer science, computer engineering, or sof...</td>\n",
              "      <td>...</td>\n",
              "      <td>A lot more welcome now than last year</td>\n",
              "      <td>Tech articles written by other developers;Tech...</td>\n",
              "      <td>25.0</td>\n",
              "      <td>Man</td>\n",
              "      <td>No</td>\n",
              "      <td>Straight / Heterosexual</td>\n",
              "      <td>White or of European descent</td>\n",
              "      <td>No</td>\n",
              "      <td>Appropriate in length</td>\n",
              "      <td>Neither easy nor difficult</td>\n",
              "    </tr>\n",
              "    <tr>\n",
              "      <th>11395</th>\n",
              "      <td>25138</td>\n",
              "      <td>I am a developer by profession</td>\n",
              "      <td>Yes</td>\n",
              "      <td>Less than once per year</td>\n",
              "      <td>The quality of OSS and closed source software ...</td>\n",
              "      <td>Employed full-time</td>\n",
              "      <td>United States</td>\n",
              "      <td>No</td>\n",
              "      <td>Master’s degree (MA, MS, M.Eng., MBA, etc.)</td>\n",
              "      <td>Computer science, computer engineering, or sof...</td>\n",
              "      <td>...</td>\n",
              "      <td>A lot more welcome now than last year</td>\n",
              "      <td>Tech articles written by other developers;Indu...</td>\n",
              "      <td>34.0</td>\n",
              "      <td>Man</td>\n",
              "      <td>No</td>\n",
              "      <td>Straight / Heterosexual</td>\n",
              "      <td>White or of European descent</td>\n",
              "      <td>Yes</td>\n",
              "      <td>Too long</td>\n",
              "      <td>Easy</td>\n",
              "    </tr>\n",
              "    <tr>\n",
              "      <th>11396</th>\n",
              "      <td>25141</td>\n",
              "      <td>I am a developer by profession</td>\n",
              "      <td>Yes</td>\n",
              "      <td>Less than once a month but more than once per ...</td>\n",
              "      <td>OSS is, on average, of LOWER quality than prop...</td>\n",
              "      <td>Employed full-time</td>\n",
              "      <td>Switzerland</td>\n",
              "      <td>No</td>\n",
              "      <td>Secondary school (e.g. American high school, G...</td>\n",
              "      <td>NaN</td>\n",
              "      <td>...</td>\n",
              "      <td>Somewhat less welcome now than last year</td>\n",
              "      <td>NaN</td>\n",
              "      <td>25.0</td>\n",
              "      <td>Man</td>\n",
              "      <td>No</td>\n",
              "      <td>Straight / Heterosexual</td>\n",
              "      <td>White or of European descent</td>\n",
              "      <td>No</td>\n",
              "      <td>Appropriate in length</td>\n",
              "      <td>Easy</td>\n",
              "    </tr>\n",
              "    <tr>\n",
              "      <th>11397</th>\n",
              "      <td>25142</td>\n",
              "      <td>I am a developer by profession</td>\n",
              "      <td>Yes</td>\n",
              "      <td>Less than once a month but more than once per ...</td>\n",
              "      <td>OSS is, on average, of HIGHER quality than pro...</td>\n",
              "      <td>Employed full-time</td>\n",
              "      <td>United Kingdom</td>\n",
              "      <td>No</td>\n",
              "      <td>Other doctoral degree (Ph.D, Ed.D., etc.)</td>\n",
              "      <td>A natural science (ex. biology, chemistry, phy...</td>\n",
              "      <td>...</td>\n",
              "      <td>Just as welcome now as I felt last year</td>\n",
              "      <td>Tech articles written by other developers;Tech...</td>\n",
              "      <td>30.0</td>\n",
              "      <td>Man</td>\n",
              "      <td>No</td>\n",
              "      <td>Bisexual</td>\n",
              "      <td>White or of European descent</td>\n",
              "      <td>No</td>\n",
              "      <td>Appropriate in length</td>\n",
              "      <td>Easy</td>\n",
              "    </tr>\n",
              "  </tbody>\n",
              "</table>\n",
              "<p>10519 rows × 85 columns</p>\n",
              "</div>\n",
              "    <div class=\"colab-df-buttons\">\n",
              "\n",
              "  <div class=\"colab-df-container\">\n",
              "    <button class=\"colab-df-convert\" onclick=\"convertToInteractive('df-989ebe51-bb04-4811-bebc-29f45a4bbdde')\"\n",
              "            title=\"Convert this dataframe to an interactive table.\"\n",
              "            style=\"display:none;\">\n",
              "\n",
              "  <svg xmlns=\"http://www.w3.org/2000/svg\" height=\"24px\" viewBox=\"0 -960 960 960\">\n",
              "    <path d=\"M120-120v-720h720v720H120Zm60-500h600v-160H180v160Zm220 220h160v-160H400v160Zm0 220h160v-160H400v160ZM180-400h160v-160H180v160Zm440 0h160v-160H620v160ZM180-180h160v-160H180v160Zm440 0h160v-160H620v160Z\"/>\n",
              "  </svg>\n",
              "    </button>\n",
              "\n",
              "  <style>\n",
              "    .colab-df-container {\n",
              "      display:flex;\n",
              "      gap: 12px;\n",
              "    }\n",
              "\n",
              "    .colab-df-convert {\n",
              "      background-color: #E8F0FE;\n",
              "      border: none;\n",
              "      border-radius: 50%;\n",
              "      cursor: pointer;\n",
              "      display: none;\n",
              "      fill: #1967D2;\n",
              "      height: 32px;\n",
              "      padding: 0 0 0 0;\n",
              "      width: 32px;\n",
              "    }\n",
              "\n",
              "    .colab-df-convert:hover {\n",
              "      background-color: #E2EBFA;\n",
              "      box-shadow: 0px 1px 2px rgba(60, 64, 67, 0.3), 0px 1px 3px 1px rgba(60, 64, 67, 0.15);\n",
              "      fill: #174EA6;\n",
              "    }\n",
              "\n",
              "    .colab-df-buttons div {\n",
              "      margin-bottom: 4px;\n",
              "    }\n",
              "\n",
              "    [theme=dark] .colab-df-convert {\n",
              "      background-color: #3B4455;\n",
              "      fill: #D2E3FC;\n",
              "    }\n",
              "\n",
              "    [theme=dark] .colab-df-convert:hover {\n",
              "      background-color: #434B5C;\n",
              "      box-shadow: 0px 1px 3px 1px rgba(0, 0, 0, 0.15);\n",
              "      filter: drop-shadow(0px 1px 2px rgba(0, 0, 0, 0.3));\n",
              "      fill: #FFFFFF;\n",
              "    }\n",
              "  </style>\n",
              "\n",
              "    <script>\n",
              "      const buttonEl =\n",
              "        document.querySelector('#df-989ebe51-bb04-4811-bebc-29f45a4bbdde button.colab-df-convert');\n",
              "      buttonEl.style.display =\n",
              "        google.colab.kernel.accessAllowed ? 'block' : 'none';\n",
              "\n",
              "      async function convertToInteractive(key) {\n",
              "        const element = document.querySelector('#df-989ebe51-bb04-4811-bebc-29f45a4bbdde');\n",
              "        const dataTable =\n",
              "          await google.colab.kernel.invokeFunction('convertToInteractive',\n",
              "                                                    [key], {});\n",
              "        if (!dataTable) return;\n",
              "\n",
              "        const docLinkHtml = 'Like what you see? Visit the ' +\n",
              "          '<a target=\"_blank\" href=https://colab.research.google.com/notebooks/data_table.ipynb>data table notebook</a>'\n",
              "          + ' to learn more about interactive tables.';\n",
              "        element.innerHTML = '';\n",
              "        dataTable['output_type'] = 'display_data';\n",
              "        await google.colab.output.renderOutput(dataTable, element);\n",
              "        const docLink = document.createElement('div');\n",
              "        docLink.innerHTML = docLinkHtml;\n",
              "        element.appendChild(docLink);\n",
              "      }\n",
              "    </script>\n",
              "  </div>\n",
              "\n",
              "\n",
              "<div id=\"df-bd71dc87-6be1-4c4d-aaa7-688e759f79c1\">\n",
              "  <button class=\"colab-df-quickchart\" onclick=\"quickchart('df-bd71dc87-6be1-4c4d-aaa7-688e759f79c1')\"\n",
              "            title=\"Suggest charts\"\n",
              "            style=\"display:none;\">\n",
              "\n",
              "<svg xmlns=\"http://www.w3.org/2000/svg\" height=\"24px\"viewBox=\"0 0 24 24\"\n",
              "     width=\"24px\">\n",
              "    <g>\n",
              "        <path d=\"M19 3H5c-1.1 0-2 .9-2 2v14c0 1.1.9 2 2 2h14c1.1 0 2-.9 2-2V5c0-1.1-.9-2-2-2zM9 17H7v-7h2v7zm4 0h-2V7h2v10zm4 0h-2v-4h2v4z\"/>\n",
              "    </g>\n",
              "</svg>\n",
              "  </button>\n",
              "\n",
              "<style>\n",
              "  .colab-df-quickchart {\n",
              "      --bg-color: #E8F0FE;\n",
              "      --fill-color: #1967D2;\n",
              "      --hover-bg-color: #E2EBFA;\n",
              "      --hover-fill-color: #174EA6;\n",
              "      --disabled-fill-color: #AAA;\n",
              "      --disabled-bg-color: #DDD;\n",
              "  }\n",
              "\n",
              "  [theme=dark] .colab-df-quickchart {\n",
              "      --bg-color: #3B4455;\n",
              "      --fill-color: #D2E3FC;\n",
              "      --hover-bg-color: #434B5C;\n",
              "      --hover-fill-color: #FFFFFF;\n",
              "      --disabled-bg-color: #3B4455;\n",
              "      --disabled-fill-color: #666;\n",
              "  }\n",
              "\n",
              "  .colab-df-quickchart {\n",
              "    background-color: var(--bg-color);\n",
              "    border: none;\n",
              "    border-radius: 50%;\n",
              "    cursor: pointer;\n",
              "    display: none;\n",
              "    fill: var(--fill-color);\n",
              "    height: 32px;\n",
              "    padding: 0;\n",
              "    width: 32px;\n",
              "  }\n",
              "\n",
              "  .colab-df-quickchart:hover {\n",
              "    background-color: var(--hover-bg-color);\n",
              "    box-shadow: 0 1px 2px rgba(60, 64, 67, 0.3), 0 1px 3px 1px rgba(60, 64, 67, 0.15);\n",
              "    fill: var(--button-hover-fill-color);\n",
              "  }\n",
              "\n",
              "  .colab-df-quickchart-complete:disabled,\n",
              "  .colab-df-quickchart-complete:disabled:hover {\n",
              "    background-color: var(--disabled-bg-color);\n",
              "    fill: var(--disabled-fill-color);\n",
              "    box-shadow: none;\n",
              "  }\n",
              "\n",
              "  .colab-df-spinner {\n",
              "    border: 2px solid var(--fill-color);\n",
              "    border-color: transparent;\n",
              "    border-bottom-color: var(--fill-color);\n",
              "    animation:\n",
              "      spin 1s steps(1) infinite;\n",
              "  }\n",
              "\n",
              "  @keyframes spin {\n",
              "    0% {\n",
              "      border-color: transparent;\n",
              "      border-bottom-color: var(--fill-color);\n",
              "      border-left-color: var(--fill-color);\n",
              "    }\n",
              "    20% {\n",
              "      border-color: transparent;\n",
              "      border-left-color: var(--fill-color);\n",
              "      border-top-color: var(--fill-color);\n",
              "    }\n",
              "    30% {\n",
              "      border-color: transparent;\n",
              "      border-left-color: var(--fill-color);\n",
              "      border-top-color: var(--fill-color);\n",
              "      border-right-color: var(--fill-color);\n",
              "    }\n",
              "    40% {\n",
              "      border-color: transparent;\n",
              "      border-right-color: var(--fill-color);\n",
              "      border-top-color: var(--fill-color);\n",
              "    }\n",
              "    60% {\n",
              "      border-color: transparent;\n",
              "      border-right-color: var(--fill-color);\n",
              "    }\n",
              "    80% {\n",
              "      border-color: transparent;\n",
              "      border-right-color: var(--fill-color);\n",
              "      border-bottom-color: var(--fill-color);\n",
              "    }\n",
              "    90% {\n",
              "      border-color: transparent;\n",
              "      border-bottom-color: var(--fill-color);\n",
              "    }\n",
              "  }\n",
              "</style>\n",
              "\n",
              "  <script>\n",
              "    async function quickchart(key) {\n",
              "      const quickchartButtonEl =\n",
              "        document.querySelector('#' + key + ' button');\n",
              "      quickchartButtonEl.disabled = true;  // To prevent multiple clicks.\n",
              "      quickchartButtonEl.classList.add('colab-df-spinner');\n",
              "      try {\n",
              "        const charts = await google.colab.kernel.invokeFunction(\n",
              "            'suggestCharts', [key], {});\n",
              "      } catch (error) {\n",
              "        console.error('Error during call to suggestCharts:', error);\n",
              "      }\n",
              "      quickchartButtonEl.classList.remove('colab-df-spinner');\n",
              "      quickchartButtonEl.classList.add('colab-df-quickchart-complete');\n",
              "    }\n",
              "    (() => {\n",
              "      let quickchartButtonEl =\n",
              "        document.querySelector('#df-bd71dc87-6be1-4c4d-aaa7-688e759f79c1 button');\n",
              "      quickchartButtonEl.style.display =\n",
              "        google.colab.kernel.accessAllowed ? 'block' : 'none';\n",
              "    })();\n",
              "  </script>\n",
              "</div>\n",
              "    </div>\n",
              "  </div>\n"
            ],
            "application/vnd.google.colaboratory.intrinsic+json": {
              "type": "dataframe",
              "variable_name": "df1"
            }
          },
          "metadata": {},
          "execution_count": 58
        }
      ],
      "source": [
        "df1=pd.DataFrame(df_outl)\n",
        "df1"
      ]
    },
    {
      "cell_type": "markdown",
      "metadata": {
        "id": "0q3aPxoT3x-E"
      },
      "source": [
        "## Correlation\n"
      ]
    },
    {
      "cell_type": "markdown",
      "metadata": {
        "id": "lG1VTtj03x-E"
      },
      "source": [
        "### Finding correlation\n"
      ]
    },
    {
      "cell_type": "markdown",
      "metadata": {
        "id": "ZF9jYTwW3x-E"
      },
      "source": [
        "Find the correlation between `Age` and all other numerical columns.\n"
      ]
    },
    {
      "cell_type": "code",
      "execution_count": 60,
      "metadata": {
        "colab": {
          "base_uri": "https://localhost:8080/",
          "height": 329
        },
        "id": "pzn81LSo3x-E",
        "outputId": "18af1e6b-03ad-475c-8de8-77d9190f561b"
      },
      "outputs": [
        {
          "output_type": "stream",
          "name": "stderr",
          "text": [
            "<ipython-input-60-49b3fcfeb4d1>:1: FutureWarning:\n",
            "\n",
            "The default value of numeric_only in DataFrame.corr is deprecated. In a future version, it will default to False. Select only valid columns or specify the value of numeric_only to silence this warning.\n",
            "\n"
          ]
        },
        {
          "output_type": "execute_result",
          "data": {
            "text/plain": [
              "               Respondent  CompTotal  ConvertedComp  WorkWeekHrs  CodeRevHrs  \\\n",
              "Respondent       1.000000  -0.019364       0.010878    -0.015275    0.002980   \n",
              "CompTotal       -0.019364   1.000000      -0.063561     0.004975    0.017536   \n",
              "ConvertedComp    0.010878  -0.063561       1.000000     0.034351   -0.088934   \n",
              "WorkWeekHrs     -0.015275   0.004975       0.034351     1.000000    0.031963   \n",
              "CodeRevHrs       0.002980   0.017536      -0.088934     0.031963    1.000000   \n",
              "Age              0.003950   0.006371       0.401821     0.037452   -0.017961   \n",
              "\n",
              "                    Age  \n",
              "Respondent     0.003950  \n",
              "CompTotal      0.006371  \n",
              "ConvertedComp  0.401821  \n",
              "WorkWeekHrs    0.037452  \n",
              "CodeRevHrs    -0.017961  \n",
              "Age            1.000000  "
            ],
            "text/html": [
              "\n",
              "  <div id=\"df-7b299769-3dc7-4c49-8666-ae026405dab5\" class=\"colab-df-container\">\n",
              "    <div>\n",
              "<style scoped>\n",
              "    .dataframe tbody tr th:only-of-type {\n",
              "        vertical-align: middle;\n",
              "    }\n",
              "\n",
              "    .dataframe tbody tr th {\n",
              "        vertical-align: top;\n",
              "    }\n",
              "\n",
              "    .dataframe thead th {\n",
              "        text-align: right;\n",
              "    }\n",
              "</style>\n",
              "<table border=\"1\" class=\"dataframe\">\n",
              "  <thead>\n",
              "    <tr style=\"text-align: right;\">\n",
              "      <th></th>\n",
              "      <th>Respondent</th>\n",
              "      <th>CompTotal</th>\n",
              "      <th>ConvertedComp</th>\n",
              "      <th>WorkWeekHrs</th>\n",
              "      <th>CodeRevHrs</th>\n",
              "      <th>Age</th>\n",
              "    </tr>\n",
              "  </thead>\n",
              "  <tbody>\n",
              "    <tr>\n",
              "      <th>Respondent</th>\n",
              "      <td>1.000000</td>\n",
              "      <td>-0.019364</td>\n",
              "      <td>0.010878</td>\n",
              "      <td>-0.015275</td>\n",
              "      <td>0.002980</td>\n",
              "      <td>0.003950</td>\n",
              "    </tr>\n",
              "    <tr>\n",
              "      <th>CompTotal</th>\n",
              "      <td>-0.019364</td>\n",
              "      <td>1.000000</td>\n",
              "      <td>-0.063561</td>\n",
              "      <td>0.004975</td>\n",
              "      <td>0.017536</td>\n",
              "      <td>0.006371</td>\n",
              "    </tr>\n",
              "    <tr>\n",
              "      <th>ConvertedComp</th>\n",
              "      <td>0.010878</td>\n",
              "      <td>-0.063561</td>\n",
              "      <td>1.000000</td>\n",
              "      <td>0.034351</td>\n",
              "      <td>-0.088934</td>\n",
              "      <td>0.401821</td>\n",
              "    </tr>\n",
              "    <tr>\n",
              "      <th>WorkWeekHrs</th>\n",
              "      <td>-0.015275</td>\n",
              "      <td>0.004975</td>\n",
              "      <td>0.034351</td>\n",
              "      <td>1.000000</td>\n",
              "      <td>0.031963</td>\n",
              "      <td>0.037452</td>\n",
              "    </tr>\n",
              "    <tr>\n",
              "      <th>CodeRevHrs</th>\n",
              "      <td>0.002980</td>\n",
              "      <td>0.017536</td>\n",
              "      <td>-0.088934</td>\n",
              "      <td>0.031963</td>\n",
              "      <td>1.000000</td>\n",
              "      <td>-0.017961</td>\n",
              "    </tr>\n",
              "    <tr>\n",
              "      <th>Age</th>\n",
              "      <td>0.003950</td>\n",
              "      <td>0.006371</td>\n",
              "      <td>0.401821</td>\n",
              "      <td>0.037452</td>\n",
              "      <td>-0.017961</td>\n",
              "      <td>1.000000</td>\n",
              "    </tr>\n",
              "  </tbody>\n",
              "</table>\n",
              "</div>\n",
              "    <div class=\"colab-df-buttons\">\n",
              "\n",
              "  <div class=\"colab-df-container\">\n",
              "    <button class=\"colab-df-convert\" onclick=\"convertToInteractive('df-7b299769-3dc7-4c49-8666-ae026405dab5')\"\n",
              "            title=\"Convert this dataframe to an interactive table.\"\n",
              "            style=\"display:none;\">\n",
              "\n",
              "  <svg xmlns=\"http://www.w3.org/2000/svg\" height=\"24px\" viewBox=\"0 -960 960 960\">\n",
              "    <path d=\"M120-120v-720h720v720H120Zm60-500h600v-160H180v160Zm220 220h160v-160H400v160Zm0 220h160v-160H400v160ZM180-400h160v-160H180v160Zm440 0h160v-160H620v160ZM180-180h160v-160H180v160Zm440 0h160v-160H620v160Z\"/>\n",
              "  </svg>\n",
              "    </button>\n",
              "\n",
              "  <style>\n",
              "    .colab-df-container {\n",
              "      display:flex;\n",
              "      gap: 12px;\n",
              "    }\n",
              "\n",
              "    .colab-df-convert {\n",
              "      background-color: #E8F0FE;\n",
              "      border: none;\n",
              "      border-radius: 50%;\n",
              "      cursor: pointer;\n",
              "      display: none;\n",
              "      fill: #1967D2;\n",
              "      height: 32px;\n",
              "      padding: 0 0 0 0;\n",
              "      width: 32px;\n",
              "    }\n",
              "\n",
              "    .colab-df-convert:hover {\n",
              "      background-color: #E2EBFA;\n",
              "      box-shadow: 0px 1px 2px rgba(60, 64, 67, 0.3), 0px 1px 3px 1px rgba(60, 64, 67, 0.15);\n",
              "      fill: #174EA6;\n",
              "    }\n",
              "\n",
              "    .colab-df-buttons div {\n",
              "      margin-bottom: 4px;\n",
              "    }\n",
              "\n",
              "    [theme=dark] .colab-df-convert {\n",
              "      background-color: #3B4455;\n",
              "      fill: #D2E3FC;\n",
              "    }\n",
              "\n",
              "    [theme=dark] .colab-df-convert:hover {\n",
              "      background-color: #434B5C;\n",
              "      box-shadow: 0px 1px 3px 1px rgba(0, 0, 0, 0.15);\n",
              "      filter: drop-shadow(0px 1px 2px rgba(0, 0, 0, 0.3));\n",
              "      fill: #FFFFFF;\n",
              "    }\n",
              "  </style>\n",
              "\n",
              "    <script>\n",
              "      const buttonEl =\n",
              "        document.querySelector('#df-7b299769-3dc7-4c49-8666-ae026405dab5 button.colab-df-convert');\n",
              "      buttonEl.style.display =\n",
              "        google.colab.kernel.accessAllowed ? 'block' : 'none';\n",
              "\n",
              "      async function convertToInteractive(key) {\n",
              "        const element = document.querySelector('#df-7b299769-3dc7-4c49-8666-ae026405dab5');\n",
              "        const dataTable =\n",
              "          await google.colab.kernel.invokeFunction('convertToInteractive',\n",
              "                                                    [key], {});\n",
              "        if (!dataTable) return;\n",
              "\n",
              "        const docLinkHtml = 'Like what you see? Visit the ' +\n",
              "          '<a target=\"_blank\" href=https://colab.research.google.com/notebooks/data_table.ipynb>data table notebook</a>'\n",
              "          + ' to learn more about interactive tables.';\n",
              "        element.innerHTML = '';\n",
              "        dataTable['output_type'] = 'display_data';\n",
              "        await google.colab.output.renderOutput(dataTable, element);\n",
              "        const docLink = document.createElement('div');\n",
              "        docLink.innerHTML = docLinkHtml;\n",
              "        element.appendChild(docLink);\n",
              "      }\n",
              "    </script>\n",
              "  </div>\n",
              "\n",
              "\n",
              "<div id=\"df-d2943ded-c9f6-4046-9af8-6fd5bc67f944\">\n",
              "  <button class=\"colab-df-quickchart\" onclick=\"quickchart('df-d2943ded-c9f6-4046-9af8-6fd5bc67f944')\"\n",
              "            title=\"Suggest charts\"\n",
              "            style=\"display:none;\">\n",
              "\n",
              "<svg xmlns=\"http://www.w3.org/2000/svg\" height=\"24px\"viewBox=\"0 0 24 24\"\n",
              "     width=\"24px\">\n",
              "    <g>\n",
              "        <path d=\"M19 3H5c-1.1 0-2 .9-2 2v14c0 1.1.9 2 2 2h14c1.1 0 2-.9 2-2V5c0-1.1-.9-2-2-2zM9 17H7v-7h2v7zm4 0h-2V7h2v10zm4 0h-2v-4h2v4z\"/>\n",
              "    </g>\n",
              "</svg>\n",
              "  </button>\n",
              "\n",
              "<style>\n",
              "  .colab-df-quickchart {\n",
              "      --bg-color: #E8F0FE;\n",
              "      --fill-color: #1967D2;\n",
              "      --hover-bg-color: #E2EBFA;\n",
              "      --hover-fill-color: #174EA6;\n",
              "      --disabled-fill-color: #AAA;\n",
              "      --disabled-bg-color: #DDD;\n",
              "  }\n",
              "\n",
              "  [theme=dark] .colab-df-quickchart {\n",
              "      --bg-color: #3B4455;\n",
              "      --fill-color: #D2E3FC;\n",
              "      --hover-bg-color: #434B5C;\n",
              "      --hover-fill-color: #FFFFFF;\n",
              "      --disabled-bg-color: #3B4455;\n",
              "      --disabled-fill-color: #666;\n",
              "  }\n",
              "\n",
              "  .colab-df-quickchart {\n",
              "    background-color: var(--bg-color);\n",
              "    border: none;\n",
              "    border-radius: 50%;\n",
              "    cursor: pointer;\n",
              "    display: none;\n",
              "    fill: var(--fill-color);\n",
              "    height: 32px;\n",
              "    padding: 0;\n",
              "    width: 32px;\n",
              "  }\n",
              "\n",
              "  .colab-df-quickchart:hover {\n",
              "    background-color: var(--hover-bg-color);\n",
              "    box-shadow: 0 1px 2px rgba(60, 64, 67, 0.3), 0 1px 3px 1px rgba(60, 64, 67, 0.15);\n",
              "    fill: var(--button-hover-fill-color);\n",
              "  }\n",
              "\n",
              "  .colab-df-quickchart-complete:disabled,\n",
              "  .colab-df-quickchart-complete:disabled:hover {\n",
              "    background-color: var(--disabled-bg-color);\n",
              "    fill: var(--disabled-fill-color);\n",
              "    box-shadow: none;\n",
              "  }\n",
              "\n",
              "  .colab-df-spinner {\n",
              "    border: 2px solid var(--fill-color);\n",
              "    border-color: transparent;\n",
              "    border-bottom-color: var(--fill-color);\n",
              "    animation:\n",
              "      spin 1s steps(1) infinite;\n",
              "  }\n",
              "\n",
              "  @keyframes spin {\n",
              "    0% {\n",
              "      border-color: transparent;\n",
              "      border-bottom-color: var(--fill-color);\n",
              "      border-left-color: var(--fill-color);\n",
              "    }\n",
              "    20% {\n",
              "      border-color: transparent;\n",
              "      border-left-color: var(--fill-color);\n",
              "      border-top-color: var(--fill-color);\n",
              "    }\n",
              "    30% {\n",
              "      border-color: transparent;\n",
              "      border-left-color: var(--fill-color);\n",
              "      border-top-color: var(--fill-color);\n",
              "      border-right-color: var(--fill-color);\n",
              "    }\n",
              "    40% {\n",
              "      border-color: transparent;\n",
              "      border-right-color: var(--fill-color);\n",
              "      border-top-color: var(--fill-color);\n",
              "    }\n",
              "    60% {\n",
              "      border-color: transparent;\n",
              "      border-right-color: var(--fill-color);\n",
              "    }\n",
              "    80% {\n",
              "      border-color: transparent;\n",
              "      border-right-color: var(--fill-color);\n",
              "      border-bottom-color: var(--fill-color);\n",
              "    }\n",
              "    90% {\n",
              "      border-color: transparent;\n",
              "      border-bottom-color: var(--fill-color);\n",
              "    }\n",
              "  }\n",
              "</style>\n",
              "\n",
              "  <script>\n",
              "    async function quickchart(key) {\n",
              "      const quickchartButtonEl =\n",
              "        document.querySelector('#' + key + ' button');\n",
              "      quickchartButtonEl.disabled = true;  // To prevent multiple clicks.\n",
              "      quickchartButtonEl.classList.add('colab-df-spinner');\n",
              "      try {\n",
              "        const charts = await google.colab.kernel.invokeFunction(\n",
              "            'suggestCharts', [key], {});\n",
              "      } catch (error) {\n",
              "        console.error('Error during call to suggestCharts:', error);\n",
              "      }\n",
              "      quickchartButtonEl.classList.remove('colab-df-spinner');\n",
              "      quickchartButtonEl.classList.add('colab-df-quickchart-complete');\n",
              "    }\n",
              "    (() => {\n",
              "      let quickchartButtonEl =\n",
              "        document.querySelector('#df-d2943ded-c9f6-4046-9af8-6fd5bc67f944 button');\n",
              "      quickchartButtonEl.style.display =\n",
              "        google.colab.kernel.accessAllowed ? 'block' : 'none';\n",
              "    })();\n",
              "  </script>\n",
              "</div>\n",
              "    </div>\n",
              "  </div>\n"
            ],
            "application/vnd.google.colaboratory.intrinsic+json": {
              "type": "dataframe",
              "summary": "{\n  \"name\": \"df1\",\n  \"rows\": 6,\n  \"fields\": [\n    {\n      \"column\": \"Respondent\",\n      \"properties\": {\n        \"dtype\": \"number\",\n        \"std\": 0.40979209408302586,\n        \"min\": -0.01936441007483519,\n        \"max\": 1.0,\n        \"num_unique_values\": 6,\n        \"samples\": [\n          1.0,\n          -0.01936441007483519,\n          0.0039498358867452385\n        ],\n        \"semantic_type\": \"\",\n        \"description\": \"\"\n      }\n    },\n    {\n      \"column\": \"CompTotal\",\n      \"properties\": {\n        \"dtype\": \"number\",\n        \"std\": 0.4136783962346031,\n        \"min\": -0.06356134725790209,\n        \"max\": 1.0,\n        \"num_unique_values\": 6,\n        \"samples\": [\n          -0.01936441007483519,\n          1.0,\n          0.006371029965269516\n        ],\n        \"semantic_type\": \"\",\n        \"description\": \"\"\n      }\n    },\n    {\n      \"column\": \"ConvertedComp\",\n      \"properties\": {\n        \"dtype\": \"number\",\n        \"std\": 0.423177438331513,\n        \"min\": -0.0889339515262828,\n        \"max\": 1.0,\n        \"num_unique_values\": 6,\n        \"samples\": [\n          0.010878187062654612,\n          -0.06356134725790209,\n          0.4018213997122189\n        ],\n        \"semantic_type\": \"\",\n        \"description\": \"\"\n      }\n    },\n    {\n      \"column\": \"WorkWeekHrs\",\n      \"properties\": {\n        \"dtype\": \"number\",\n        \"std\": 0.40114443873156413,\n        \"min\": -0.015275004361023371,\n        \"max\": 1.0,\n        \"num_unique_values\": 6,\n        \"samples\": [\n          -0.015275004361023371,\n          0.0049749758149673275,\n          0.03745216846555449\n        ],\n        \"semantic_type\": \"\",\n        \"description\": \"\"\n      }\n    },\n    {\n      \"column\": \"CodeRevHrs\",\n      \"properties\": {\n        \"dtype\": \"number\",\n        \"std\": 0.41486105735578455,\n        \"min\": -0.0889339515262828,\n        \"max\": 1.0,\n        \"num_unique_values\": 6,\n        \"samples\": [\n          0.0029796955335102864,\n          0.017535745677835862,\n          -0.01796081604749339\n        ],\n        \"semantic_type\": \"\",\n        \"description\": \"\"\n      }\n    },\n    {\n      \"column\": \"Age\",\n      \"properties\": {\n        \"dtype\": \"number\",\n        \"std\": 0.4053754017301467,\n        \"min\": -0.01796081604749339,\n        \"max\": 1.0,\n        \"num_unique_values\": 6,\n        \"samples\": [\n          0.0039498358867452385,\n          0.006371029965269516,\n          1.0\n        ],\n        \"semantic_type\": \"\",\n        \"description\": \"\"\n      }\n    }\n  ]\n}"
            }
          },
          "metadata": {},
          "execution_count": 60
        }
      ],
      "source": [
        "df1.corr()"
      ]
    },
    {
      "cell_type": "markdown",
      "metadata": {
        "id": "yl-Ii-eB3x-E"
      },
      "source": [
        "## Authors\n"
      ]
    },
    {
      "cell_type": "markdown",
      "metadata": {
        "id": "Jc_yAvjA3x-E"
      },
      "source": [
        "Ramesh Sannareddy\n"
      ]
    },
    {
      "cell_type": "markdown",
      "metadata": {
        "id": "ep1MRgIG3x-F"
      },
      "source": [
        "### Other Contributors\n"
      ]
    },
    {
      "cell_type": "markdown",
      "metadata": {
        "id": "aqGNXeJZ3x-F"
      },
      "source": [
        "Rav Ahuja\n"
      ]
    },
    {
      "cell_type": "markdown",
      "metadata": {
        "id": "ZiA69XeU3x-F"
      },
      "source": [
        "## Change Log\n"
      ]
    },
    {
      "cell_type": "markdown",
      "metadata": {
        "id": "ZKKCa3cR3x-F"
      },
      "source": [
        "| Date (YYYY-MM-DD) | Version | Changed By        | Change Description                 |\n",
        "| ----------------- | ------- | ----------------- | ---------------------------------- |\n",
        "| 2020-10-17        | 0.1     | Ramesh Sannareddy | Created initial version of the lab |\n"
      ]
    },
    {
      "cell_type": "markdown",
      "metadata": {
        "id": "j6VBzKBV3x-F"
      },
      "source": [
        " Copyright © 2020 IBM Corporation. This notebook and its source code are released under the terms of the [MIT License](https://cognitiveclass.ai/mit-license?utm_medium=Exinfluencer&utm_source=Exinfluencer&utm_content=000026UJ&utm_term=10006555&utm_id=NA-SkillsNetwork-Channel-SkillsNetworkCoursesIBMDA0321ENSkillsNetwork928-2023-01-01&cm_mmc=Email_Newsletter-_-Developer_Ed%2BTech-_-WW_WW-_-SkillsNetwork-Courses-IBM-DA0321EN-SkillsNetwork-21426264&cm_mmca1=000026UJ&cm_mmca2=10006555&cm_mmca3=M12345678&cvosrc=email.Newsletter.M12345678&cvo_campaign=000026UJ).\n"
      ]
    }
  ],
  "metadata": {
    "kernelspec": {
      "display_name": "Python",
      "language": "python",
      "name": "conda-env-python-py"
    },
    "language_info": {
      "name": ""
    },
    "colab": {
      "provenance": []
    }
  },
  "nbformat": 4,
  "nbformat_minor": 0
}